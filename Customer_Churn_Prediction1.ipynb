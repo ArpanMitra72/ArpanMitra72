{
  "cells": [
    {
      "cell_type": "markdown",
      "metadata": {
        "id": "view-in-github",
        "colab_type": "text"
      },
      "source": [
        "<a href=\"https://colab.research.google.com/github/ArpanMitra72/ArpanMitra72/blob/main/Customer_Churn_Prediction1.ipynb\" target=\"_parent\"><img src=\"https://colab.research.google.com/assets/colab-badge.svg\" alt=\"Open In Colab\"/></a>"
      ]
    },
    {
      "cell_type": "code",
      "execution_count": null,
      "metadata": {
        "id": "3w6YYOAPYJLW"
      },
      "outputs": [],
      "source": [
        "import numpy as np\n",
        "import pandas as pd\n",
        "import matplotlib.pyplot as plt\n",
        "import seaborn as sns\n",
        "%matplotlib inline"
      ]
    },
    {
      "cell_type": "code",
      "execution_count": null,
      "metadata": {
        "colab": {
          "base_uri": "https://localhost:8080/"
        },
        "id": "HrKLEaJ5yYFp",
        "outputId": "82797e9e-6ee6-42b5-afd3-7114f271264d"
      },
      "outputs": [
        {
          "output_type": "stream",
          "name": "stdout",
          "text": [
            "Drive already mounted at /content/drive; to attempt to forcibly remount, call drive.mount(\"/content/drive\", force_remount=True).\n"
          ]
        }
      ],
      "source": [
        "from google.colab import drive\n",
        "drive.mount('/content/drive')"
      ]
    },
    {
      "cell_type": "code",
      "execution_count": null,
      "metadata": {
        "id": "nJc3-Ms-ynS3"
      },
      "outputs": [],
      "source": [
        "df=pd.read_csv('/content/drive/MyDrive/churn_train_new2.csv') #reading the dataset from csv file"
      ]
    },
    {
      "cell_type": "code",
      "execution_count": null,
      "metadata": {
        "colab": {
          "base_uri": "https://localhost:8080/",
          "height": 386
        },
        "id": "_1vG2b4hyFvR",
        "outputId": "047dbbf2-659b-4e22-cd96-e11e7054555c"
      },
      "outputs": [
        {
          "output_type": "execute_result",
          "data": {
            "text/plain": [
              "   st  acclen  arcode     phnum intplan voice  nummailmes  tdmin  tdcal  \\\n",
              "0  KS     128     415  382-4657      no   yes          25  265.1    110   \n",
              "1  OH     107     415  371-7191      no   yes          26  161.6    123   \n",
              "2  NJ     137     415  358-1921      no    no           0  243.4    114   \n",
              "3  OH      84     408  375-9999     yes    no           0  299.4     71   \n",
              "4  OK      75     415  330-6626     yes    no           0  166.7    113   \n",
              "\n",
              "   tdchar  ...  tecal  tecahr  tnmin  tncal  tnchar  timin  tical  tichar  \\\n",
              "0   45.07  ...     99   16.78  244.7     91   11.01   10.0      3    2.70   \n",
              "1   27.47  ...    103   16.62  254.4    103   11.45   13.7      3    3.70   \n",
              "2   41.38  ...    110   10.30  162.6    104    7.32   12.2      5    3.29   \n",
              "3   50.90  ...     88    5.26  196.9     89    8.86    6.6      7    1.78   \n",
              "4   28.34  ...    122   12.61  186.9    121    8.41   10.1      3    2.73   \n",
              "\n",
              "   ncsc   label  \n",
              "0     1  False.  \n",
              "1     1  False.  \n",
              "2     0  False.  \n",
              "3     2  False.  \n",
              "4     3  False.  \n",
              "\n",
              "[5 rows x 21 columns]"
            ],
            "text/html": [
              "\n",
              "  <div id=\"df-cbf28034-99b4-461e-9b87-faf4bdccd320\">\n",
              "    <div class=\"colab-df-container\">\n",
              "      <div>\n",
              "<style scoped>\n",
              "    .dataframe tbody tr th:only-of-type {\n",
              "        vertical-align: middle;\n",
              "    }\n",
              "\n",
              "    .dataframe tbody tr th {\n",
              "        vertical-align: top;\n",
              "    }\n",
              "\n",
              "    .dataframe thead th {\n",
              "        text-align: right;\n",
              "    }\n",
              "</style>\n",
              "<table border=\"1\" class=\"dataframe\">\n",
              "  <thead>\n",
              "    <tr style=\"text-align: right;\">\n",
              "      <th></th>\n",
              "      <th>st</th>\n",
              "      <th>acclen</th>\n",
              "      <th>arcode</th>\n",
              "      <th>phnum</th>\n",
              "      <th>intplan</th>\n",
              "      <th>voice</th>\n",
              "      <th>nummailmes</th>\n",
              "      <th>tdmin</th>\n",
              "      <th>tdcal</th>\n",
              "      <th>tdchar</th>\n",
              "      <th>...</th>\n",
              "      <th>tecal</th>\n",
              "      <th>tecahr</th>\n",
              "      <th>tnmin</th>\n",
              "      <th>tncal</th>\n",
              "      <th>tnchar</th>\n",
              "      <th>timin</th>\n",
              "      <th>tical</th>\n",
              "      <th>tichar</th>\n",
              "      <th>ncsc</th>\n",
              "      <th>label</th>\n",
              "    </tr>\n",
              "  </thead>\n",
              "  <tbody>\n",
              "    <tr>\n",
              "      <th>0</th>\n",
              "      <td>KS</td>\n",
              "      <td>128</td>\n",
              "      <td>415</td>\n",
              "      <td>382-4657</td>\n",
              "      <td>no</td>\n",
              "      <td>yes</td>\n",
              "      <td>25</td>\n",
              "      <td>265.1</td>\n",
              "      <td>110</td>\n",
              "      <td>45.07</td>\n",
              "      <td>...</td>\n",
              "      <td>99</td>\n",
              "      <td>16.78</td>\n",
              "      <td>244.7</td>\n",
              "      <td>91</td>\n",
              "      <td>11.01</td>\n",
              "      <td>10.0</td>\n",
              "      <td>3</td>\n",
              "      <td>2.70</td>\n",
              "      <td>1</td>\n",
              "      <td>False.</td>\n",
              "    </tr>\n",
              "    <tr>\n",
              "      <th>1</th>\n",
              "      <td>OH</td>\n",
              "      <td>107</td>\n",
              "      <td>415</td>\n",
              "      <td>371-7191</td>\n",
              "      <td>no</td>\n",
              "      <td>yes</td>\n",
              "      <td>26</td>\n",
              "      <td>161.6</td>\n",
              "      <td>123</td>\n",
              "      <td>27.47</td>\n",
              "      <td>...</td>\n",
              "      <td>103</td>\n",
              "      <td>16.62</td>\n",
              "      <td>254.4</td>\n",
              "      <td>103</td>\n",
              "      <td>11.45</td>\n",
              "      <td>13.7</td>\n",
              "      <td>3</td>\n",
              "      <td>3.70</td>\n",
              "      <td>1</td>\n",
              "      <td>False.</td>\n",
              "    </tr>\n",
              "    <tr>\n",
              "      <th>2</th>\n",
              "      <td>NJ</td>\n",
              "      <td>137</td>\n",
              "      <td>415</td>\n",
              "      <td>358-1921</td>\n",
              "      <td>no</td>\n",
              "      <td>no</td>\n",
              "      <td>0</td>\n",
              "      <td>243.4</td>\n",
              "      <td>114</td>\n",
              "      <td>41.38</td>\n",
              "      <td>...</td>\n",
              "      <td>110</td>\n",
              "      <td>10.30</td>\n",
              "      <td>162.6</td>\n",
              "      <td>104</td>\n",
              "      <td>7.32</td>\n",
              "      <td>12.2</td>\n",
              "      <td>5</td>\n",
              "      <td>3.29</td>\n",
              "      <td>0</td>\n",
              "      <td>False.</td>\n",
              "    </tr>\n",
              "    <tr>\n",
              "      <th>3</th>\n",
              "      <td>OH</td>\n",
              "      <td>84</td>\n",
              "      <td>408</td>\n",
              "      <td>375-9999</td>\n",
              "      <td>yes</td>\n",
              "      <td>no</td>\n",
              "      <td>0</td>\n",
              "      <td>299.4</td>\n",
              "      <td>71</td>\n",
              "      <td>50.90</td>\n",
              "      <td>...</td>\n",
              "      <td>88</td>\n",
              "      <td>5.26</td>\n",
              "      <td>196.9</td>\n",
              "      <td>89</td>\n",
              "      <td>8.86</td>\n",
              "      <td>6.6</td>\n",
              "      <td>7</td>\n",
              "      <td>1.78</td>\n",
              "      <td>2</td>\n",
              "      <td>False.</td>\n",
              "    </tr>\n",
              "    <tr>\n",
              "      <th>4</th>\n",
              "      <td>OK</td>\n",
              "      <td>75</td>\n",
              "      <td>415</td>\n",
              "      <td>330-6626</td>\n",
              "      <td>yes</td>\n",
              "      <td>no</td>\n",
              "      <td>0</td>\n",
              "      <td>166.7</td>\n",
              "      <td>113</td>\n",
              "      <td>28.34</td>\n",
              "      <td>...</td>\n",
              "      <td>122</td>\n",
              "      <td>12.61</td>\n",
              "      <td>186.9</td>\n",
              "      <td>121</td>\n",
              "      <td>8.41</td>\n",
              "      <td>10.1</td>\n",
              "      <td>3</td>\n",
              "      <td>2.73</td>\n",
              "      <td>3</td>\n",
              "      <td>False.</td>\n",
              "    </tr>\n",
              "  </tbody>\n",
              "</table>\n",
              "<p>5 rows × 21 columns</p>\n",
              "</div>\n",
              "      <button class=\"colab-df-convert\" onclick=\"convertToInteractive('df-cbf28034-99b4-461e-9b87-faf4bdccd320')\"\n",
              "              title=\"Convert this dataframe to an interactive table.\"\n",
              "              style=\"display:none;\">\n",
              "        \n",
              "  <svg xmlns=\"http://www.w3.org/2000/svg\" height=\"24px\"viewBox=\"0 0 24 24\"\n",
              "       width=\"24px\">\n",
              "    <path d=\"M0 0h24v24H0V0z\" fill=\"none\"/>\n",
              "    <path d=\"M18.56 5.44l.94 2.06.94-2.06 2.06-.94-2.06-.94-.94-2.06-.94 2.06-2.06.94zm-11 1L8.5 8.5l.94-2.06 2.06-.94-2.06-.94L8.5 2.5l-.94 2.06-2.06.94zm10 10l.94 2.06.94-2.06 2.06-.94-2.06-.94-.94-2.06-.94 2.06-2.06.94z\"/><path d=\"M17.41 7.96l-1.37-1.37c-.4-.4-.92-.59-1.43-.59-.52 0-1.04.2-1.43.59L10.3 9.45l-7.72 7.72c-.78.78-.78 2.05 0 2.83L4 21.41c.39.39.9.59 1.41.59.51 0 1.02-.2 1.41-.59l7.78-7.78 2.81-2.81c.8-.78.8-2.07 0-2.86zM5.41 20L4 18.59l7.72-7.72 1.47 1.35L5.41 20z\"/>\n",
              "  </svg>\n",
              "      </button>\n",
              "      \n",
              "  <style>\n",
              "    .colab-df-container {\n",
              "      display:flex;\n",
              "      flex-wrap:wrap;\n",
              "      gap: 12px;\n",
              "    }\n",
              "\n",
              "    .colab-df-convert {\n",
              "      background-color: #E8F0FE;\n",
              "      border: none;\n",
              "      border-radius: 50%;\n",
              "      cursor: pointer;\n",
              "      display: none;\n",
              "      fill: #1967D2;\n",
              "      height: 32px;\n",
              "      padding: 0 0 0 0;\n",
              "      width: 32px;\n",
              "    }\n",
              "\n",
              "    .colab-df-convert:hover {\n",
              "      background-color: #E2EBFA;\n",
              "      box-shadow: 0px 1px 2px rgba(60, 64, 67, 0.3), 0px 1px 3px 1px rgba(60, 64, 67, 0.15);\n",
              "      fill: #174EA6;\n",
              "    }\n",
              "\n",
              "    [theme=dark] .colab-df-convert {\n",
              "      background-color: #3B4455;\n",
              "      fill: #D2E3FC;\n",
              "    }\n",
              "\n",
              "    [theme=dark] .colab-df-convert:hover {\n",
              "      background-color: #434B5C;\n",
              "      box-shadow: 0px 1px 3px 1px rgba(0, 0, 0, 0.15);\n",
              "      filter: drop-shadow(0px 1px 2px rgba(0, 0, 0, 0.3));\n",
              "      fill: #FFFFFF;\n",
              "    }\n",
              "  </style>\n",
              "\n",
              "      <script>\n",
              "        const buttonEl =\n",
              "          document.querySelector('#df-cbf28034-99b4-461e-9b87-faf4bdccd320 button.colab-df-convert');\n",
              "        buttonEl.style.display =\n",
              "          google.colab.kernel.accessAllowed ? 'block' : 'none';\n",
              "\n",
              "        async function convertToInteractive(key) {\n",
              "          const element = document.querySelector('#df-cbf28034-99b4-461e-9b87-faf4bdccd320');\n",
              "          const dataTable =\n",
              "            await google.colab.kernel.invokeFunction('convertToInteractive',\n",
              "                                                     [key], {});\n",
              "          if (!dataTable) return;\n",
              "\n",
              "          const docLinkHtml = 'Like what you see? Visit the ' +\n",
              "            '<a target=\"_blank\" href=https://colab.research.google.com/notebooks/data_table.ipynb>data table notebook</a>'\n",
              "            + ' to learn more about interactive tables.';\n",
              "          element.innerHTML = '';\n",
              "          dataTable['output_type'] = 'display_data';\n",
              "          await google.colab.output.renderOutput(dataTable, element);\n",
              "          const docLink = document.createElement('div');\n",
              "          docLink.innerHTML = docLinkHtml;\n",
              "          element.appendChild(docLink);\n",
              "        }\n",
              "      </script>\n",
              "    </div>\n",
              "  </div>\n",
              "  "
            ]
          },
          "metadata": {},
          "execution_count": 665
        }
      ],
      "source": [
        "df.head()"
      ]
    },
    {
      "cell_type": "markdown",
      "metadata": {
        "id": "dQCoG7KL3JaA"
      },
      "source": [
        "# 5 number statistics"
      ]
    },
    {
      "cell_type": "code",
      "execution_count": null,
      "metadata": {
        "colab": {
          "base_uri": "https://localhost:8080/"
        },
        "id": "dmKr3YmRySId",
        "outputId": "de828461-224b-4963-e20a-4efd0954b279"
      },
      "outputs": [
        {
          "output_type": "stream",
          "name": "stdout",
          "text": [
            "<class 'pandas.core.frame.DataFrame'>\n",
            "RangeIndex: 3333 entries, 0 to 3332\n",
            "Data columns (total 21 columns):\n",
            " #   Column      Non-Null Count  Dtype  \n",
            "---  ------      --------------  -----  \n",
            " 0   st          3333 non-null   object \n",
            " 1   acclen      3333 non-null   int64  \n",
            " 2   arcode      3333 non-null   int64  \n",
            " 3   phnum       3333 non-null   object \n",
            " 4   intplan     3333 non-null   object \n",
            " 5   voice       3333 non-null   object \n",
            " 6   nummailmes  3333 non-null   int64  \n",
            " 7   tdmin       3333 non-null   float64\n",
            " 8   tdcal       3333 non-null   int64  \n",
            " 9   tdchar      3333 non-null   float64\n",
            " 10  temin       3333 non-null   float64\n",
            " 11  tecal       3333 non-null   int64  \n",
            " 12  tecahr      3333 non-null   float64\n",
            " 13  tnmin       3333 non-null   float64\n",
            " 14  tncal       3333 non-null   int64  \n",
            " 15  tnchar      3333 non-null   float64\n",
            " 16  timin       3333 non-null   float64\n",
            " 17  tical       3333 non-null   int64  \n",
            " 18  tichar      3333 non-null   float64\n",
            " 19  ncsc        3333 non-null   int64  \n",
            " 20  label       3333 non-null   object \n",
            "dtypes: float64(8), int64(8), object(5)\n",
            "memory usage: 546.9+ KB\n"
          ]
        }
      ],
      "source": [
        "df.info()"
      ]
    },
    {
      "cell_type": "code",
      "execution_count": null,
      "metadata": {
        "colab": {
          "base_uri": "https://localhost:8080/"
        },
        "id": "zSYkSaaCyQOT",
        "outputId": "914e849c-ff87-4475-a15b-188a40f4359f"
      },
      "outputs": [
        {
          "output_type": "execute_result",
          "data": {
            "text/plain": [
              "count     3333\n",
              "unique      51\n",
              "top         WV\n",
              "freq       106\n",
              "Name: st, dtype: object"
            ]
          },
          "metadata": {},
          "execution_count": 667
        }
      ],
      "source": [
        "df['st'].describe()"
      ]
    },
    {
      "cell_type": "code",
      "execution_count": null,
      "metadata": {
        "colab": {
          "base_uri": "https://localhost:8080/"
        },
        "id": "dZ-s08t9yFUH",
        "outputId": "e4d17caf-5e2b-4ec2-8e22-849c9538e818"
      },
      "outputs": [
        {
          "output_type": "execute_result",
          "data": {
            "text/plain": [
              "count    3333.000000\n",
              "mean      101.064806\n",
              "std        39.822106\n",
              "min         1.000000\n",
              "25%        74.000000\n",
              "50%       101.000000\n",
              "75%       127.000000\n",
              "max       243.000000\n",
              "Name: acclen, dtype: float64"
            ]
          },
          "metadata": {},
          "execution_count": 668
        }
      ],
      "source": [
        "df['acclen'].describe()"
      ]
    },
    {
      "cell_type": "code",
      "execution_count": null,
      "metadata": {
        "colab": {
          "base_uri": "https://localhost:8080/"
        },
        "id": "n2tSqyZ3y72n",
        "outputId": "5ebe73dd-d6de-4602-dfe1-d4fd5d5240cb"
      },
      "outputs": [
        {
          "output_type": "execute_result",
          "data": {
            "text/plain": [
              "count    3333.000000\n",
              "mean      437.182418\n",
              "std        42.371290\n",
              "min       408.000000\n",
              "25%       408.000000\n",
              "50%       415.000000\n",
              "75%       510.000000\n",
              "max       510.000000\n",
              "Name: arcode, dtype: float64"
            ]
          },
          "metadata": {},
          "execution_count": 669
        }
      ],
      "source": [
        "df['arcode'].describe()"
      ]
    },
    {
      "cell_type": "code",
      "execution_count": null,
      "metadata": {
        "colab": {
          "base_uri": "https://localhost:8080/"
        },
        "id": "cS5RbjGxy7s6",
        "outputId": "4c7a9ae4-a651-4a45-ee7d-11f10ed58810"
      },
      "outputs": [
        {
          "output_type": "execute_result",
          "data": {
            "text/plain": [
              "count         3333\n",
              "unique        3333\n",
              "top       382-4657\n",
              "freq             1\n",
              "Name: phnum, dtype: object"
            ]
          },
          "metadata": {},
          "execution_count": 670
        }
      ],
      "source": [
        "df['phnum'].describe()"
      ]
    },
    {
      "cell_type": "code",
      "execution_count": null,
      "metadata": {
        "colab": {
          "base_uri": "https://localhost:8080/"
        },
        "id": "CE56UPmWy7iR",
        "outputId": "9e2431a1-c27e-4474-eaa3-21cf45b88477"
      },
      "outputs": [
        {
          "output_type": "execute_result",
          "data": {
            "text/plain": [
              "count     3333\n",
              "unique       2\n",
              "top         no\n",
              "freq      3010\n",
              "Name: intplan, dtype: object"
            ]
          },
          "metadata": {},
          "execution_count": 671
        }
      ],
      "source": [
        "df['intplan'].describe()"
      ]
    },
    {
      "cell_type": "code",
      "execution_count": null,
      "metadata": {
        "colab": {
          "base_uri": "https://localhost:8080/"
        },
        "id": "XY8-yS5Ry7ZL",
        "outputId": "0201610b-93fe-46c3-a0a4-d0cd8ae2833d"
      },
      "outputs": [
        {
          "output_type": "execute_result",
          "data": {
            "text/plain": [
              "count     3333\n",
              "unique       2\n",
              "top         no\n",
              "freq      2411\n",
              "Name: voice, dtype: object"
            ]
          },
          "metadata": {},
          "execution_count": 672
        }
      ],
      "source": [
        "df['voice'].describe()"
      ]
    },
    {
      "cell_type": "code",
      "execution_count": null,
      "metadata": {
        "colab": {
          "base_uri": "https://localhost:8080/"
        },
        "id": "Mok3tweTy7Ol",
        "outputId": "e483f8bf-0d15-46a0-e7a7-972ee2fe6efb"
      },
      "outputs": [
        {
          "output_type": "execute_result",
          "data": {
            "text/plain": [
              "count    3333.000000\n",
              "mean        8.099010\n",
              "std        13.688365\n",
              "min         0.000000\n",
              "25%         0.000000\n",
              "50%         0.000000\n",
              "75%        20.000000\n",
              "max        51.000000\n",
              "Name: nummailmes, dtype: float64"
            ]
          },
          "metadata": {},
          "execution_count": 673
        }
      ],
      "source": [
        "df['nummailmes'].describe()"
      ]
    },
    {
      "cell_type": "code",
      "execution_count": null,
      "metadata": {
        "colab": {
          "base_uri": "https://localhost:8080/"
        },
        "id": "pZBv2pUwzJPc",
        "outputId": "e184cd9d-b1dc-4ec0-d752-671e0b299635"
      },
      "outputs": [
        {
          "output_type": "execute_result",
          "data": {
            "text/plain": [
              "count    3333.000000\n",
              "mean      179.775098\n",
              "std        54.467389\n",
              "min         0.000000\n",
              "25%       143.700000\n",
              "50%       179.400000\n",
              "75%       216.400000\n",
              "max       350.800000\n",
              "Name: tdmin, dtype: float64"
            ]
          },
          "metadata": {},
          "execution_count": 674
        }
      ],
      "source": [
        "df['tdmin'].describe()"
      ]
    },
    {
      "cell_type": "code",
      "execution_count": null,
      "metadata": {
        "colab": {
          "base_uri": "https://localhost:8080/"
        },
        "id": "UaZ6poM4y7KR",
        "outputId": "143a52c9-cb28-409a-a550-410f4396ea6e"
      },
      "outputs": [
        {
          "output_type": "execute_result",
          "data": {
            "text/plain": [
              "count    3333.000000\n",
              "mean      100.435644\n",
              "std        20.069084\n",
              "min         0.000000\n",
              "25%        87.000000\n",
              "50%       101.000000\n",
              "75%       114.000000\n",
              "max       165.000000\n",
              "Name: tdcal, dtype: float64"
            ]
          },
          "metadata": {},
          "execution_count": 675
        }
      ],
      "source": [
        "df['tdcal'].describe()"
      ]
    },
    {
      "cell_type": "code",
      "execution_count": null,
      "metadata": {
        "colab": {
          "base_uri": "https://localhost:8080/"
        },
        "id": "_RPrOHVHzPSD",
        "outputId": "b5627475-81ba-4a6f-93a4-b45ad9ce3933"
      },
      "outputs": [
        {
          "output_type": "execute_result",
          "data": {
            "text/plain": [
              "count    3333.000000\n",
              "mean       30.562307\n",
              "std         9.259435\n",
              "min         0.000000\n",
              "25%        24.430000\n",
              "50%        30.500000\n",
              "75%        36.790000\n",
              "max        59.640000\n",
              "Name: tdchar, dtype: float64"
            ]
          },
          "metadata": {},
          "execution_count": 676
        }
      ],
      "source": [
        "df['tdchar'].describe()"
      ]
    },
    {
      "cell_type": "code",
      "execution_count": null,
      "metadata": {
        "colab": {
          "base_uri": "https://localhost:8080/"
        },
        "id": "13rsusvyzPEp",
        "outputId": "edfada62-3f48-43eb-a7ea-6a78229734ba"
      },
      "outputs": [
        {
          "output_type": "execute_result",
          "data": {
            "text/plain": [
              "count    3333.000000\n",
              "mean      200.980348\n",
              "std        50.713844\n",
              "min         0.000000\n",
              "25%       166.600000\n",
              "50%       201.400000\n",
              "75%       235.300000\n",
              "max       363.700000\n",
              "Name: temin, dtype: float64"
            ]
          },
          "metadata": {},
          "execution_count": 677
        }
      ],
      "source": [
        "df['temin'].describe()"
      ]
    },
    {
      "cell_type": "code",
      "execution_count": null,
      "metadata": {
        "colab": {
          "base_uri": "https://localhost:8080/"
        },
        "id": "06eYE2uSzO4D",
        "outputId": "a633ab0e-1553-46ae-a69e-5c77fa336d67"
      },
      "outputs": [
        {
          "output_type": "execute_result",
          "data": {
            "text/plain": [
              "count    3333.000000\n",
              "mean      100.114311\n",
              "std        19.922625\n",
              "min         0.000000\n",
              "25%        87.000000\n",
              "50%       100.000000\n",
              "75%       114.000000\n",
              "max       170.000000\n",
              "Name: tecal, dtype: float64"
            ]
          },
          "metadata": {},
          "execution_count": 678
        }
      ],
      "source": [
        "df['tecal'].describe()"
      ]
    },
    {
      "cell_type": "code",
      "execution_count": null,
      "metadata": {
        "colab": {
          "base_uri": "https://localhost:8080/"
        },
        "id": "NXZuYDtqzOsM",
        "outputId": "29e35611-1a09-470f-f9e4-603f6f185b2d"
      },
      "outputs": [
        {
          "output_type": "execute_result",
          "data": {
            "text/plain": [
              "count    3333.000000\n",
              "mean       17.083540\n",
              "std         4.310668\n",
              "min         0.000000\n",
              "25%        14.160000\n",
              "50%        17.120000\n",
              "75%        20.000000\n",
              "max        30.910000\n",
              "Name: tecahr, dtype: float64"
            ]
          },
          "metadata": {},
          "execution_count": 679
        }
      ],
      "source": [
        "df['tecahr'].describe()\n",
        "\n",
        "\n"
      ]
    },
    {
      "cell_type": "code",
      "execution_count": null,
      "metadata": {
        "colab": {
          "base_uri": "https://localhost:8080/"
        },
        "id": "ifkO18wRy7E-",
        "outputId": "06b73086-cd25-4f9a-b8bb-020a7d5aeeb6"
      },
      "outputs": [
        {
          "output_type": "execute_result",
          "data": {
            "text/plain": [
              "count    3333.000000\n",
              "mean      200.872037\n",
              "std        50.573847\n",
              "min        23.200000\n",
              "25%       167.000000\n",
              "50%       201.200000\n",
              "75%       235.300000\n",
              "max       395.000000\n",
              "Name: tnmin, dtype: float64"
            ]
          },
          "metadata": {},
          "execution_count": 680
        }
      ],
      "source": [
        "df['tnmin'].describe()"
      ]
    },
    {
      "cell_type": "code",
      "execution_count": null,
      "metadata": {
        "colab": {
          "base_uri": "https://localhost:8080/"
        },
        "id": "Z2-Nlf58y7BM",
        "outputId": "82321cb9-5a62-4867-f6a6-4c89083eb09f"
      },
      "outputs": [
        {
          "output_type": "execute_result",
          "data": {
            "text/plain": [
              "count    3333.000000\n",
              "mean      100.107711\n",
              "std        19.568609\n",
              "min        33.000000\n",
              "25%        87.000000\n",
              "50%       100.000000\n",
              "75%       113.000000\n",
              "max       175.000000\n",
              "Name: tncal, dtype: float64"
            ]
          },
          "metadata": {},
          "execution_count": 681
        }
      ],
      "source": [
        "df['tncal'].describe()"
      ]
    },
    {
      "cell_type": "code",
      "execution_count": null,
      "metadata": {
        "colab": {
          "base_uri": "https://localhost:8080/"
        },
        "id": "kH0C7CO3y69M",
        "outputId": "3deb8feb-a3ab-4db9-9ece-7a4f1bf725de"
      },
      "outputs": [
        {
          "output_type": "execute_result",
          "data": {
            "text/plain": [
              "count    3333.000000\n",
              "mean        9.039325\n",
              "std         2.275873\n",
              "min         1.040000\n",
              "25%         7.520000\n",
              "50%         9.050000\n",
              "75%        10.590000\n",
              "max        17.770000\n",
              "Name: tnchar, dtype: float64"
            ]
          },
          "metadata": {},
          "execution_count": 682
        }
      ],
      "source": [
        "df['tnchar'].describe()"
      ]
    },
    {
      "cell_type": "code",
      "execution_count": null,
      "metadata": {
        "colab": {
          "base_uri": "https://localhost:8080/"
        },
        "id": "doyhNCkly63D",
        "outputId": "ae2b130e-4580-4760-ab68-db8491a3fb9a"
      },
      "outputs": [
        {
          "output_type": "execute_result",
          "data": {
            "text/plain": [
              "count    3333.000000\n",
              "mean       10.237294\n",
              "std         2.791840\n",
              "min         0.000000\n",
              "25%         8.500000\n",
              "50%        10.300000\n",
              "75%        12.100000\n",
              "max        20.000000\n",
              "Name: timin, dtype: float64"
            ]
          },
          "metadata": {},
          "execution_count": 683
        }
      ],
      "source": [
        "df['timin'].describe()"
      ]
    },
    {
      "cell_type": "code",
      "execution_count": null,
      "metadata": {
        "colab": {
          "base_uri": "https://localhost:8080/"
        },
        "id": "_UVYLOZ-zrLb",
        "outputId": "dfb3092e-89a7-47a9-bfa1-026a550ca712"
      },
      "outputs": [
        {
          "output_type": "execute_result",
          "data": {
            "text/plain": [
              "count    3333.000000\n",
              "mean        4.479448\n",
              "std         2.461214\n",
              "min         0.000000\n",
              "25%         3.000000\n",
              "50%         4.000000\n",
              "75%         6.000000\n",
              "max        20.000000\n",
              "Name: tical, dtype: float64"
            ]
          },
          "metadata": {},
          "execution_count": 684
        }
      ],
      "source": [
        "df['tical'].describe()"
      ]
    },
    {
      "cell_type": "code",
      "execution_count": null,
      "metadata": {
        "colab": {
          "base_uri": "https://localhost:8080/"
        },
        "id": "J6WbiC8Uzq6o",
        "outputId": "0ebafcfa-eff0-4fe9-b3ad-7c1cf35d9a83"
      },
      "outputs": [
        {
          "output_type": "execute_result",
          "data": {
            "text/plain": [
              "count    3333.000000\n",
              "mean        2.764581\n",
              "std         0.753773\n",
              "min         0.000000\n",
              "25%         2.300000\n",
              "50%         2.780000\n",
              "75%         3.270000\n",
              "max         5.400000\n",
              "Name: tichar, dtype: float64"
            ]
          },
          "metadata": {},
          "execution_count": 685
        }
      ],
      "source": [
        "df['tichar'].describe()"
      ]
    },
    {
      "cell_type": "code",
      "execution_count": null,
      "metadata": {
        "colab": {
          "base_uri": "https://localhost:8080/"
        },
        "id": "f9lqogdJzqhd",
        "outputId": "fc25ef41-d3a4-47e4-a7d5-4f43c038dd81"
      },
      "outputs": [
        {
          "output_type": "execute_result",
          "data": {
            "text/plain": [
              "count    3333.000000\n",
              "mean        1.562856\n",
              "std         1.315491\n",
              "min         0.000000\n",
              "25%         1.000000\n",
              "50%         1.000000\n",
              "75%         2.000000\n",
              "max         9.000000\n",
              "Name: ncsc, dtype: float64"
            ]
          },
          "metadata": {},
          "execution_count": 686
        }
      ],
      "source": [
        "df['ncsc'].describe()"
      ]
    },
    {
      "cell_type": "code",
      "execution_count": null,
      "metadata": {
        "colab": {
          "base_uri": "https://localhost:8080/"
        },
        "id": "r-ghzQC2yEia",
        "outputId": "9f02972e-807a-4417-f189-a1c002b0852f"
      },
      "outputs": [
        {
          "output_type": "execute_result",
          "data": {
            "text/plain": [
              "count       3333\n",
              "unique         2\n",
              "top       False.\n",
              "freq        2850\n",
              "Name: label, dtype: object"
            ]
          },
          "metadata": {},
          "execution_count": 687
        }
      ],
      "source": [
        "df['label'].describe()"
      ]
    },
    {
      "cell_type": "code",
      "execution_count": null,
      "metadata": {
        "id": "3KjE_v7bz2SP"
      },
      "outputs": [],
      "source": [
        ""
      ]
    },
    {
      "cell_type": "markdown",
      "metadata": {
        "id": "uMxPclLKfl_1"
      },
      "source": [
        "# Exploratory Data Analysis (EDA)\n"
      ]
    },
    {
      "cell_type": "code",
      "execution_count": null,
      "metadata": {
        "colab": {
          "base_uri": "https://localhost:8080/"
        },
        "id": "58ADs5goYf52",
        "outputId": "07500d6a-dcf7-4bfa-a3c5-7b39104d4232"
      },
      "outputs": [
        {
          "output_type": "execute_result",
          "data": {
            "text/plain": [
              "(3333, 21)"
            ]
          },
          "metadata": {},
          "execution_count": 688
        }
      ],
      "source": [
        "df.shape"
      ]
    },
    {
      "cell_type": "code",
      "execution_count": null,
      "metadata": {
        "colab": {
          "base_uri": "https://localhost:8080/"
        },
        "id": "lGSQVvnHYjA6",
        "outputId": "b15969ba-f1b7-4113-fb56-8efedf07ff41"
      },
      "outputs": [
        {
          "output_type": "execute_result",
          "data": {
            "text/plain": [
              "0"
            ]
          },
          "metadata": {},
          "execution_count": 689
        }
      ],
      "source": [
        "df.isna().sum().sum() #checking missing values"
      ]
    },
    {
      "cell_type": "code",
      "execution_count": null,
      "metadata": {
        "colab": {
          "base_uri": "https://localhost:8080/"
        },
        "id": "ELb3NXf0Yl9b",
        "outputId": "46f18ac6-ffc1-49fe-c0b8-976b9baf1e22"
      },
      "outputs": [
        {
          "output_type": "execute_result",
          "data": {
            "text/plain": [
              "False.    2850\n",
              "True.      483\n",
              "Name: label, dtype: int64"
            ]
          },
          "metadata": {},
          "execution_count": 690
        }
      ],
      "source": [
        "df.label.value_counts() #checking the number of true cases(customer churned) and false cases(customer not churned)"
      ]
    },
    {
      "cell_type": "code",
      "execution_count": null,
      "metadata": {
        "colab": {
          "base_uri": "https://localhost:8080/"
        },
        "id": "yziacqe8YssI",
        "outputId": "800efeaf-4a56-44fa-9f0c-7067f8bcc8d0"
      },
      "outputs": [
        {
          "output_type": "stream",
          "name": "stdout",
          "text": [
            "<class 'pandas.core.frame.DataFrame'>\n",
            "RangeIndex: 3333 entries, 0 to 3332\n",
            "Data columns (total 21 columns):\n",
            " #   Column      Non-Null Count  Dtype  \n",
            "---  ------      --------------  -----  \n",
            " 0   st          3333 non-null   object \n",
            " 1   acclen      3333 non-null   int64  \n",
            " 2   arcode      3333 non-null   int64  \n",
            " 3   phnum       3333 non-null   object \n",
            " 4   intplan     3333 non-null   object \n",
            " 5   voice       3333 non-null   object \n",
            " 6   nummailmes  3333 non-null   int64  \n",
            " 7   tdmin       3333 non-null   float64\n",
            " 8   tdcal       3333 non-null   int64  \n",
            " 9   tdchar      3333 non-null   float64\n",
            " 10  temin       3333 non-null   float64\n",
            " 11  tecal       3333 non-null   int64  \n",
            " 12  tecahr      3333 non-null   float64\n",
            " 13  tnmin       3333 non-null   float64\n",
            " 14  tncal       3333 non-null   int64  \n",
            " 15  tnchar      3333 non-null   float64\n",
            " 16  timin       3333 non-null   float64\n",
            " 17  tical       3333 non-null   int64  \n",
            " 18  tichar      3333 non-null   float64\n",
            " 19  ncsc        3333 non-null   int64  \n",
            " 20  label       3333 non-null   object \n",
            "dtypes: float64(8), int64(8), object(5)\n",
            "memory usage: 546.9+ KB\n"
          ]
        }
      ],
      "source": [
        "df.info()"
      ]
    },
    {
      "cell_type": "code",
      "execution_count": null,
      "metadata": {
        "colab": {
          "base_uri": "https://localhost:8080/"
        },
        "id": "ZYDE0nUkaS92",
        "outputId": "5d4f9d03-11b9-496b-d858-6ce2268b26cc"
      },
      "outputs": [
        {
          "output_type": "execute_result",
          "data": {
            "text/plain": [
              "st            0.0\n",
              "acclen        0.0\n",
              "arcode        0.0\n",
              "phnum         0.0\n",
              "intplan       0.0\n",
              "voice         0.0\n",
              "nummailmes    0.0\n",
              "tdmin         0.0\n",
              "tdcal         0.0\n",
              "tdchar        0.0\n",
              "temin         0.0\n",
              "tecal         0.0\n",
              "tecahr        0.0\n",
              "tnmin         0.0\n",
              "tncal         0.0\n",
              "tnchar        0.0\n",
              "timin         0.0\n",
              "tical         0.0\n",
              "tichar        0.0\n",
              "ncsc          0.0\n",
              "label         0.0\n",
              "dtype: float64"
            ]
          },
          "metadata": {},
          "execution_count": 692
        }
      ],
      "source": [
        "df.isna().sum()/df.shape[0]  #checking for null values"
      ]
    },
    {
      "cell_type": "code",
      "execution_count": null,
      "metadata": {
        "id": "1MRWuzmmY2XV"
      },
      "outputs": [],
      "source": [
        "# finding categorical columns with 2 categories\n",
        "columns = df.columns\n",
        "binary_cols = []\n",
        "\n",
        "for col in columns:\n",
        "  if df[col].value_counts().shape[0]==2:\n",
        "    binary_cols.append(col)"
      ]
    },
    {
      "cell_type": "code",
      "execution_count": null,
      "metadata": {
        "colab": {
          "base_uri": "https://localhost:8080/"
        },
        "id": "-atfbDLGY87u",
        "outputId": "a3790eeb-4d36-4b28-d24a-ae0b3ed2e197"
      },
      "outputs": [
        {
          "output_type": "execute_result",
          "data": {
            "text/plain": [
              "['intplan', 'voice', 'label']"
            ]
          },
          "metadata": {},
          "execution_count": 694
        }
      ],
      "source": [
        "binary_cols"
      ]
    },
    {
      "cell_type": "code",
      "execution_count": null,
      "metadata": {
        "colab": {
          "base_uri": "https://localhost:8080/",
          "height": 386
        },
        "id": "DBwljk-xZA-N",
        "outputId": "b601abbf-f2a3-42d8-9521-4c4bbb6cd232"
      },
      "outputs": [
        {
          "output_type": "execute_result",
          "data": {
            "text/plain": [
              "   st  acclen  arcode     phnum intplan voice  nummailmes  tdmin  tdcal  \\\n",
              "0  KS     128     415  382-4657      no   yes          25  265.1    110   \n",
              "1  OH     107     415  371-7191      no   yes          26  161.6    123   \n",
              "2  NJ     137     415  358-1921      no    no           0  243.4    114   \n",
              "3  OH      84     408  375-9999     yes    no           0  299.4     71   \n",
              "4  OK      75     415  330-6626     yes    no           0  166.7    113   \n",
              "\n",
              "   tdchar  ...  tecal  tecahr  tnmin  tncal  tnchar  timin  tical  tichar  \\\n",
              "0   45.07  ...     99   16.78  244.7     91   11.01   10.0      3    2.70   \n",
              "1   27.47  ...    103   16.62  254.4    103   11.45   13.7      3    3.70   \n",
              "2   41.38  ...    110   10.30  162.6    104    7.32   12.2      5    3.29   \n",
              "3   50.90  ...     88    5.26  196.9     89    8.86    6.6      7    1.78   \n",
              "4   28.34  ...    122   12.61  186.9    121    8.41   10.1      3    2.73   \n",
              "\n",
              "   ncsc   label  \n",
              "0     1  False.  \n",
              "1     1  False.  \n",
              "2     0  False.  \n",
              "3     2  False.  \n",
              "4     3  False.  \n",
              "\n",
              "[5 rows x 21 columns]"
            ],
            "text/html": [
              "\n",
              "  <div id=\"df-db6e8123-ef40-45bb-bbc8-084e2707002d\">\n",
              "    <div class=\"colab-df-container\">\n",
              "      <div>\n",
              "<style scoped>\n",
              "    .dataframe tbody tr th:only-of-type {\n",
              "        vertical-align: middle;\n",
              "    }\n",
              "\n",
              "    .dataframe tbody tr th {\n",
              "        vertical-align: top;\n",
              "    }\n",
              "\n",
              "    .dataframe thead th {\n",
              "        text-align: right;\n",
              "    }\n",
              "</style>\n",
              "<table border=\"1\" class=\"dataframe\">\n",
              "  <thead>\n",
              "    <tr style=\"text-align: right;\">\n",
              "      <th></th>\n",
              "      <th>st</th>\n",
              "      <th>acclen</th>\n",
              "      <th>arcode</th>\n",
              "      <th>phnum</th>\n",
              "      <th>intplan</th>\n",
              "      <th>voice</th>\n",
              "      <th>nummailmes</th>\n",
              "      <th>tdmin</th>\n",
              "      <th>tdcal</th>\n",
              "      <th>tdchar</th>\n",
              "      <th>...</th>\n",
              "      <th>tecal</th>\n",
              "      <th>tecahr</th>\n",
              "      <th>tnmin</th>\n",
              "      <th>tncal</th>\n",
              "      <th>tnchar</th>\n",
              "      <th>timin</th>\n",
              "      <th>tical</th>\n",
              "      <th>tichar</th>\n",
              "      <th>ncsc</th>\n",
              "      <th>label</th>\n",
              "    </tr>\n",
              "  </thead>\n",
              "  <tbody>\n",
              "    <tr>\n",
              "      <th>0</th>\n",
              "      <td>KS</td>\n",
              "      <td>128</td>\n",
              "      <td>415</td>\n",
              "      <td>382-4657</td>\n",
              "      <td>no</td>\n",
              "      <td>yes</td>\n",
              "      <td>25</td>\n",
              "      <td>265.1</td>\n",
              "      <td>110</td>\n",
              "      <td>45.07</td>\n",
              "      <td>...</td>\n",
              "      <td>99</td>\n",
              "      <td>16.78</td>\n",
              "      <td>244.7</td>\n",
              "      <td>91</td>\n",
              "      <td>11.01</td>\n",
              "      <td>10.0</td>\n",
              "      <td>3</td>\n",
              "      <td>2.70</td>\n",
              "      <td>1</td>\n",
              "      <td>False.</td>\n",
              "    </tr>\n",
              "    <tr>\n",
              "      <th>1</th>\n",
              "      <td>OH</td>\n",
              "      <td>107</td>\n",
              "      <td>415</td>\n",
              "      <td>371-7191</td>\n",
              "      <td>no</td>\n",
              "      <td>yes</td>\n",
              "      <td>26</td>\n",
              "      <td>161.6</td>\n",
              "      <td>123</td>\n",
              "      <td>27.47</td>\n",
              "      <td>...</td>\n",
              "      <td>103</td>\n",
              "      <td>16.62</td>\n",
              "      <td>254.4</td>\n",
              "      <td>103</td>\n",
              "      <td>11.45</td>\n",
              "      <td>13.7</td>\n",
              "      <td>3</td>\n",
              "      <td>3.70</td>\n",
              "      <td>1</td>\n",
              "      <td>False.</td>\n",
              "    </tr>\n",
              "    <tr>\n",
              "      <th>2</th>\n",
              "      <td>NJ</td>\n",
              "      <td>137</td>\n",
              "      <td>415</td>\n",
              "      <td>358-1921</td>\n",
              "      <td>no</td>\n",
              "      <td>no</td>\n",
              "      <td>0</td>\n",
              "      <td>243.4</td>\n",
              "      <td>114</td>\n",
              "      <td>41.38</td>\n",
              "      <td>...</td>\n",
              "      <td>110</td>\n",
              "      <td>10.30</td>\n",
              "      <td>162.6</td>\n",
              "      <td>104</td>\n",
              "      <td>7.32</td>\n",
              "      <td>12.2</td>\n",
              "      <td>5</td>\n",
              "      <td>3.29</td>\n",
              "      <td>0</td>\n",
              "      <td>False.</td>\n",
              "    </tr>\n",
              "    <tr>\n",
              "      <th>3</th>\n",
              "      <td>OH</td>\n",
              "      <td>84</td>\n",
              "      <td>408</td>\n",
              "      <td>375-9999</td>\n",
              "      <td>yes</td>\n",
              "      <td>no</td>\n",
              "      <td>0</td>\n",
              "      <td>299.4</td>\n",
              "      <td>71</td>\n",
              "      <td>50.90</td>\n",
              "      <td>...</td>\n",
              "      <td>88</td>\n",
              "      <td>5.26</td>\n",
              "      <td>196.9</td>\n",
              "      <td>89</td>\n",
              "      <td>8.86</td>\n",
              "      <td>6.6</td>\n",
              "      <td>7</td>\n",
              "      <td>1.78</td>\n",
              "      <td>2</td>\n",
              "      <td>False.</td>\n",
              "    </tr>\n",
              "    <tr>\n",
              "      <th>4</th>\n",
              "      <td>OK</td>\n",
              "      <td>75</td>\n",
              "      <td>415</td>\n",
              "      <td>330-6626</td>\n",
              "      <td>yes</td>\n",
              "      <td>no</td>\n",
              "      <td>0</td>\n",
              "      <td>166.7</td>\n",
              "      <td>113</td>\n",
              "      <td>28.34</td>\n",
              "      <td>...</td>\n",
              "      <td>122</td>\n",
              "      <td>12.61</td>\n",
              "      <td>186.9</td>\n",
              "      <td>121</td>\n",
              "      <td>8.41</td>\n",
              "      <td>10.1</td>\n",
              "      <td>3</td>\n",
              "      <td>2.73</td>\n",
              "      <td>3</td>\n",
              "      <td>False.</td>\n",
              "    </tr>\n",
              "  </tbody>\n",
              "</table>\n",
              "<p>5 rows × 21 columns</p>\n",
              "</div>\n",
              "      <button class=\"colab-df-convert\" onclick=\"convertToInteractive('df-db6e8123-ef40-45bb-bbc8-084e2707002d')\"\n",
              "              title=\"Convert this dataframe to an interactive table.\"\n",
              "              style=\"display:none;\">\n",
              "        \n",
              "  <svg xmlns=\"http://www.w3.org/2000/svg\" height=\"24px\"viewBox=\"0 0 24 24\"\n",
              "       width=\"24px\">\n",
              "    <path d=\"M0 0h24v24H0V0z\" fill=\"none\"/>\n",
              "    <path d=\"M18.56 5.44l.94 2.06.94-2.06 2.06-.94-2.06-.94-.94-2.06-.94 2.06-2.06.94zm-11 1L8.5 8.5l.94-2.06 2.06-.94-2.06-.94L8.5 2.5l-.94 2.06-2.06.94zm10 10l.94 2.06.94-2.06 2.06-.94-2.06-.94-.94-2.06-.94 2.06-2.06.94z\"/><path d=\"M17.41 7.96l-1.37-1.37c-.4-.4-.92-.59-1.43-.59-.52 0-1.04.2-1.43.59L10.3 9.45l-7.72 7.72c-.78.78-.78 2.05 0 2.83L4 21.41c.39.39.9.59 1.41.59.51 0 1.02-.2 1.41-.59l7.78-7.78 2.81-2.81c.8-.78.8-2.07 0-2.86zM5.41 20L4 18.59l7.72-7.72 1.47 1.35L5.41 20z\"/>\n",
              "  </svg>\n",
              "      </button>\n",
              "      \n",
              "  <style>\n",
              "    .colab-df-container {\n",
              "      display:flex;\n",
              "      flex-wrap:wrap;\n",
              "      gap: 12px;\n",
              "    }\n",
              "\n",
              "    .colab-df-convert {\n",
              "      background-color: #E8F0FE;\n",
              "      border: none;\n",
              "      border-radius: 50%;\n",
              "      cursor: pointer;\n",
              "      display: none;\n",
              "      fill: #1967D2;\n",
              "      height: 32px;\n",
              "      padding: 0 0 0 0;\n",
              "      width: 32px;\n",
              "    }\n",
              "\n",
              "    .colab-df-convert:hover {\n",
              "      background-color: #E2EBFA;\n",
              "      box-shadow: 0px 1px 2px rgba(60, 64, 67, 0.3), 0px 1px 3px 1px rgba(60, 64, 67, 0.15);\n",
              "      fill: #174EA6;\n",
              "    }\n",
              "\n",
              "    [theme=dark] .colab-df-convert {\n",
              "      background-color: #3B4455;\n",
              "      fill: #D2E3FC;\n",
              "    }\n",
              "\n",
              "    [theme=dark] .colab-df-convert:hover {\n",
              "      background-color: #434B5C;\n",
              "      box-shadow: 0px 1px 3px 1px rgba(0, 0, 0, 0.15);\n",
              "      filter: drop-shadow(0px 1px 2px rgba(0, 0, 0, 0.3));\n",
              "      fill: #FFFFFF;\n",
              "    }\n",
              "  </style>\n",
              "\n",
              "      <script>\n",
              "        const buttonEl =\n",
              "          document.querySelector('#df-db6e8123-ef40-45bb-bbc8-084e2707002d button.colab-df-convert');\n",
              "        buttonEl.style.display =\n",
              "          google.colab.kernel.accessAllowed ? 'block' : 'none';\n",
              "\n",
              "        async function convertToInteractive(key) {\n",
              "          const element = document.querySelector('#df-db6e8123-ef40-45bb-bbc8-084e2707002d');\n",
              "          const dataTable =\n",
              "            await google.colab.kernel.invokeFunction('convertToInteractive',\n",
              "                                                     [key], {});\n",
              "          if (!dataTable) return;\n",
              "\n",
              "          const docLinkHtml = 'Like what you see? Visit the ' +\n",
              "            '<a target=\"_blank\" href=https://colab.research.google.com/notebooks/data_table.ipynb>data table notebook</a>'\n",
              "            + ' to learn more about interactive tables.';\n",
              "          element.innerHTML = '';\n",
              "          dataTable['output_type'] = 'display_data';\n",
              "          await google.colab.output.renderOutput(dataTable, element);\n",
              "          const docLink = document.createElement('div');\n",
              "          docLink.innerHTML = docLinkHtml;\n",
              "          element.appendChild(docLink);\n",
              "        }\n",
              "      </script>\n",
              "    </div>\n",
              "  </div>\n",
              "  "
            ]
          },
          "metadata": {},
          "execution_count": 695
        }
      ],
      "source": [
        "df.head()"
      ]
    },
    {
      "cell_type": "code",
      "execution_count": null,
      "metadata": {
        "id": "3oUZ4zPRZCNh"
      },
      "outputs": [],
      "source": [
        "multiple_cols_cat= df['arcode'] #categorical variable with more than two categories"
      ]
    },
    {
      "cell_type": "code",
      "execution_count": null,
      "metadata": {
        "colab": {
          "base_uri": "https://localhost:8080/",
          "height": 351
        },
        "id": "WI4JMXJJZHzQ",
        "outputId": "6d06c2f4-bdc2-4b19-b8b3-e04d1a2e7d14"
      },
      "outputs": [
        {
          "output_type": "stream",
          "name": "stderr",
          "text": [
            "/usr/local/lib/python3.7/dist-packages/seaborn/_decorators.py:43: FutureWarning: Pass the following variable as a keyword arg: x. From version 0.12, the only valid positional argument will be `data`, and passing other arguments without an explicit keyword will result in an error or misinterpretation.\n",
            "  FutureWarning\n"
          ]
        },
        {
          "output_type": "execute_result",
          "data": {
            "text/plain": [
              "<matplotlib.axes._subplots.AxesSubplot at 0x7fe924dc0f50>"
            ]
          },
          "metadata": {},
          "execution_count": 697
        },
        {
          "output_type": "display_data",
          "data": {
            "text/plain": [
              "<Figure size 432x288 with 1 Axes>"
            ],
            "image/png": "[encoded data removed]"
          },
          "metadata": {
            "needs_background": "light"
          }
        }
      ],
      "source": [
        "sns.countplot(\"intplan\",data=df) #checking the values of internet plan based on categories"
      ]
    },
    {
      "cell_type": "code",
      "execution_count": null,
      "metadata": {
        "colab": {
          "base_uri": "https://localhost:8080/",
          "height": 353
        },
        "id": "w2qEGudBZLNW",
        "outputId": "a0862636-f8ef-40a7-f737-5c8b55ee8ce1"
      },
      "outputs": [
        {
          "output_type": "stream",
          "name": "stderr",
          "text": [
            "/usr/local/lib/python3.7/dist-packages/seaborn/_decorators.py:43: FutureWarning: Pass the following variable as a keyword arg: x. From version 0.12, the only valid positional argument will be `data`, and passing other arguments without an explicit keyword will result in an error or misinterpretation.\n",
            "  FutureWarning\n"
          ]
        },
        {
          "output_type": "execute_result",
          "data": {
            "text/plain": [
              "<matplotlib.axes._subplots.AxesSubplot at 0x7fe924c3f850>"
            ]
          },
          "metadata": {},
          "execution_count": 698
        },
        {
          "output_type": "display_data",
          "data": {
            "text/plain": [
              "<Figure size 432x288 with 1 Axes>"
            ],
            "image/png": "[encoded data removed]"
          },
          "metadata": {
            "needs_background": "light"
          }
        }
      ],
      "source": [
        "sns.countplot(\"voice\",data=df) #checking the values of voice plan based on categories"
      ]
    },
    {
      "cell_type": "code",
      "execution_count": null,
      "metadata": {
        "colab": {
          "base_uri": "https://localhost:8080/",
          "height": 351
        },
        "id": "GXVmsIMVZcb2",
        "outputId": "26ef0ed9-957c-465e-d5af-6187e3f9f775"
      },
      "outputs": [
        {
          "output_type": "stream",
          "name": "stderr",
          "text": [
            "/usr/local/lib/python3.7/dist-packages/seaborn/_decorators.py:43: FutureWarning: Pass the following variable as a keyword arg: x. From version 0.12, the only valid positional argument will be `data`, and passing other arguments without an explicit keyword will result in an error or misinterpretation.\n",
            "  FutureWarning\n"
          ]
        },
        {
          "output_type": "execute_result",
          "data": {
            "text/plain": [
              "<matplotlib.axes._subplots.AxesSubplot at 0x7fe924bc96d0>"
            ]
          },
          "metadata": {},
          "execution_count": 699
        },
        {
          "output_type": "display_data",
          "data": {
            "text/plain": [
              "<Figure size 432x288 with 1 Axes>"
            ],
            "image/png": "[encoded data removed]"
          },
          "metadata": {
            "needs_background": "light"
          }
        }
      ],
      "source": [
        "sns.countplot(\"arcode\",data=df)"
      ]
    },
    {
      "cell_type": "code",
      "execution_count": null,
      "metadata": {
        "colab": {
          "base_uri": "https://localhost:8080/",
          "height": 212
        },
        "id": "B9UXYOEW2-Ve",
        "outputId": "0587ce64-56fc-4ee9-cb22-fe328d67d9f6"
      },
      "outputs": [
        {
          "output_type": "stream",
          "name": "stderr",
          "text": [
            "/usr/local/lib/python3.7/dist-packages/IPython/core/interactiveshell.py:2882: FutureWarning: Dropping invalid columns in DataFrameGroupBy.mean is deprecated. In a future version, a TypeError will be raised. Before calling .mean, select only columns which should be valid for the function.\n",
            "  exec(code_obj, self.user_global_ns, self.user_ns)\n"
          ]
        },
        {
          "output_type": "execute_result",
          "data": {
            "text/plain": [
              "Empty DataFrame\n",
              "Columns: []\n",
              "Index: [408, 415, 510]"
            ],
            "text/html": [
              "\n",
              "  <div id=\"df-c726f693-a5a4-41f6-ad76-71ec42640b72\">\n",
              "    <div class=\"colab-df-container\">\n",
              "      <div>\n",
              "<style scoped>\n",
              "    .dataframe tbody tr th:only-of-type {\n",
              "        vertical-align: middle;\n",
              "    }\n",
              "\n",
              "    .dataframe tbody tr th {\n",
              "        vertical-align: top;\n",
              "    }\n",
              "\n",
              "    .dataframe thead th {\n",
              "        text-align: right;\n",
              "    }\n",
              "</style>\n",
              "<table border=\"1\" class=\"dataframe\">\n",
              "  <thead>\n",
              "    <tr style=\"text-align: right;\">\n",
              "      <th></th>\n",
              "    </tr>\n",
              "    <tr>\n",
              "      <th>arcode</th>\n",
              "    </tr>\n",
              "  </thead>\n",
              "  <tbody>\n",
              "    <tr>\n",
              "      <th>408</th>\n",
              "    </tr>\n",
              "    <tr>\n",
              "      <th>415</th>\n",
              "    </tr>\n",
              "    <tr>\n",
              "      <th>510</th>\n",
              "    </tr>\n",
              "  </tbody>\n",
              "</table>\n",
              "</div>\n",
              "      <button class=\"colab-df-convert\" onclick=\"convertToInteractive('df-c726f693-a5a4-41f6-ad76-71ec42640b72')\"\n",
              "              title=\"Convert this dataframe to an interactive table.\"\n",
              "              style=\"display:none;\">\n",
              "        \n",
              "  <svg xmlns=\"http://www.w3.org/2000/svg\" height=\"24px\"viewBox=\"0 0 24 24\"\n",
              "       width=\"24px\">\n",
              "    <path d=\"M0 0h24v24H0V0z\" fill=\"none\"/>\n",
              "    <path d=\"M18.56 5.44l.94 2.06.94-2.06 2.06-.94-2.06-.94-.94-2.06-.94 2.06-2.06.94zm-11 1L8.5 8.5l.94-2.06 2.06-.94-2.06-.94L8.5 2.5l-.94 2.06-2.06.94zm10 10l.94 2.06.94-2.06 2.06-.94-2.06-.94-.94-2.06-.94 2.06-2.06.94z\"/><path d=\"M17.41 7.96l-1.37-1.37c-.4-.4-.92-.59-1.43-.59-.52 0-1.04.2-1.43.59L10.3 9.45l-7.72 7.72c-.78.78-.78 2.05 0 2.83L4 21.41c.39.39.9.59 1.41.59.51 0 1.02-.2 1.41-.59l7.78-7.78 2.81-2.81c.8-.78.8-2.07 0-2.86zM5.41 20L4 18.59l7.72-7.72 1.47 1.35L5.41 20z\"/>\n",
              "  </svg>\n",
              "      </button>\n",
              "      \n",
              "  <style>\n",
              "    .colab-df-container {\n",
              "      display:flex;\n",
              "      flex-wrap:wrap;\n",
              "      gap: 12px;\n",
              "    }\n",
              "\n",
              "    .colab-df-convert {\n",
              "      background-color: #E8F0FE;\n",
              "      border: none;\n",
              "      border-radius: 50%;\n",
              "      cursor: pointer;\n",
              "      display: none;\n",
              "      fill: #1967D2;\n",
              "      height: 32px;\n",
              "      padding: 0 0 0 0;\n",
              "      width: 32px;\n",
              "    }\n",
              "\n",
              "    .colab-df-convert:hover {\n",
              "      background-color: #E2EBFA;\n",
              "      box-shadow: 0px 1px 2px rgba(60, 64, 67, 0.3), 0px 1px 3px 1px rgba(60, 64, 67, 0.15);\n",
              "      fill: #174EA6;\n",
              "    }\n",
              "\n",
              "    [theme=dark] .colab-df-convert {\n",
              "      background-color: #3B4455;\n",
              "      fill: #D2E3FC;\n",
              "    }\n",
              "\n",
              "    [theme=dark] .colab-df-convert:hover {\n",
              "      background-color: #434B5C;\n",
              "      box-shadow: 0px 1px 3px 1px rgba(0, 0, 0, 0.15);\n",
              "      filter: drop-shadow(0px 1px 2px rgba(0, 0, 0, 0.3));\n",
              "      fill: #FFFFFF;\n",
              "    }\n",
              "  </style>\n",
              "\n",
              "      <script>\n",
              "        const buttonEl =\n",
              "          document.querySelector('#df-c726f693-a5a4-41f6-ad76-71ec42640b72 button.colab-df-convert');\n",
              "        buttonEl.style.display =\n",
              "          google.colab.kernel.accessAllowed ? 'block' : 'none';\n",
              "\n",
              "        async function convertToInteractive(key) {\n",
              "          const element = document.querySelector('#df-c726f693-a5a4-41f6-ad76-71ec42640b72');\n",
              "          const dataTable =\n",
              "            await google.colab.kernel.invokeFunction('convertToInteractive',\n",
              "                                                     [key], {});\n",
              "          if (!dataTable) return;\n",
              "\n",
              "          const docLinkHtml = 'Like what you see? Visit the ' +\n",
              "            '<a target=\"_blank\" href=https://colab.research.google.com/notebooks/data_table.ipynb>data table notebook</a>'\n",
              "            + ' to learn more about interactive tables.';\n",
              "          element.innerHTML = '';\n",
              "          dataTable['output_type'] = 'display_data';\n",
              "          await google.colab.output.renderOutput(dataTable, element);\n",
              "          const docLink = document.createElement('div');\n",
              "          docLink.innerHTML = docLinkHtml;\n",
              "          element.appendChild(docLink);\n",
              "        }\n",
              "      </script>\n",
              "    </div>\n",
              "  </div>\n",
              "  "
            ]
          },
          "metadata": {},
          "execution_count": 700
        }
      ],
      "source": [
        "df[['arcode','label']].groupby(['arcode']).mean() #variation of arcode with label "
      ]
    },
    {
      "cell_type": "code",
      "execution_count": null,
      "metadata": {
        "id": "UHDLVe6c2tOH"
      },
      "outputs": [],
      "source": [
        "df[\"label\"].replace({\"True.\":1,\"False.\":0},inplace=True) #replacing True and False values with 1 and 0 respectively"
      ]
    },
    {
      "cell_type": "code",
      "execution_count": null,
      "metadata": {
        "id": "-YxJQfJs2t-f"
      },
      "outputs": [],
      "source": [
        "df[\"voice\"].replace({\"yes\":1,\"no\":0},inplace=True) #replacing yes with 1 and no with 0 for voice column"
      ]
    },
    {
      "cell_type": "code",
      "execution_count": null,
      "metadata": {
        "id": "lt38Pt1A2und"
      },
      "outputs": [],
      "source": [
        "df[\"intplan\"].replace({\"yes\":1,\"no\":0},inplace=True) #replacing yes with 1 and no with 0 for intplan column"
      ]
    },
    {
      "cell_type": "code",
      "execution_count": null,
      "metadata": {
        "id": "82nZbEfSh0kW"
      },
      "outputs": [],
      "source": [
        "#checking variation of different columns with label"
      ]
    },
    {
      "cell_type": "code",
      "execution_count": null,
      "metadata": {
        "colab": {
          "base_uri": "https://localhost:8080/",
          "height": 143
        },
        "id": "L_-jD5KA024A",
        "outputId": "fd8b73b2-e917-4320-ea3b-5130fd99a88f"
      },
      "outputs": [
        {
          "output_type": "execute_result",
          "data": {
            "text/plain": [
              "           acclen\n",
              "label            \n",
              "0      100.793684\n",
              "1      102.664596"
            ],
            "text/html": [
              "\n",
              "  <div id=\"df-c4851452-8e7e-4290-968f-e0f132c64ece\">\n",
              "    <div class=\"colab-df-container\">\n",
              "      <div>\n",
              "<style scoped>\n",
              "    .dataframe tbody tr th:only-of-type {\n",
              "        vertical-align: middle;\n",
              "    }\n",
              "\n",
              "    .dataframe tbody tr th {\n",
              "        vertical-align: top;\n",
              "    }\n",
              "\n",
              "    .dataframe thead th {\n",
              "        text-align: right;\n",
              "    }\n",
              "</style>\n",
              "<table border=\"1\" class=\"dataframe\">\n",
              "  <thead>\n",
              "    <tr style=\"text-align: right;\">\n",
              "      <th></th>\n",
              "      <th>acclen</th>\n",
              "    </tr>\n",
              "    <tr>\n",
              "      <th>label</th>\n",
              "      <th></th>\n",
              "    </tr>\n",
              "  </thead>\n",
              "  <tbody>\n",
              "    <tr>\n",
              "      <th>0</th>\n",
              "      <td>100.793684</td>\n",
              "    </tr>\n",
              "    <tr>\n",
              "      <th>1</th>\n",
              "      <td>102.664596</td>\n",
              "    </tr>\n",
              "  </tbody>\n",
              "</table>\n",
              "</div>\n",
              "      <button class=\"colab-df-convert\" onclick=\"convertToInteractive('df-c4851452-8e7e-4290-968f-e0f132c64ece')\"\n",
              "              title=\"Convert this dataframe to an interactive table.\"\n",
              "              style=\"display:none;\">\n",
              "        \n",
              "  <svg xmlns=\"http://www.w3.org/2000/svg\" height=\"24px\"viewBox=\"0 0 24 24\"\n",
              "       width=\"24px\">\n",
              "    <path d=\"M0 0h24v24H0V0z\" fill=\"none\"/>\n",
              "    <path d=\"M18.56 5.44l.94 2.06.94-2.06 2.06-.94-2.06-.94-.94-2.06-.94 2.06-2.06.94zm-11 1L8.5 8.5l.94-2.06 2.06-.94-2.06-.94L8.5 2.5l-.94 2.06-2.06.94zm10 10l.94 2.06.94-2.06 2.06-.94-2.06-.94-.94-2.06-.94 2.06-2.06.94z\"/><path d=\"M17.41 7.96l-1.37-1.37c-.4-.4-.92-.59-1.43-.59-.52 0-1.04.2-1.43.59L10.3 9.45l-7.72 7.72c-.78.78-.78 2.05 0 2.83L4 21.41c.39.39.9.59 1.41.59.51 0 1.02-.2 1.41-.59l7.78-7.78 2.81-2.81c.8-.78.8-2.07 0-2.86zM5.41 20L4 18.59l7.72-7.72 1.47 1.35L5.41 20z\"/>\n",
              "  </svg>\n",
              "      </button>\n",
              "      \n",
              "  <style>\n",
              "    .colab-df-container {\n",
              "      display:flex;\n",
              "      flex-wrap:wrap;\n",
              "      gap: 12px;\n",
              "    }\n",
              "\n",
              "    .colab-df-convert {\n",
              "      background-color: #E8F0FE;\n",
              "      border: none;\n",
              "      border-radius: 50%;\n",
              "      cursor: pointer;\n",
              "      display: none;\n",
              "      fill: #1967D2;\n",
              "      height: 32px;\n",
              "      padding: 0 0 0 0;\n",
              "      width: 32px;\n",
              "    }\n",
              "\n",
              "    .colab-df-convert:hover {\n",
              "      background-color: #E2EBFA;\n",
              "      box-shadow: 0px 1px 2px rgba(60, 64, 67, 0.3), 0px 1px 3px 1px rgba(60, 64, 67, 0.15);\n",
              "      fill: #174EA6;\n",
              "    }\n",
              "\n",
              "    [theme=dark] .colab-df-convert {\n",
              "      background-color: #3B4455;\n",
              "      fill: #D2E3FC;\n",
              "    }\n",
              "\n",
              "    [theme=dark] .colab-df-convert:hover {\n",
              "      background-color: #434B5C;\n",
              "      box-shadow: 0px 1px 3px 1px rgba(0, 0, 0, 0.15);\n",
              "      filter: drop-shadow(0px 1px 2px rgba(0, 0, 0, 0.3));\n",
              "      fill: #FFFFFF;\n",
              "    }\n",
              "  </style>\n",
              "\n",
              "      <script>\n",
              "        const buttonEl =\n",
              "          document.querySelector('#df-c4851452-8e7e-4290-968f-e0f132c64ece button.colab-df-convert');\n",
              "        buttonEl.style.display =\n",
              "          google.colab.kernel.accessAllowed ? 'block' : 'none';\n",
              "\n",
              "        async function convertToInteractive(key) {\n",
              "          const element = document.querySelector('#df-c4851452-8e7e-4290-968f-e0f132c64ece');\n",
              "          const dataTable =\n",
              "            await google.colab.kernel.invokeFunction('convertToInteractive',\n",
              "                                                     [key], {});\n",
              "          if (!dataTable) return;\n",
              "\n",
              "          const docLinkHtml = 'Like what you see? Visit the ' +\n",
              "            '<a target=\"_blank\" href=https://colab.research.google.com/notebooks/data_table.ipynb>data table notebook</a>'\n",
              "            + ' to learn more about interactive tables.';\n",
              "          element.innerHTML = '';\n",
              "          dataTable['output_type'] = 'display_data';\n",
              "          await google.colab.output.renderOutput(dataTable, element);\n",
              "          const docLink = document.createElement('div');\n",
              "          docLink.innerHTML = docLinkHtml;\n",
              "          element.appendChild(docLink);\n",
              "        }\n",
              "      </script>\n",
              "    </div>\n",
              "  </div>\n",
              "  "
            ]
          },
          "metadata": {},
          "execution_count": 705
        }
      ],
      "source": [
        "df[['label','acclen']].groupby(['label']).mean()"
      ]
    },
    {
      "cell_type": "code",
      "execution_count": null,
      "metadata": {
        "colab": {
          "base_uri": "https://localhost:8080/",
          "height": 143
        },
        "id": "bDRjyRJ61Bpx",
        "outputId": "46596152-c4fc-4520-e5fd-9f09a7ff64bd"
      },
      "outputs": [
        {
          "output_type": "execute_result",
          "data": {
            "text/plain": [
              "           arcode\n",
              "label            \n",
              "0      437.074737\n",
              "1      437.817805"
            ],
            "text/html": [
              "\n",
              "  <div id=\"df-f6a75cf1-3ca3-4157-b8f4-77fe3a97859c\">\n",
              "    <div class=\"colab-df-container\">\n",
              "      <div>\n",
              "<style scoped>\n",
              "    .dataframe tbody tr th:only-of-type {\n",
              "        vertical-align: middle;\n",
              "    }\n",
              "\n",
              "    .dataframe tbody tr th {\n",
              "        vertical-align: top;\n",
              "    }\n",
              "\n",
              "    .dataframe thead th {\n",
              "        text-align: right;\n",
              "    }\n",
              "</style>\n",
              "<table border=\"1\" class=\"dataframe\">\n",
              "  <thead>\n",
              "    <tr style=\"text-align: right;\">\n",
              "      <th></th>\n",
              "      <th>arcode</th>\n",
              "    </tr>\n",
              "    <tr>\n",
              "      <th>label</th>\n",
              "      <th></th>\n",
              "    </tr>\n",
              "  </thead>\n",
              "  <tbody>\n",
              "    <tr>\n",
              "      <th>0</th>\n",
              "      <td>437.074737</td>\n",
              "    </tr>\n",
              "    <tr>\n",
              "      <th>1</th>\n",
              "      <td>437.817805</td>\n",
              "    </tr>\n",
              "  </tbody>\n",
              "</table>\n",
              "</div>\n",
              "      <button class=\"colab-df-convert\" onclick=\"convertToInteractive('df-f6a75cf1-3ca3-4157-b8f4-77fe3a97859c')\"\n",
              "              title=\"Convert this dataframe to an interactive table.\"\n",
              "              style=\"display:none;\">\n",
              "        \n",
              "  <svg xmlns=\"http://www.w3.org/2000/svg\" height=\"24px\"viewBox=\"0 0 24 24\"\n",
              "       width=\"24px\">\n",
              "    <path d=\"M0 0h24v24H0V0z\" fill=\"none\"/>\n",
              "    <path d=\"M18.56 5.44l.94 2.06.94-2.06 2.06-.94-2.06-.94-.94-2.06-.94 2.06-2.06.94zm-11 1L8.5 8.5l.94-2.06 2.06-.94-2.06-.94L8.5 2.5l-.94 2.06-2.06.94zm10 10l.94 2.06.94-2.06 2.06-.94-2.06-.94-.94-2.06-.94 2.06-2.06.94z\"/><path d=\"M17.41 7.96l-1.37-1.37c-.4-.4-.92-.59-1.43-.59-.52 0-1.04.2-1.43.59L10.3 9.45l-7.72 7.72c-.78.78-.78 2.05 0 2.83L4 21.41c.39.39.9.59 1.41.59.51 0 1.02-.2 1.41-.59l7.78-7.78 2.81-2.81c.8-.78.8-2.07 0-2.86zM5.41 20L4 18.59l7.72-7.72 1.47 1.35L5.41 20z\"/>\n",
              "  </svg>\n",
              "      </button>\n",
              "      \n",
              "  <style>\n",
              "    .colab-df-container {\n",
              "      display:flex;\n",
              "      flex-wrap:wrap;\n",
              "      gap: 12px;\n",
              "    }\n",
              "\n",
              "    .colab-df-convert {\n",
              "      background-color: #E8F0FE;\n",
              "      border: none;\n",
              "      border-radius: 50%;\n",
              "      cursor: pointer;\n",
              "      display: none;\n",
              "      fill: #1967D2;\n",
              "      height: 32px;\n",
              "      padding: 0 0 0 0;\n",
              "      width: 32px;\n",
              "    }\n",
              "\n",
              "    .colab-df-convert:hover {\n",
              "      background-color: #E2EBFA;\n",
              "      box-shadow: 0px 1px 2px rgba(60, 64, 67, 0.3), 0px 1px 3px 1px rgba(60, 64, 67, 0.15);\n",
              "      fill: #174EA6;\n",
              "    }\n",
              "\n",
              "    [theme=dark] .colab-df-convert {\n",
              "      background-color: #3B4455;\n",
              "      fill: #D2E3FC;\n",
              "    }\n",
              "\n",
              "    [theme=dark] .colab-df-convert:hover {\n",
              "      background-color: #434B5C;\n",
              "      box-shadow: 0px 1px 3px 1px rgba(0, 0, 0, 0.15);\n",
              "      filter: drop-shadow(0px 1px 2px rgba(0, 0, 0, 0.3));\n",
              "      fill: #FFFFFF;\n",
              "    }\n",
              "  </style>\n",
              "\n",
              "      <script>\n",
              "        const buttonEl =\n",
              "          document.querySelector('#df-f6a75cf1-3ca3-4157-b8f4-77fe3a97859c button.colab-df-convert');\n",
              "        buttonEl.style.display =\n",
              "          google.colab.kernel.accessAllowed ? 'block' : 'none';\n",
              "\n",
              "        async function convertToInteractive(key) {\n",
              "          const element = document.querySelector('#df-f6a75cf1-3ca3-4157-b8f4-77fe3a97859c');\n",
              "          const dataTable =\n",
              "            await google.colab.kernel.invokeFunction('convertToInteractive',\n",
              "                                                     [key], {});\n",
              "          if (!dataTable) return;\n",
              "\n",
              "          const docLinkHtml = 'Like what you see? Visit the ' +\n",
              "            '<a target=\"_blank\" href=https://colab.research.google.com/notebooks/data_table.ipynb>data table notebook</a>'\n",
              "            + ' to learn more about interactive tables.';\n",
              "          element.innerHTML = '';\n",
              "          dataTable['output_type'] = 'display_data';\n",
              "          await google.colab.output.renderOutput(dataTable, element);\n",
              "          const docLink = document.createElement('div');\n",
              "          docLink.innerHTML = docLinkHtml;\n",
              "          element.appendChild(docLink);\n",
              "        }\n",
              "      </script>\n",
              "    </div>\n",
              "  </div>\n",
              "  "
            ]
          },
          "metadata": {},
          "execution_count": 706
        }
      ],
      "source": [
        "df[['label','arcode']].groupby(['label']).mean()"
      ]
    },
    {
      "cell_type": "code",
      "execution_count": null,
      "metadata": {
        "colab": {
          "base_uri": "https://localhost:8080/",
          "height": 143
        },
        "id": "tXLxLaAp1Fw0",
        "outputId": "a4616c20-c69d-4bf1-a54d-71081dd236df"
      },
      "outputs": [
        {
          "output_type": "execute_result",
          "data": {
            "text/plain": [
              "        intplan\n",
              "label          \n",
              "0      0.065263\n",
              "1      0.283644"
            ],
            "text/html": [
              "\n",
              "  <div id=\"df-b611ba44-f651-4bf2-8666-88a4fc2483ea\">\n",
              "    <div class=\"colab-df-container\">\n",
              "      <div>\n",
              "<style scoped>\n",
              "    .dataframe tbody tr th:only-of-type {\n",
              "        vertical-align: middle;\n",
              "    }\n",
              "\n",
              "    .dataframe tbody tr th {\n",
              "        vertical-align: top;\n",
              "    }\n",
              "\n",
              "    .dataframe thead th {\n",
              "        text-align: right;\n",
              "    }\n",
              "</style>\n",
              "<table border=\"1\" class=\"dataframe\">\n",
              "  <thead>\n",
              "    <tr style=\"text-align: right;\">\n",
              "      <th></th>\n",
              "      <th>intplan</th>\n",
              "    </tr>\n",
              "    <tr>\n",
              "      <th>label</th>\n",
              "      <th></th>\n",
              "    </tr>\n",
              "  </thead>\n",
              "  <tbody>\n",
              "    <tr>\n",
              "      <th>0</th>\n",
              "      <td>0.065263</td>\n",
              "    </tr>\n",
              "    <tr>\n",
              "      <th>1</th>\n",
              "      <td>0.283644</td>\n",
              "    </tr>\n",
              "  </tbody>\n",
              "</table>\n",
              "</div>\n",
              "      <button class=\"colab-df-convert\" onclick=\"convertToInteractive('df-b611ba44-f651-4bf2-8666-88a4fc2483ea')\"\n",
              "              title=\"Convert this dataframe to an interactive table.\"\n",
              "              style=\"display:none;\">\n",
              "        \n",
              "  <svg xmlns=\"http://www.w3.org/2000/svg\" height=\"24px\"viewBox=\"0 0 24 24\"\n",
              "       width=\"24px\">\n",
              "    <path d=\"M0 0h24v24H0V0z\" fill=\"none\"/>\n",
              "    <path d=\"M18.56 5.44l.94 2.06.94-2.06 2.06-.94-2.06-.94-.94-2.06-.94 2.06-2.06.94zm-11 1L8.5 8.5l.94-2.06 2.06-.94-2.06-.94L8.5 2.5l-.94 2.06-2.06.94zm10 10l.94 2.06.94-2.06 2.06-.94-2.06-.94-.94-2.06-.94 2.06-2.06.94z\"/><path d=\"M17.41 7.96l-1.37-1.37c-.4-.4-.92-.59-1.43-.59-.52 0-1.04.2-1.43.59L10.3 9.45l-7.72 7.72c-.78.78-.78 2.05 0 2.83L4 21.41c.39.39.9.59 1.41.59.51 0 1.02-.2 1.41-.59l7.78-7.78 2.81-2.81c.8-.78.8-2.07 0-2.86zM5.41 20L4 18.59l7.72-7.72 1.47 1.35L5.41 20z\"/>\n",
              "  </svg>\n",
              "      </button>\n",
              "      \n",
              "  <style>\n",
              "    .colab-df-container {\n",
              "      display:flex;\n",
              "      flex-wrap:wrap;\n",
              "      gap: 12px;\n",
              "    }\n",
              "\n",
              "    .colab-df-convert {\n",
              "      background-color: #E8F0FE;\n",
              "      border: none;\n",
              "      border-radius: 50%;\n",
              "      cursor: pointer;\n",
              "      display: none;\n",
              "      fill: #1967D2;\n",
              "      height: 32px;\n",
              "      padding: 0 0 0 0;\n",
              "      width: 32px;\n",
              "    }\n",
              "\n",
              "    .colab-df-convert:hover {\n",
              "      background-color: #E2EBFA;\n",
              "      box-shadow: 0px 1px 2px rgba(60, 64, 67, 0.3), 0px 1px 3px 1px rgba(60, 64, 67, 0.15);\n",
              "      fill: #174EA6;\n",
              "    }\n",
              "\n",
              "    [theme=dark] .colab-df-convert {\n",
              "      background-color: #3B4455;\n",
              "      fill: #D2E3FC;\n",
              "    }\n",
              "\n",
              "    [theme=dark] .colab-df-convert:hover {\n",
              "      background-color: #434B5C;\n",
              "      box-shadow: 0px 1px 3px 1px rgba(0, 0, 0, 0.15);\n",
              "      filter: drop-shadow(0px 1px 2px rgba(0, 0, 0, 0.3));\n",
              "      fill: #FFFFFF;\n",
              "    }\n",
              "  </style>\n",
              "\n",
              "      <script>\n",
              "        const buttonEl =\n",
              "          document.querySelector('#df-b611ba44-f651-4bf2-8666-88a4fc2483ea button.colab-df-convert');\n",
              "        buttonEl.style.display =\n",
              "          google.colab.kernel.accessAllowed ? 'block' : 'none';\n",
              "\n",
              "        async function convertToInteractive(key) {\n",
              "          const element = document.querySelector('#df-b611ba44-f651-4bf2-8666-88a4fc2483ea');\n",
              "          const dataTable =\n",
              "            await google.colab.kernel.invokeFunction('convertToInteractive',\n",
              "                                                     [key], {});\n",
              "          if (!dataTable) return;\n",
              "\n",
              "          const docLinkHtml = 'Like what you see? Visit the ' +\n",
              "            '<a target=\"_blank\" href=https://colab.research.google.com/notebooks/data_table.ipynb>data table notebook</a>'\n",
              "            + ' to learn more about interactive tables.';\n",
              "          element.innerHTML = '';\n",
              "          dataTable['output_type'] = 'display_data';\n",
              "          await google.colab.output.renderOutput(dataTable, element);\n",
              "          const docLink = document.createElement('div');\n",
              "          docLink.innerHTML = docLinkHtml;\n",
              "          element.appendChild(docLink);\n",
              "        }\n",
              "      </script>\n",
              "    </div>\n",
              "  </div>\n",
              "  "
            ]
          },
          "metadata": {},
          "execution_count": 707
        }
      ],
      "source": [
        "df[['label','intplan']].groupby(['label']).mean()"
      ]
    },
    {
      "cell_type": "code",
      "execution_count": null,
      "metadata": {
        "colab": {
          "base_uri": "https://localhost:8080/",
          "height": 143
        },
        "id": "VKdQFyke1rws",
        "outputId": "96c183b0-8f32-4bab-b167-12e3a9ad1bc9"
      },
      "outputs": [
        {
          "output_type": "execute_result",
          "data": {
            "text/plain": [
              "          voice\n",
              "label          \n",
              "0      0.295439\n",
              "1      0.165631"
            ],
            "text/html": [
              "\n",
              "  <div id=\"df-60382a31-17ec-4d24-a57e-1f382bfac0fd\">\n",
              "    <div class=\"colab-df-container\">\n",
              "      <div>\n",
              "<style scoped>\n",
              "    .dataframe tbody tr th:only-of-type {\n",
              "        vertical-align: middle;\n",
              "    }\n",
              "\n",
              "    .dataframe tbody tr th {\n",
              "        vertical-align: top;\n",
              "    }\n",
              "\n",
              "    .dataframe thead th {\n",
              "        text-align: right;\n",
              "    }\n",
              "</style>\n",
              "<table border=\"1\" class=\"dataframe\">\n",
              "  <thead>\n",
              "    <tr style=\"text-align: right;\">\n",
              "      <th></th>\n",
              "      <th>voice</th>\n",
              "    </tr>\n",
              "    <tr>\n",
              "      <th>label</th>\n",
              "      <th></th>\n",
              "    </tr>\n",
              "  </thead>\n",
              "  <tbody>\n",
              "    <tr>\n",
              "      <th>0</th>\n",
              "      <td>0.295439</td>\n",
              "    </tr>\n",
              "    <tr>\n",
              "      <th>1</th>\n",
              "      <td>0.165631</td>\n",
              "    </tr>\n",
              "  </tbody>\n",
              "</table>\n",
              "</div>\n",
              "      <button class=\"colab-df-convert\" onclick=\"convertToInteractive('df-60382a31-17ec-4d24-a57e-1f382bfac0fd')\"\n",
              "              title=\"Convert this dataframe to an interactive table.\"\n",
              "              style=\"display:none;\">\n",
              "        \n",
              "  <svg xmlns=\"http://www.w3.org/2000/svg\" height=\"24px\"viewBox=\"0 0 24 24\"\n",
              "       width=\"24px\">\n",
              "    <path d=\"M0 0h24v24H0V0z\" fill=\"none\"/>\n",
              "    <path d=\"M18.56 5.44l.94 2.06.94-2.06 2.06-.94-2.06-.94-.94-2.06-.94 2.06-2.06.94zm-11 1L8.5 8.5l.94-2.06 2.06-.94-2.06-.94L8.5 2.5l-.94 2.06-2.06.94zm10 10l.94 2.06.94-2.06 2.06-.94-2.06-.94-.94-2.06-.94 2.06-2.06.94z\"/><path d=\"M17.41 7.96l-1.37-1.37c-.4-.4-.92-.59-1.43-.59-.52 0-1.04.2-1.43.59L10.3 9.45l-7.72 7.72c-.78.78-.78 2.05 0 2.83L4 21.41c.39.39.9.59 1.41.59.51 0 1.02-.2 1.41-.59l7.78-7.78 2.81-2.81c.8-.78.8-2.07 0-2.86zM5.41 20L4 18.59l7.72-7.72 1.47 1.35L5.41 20z\"/>\n",
              "  </svg>\n",
              "      </button>\n",
              "      \n",
              "  <style>\n",
              "    .colab-df-container {\n",
              "      display:flex;\n",
              "      flex-wrap:wrap;\n",
              "      gap: 12px;\n",
              "    }\n",
              "\n",
              "    .colab-df-convert {\n",
              "      background-color: #E8F0FE;\n",
              "      border: none;\n",
              "      border-radius: 50%;\n",
              "      cursor: pointer;\n",
              "      display: none;\n",
              "      fill: #1967D2;\n",
              "      height: 32px;\n",
              "      padding: 0 0 0 0;\n",
              "      width: 32px;\n",
              "    }\n",
              "\n",
              "    .colab-df-convert:hover {\n",
              "      background-color: #E2EBFA;\n",
              "      box-shadow: 0px 1px 2px rgba(60, 64, 67, 0.3), 0px 1px 3px 1px rgba(60, 64, 67, 0.15);\n",
              "      fill: #174EA6;\n",
              "    }\n",
              "\n",
              "    [theme=dark] .colab-df-convert {\n",
              "      background-color: #3B4455;\n",
              "      fill: #D2E3FC;\n",
              "    }\n",
              "\n",
              "    [theme=dark] .colab-df-convert:hover {\n",
              "      background-color: #434B5C;\n",
              "      box-shadow: 0px 1px 3px 1px rgba(0, 0, 0, 0.15);\n",
              "      filter: drop-shadow(0px 1px 2px rgba(0, 0, 0, 0.3));\n",
              "      fill: #FFFFFF;\n",
              "    }\n",
              "  </style>\n",
              "\n",
              "      <script>\n",
              "        const buttonEl =\n",
              "          document.querySelector('#df-60382a31-17ec-4d24-a57e-1f382bfac0fd button.colab-df-convert');\n",
              "        buttonEl.style.display =\n",
              "          google.colab.kernel.accessAllowed ? 'block' : 'none';\n",
              "\n",
              "        async function convertToInteractive(key) {\n",
              "          const element = document.querySelector('#df-60382a31-17ec-4d24-a57e-1f382bfac0fd');\n",
              "          const dataTable =\n",
              "            await google.colab.kernel.invokeFunction('convertToInteractive',\n",
              "                                                     [key], {});\n",
              "          if (!dataTable) return;\n",
              "\n",
              "          const docLinkHtml = 'Like what you see? Visit the ' +\n",
              "            '<a target=\"_blank\" href=https://colab.research.google.com/notebooks/data_table.ipynb>data table notebook</a>'\n",
              "            + ' to learn more about interactive tables.';\n",
              "          element.innerHTML = '';\n",
              "          dataTable['output_type'] = 'display_data';\n",
              "          await google.colab.output.renderOutput(dataTable, element);\n",
              "          const docLink = document.createElement('div');\n",
              "          docLink.innerHTML = docLinkHtml;\n",
              "          element.appendChild(docLink);\n",
              "        }\n",
              "      </script>\n",
              "    </div>\n",
              "  </div>\n",
              "  "
            ]
          },
          "metadata": {},
          "execution_count": 708
        }
      ],
      "source": [
        "df[['label','voice']].groupby(['label']).mean()"
      ]
    },
    {
      "cell_type": "code",
      "execution_count": null,
      "metadata": {
        "colab": {
          "base_uri": "https://localhost:8080/",
          "height": 143
        },
        "id": "dXfhW9Td10qc",
        "outputId": "1d2840ce-887b-4bfa-9938-234c826b636f"
      },
      "outputs": [
        {
          "output_type": "execute_result",
          "data": {
            "text/plain": [
              "       nummailmes\n",
              "label            \n",
              "0        8.604561\n",
              "1        5.115942"
            ],
            "text/html": [
              "\n",
              "  <div id=\"df-4ce6ffdc-b3d7-45a6-85f6-f8a115655b1d\">\n",
              "    <div class=\"colab-df-container\">\n",
              "      <div>\n",
              "<style scoped>\n",
              "    .dataframe tbody tr th:only-of-type {\n",
              "        vertical-align: middle;\n",
              "    }\n",
              "\n",
              "    .dataframe tbody tr th {\n",
              "        vertical-align: top;\n",
              "    }\n",
              "\n",
              "    .dataframe thead th {\n",
              "        text-align: right;\n",
              "    }\n",
              "</style>\n",
              "<table border=\"1\" class=\"dataframe\">\n",
              "  <thead>\n",
              "    <tr style=\"text-align: right;\">\n",
              "      <th></th>\n",
              "      <th>nummailmes</th>\n",
              "    </tr>\n",
              "    <tr>\n",
              "      <th>label</th>\n",
              "      <th></th>\n",
              "    </tr>\n",
              "  </thead>\n",
              "  <tbody>\n",
              "    <tr>\n",
              "      <th>0</th>\n",
              "      <td>8.604561</td>\n",
              "    </tr>\n",
              "    <tr>\n",
              "      <th>1</th>\n",
              "      <td>5.115942</td>\n",
              "    </tr>\n",
              "  </tbody>\n",
              "</table>\n",
              "</div>\n",
              "      <button class=\"colab-df-convert\" onclick=\"convertToInteractive('df-4ce6ffdc-b3d7-45a6-85f6-f8a115655b1d')\"\n",
              "              title=\"Convert this dataframe to an interactive table.\"\n",
              "              style=\"display:none;\">\n",
              "        \n",
              "  <svg xmlns=\"http://www.w3.org/2000/svg\" height=\"24px\"viewBox=\"0 0 24 24\"\n",
              "       width=\"24px\">\n",
              "    <path d=\"M0 0h24v24H0V0z\" fill=\"none\"/>\n",
              "    <path d=\"M18.56 5.44l.94 2.06.94-2.06 2.06-.94-2.06-.94-.94-2.06-.94 2.06-2.06.94zm-11 1L8.5 8.5l.94-2.06 2.06-.94-2.06-.94L8.5 2.5l-.94 2.06-2.06.94zm10 10l.94 2.06.94-2.06 2.06-.94-2.06-.94-.94-2.06-.94 2.06-2.06.94z\"/><path d=\"M17.41 7.96l-1.37-1.37c-.4-.4-.92-.59-1.43-.59-.52 0-1.04.2-1.43.59L10.3 9.45l-7.72 7.72c-.78.78-.78 2.05 0 2.83L4 21.41c.39.39.9.59 1.41.59.51 0 1.02-.2 1.41-.59l7.78-7.78 2.81-2.81c.8-.78.8-2.07 0-2.86zM5.41 20L4 18.59l7.72-7.72 1.47 1.35L5.41 20z\"/>\n",
              "  </svg>\n",
              "      </button>\n",
              "      \n",
              "  <style>\n",
              "    .colab-df-container {\n",
              "      display:flex;\n",
              "      flex-wrap:wrap;\n",
              "      gap: 12px;\n",
              "    }\n",
              "\n",
              "    .colab-df-convert {\n",
              "      background-color: #E8F0FE;\n",
              "      border: none;\n",
              "      border-radius: 50%;\n",
              "      cursor: pointer;\n",
              "      display: none;\n",
              "      fill: #1967D2;\n",
              "      height: 32px;\n",
              "      padding: 0 0 0 0;\n",
              "      width: 32px;\n",
              "    }\n",
              "\n",
              "    .colab-df-convert:hover {\n",
              "      background-color: #E2EBFA;\n",
              "      box-shadow: 0px 1px 2px rgba(60, 64, 67, 0.3), 0px 1px 3px 1px rgba(60, 64, 67, 0.15);\n",
              "      fill: #174EA6;\n",
              "    }\n",
              "\n",
              "    [theme=dark] .colab-df-convert {\n",
              "      background-color: #3B4455;\n",
              "      fill: #D2E3FC;\n",
              "    }\n",
              "\n",
              "    [theme=dark] .colab-df-convert:hover {\n",
              "      background-color: #434B5C;\n",
              "      box-shadow: 0px 1px 3px 1px rgba(0, 0, 0, 0.15);\n",
              "      filter: drop-shadow(0px 1px 2px rgba(0, 0, 0, 0.3));\n",
              "      fill: #FFFFFF;\n",
              "    }\n",
              "  </style>\n",
              "\n",
              "      <script>\n",
              "        const buttonEl =\n",
              "          document.querySelector('#df-4ce6ffdc-b3d7-45a6-85f6-f8a115655b1d button.colab-df-convert');\n",
              "        buttonEl.style.display =\n",
              "          google.colab.kernel.accessAllowed ? 'block' : 'none';\n",
              "\n",
              "        async function convertToInteractive(key) {\n",
              "          const element = document.querySelector('#df-4ce6ffdc-b3d7-45a6-85f6-f8a115655b1d');\n",
              "          const dataTable =\n",
              "            await google.colab.kernel.invokeFunction('convertToInteractive',\n",
              "                                                     [key], {});\n",
              "          if (!dataTable) return;\n",
              "\n",
              "          const docLinkHtml = 'Like what you see? Visit the ' +\n",
              "            '<a target=\"_blank\" href=https://colab.research.google.com/notebooks/data_table.ipynb>data table notebook</a>'\n",
              "            + ' to learn more about interactive tables.';\n",
              "          element.innerHTML = '';\n",
              "          dataTable['output_type'] = 'display_data';\n",
              "          await google.colab.output.renderOutput(dataTable, element);\n",
              "          const docLink = document.createElement('div');\n",
              "          docLink.innerHTML = docLinkHtml;\n",
              "          element.appendChild(docLink);\n",
              "        }\n",
              "      </script>\n",
              "    </div>\n",
              "  </div>\n",
              "  "
            ]
          },
          "metadata": {},
          "execution_count": 709
        }
      ],
      "source": [
        "df[['label','nummailmes']].groupby(['label']).mean()"
      ]
    },
    {
      "cell_type": "code",
      "execution_count": null,
      "metadata": {
        "colab": {
          "base_uri": "https://localhost:8080/",
          "height": 143
        },
        "id": "Y6QtY_jO14mz",
        "outputId": "741d9392-fa55-47f6-8ecf-d4deaca076a0"
      },
      "outputs": [
        {
          "output_type": "execute_result",
          "data": {
            "text/plain": [
              "            tdmin\n",
              "label            \n",
              "0      175.175754\n",
              "1      206.914079"
            ],
            "text/html": [
              "\n",
              "  <div id=\"df-7e03ec0c-fcc0-4c1b-936d-b3915564f63e\">\n",
              "    <div class=\"colab-df-container\">\n",
              "      <div>\n",
              "<style scoped>\n",
              "    .dataframe tbody tr th:only-of-type {\n",
              "        vertical-align: middle;\n",
              "    }\n",
              "\n",
              "    .dataframe tbody tr th {\n",
              "        vertical-align: top;\n",
              "    }\n",
              "\n",
              "    .dataframe thead th {\n",
              "        text-align: right;\n",
              "    }\n",
              "</style>\n",
              "<table border=\"1\" class=\"dataframe\">\n",
              "  <thead>\n",
              "    <tr style=\"text-align: right;\">\n",
              "      <th></th>\n",
              "      <th>tdmin</th>\n",
              "    </tr>\n",
              "    <tr>\n",
              "      <th>label</th>\n",
              "      <th></th>\n",
              "    </tr>\n",
              "  </thead>\n",
              "  <tbody>\n",
              "    <tr>\n",
              "      <th>0</th>\n",
              "      <td>175.175754</td>\n",
              "    </tr>\n",
              "    <tr>\n",
              "      <th>1</th>\n",
              "      <td>206.914079</td>\n",
              "    </tr>\n",
              "  </tbody>\n",
              "</table>\n",
              "</div>\n",
              "      <button class=\"colab-df-convert\" onclick=\"convertToInteractive('df-7e03ec0c-fcc0-4c1b-936d-b3915564f63e')\"\n",
              "              title=\"Convert this dataframe to an interactive table.\"\n",
              "              style=\"display:none;\">\n",
              "        \n",
              "  <svg xmlns=\"http://www.w3.org/2000/svg\" height=\"24px\"viewBox=\"0 0 24 24\"\n",
              "       width=\"24px\">\n",
              "    <path d=\"M0 0h24v24H0V0z\" fill=\"none\"/>\n",
              "    <path d=\"M18.56 5.44l.94 2.06.94-2.06 2.06-.94-2.06-.94-.94-2.06-.94 2.06-2.06.94zm-11 1L8.5 8.5l.94-2.06 2.06-.94-2.06-.94L8.5 2.5l-.94 2.06-2.06.94zm10 10l.94 2.06.94-2.06 2.06-.94-2.06-.94-.94-2.06-.94 2.06-2.06.94z\"/><path d=\"M17.41 7.96l-1.37-1.37c-.4-.4-.92-.59-1.43-.59-.52 0-1.04.2-1.43.59L10.3 9.45l-7.72 7.72c-.78.78-.78 2.05 0 2.83L4 21.41c.39.39.9.59 1.41.59.51 0 1.02-.2 1.41-.59l7.78-7.78 2.81-2.81c.8-.78.8-2.07 0-2.86zM5.41 20L4 18.59l7.72-7.72 1.47 1.35L5.41 20z\"/>\n",
              "  </svg>\n",
              "      </button>\n",
              "      \n",
              "  <style>\n",
              "    .colab-df-container {\n",
              "      display:flex;\n",
              "      flex-wrap:wrap;\n",
              "      gap: 12px;\n",
              "    }\n",
              "\n",
              "    .colab-df-convert {\n",
              "      background-color: #E8F0FE;\n",
              "      border: none;\n",
              "      border-radius: 50%;\n",
              "      cursor: pointer;\n",
              "      display: none;\n",
              "      fill: #1967D2;\n",
              "      height: 32px;\n",
              "      padding: 0 0 0 0;\n",
              "      width: 32px;\n",
              "    }\n",
              "\n",
              "    .colab-df-convert:hover {\n",
              "      background-color: #E2EBFA;\n",
              "      box-shadow: 0px 1px 2px rgba(60, 64, 67, 0.3), 0px 1px 3px 1px rgba(60, 64, 67, 0.15);\n",
              "      fill: #174EA6;\n",
              "    }\n",
              "\n",
              "    [theme=dark] .colab-df-convert {\n",
              "      background-color: #3B4455;\n",
              "      fill: #D2E3FC;\n",
              "    }\n",
              "\n",
              "    [theme=dark] .colab-df-convert:hover {\n",
              "      background-color: #434B5C;\n",
              "      box-shadow: 0px 1px 3px 1px rgba(0, 0, 0, 0.15);\n",
              "      filter: drop-shadow(0px 1px 2px rgba(0, 0, 0, 0.3));\n",
              "      fill: #FFFFFF;\n",
              "    }\n",
              "  </style>\n",
              "\n",
              "      <script>\n",
              "        const buttonEl =\n",
              "          document.querySelector('#df-7e03ec0c-fcc0-4c1b-936d-b3915564f63e button.colab-df-convert');\n",
              "        buttonEl.style.display =\n",
              "          google.colab.kernel.accessAllowed ? 'block' : 'none';\n",
              "\n",
              "        async function convertToInteractive(key) {\n",
              "          const element = document.querySelector('#df-7e03ec0c-fcc0-4c1b-936d-b3915564f63e');\n",
              "          const dataTable =\n",
              "            await google.colab.kernel.invokeFunction('convertToInteractive',\n",
              "                                                     [key], {});\n",
              "          if (!dataTable) return;\n",
              "\n",
              "          const docLinkHtml = 'Like what you see? Visit the ' +\n",
              "            '<a target=\"_blank\" href=https://colab.research.google.com/notebooks/data_table.ipynb>data table notebook</a>'\n",
              "            + ' to learn more about interactive tables.';\n",
              "          element.innerHTML = '';\n",
              "          dataTable['output_type'] = 'display_data';\n",
              "          await google.colab.output.renderOutput(dataTable, element);\n",
              "          const docLink = document.createElement('div');\n",
              "          docLink.innerHTML = docLinkHtml;\n",
              "          element.appendChild(docLink);\n",
              "        }\n",
              "      </script>\n",
              "    </div>\n",
              "  </div>\n",
              "  "
            ]
          },
          "metadata": {},
          "execution_count": 710
        }
      ],
      "source": [
        "df[['label','tdmin']].groupby(['label']).mean()"
      ]
    },
    {
      "cell_type": "code",
      "execution_count": null,
      "metadata": {
        "colab": {
          "base_uri": "https://localhost:8080/",
          "height": 143
        },
        "id": "dPjJ-cb_175R",
        "outputId": "aa59ea86-98e4-4a07-fb25-e0c393f64067"
      },
      "outputs": [
        {
          "output_type": "execute_result",
          "data": {
            "text/plain": [
              "            tdcal\n",
              "label            \n",
              "0      100.283158\n",
              "1      101.335404"
            ],
            "text/html": [
              "\n",
              "  <div id=\"df-563174ed-2601-490f-932d-f558758d1488\">\n",
              "    <div class=\"colab-df-container\">\n",
              "      <div>\n",
              "<style scoped>\n",
              "    .dataframe tbody tr th:only-of-type {\n",
              "        vertical-align: middle;\n",
              "    }\n",
              "\n",
              "    .dataframe tbody tr th {\n",
              "        vertical-align: top;\n",
              "    }\n",
              "\n",
              "    .dataframe thead th {\n",
              "        text-align: right;\n",
              "    }\n",
              "</style>\n",
              "<table border=\"1\" class=\"dataframe\">\n",
              "  <thead>\n",
              "    <tr style=\"text-align: right;\">\n",
              "      <th></th>\n",
              "      <th>tdcal</th>\n",
              "    </tr>\n",
              "    <tr>\n",
              "      <th>label</th>\n",
              "      <th></th>\n",
              "    </tr>\n",
              "  </thead>\n",
              "  <tbody>\n",
              "    <tr>\n",
              "      <th>0</th>\n",
              "      <td>100.283158</td>\n",
              "    </tr>\n",
              "    <tr>\n",
              "      <th>1</th>\n",
              "      <td>101.335404</td>\n",
              "    </tr>\n",
              "  </tbody>\n",
              "</table>\n",
              "</div>\n",
              "      <button class=\"colab-df-convert\" onclick=\"convertToInteractive('df-563174ed-2601-490f-932d-f558758d1488')\"\n",
              "              title=\"Convert this dataframe to an interactive table.\"\n",
              "              style=\"display:none;\">\n",
              "        \n",
              "  <svg xmlns=\"http://www.w3.org/2000/svg\" height=\"24px\"viewBox=\"0 0 24 24\"\n",
              "       width=\"24px\">\n",
              "    <path d=\"M0 0h24v24H0V0z\" fill=\"none\"/>\n",
              "    <path d=\"M18.56 5.44l.94 2.06.94-2.06 2.06-.94-2.06-.94-.94-2.06-.94 2.06-2.06.94zm-11 1L8.5 8.5l.94-2.06 2.06-.94-2.06-.94L8.5 2.5l-.94 2.06-2.06.94zm10 10l.94 2.06.94-2.06 2.06-.94-2.06-.94-.94-2.06-.94 2.06-2.06.94z\"/><path d=\"M17.41 7.96l-1.37-1.37c-.4-.4-.92-.59-1.43-.59-.52 0-1.04.2-1.43.59L10.3 9.45l-7.72 7.72c-.78.78-.78 2.05 0 2.83L4 21.41c.39.39.9.59 1.41.59.51 0 1.02-.2 1.41-.59l7.78-7.78 2.81-2.81c.8-.78.8-2.07 0-2.86zM5.41 20L4 18.59l7.72-7.72 1.47 1.35L5.41 20z\"/>\n",
              "  </svg>\n",
              "      </button>\n",
              "      \n",
              "  <style>\n",
              "    .colab-df-container {\n",
              "      display:flex;\n",
              "      flex-wrap:wrap;\n",
              "      gap: 12px;\n",
              "    }\n",
              "\n",
              "    .colab-df-convert {\n",
              "      background-color: #E8F0FE;\n",
              "      border: none;\n",
              "      border-radius: 50%;\n",
              "      cursor: pointer;\n",
              "      display: none;\n",
              "      fill: #1967D2;\n",
              "      height: 32px;\n",
              "      padding: 0 0 0 0;\n",
              "      width: 32px;\n",
              "    }\n",
              "\n",
              "    .colab-df-convert:hover {\n",
              "      background-color: #E2EBFA;\n",
              "      box-shadow: 0px 1px 2px rgba(60, 64, 67, 0.3), 0px 1px 3px 1px rgba(60, 64, 67, 0.15);\n",
              "      fill: #174EA6;\n",
              "    }\n",
              "\n",
              "    [theme=dark] .colab-df-convert {\n",
              "      background-color: #3B4455;\n",
              "      fill: #D2E3FC;\n",
              "    }\n",
              "\n",
              "    [theme=dark] .colab-df-convert:hover {\n",
              "      background-color: #434B5C;\n",
              "      box-shadow: 0px 1px 3px 1px rgba(0, 0, 0, 0.15);\n",
              "      filter: drop-shadow(0px 1px 2px rgba(0, 0, 0, 0.3));\n",
              "      fill: #FFFFFF;\n",
              "    }\n",
              "  </style>\n",
              "\n",
              "      <script>\n",
              "        const buttonEl =\n",
              "          document.querySelector('#df-563174ed-2601-490f-932d-f558758d1488 button.colab-df-convert');\n",
              "        buttonEl.style.display =\n",
              "          google.colab.kernel.accessAllowed ? 'block' : 'none';\n",
              "\n",
              "        async function convertToInteractive(key) {\n",
              "          const element = document.querySelector('#df-563174ed-2601-490f-932d-f558758d1488');\n",
              "          const dataTable =\n",
              "            await google.colab.kernel.invokeFunction('convertToInteractive',\n",
              "                                                     [key], {});\n",
              "          if (!dataTable) return;\n",
              "\n",
              "          const docLinkHtml = 'Like what you see? Visit the ' +\n",
              "            '<a target=\"_blank\" href=https://colab.research.google.com/notebooks/data_table.ipynb>data table notebook</a>'\n",
              "            + ' to learn more about interactive tables.';\n",
              "          element.innerHTML = '';\n",
              "          dataTable['output_type'] = 'display_data';\n",
              "          await google.colab.output.renderOutput(dataTable, element);\n",
              "          const docLink = document.createElement('div');\n",
              "          docLink.innerHTML = docLinkHtml;\n",
              "          element.appendChild(docLink);\n",
              "        }\n",
              "      </script>\n",
              "    </div>\n",
              "  </div>\n",
              "  "
            ]
          },
          "metadata": {},
          "execution_count": 711
        }
      ],
      "source": [
        "df[['label','tdcal']].groupby(['label']).mean()"
      ]
    },
    {
      "cell_type": "code",
      "execution_count": null,
      "metadata": {
        "colab": {
          "base_uri": "https://localhost:8080/",
          "height": 143
        },
        "id": "qG07eArxZsFb",
        "outputId": "98604852-8b37-428c-d492-8ebacfd44c13"
      },
      "outputs": [
        {
          "output_type": "execute_result",
          "data": {
            "text/plain": [
              "          tdchar\n",
              "label           \n",
              "0      29.780421\n",
              "1      35.175921"
            ],
            "text/html": [
              "\n",
              "  <div id=\"df-44972af0-636b-4bb9-8a89-39d379e829a1\">\n",
              "    <div class=\"colab-df-container\">\n",
              "      <div>\n",
              "<style scoped>\n",
              "    .dataframe tbody tr th:only-of-type {\n",
              "        vertical-align: middle;\n",
              "    }\n",
              "\n",
              "    .dataframe tbody tr th {\n",
              "        vertical-align: top;\n",
              "    }\n",
              "\n",
              "    .dataframe thead th {\n",
              "        text-align: right;\n",
              "    }\n",
              "</style>\n",
              "<table border=\"1\" class=\"dataframe\">\n",
              "  <thead>\n",
              "    <tr style=\"text-align: right;\">\n",
              "      <th></th>\n",
              "      <th>tdchar</th>\n",
              "    </tr>\n",
              "    <tr>\n",
              "      <th>label</th>\n",
              "      <th></th>\n",
              "    </tr>\n",
              "  </thead>\n",
              "  <tbody>\n",
              "    <tr>\n",
              "      <th>0</th>\n",
              "      <td>29.780421</td>\n",
              "    </tr>\n",
              "    <tr>\n",
              "      <th>1</th>\n",
              "      <td>35.175921</td>\n",
              "    </tr>\n",
              "  </tbody>\n",
              "</table>\n",
              "</div>\n",
              "      <button class=\"colab-df-convert\" onclick=\"convertToInteractive('df-44972af0-636b-4bb9-8a89-39d379e829a1')\"\n",
              "              title=\"Convert this dataframe to an interactive table.\"\n",
              "              style=\"display:none;\">\n",
              "        \n",
              "  <svg xmlns=\"http://www.w3.org/2000/svg\" height=\"24px\"viewBox=\"0 0 24 24\"\n",
              "       width=\"24px\">\n",
              "    <path d=\"M0 0h24v24H0V0z\" fill=\"none\"/>\n",
              "    <path d=\"M18.56 5.44l.94 2.06.94-2.06 2.06-.94-2.06-.94-.94-2.06-.94 2.06-2.06.94zm-11 1L8.5 8.5l.94-2.06 2.06-.94-2.06-.94L8.5 2.5l-.94 2.06-2.06.94zm10 10l.94 2.06.94-2.06 2.06-.94-2.06-.94-.94-2.06-.94 2.06-2.06.94z\"/><path d=\"M17.41 7.96l-1.37-1.37c-.4-.4-.92-.59-1.43-.59-.52 0-1.04.2-1.43.59L10.3 9.45l-7.72 7.72c-.78.78-.78 2.05 0 2.83L4 21.41c.39.39.9.59 1.41.59.51 0 1.02-.2 1.41-.59l7.78-7.78 2.81-2.81c.8-.78.8-2.07 0-2.86zM5.41 20L4 18.59l7.72-7.72 1.47 1.35L5.41 20z\"/>\n",
              "  </svg>\n",
              "      </button>\n",
              "      \n",
              "  <style>\n",
              "    .colab-df-container {\n",
              "      display:flex;\n",
              "      flex-wrap:wrap;\n",
              "      gap: 12px;\n",
              "    }\n",
              "\n",
              "    .colab-df-convert {\n",
              "      background-color: #E8F0FE;\n",
              "      border: none;\n",
              "      border-radius: 50%;\n",
              "      cursor: pointer;\n",
              "      display: none;\n",
              "      fill: #1967D2;\n",
              "      height: 32px;\n",
              "      padding: 0 0 0 0;\n",
              "      width: 32px;\n",
              "    }\n",
              "\n",
              "    .colab-df-convert:hover {\n",
              "      background-color: #E2EBFA;\n",
              "      box-shadow: 0px 1px 2px rgba(60, 64, 67, 0.3), 0px 1px 3px 1px rgba(60, 64, 67, 0.15);\n",
              "      fill: #174EA6;\n",
              "    }\n",
              "\n",
              "    [theme=dark] .colab-df-convert {\n",
              "      background-color: #3B4455;\n",
              "      fill: #D2E3FC;\n",
              "    }\n",
              "\n",
              "    [theme=dark] .colab-df-convert:hover {\n",
              "      background-color: #434B5C;\n",
              "      box-shadow: 0px 1px 3px 1px rgba(0, 0, 0, 0.15);\n",
              "      filter: drop-shadow(0px 1px 2px rgba(0, 0, 0, 0.3));\n",
              "      fill: #FFFFFF;\n",
              "    }\n",
              "  </style>\n",
              "\n",
              "      <script>\n",
              "        const buttonEl =\n",
              "          document.querySelector('#df-44972af0-636b-4bb9-8a89-39d379e829a1 button.colab-df-convert');\n",
              "        buttonEl.style.display =\n",
              "          google.colab.kernel.accessAllowed ? 'block' : 'none';\n",
              "\n",
              "        async function convertToInteractive(key) {\n",
              "          const element = document.querySelector('#df-44972af0-636b-4bb9-8a89-39d379e829a1');\n",
              "          const dataTable =\n",
              "            await google.colab.kernel.invokeFunction('convertToInteractive',\n",
              "                                                     [key], {});\n",
              "          if (!dataTable) return;\n",
              "\n",
              "          const docLinkHtml = 'Like what you see? Visit the ' +\n",
              "            '<a target=\"_blank\" href=https://colab.research.google.com/notebooks/data_table.ipynb>data table notebook</a>'\n",
              "            + ' to learn more about interactive tables.';\n",
              "          element.innerHTML = '';\n",
              "          dataTable['output_type'] = 'display_data';\n",
              "          await google.colab.output.renderOutput(dataTable, element);\n",
              "          const docLink = document.createElement('div');\n",
              "          docLink.innerHTML = docLinkHtml;\n",
              "          element.appendChild(docLink);\n",
              "        }\n",
              "      </script>\n",
              "    </div>\n",
              "  </div>\n",
              "  "
            ]
          },
          "metadata": {},
          "execution_count": 712
        }
      ],
      "source": [
        "df[['label','tdchar']].groupby(['label']).mean()"
      ]
    },
    {
      "cell_type": "code",
      "execution_count": null,
      "metadata": {
        "colab": {
          "base_uri": "https://localhost:8080/",
          "height": 143
        },
        "id": "EXyDgnPH2Fp5",
        "outputId": "09b045d4-65dc-4227-eaaf-27d885078fad"
      },
      "outputs": [
        {
          "output_type": "execute_result",
          "data": {
            "text/plain": [
              "            temin\n",
              "label            \n",
              "0      199.043298\n",
              "1      212.410145"
            ],
            "text/html": [
              "\n",
              "  <div id=\"df-413c5bed-3475-4e55-98c2-1194a05510b1\">\n",
              "    <div class=\"colab-df-container\">\n",
              "      <div>\n",
              "<style scoped>\n",
              "    .dataframe tbody tr th:only-of-type {\n",
              "        vertical-align: middle;\n",
              "    }\n",
              "\n",
              "    .dataframe tbody tr th {\n",
              "        vertical-align: top;\n",
              "    }\n",
              "\n",
              "    .dataframe thead th {\n",
              "        text-align: right;\n",
              "    }\n",
              "</style>\n",
              "<table border=\"1\" class=\"dataframe\">\n",
              "  <thead>\n",
              "    <tr style=\"text-align: right;\">\n",
              "      <th></th>\n",
              "      <th>temin</th>\n",
              "    </tr>\n",
              "    <tr>\n",
              "      <th>label</th>\n",
              "      <th></th>\n",
              "    </tr>\n",
              "  </thead>\n",
              "  <tbody>\n",
              "    <tr>\n",
              "      <th>0</th>\n",
              "      <td>199.043298</td>\n",
              "    </tr>\n",
              "    <tr>\n",
              "      <th>1</th>\n",
              "      <td>212.410145</td>\n",
              "    </tr>\n",
              "  </tbody>\n",
              "</table>\n",
              "</div>\n",
              "      <button class=\"colab-df-convert\" onclick=\"convertToInteractive('df-413c5bed-3475-4e55-98c2-1194a05510b1')\"\n",
              "              title=\"Convert this dataframe to an interactive table.\"\n",
              "              style=\"display:none;\">\n",
              "        \n",
              "  <svg xmlns=\"http://www.w3.org/2000/svg\" height=\"24px\"viewBox=\"0 0 24 24\"\n",
              "       width=\"24px\">\n",
              "    <path d=\"M0 0h24v24H0V0z\" fill=\"none\"/>\n",
              "    <path d=\"M18.56 5.44l.94 2.06.94-2.06 2.06-.94-2.06-.94-.94-2.06-.94 2.06-2.06.94zm-11 1L8.5 8.5l.94-2.06 2.06-.94-2.06-.94L8.5 2.5l-.94 2.06-2.06.94zm10 10l.94 2.06.94-2.06 2.06-.94-2.06-.94-.94-2.06-.94 2.06-2.06.94z\"/><path d=\"M17.41 7.96l-1.37-1.37c-.4-.4-.92-.59-1.43-.59-.52 0-1.04.2-1.43.59L10.3 9.45l-7.72 7.72c-.78.78-.78 2.05 0 2.83L4 21.41c.39.39.9.59 1.41.59.51 0 1.02-.2 1.41-.59l7.78-7.78 2.81-2.81c.8-.78.8-2.07 0-2.86zM5.41 20L4 18.59l7.72-7.72 1.47 1.35L5.41 20z\"/>\n",
              "  </svg>\n",
              "      </button>\n",
              "      \n",
              "  <style>\n",
              "    .colab-df-container {\n",
              "      display:flex;\n",
              "      flex-wrap:wrap;\n",
              "      gap: 12px;\n",
              "    }\n",
              "\n",
              "    .colab-df-convert {\n",
              "      background-color: #E8F0FE;\n",
              "      border: none;\n",
              "      border-radius: 50%;\n",
              "      cursor: pointer;\n",
              "      display: none;\n",
              "      fill: #1967D2;\n",
              "      height: 32px;\n",
              "      padding: 0 0 0 0;\n",
              "      width: 32px;\n",
              "    }\n",
              "\n",
              "    .colab-df-convert:hover {\n",
              "      background-color: #E2EBFA;\n",
              "      box-shadow: 0px 1px 2px rgba(60, 64, 67, 0.3), 0px 1px 3px 1px rgba(60, 64, 67, 0.15);\n",
              "      fill: #174EA6;\n",
              "    }\n",
              "\n",
              "    [theme=dark] .colab-df-convert {\n",
              "      background-color: #3B4455;\n",
              "      fill: #D2E3FC;\n",
              "    }\n",
              "\n",
              "    [theme=dark] .colab-df-convert:hover {\n",
              "      background-color: #434B5C;\n",
              "      box-shadow: 0px 1px 3px 1px rgba(0, 0, 0, 0.15);\n",
              "      filter: drop-shadow(0px 1px 2px rgba(0, 0, 0, 0.3));\n",
              "      fill: #FFFFFF;\n",
              "    }\n",
              "  </style>\n",
              "\n",
              "      <script>\n",
              "        const buttonEl =\n",
              "          document.querySelector('#df-413c5bed-3475-4e55-98c2-1194a05510b1 button.colab-df-convert');\n",
              "        buttonEl.style.display =\n",
              "          google.colab.kernel.accessAllowed ? 'block' : 'none';\n",
              "\n",
              "        async function convertToInteractive(key) {\n",
              "          const element = document.querySelector('#df-413c5bed-3475-4e55-98c2-1194a05510b1');\n",
              "          const dataTable =\n",
              "            await google.colab.kernel.invokeFunction('convertToInteractive',\n",
              "                                                     [key], {});\n",
              "          if (!dataTable) return;\n",
              "\n",
              "          const docLinkHtml = 'Like what you see? Visit the ' +\n",
              "            '<a target=\"_blank\" href=https://colab.research.google.com/notebooks/data_table.ipynb>data table notebook</a>'\n",
              "            + ' to learn more about interactive tables.';\n",
              "          element.innerHTML = '';\n",
              "          dataTable['output_type'] = 'display_data';\n",
              "          await google.colab.output.renderOutput(dataTable, element);\n",
              "          const docLink = document.createElement('div');\n",
              "          docLink.innerHTML = docLinkHtml;\n",
              "          element.appendChild(docLink);\n",
              "        }\n",
              "      </script>\n",
              "    </div>\n",
              "  </div>\n",
              "  "
            ]
          },
          "metadata": {},
          "execution_count": 713
        }
      ],
      "source": [
        "df[['label','temin']].groupby(['label']).mean()"
      ]
    },
    {
      "cell_type": "code",
      "execution_count": null,
      "metadata": {
        "colab": {
          "base_uri": "https://localhost:8080/",
          "height": 143
        },
        "id": "tz4Pbfq22Iyq",
        "outputId": "691a9a86-ef42-4d46-8699-4224676eb16a"
      },
      "outputs": [
        {
          "output_type": "execute_result",
          "data": {
            "text/plain": [
              "            tecal\n",
              "label            \n",
              "0      100.038596\n",
              "1      100.561077"
            ],
            "text/html": [
              "\n",
              "  <div id=\"df-b9b13e89-e29d-4d73-847b-e6966e455117\">\n",
              "    <div class=\"colab-df-container\">\n",
              "      <div>\n",
              "<style scoped>\n",
              "    .dataframe tbody tr th:only-of-type {\n",
              "        vertical-align: middle;\n",
              "    }\n",
              "\n",
              "    .dataframe tbody tr th {\n",
              "        vertical-align: top;\n",
              "    }\n",
              "\n",
              "    .dataframe thead th {\n",
              "        text-align: right;\n",
              "    }\n",
              "</style>\n",
              "<table border=\"1\" class=\"dataframe\">\n",
              "  <thead>\n",
              "    <tr style=\"text-align: right;\">\n",
              "      <th></th>\n",
              "      <th>tecal</th>\n",
              "    </tr>\n",
              "    <tr>\n",
              "      <th>label</th>\n",
              "      <th></th>\n",
              "    </tr>\n",
              "  </thead>\n",
              "  <tbody>\n",
              "    <tr>\n",
              "      <th>0</th>\n",
              "      <td>100.038596</td>\n",
              "    </tr>\n",
              "    <tr>\n",
              "      <th>1</th>\n",
              "      <td>100.561077</td>\n",
              "    </tr>\n",
              "  </tbody>\n",
              "</table>\n",
              "</div>\n",
              "      <button class=\"colab-df-convert\" onclick=\"convertToInteractive('df-b9b13e89-e29d-4d73-847b-e6966e455117')\"\n",
              "              title=\"Convert this dataframe to an interactive table.\"\n",
              "              style=\"display:none;\">\n",
              "        \n",
              "  <svg xmlns=\"http://www.w3.org/2000/svg\" height=\"24px\"viewBox=\"0 0 24 24\"\n",
              "       width=\"24px\">\n",
              "    <path d=\"M0 0h24v24H0V0z\" fill=\"none\"/>\n",
              "    <path d=\"M18.56 5.44l.94 2.06.94-2.06 2.06-.94-2.06-.94-.94-2.06-.94 2.06-2.06.94zm-11 1L8.5 8.5l.94-2.06 2.06-.94-2.06-.94L8.5 2.5l-.94 2.06-2.06.94zm10 10l.94 2.06.94-2.06 2.06-.94-2.06-.94-.94-2.06-.94 2.06-2.06.94z\"/><path d=\"M17.41 7.96l-1.37-1.37c-.4-.4-.92-.59-1.43-.59-.52 0-1.04.2-1.43.59L10.3 9.45l-7.72 7.72c-.78.78-.78 2.05 0 2.83L4 21.41c.39.39.9.59 1.41.59.51 0 1.02-.2 1.41-.59l7.78-7.78 2.81-2.81c.8-.78.8-2.07 0-2.86zM5.41 20L4 18.59l7.72-7.72 1.47 1.35L5.41 20z\"/>\n",
              "  </svg>\n",
              "      </button>\n",
              "      \n",
              "  <style>\n",
              "    .colab-df-container {\n",
              "      display:flex;\n",
              "      flex-wrap:wrap;\n",
              "      gap: 12px;\n",
              "    }\n",
              "\n",
              "    .colab-df-convert {\n",
              "      background-color: #E8F0FE;\n",
              "      border: none;\n",
              "      border-radius: 50%;\n",
              "      cursor: pointer;\n",
              "      display: none;\n",
              "      fill: #1967D2;\n",
              "      height: 32px;\n",
              "      padding: 0 0 0 0;\n",
              "      width: 32px;\n",
              "    }\n",
              "\n",
              "    .colab-df-convert:hover {\n",
              "      background-color: #E2EBFA;\n",
              "      box-shadow: 0px 1px 2px rgba(60, 64, 67, 0.3), 0px 1px 3px 1px rgba(60, 64, 67, 0.15);\n",
              "      fill: #174EA6;\n",
              "    }\n",
              "\n",
              "    [theme=dark] .colab-df-convert {\n",
              "      background-color: #3B4455;\n",
              "      fill: #D2E3FC;\n",
              "    }\n",
              "\n",
              "    [theme=dark] .colab-df-convert:hover {\n",
              "      background-color: #434B5C;\n",
              "      box-shadow: 0px 1px 3px 1px rgba(0, 0, 0, 0.15);\n",
              "      filter: drop-shadow(0px 1px 2px rgba(0, 0, 0, 0.3));\n",
              "      fill: #FFFFFF;\n",
              "    }\n",
              "  </style>\n",
              "\n",
              "      <script>\n",
              "        const buttonEl =\n",
              "          document.querySelector('#df-b9b13e89-e29d-4d73-847b-e6966e455117 button.colab-df-convert');\n",
              "        buttonEl.style.display =\n",
              "          google.colab.kernel.accessAllowed ? 'block' : 'none';\n",
              "\n",
              "        async function convertToInteractive(key) {\n",
              "          const element = document.querySelector('#df-b9b13e89-e29d-4d73-847b-e6966e455117');\n",
              "          const dataTable =\n",
              "            await google.colab.kernel.invokeFunction('convertToInteractive',\n",
              "                                                     [key], {});\n",
              "          if (!dataTable) return;\n",
              "\n",
              "          const docLinkHtml = 'Like what you see? Visit the ' +\n",
              "            '<a target=\"_blank\" href=https://colab.research.google.com/notebooks/data_table.ipynb>data table notebook</a>'\n",
              "            + ' to learn more about interactive tables.';\n",
              "          element.innerHTML = '';\n",
              "          dataTable['output_type'] = 'display_data';\n",
              "          await google.colab.output.renderOutput(dataTable, element);\n",
              "          const docLink = document.createElement('div');\n",
              "          docLink.innerHTML = docLinkHtml;\n",
              "          element.appendChild(docLink);\n",
              "        }\n",
              "      </script>\n",
              "    </div>\n",
              "  </div>\n",
              "  "
            ]
          },
          "metadata": {},
          "execution_count": 714
        }
      ],
      "source": [
        "df[['label','tecal']].groupby(['label']).mean()"
      ]
    },
    {
      "cell_type": "code",
      "execution_count": null,
      "metadata": {
        "colab": {
          "base_uri": "https://localhost:8080/",
          "height": 143
        },
        "id": "t7_qKcvG2LO5",
        "outputId": "33752032-4106-4b35-a87f-502bb33e91b9"
      },
      "outputs": [
        {
          "output_type": "execute_result",
          "data": {
            "text/plain": [
              "          tecahr\n",
              "label           \n",
              "0      16.918909\n",
              "1      18.054969"
            ],
            "text/html": [
              "\n",
              "  <div id=\"df-90478fe9-03a6-4f5f-ae34-4229f0894caf\">\n",
              "    <div class=\"colab-df-container\">\n",
              "      <div>\n",
              "<style scoped>\n",
              "    .dataframe tbody tr th:only-of-type {\n",
              "        vertical-align: middle;\n",
              "    }\n",
              "\n",
              "    .dataframe tbody tr th {\n",
              "        vertical-align: top;\n",
              "    }\n",
              "\n",
              "    .dataframe thead th {\n",
              "        text-align: right;\n",
              "    }\n",
              "</style>\n",
              "<table border=\"1\" class=\"dataframe\">\n",
              "  <thead>\n",
              "    <tr style=\"text-align: right;\">\n",
              "      <th></th>\n",
              "      <th>tecahr</th>\n",
              "    </tr>\n",
              "    <tr>\n",
              "      <th>label</th>\n",
              "      <th></th>\n",
              "    </tr>\n",
              "  </thead>\n",
              "  <tbody>\n",
              "    <tr>\n",
              "      <th>0</th>\n",
              "      <td>16.918909</td>\n",
              "    </tr>\n",
              "    <tr>\n",
              "      <th>1</th>\n",
              "      <td>18.054969</td>\n",
              "    </tr>\n",
              "  </tbody>\n",
              "</table>\n",
              "</div>\n",
              "      <button class=\"colab-df-convert\" onclick=\"convertToInteractive('df-90478fe9-03a6-4f5f-ae34-4229f0894caf')\"\n",
              "              title=\"Convert this dataframe to an interactive table.\"\n",
              "              style=\"display:none;\">\n",
              "        \n",
              "  <svg xmlns=\"http://www.w3.org/2000/svg\" height=\"24px\"viewBox=\"0 0 24 24\"\n",
              "       width=\"24px\">\n",
              "    <path d=\"M0 0h24v24H0V0z\" fill=\"none\"/>\n",
              "    <path d=\"M18.56 5.44l.94 2.06.94-2.06 2.06-.94-2.06-.94-.94-2.06-.94 2.06-2.06.94zm-11 1L8.5 8.5l.94-2.06 2.06-.94-2.06-.94L8.5 2.5l-.94 2.06-2.06.94zm10 10l.94 2.06.94-2.06 2.06-.94-2.06-.94-.94-2.06-.94 2.06-2.06.94z\"/><path d=\"M17.41 7.96l-1.37-1.37c-.4-.4-.92-.59-1.43-.59-.52 0-1.04.2-1.43.59L10.3 9.45l-7.72 7.72c-.78.78-.78 2.05 0 2.83L4 21.41c.39.39.9.59 1.41.59.51 0 1.02-.2 1.41-.59l7.78-7.78 2.81-2.81c.8-.78.8-2.07 0-2.86zM5.41 20L4 18.59l7.72-7.72 1.47 1.35L5.41 20z\"/>\n",
              "  </svg>\n",
              "      </button>\n",
              "      \n",
              "  <style>\n",
              "    .colab-df-container {\n",
              "      display:flex;\n",
              "      flex-wrap:wrap;\n",
              "      gap: 12px;\n",
              "    }\n",
              "\n",
              "    .colab-df-convert {\n",
              "      background-color: #E8F0FE;\n",
              "      border: none;\n",
              "      border-radius: 50%;\n",
              "      cursor: pointer;\n",
              "      display: none;\n",
              "      fill: #1967D2;\n",
              "      height: 32px;\n",
              "      padding: 0 0 0 0;\n",
              "      width: 32px;\n",
              "    }\n",
              "\n",
              "    .colab-df-convert:hover {\n",
              "      background-color: #E2EBFA;\n",
              "      box-shadow: 0px 1px 2px rgba(60, 64, 67, 0.3), 0px 1px 3px 1px rgba(60, 64, 67, 0.15);\n",
              "      fill: #174EA6;\n",
              "    }\n",
              "\n",
              "    [theme=dark] .colab-df-convert {\n",
              "      background-color: #3B4455;\n",
              "      fill: #D2E3FC;\n",
              "    }\n",
              "\n",
              "    [theme=dark] .colab-df-convert:hover {\n",
              "      background-color: #434B5C;\n",
              "      box-shadow: 0px 1px 3px 1px rgba(0, 0, 0, 0.15);\n",
              "      filter: drop-shadow(0px 1px 2px rgba(0, 0, 0, 0.3));\n",
              "      fill: #FFFFFF;\n",
              "    }\n",
              "  </style>\n",
              "\n",
              "      <script>\n",
              "        const buttonEl =\n",
              "          document.querySelector('#df-90478fe9-03a6-4f5f-ae34-4229f0894caf button.colab-df-convert');\n",
              "        buttonEl.style.display =\n",
              "          google.colab.kernel.accessAllowed ? 'block' : 'none';\n",
              "\n",
              "        async function convertToInteractive(key) {\n",
              "          const element = document.querySelector('#df-90478fe9-03a6-4f5f-ae34-4229f0894caf');\n",
              "          const dataTable =\n",
              "            await google.colab.kernel.invokeFunction('convertToInteractive',\n",
              "                                                     [key], {});\n",
              "          if (!dataTable) return;\n",
              "\n",
              "          const docLinkHtml = 'Like what you see? Visit the ' +\n",
              "            '<a target=\"_blank\" href=https://colab.research.google.com/notebooks/data_table.ipynb>data table notebook</a>'\n",
              "            + ' to learn more about interactive tables.';\n",
              "          element.innerHTML = '';\n",
              "          dataTable['output_type'] = 'display_data';\n",
              "          await google.colab.output.renderOutput(dataTable, element);\n",
              "          const docLink = document.createElement('div');\n",
              "          docLink.innerHTML = docLinkHtml;\n",
              "          element.appendChild(docLink);\n",
              "        }\n",
              "      </script>\n",
              "    </div>\n",
              "  </div>\n",
              "  "
            ]
          },
          "metadata": {},
          "execution_count": 715
        }
      ],
      "source": [
        "df[['label','tecahr']].groupby(['label']).mean()"
      ]
    },
    {
      "cell_type": "code",
      "execution_count": null,
      "metadata": {
        "colab": {
          "base_uri": "https://localhost:8080/",
          "height": 143
        },
        "id": "og8dCbGj2OD7",
        "outputId": "22dab5a9-dbc7-414c-cd8c-b1ea556c9f1a"
      },
      "outputs": [
        {
          "output_type": "execute_result",
          "data": {
            "text/plain": [
              "            tnmin\n",
              "label            \n",
              "0      200.133193\n",
              "1      205.231677"
            ],
            "text/html": [
              "\n",
              "  <div id=\"df-2f1406c0-6112-43d4-a0c7-0b98f98f581c\">\n",
              "    <div class=\"colab-df-container\">\n",
              "      <div>\n",
              "<style scoped>\n",
              "    .dataframe tbody tr th:only-of-type {\n",
              "        vertical-align: middle;\n",
              "    }\n",
              "\n",
              "    .dataframe tbody tr th {\n",
              "        vertical-align: top;\n",
              "    }\n",
              "\n",
              "    .dataframe thead th {\n",
              "        text-align: right;\n",
              "    }\n",
              "</style>\n",
              "<table border=\"1\" class=\"dataframe\">\n",
              "  <thead>\n",
              "    <tr style=\"text-align: right;\">\n",
              "      <th></th>\n",
              "      <th>tnmin</th>\n",
              "    </tr>\n",
              "    <tr>\n",
              "      <th>label</th>\n",
              "      <th></th>\n",
              "    </tr>\n",
              "  </thead>\n",
              "  <tbody>\n",
              "    <tr>\n",
              "      <th>0</th>\n",
              "      <td>200.133193</td>\n",
              "    </tr>\n",
              "    <tr>\n",
              "      <th>1</th>\n",
              "      <td>205.231677</td>\n",
              "    </tr>\n",
              "  </tbody>\n",
              "</table>\n",
              "</div>\n",
              "      <button class=\"colab-df-convert\" onclick=\"convertToInteractive('df-2f1406c0-6112-43d4-a0c7-0b98f98f581c')\"\n",
              "              title=\"Convert this dataframe to an interactive table.\"\n",
              "              style=\"display:none;\">\n",
              "        \n",
              "  <svg xmlns=\"http://www.w3.org/2000/svg\" height=\"24px\"viewBox=\"0 0 24 24\"\n",
              "       width=\"24px\">\n",
              "    <path d=\"M0 0h24v24H0V0z\" fill=\"none\"/>\n",
              "    <path d=\"M18.56 5.44l.94 2.06.94-2.06 2.06-.94-2.06-.94-.94-2.06-.94 2.06-2.06.94zm-11 1L8.5 8.5l.94-2.06 2.06-.94-2.06-.94L8.5 2.5l-.94 2.06-2.06.94zm10 10l.94 2.06.94-2.06 2.06-.94-2.06-.94-.94-2.06-.94 2.06-2.06.94z\"/><path d=\"M17.41 7.96l-1.37-1.37c-.4-.4-.92-.59-1.43-.59-.52 0-1.04.2-1.43.59L10.3 9.45l-7.72 7.72c-.78.78-.78 2.05 0 2.83L4 21.41c.39.39.9.59 1.41.59.51 0 1.02-.2 1.41-.59l7.78-7.78 2.81-2.81c.8-.78.8-2.07 0-2.86zM5.41 20L4 18.59l7.72-7.72 1.47 1.35L5.41 20z\"/>\n",
              "  </svg>\n",
              "      </button>\n",
              "      \n",
              "  <style>\n",
              "    .colab-df-container {\n",
              "      display:flex;\n",
              "      flex-wrap:wrap;\n",
              "      gap: 12px;\n",
              "    }\n",
              "\n",
              "    .colab-df-convert {\n",
              "      background-color: #E8F0FE;\n",
              "      border: none;\n",
              "      border-radius: 50%;\n",
              "      cursor: pointer;\n",
              "      display: none;\n",
              "      fill: #1967D2;\n",
              "      height: 32px;\n",
              "      padding: 0 0 0 0;\n",
              "      width: 32px;\n",
              "    }\n",
              "\n",
              "    .colab-df-convert:hover {\n",
              "      background-color: #E2EBFA;\n",
              "      box-shadow: 0px 1px 2px rgba(60, 64, 67, 0.3), 0px 1px 3px 1px rgba(60, 64, 67, 0.15);\n",
              "      fill: #174EA6;\n",
              "    }\n",
              "\n",
              "    [theme=dark] .colab-df-convert {\n",
              "      background-color: #3B4455;\n",
              "      fill: #D2E3FC;\n",
              "    }\n",
              "\n",
              "    [theme=dark] .colab-df-convert:hover {\n",
              "      background-color: #434B5C;\n",
              "      box-shadow: 0px 1px 3px 1px rgba(0, 0, 0, 0.15);\n",
              "      filter: drop-shadow(0px 1px 2px rgba(0, 0, 0, 0.3));\n",
              "      fill: #FFFFFF;\n",
              "    }\n",
              "  </style>\n",
              "\n",
              "      <script>\n",
              "        const buttonEl =\n",
              "          document.querySelector('#df-2f1406c0-6112-43d4-a0c7-0b98f98f581c button.colab-df-convert');\n",
              "        buttonEl.style.display =\n",
              "          google.colab.kernel.accessAllowed ? 'block' : 'none';\n",
              "\n",
              "        async function convertToInteractive(key) {\n",
              "          const element = document.querySelector('#df-2f1406c0-6112-43d4-a0c7-0b98f98f581c');\n",
              "          const dataTable =\n",
              "            await google.colab.kernel.invokeFunction('convertToInteractive',\n",
              "                                                     [key], {});\n",
              "          if (!dataTable) return;\n",
              "\n",
              "          const docLinkHtml = 'Like what you see? Visit the ' +\n",
              "            '<a target=\"_blank\" href=https://colab.research.google.com/notebooks/data_table.ipynb>data table notebook</a>'\n",
              "            + ' to learn more about interactive tables.';\n",
              "          element.innerHTML = '';\n",
              "          dataTable['output_type'] = 'display_data';\n",
              "          await google.colab.output.renderOutput(dataTable, element);\n",
              "          const docLink = document.createElement('div');\n",
              "          docLink.innerHTML = docLinkHtml;\n",
              "          element.appendChild(docLink);\n",
              "        }\n",
              "      </script>\n",
              "    </div>\n",
              "  </div>\n",
              "  "
            ]
          },
          "metadata": {},
          "execution_count": 716
        }
      ],
      "source": [
        "df[['label','tnmin']].groupby(['label']).mean()"
      ]
    },
    {
      "cell_type": "code",
      "execution_count": null,
      "metadata": {
        "colab": {
          "base_uri": "https://localhost:8080/",
          "height": 143
        },
        "id": "9VJysOLl2SAh",
        "outputId": "aafdde80-128c-4642-b119-ab8f70f4abd8"
      },
      "outputs": [
        {
          "output_type": "execute_result",
          "data": {
            "text/plain": [
              "            tncal\n",
              "label            \n",
              "0      100.058246\n",
              "1      100.399586"
            ],
            "text/html": [
              "\n",
              "  <div id=\"df-49f9058e-2c0b-4e88-9d46-367d3e2cc2d4\">\n",
              "    <div class=\"colab-df-container\">\n",
              "      <div>\n",
              "<style scoped>\n",
              "    .dataframe tbody tr th:only-of-type {\n",
              "        vertical-align: middle;\n",
              "    }\n",
              "\n",
              "    .dataframe tbody tr th {\n",
              "        vertical-align: top;\n",
              "    }\n",
              "\n",
              "    .dataframe thead th {\n",
              "        text-align: right;\n",
              "    }\n",
              "</style>\n",
              "<table border=\"1\" class=\"dataframe\">\n",
              "  <thead>\n",
              "    <tr style=\"text-align: right;\">\n",
              "      <th></th>\n",
              "      <th>tncal</th>\n",
              "    </tr>\n",
              "    <tr>\n",
              "      <th>label</th>\n",
              "      <th></th>\n",
              "    </tr>\n",
              "  </thead>\n",
              "  <tbody>\n",
              "    <tr>\n",
              "      <th>0</th>\n",
              "      <td>100.058246</td>\n",
              "    </tr>\n",
              "    <tr>\n",
              "      <th>1</th>\n",
              "      <td>100.399586</td>\n",
              "    </tr>\n",
              "  </tbody>\n",
              "</table>\n",
              "</div>\n",
              "      <button class=\"colab-df-convert\" onclick=\"convertToInteractive('df-49f9058e-2c0b-4e88-9d46-367d3e2cc2d4')\"\n",
              "              title=\"Convert this dataframe to an interactive table.\"\n",
              "              style=\"display:none;\">\n",
              "        \n",
              "  <svg xmlns=\"http://www.w3.org/2000/svg\" height=\"24px\"viewBox=\"0 0 24 24\"\n",
              "       width=\"24px\">\n",
              "    <path d=\"M0 0h24v24H0V0z\" fill=\"none\"/>\n",
              "    <path d=\"M18.56 5.44l.94 2.06.94-2.06 2.06-.94-2.06-.94-.94-2.06-.94 2.06-2.06.94zm-11 1L8.5 8.5l.94-2.06 2.06-.94-2.06-.94L8.5 2.5l-.94 2.06-2.06.94zm10 10l.94 2.06.94-2.06 2.06-.94-2.06-.94-.94-2.06-.94 2.06-2.06.94z\"/><path d=\"M17.41 7.96l-1.37-1.37c-.4-.4-.92-.59-1.43-.59-.52 0-1.04.2-1.43.59L10.3 9.45l-7.72 7.72c-.78.78-.78 2.05 0 2.83L4 21.41c.39.39.9.59 1.41.59.51 0 1.02-.2 1.41-.59l7.78-7.78 2.81-2.81c.8-.78.8-2.07 0-2.86zM5.41 20L4 18.59l7.72-7.72 1.47 1.35L5.41 20z\"/>\n",
              "  </svg>\n",
              "      </button>\n",
              "      \n",
              "  <style>\n",
              "    .colab-df-container {\n",
              "      display:flex;\n",
              "      flex-wrap:wrap;\n",
              "      gap: 12px;\n",
              "    }\n",
              "\n",
              "    .colab-df-convert {\n",
              "      background-color: #E8F0FE;\n",
              "      border: none;\n",
              "      border-radius: 50%;\n",
              "      cursor: pointer;\n",
              "      display: none;\n",
              "      fill: #1967D2;\n",
              "      height: 32px;\n",
              "      padding: 0 0 0 0;\n",
              "      width: 32px;\n",
              "    }\n",
              "\n",
              "    .colab-df-convert:hover {\n",
              "      background-color: #E2EBFA;\n",
              "      box-shadow: 0px 1px 2px rgba(60, 64, 67, 0.3), 0px 1px 3px 1px rgba(60, 64, 67, 0.15);\n",
              "      fill: #174EA6;\n",
              "    }\n",
              "\n",
              "    [theme=dark] .colab-df-convert {\n",
              "      background-color: #3B4455;\n",
              "      fill: #D2E3FC;\n",
              "    }\n",
              "\n",
              "    [theme=dark] .colab-df-convert:hover {\n",
              "      background-color: #434B5C;\n",
              "      box-shadow: 0px 1px 3px 1px rgba(0, 0, 0, 0.15);\n",
              "      filter: drop-shadow(0px 1px 2px rgba(0, 0, 0, 0.3));\n",
              "      fill: #FFFFFF;\n",
              "    }\n",
              "  </style>\n",
              "\n",
              "      <script>\n",
              "        const buttonEl =\n",
              "          document.querySelector('#df-49f9058e-2c0b-4e88-9d46-367d3e2cc2d4 button.colab-df-convert');\n",
              "        buttonEl.style.display =\n",
              "          google.colab.kernel.accessAllowed ? 'block' : 'none';\n",
              "\n",
              "        async function convertToInteractive(key) {\n",
              "          const element = document.querySelector('#df-49f9058e-2c0b-4e88-9d46-367d3e2cc2d4');\n",
              "          const dataTable =\n",
              "            await google.colab.kernel.invokeFunction('convertToInteractive',\n",
              "                                                     [key], {});\n",
              "          if (!dataTable) return;\n",
              "\n",
              "          const docLinkHtml = 'Like what you see? Visit the ' +\n",
              "            '<a target=\"_blank\" href=https://colab.research.google.com/notebooks/data_table.ipynb>data table notebook</a>'\n",
              "            + ' to learn more about interactive tables.';\n",
              "          element.innerHTML = '';\n",
              "          dataTable['output_type'] = 'display_data';\n",
              "          await google.colab.output.renderOutput(dataTable, element);\n",
              "          const docLink = document.createElement('div');\n",
              "          docLink.innerHTML = docLinkHtml;\n",
              "          element.appendChild(docLink);\n",
              "        }\n",
              "      </script>\n",
              "    </div>\n",
              "  </div>\n",
              "  "
            ]
          },
          "metadata": {},
          "execution_count": 717
        }
      ],
      "source": [
        "df[['label','tncal']].groupby(['label']).mean()"
      ]
    },
    {
      "cell_type": "code",
      "execution_count": null,
      "metadata": {
        "colab": {
          "base_uri": "https://localhost:8080/",
          "height": 143
        },
        "id": "PLRbVWt62UxN",
        "outputId": "7b9e6d46-d3f9-4964-b206-1579521ffe5e"
      },
      "outputs": [
        {
          "output_type": "execute_result",
          "data": {
            "text/plain": [
              "         tnchar\n",
              "label          \n",
              "0      9.006074\n",
              "1      9.235528"
            ],
            "text/html": [
              "\n",
              "  <div id=\"df-698db608-2a4b-4801-b426-53852b82db93\">\n",
              "    <div class=\"colab-df-container\">\n",
              "      <div>\n",
              "<style scoped>\n",
              "    .dataframe tbody tr th:only-of-type {\n",
              "        vertical-align: middle;\n",
              "    }\n",
              "\n",
              "    .dataframe tbody tr th {\n",
              "        vertical-align: top;\n",
              "    }\n",
              "\n",
              "    .dataframe thead th {\n",
              "        text-align: right;\n",
              "    }\n",
              "</style>\n",
              "<table border=\"1\" class=\"dataframe\">\n",
              "  <thead>\n",
              "    <tr style=\"text-align: right;\">\n",
              "      <th></th>\n",
              "      <th>tnchar</th>\n",
              "    </tr>\n",
              "    <tr>\n",
              "      <th>label</th>\n",
              "      <th></th>\n",
              "    </tr>\n",
              "  </thead>\n",
              "  <tbody>\n",
              "    <tr>\n",
              "      <th>0</th>\n",
              "      <td>9.006074</td>\n",
              "    </tr>\n",
              "    <tr>\n",
              "      <th>1</th>\n",
              "      <td>9.235528</td>\n",
              "    </tr>\n",
              "  </tbody>\n",
              "</table>\n",
              "</div>\n",
              "      <button class=\"colab-df-convert\" onclick=\"convertToInteractive('df-698db608-2a4b-4801-b426-53852b82db93')\"\n",
              "              title=\"Convert this dataframe to an interactive table.\"\n",
              "              style=\"display:none;\">\n",
              "        \n",
              "  <svg xmlns=\"http://www.w3.org/2000/svg\" height=\"24px\"viewBox=\"0 0 24 24\"\n",
              "       width=\"24px\">\n",
              "    <path d=\"M0 0h24v24H0V0z\" fill=\"none\"/>\n",
              "    <path d=\"M18.56 5.44l.94 2.06.94-2.06 2.06-.94-2.06-.94-.94-2.06-.94 2.06-2.06.94zm-11 1L8.5 8.5l.94-2.06 2.06-.94-2.06-.94L8.5 2.5l-.94 2.06-2.06.94zm10 10l.94 2.06.94-2.06 2.06-.94-2.06-.94-.94-2.06-.94 2.06-2.06.94z\"/><path d=\"M17.41 7.96l-1.37-1.37c-.4-.4-.92-.59-1.43-.59-.52 0-1.04.2-1.43.59L10.3 9.45l-7.72 7.72c-.78.78-.78 2.05 0 2.83L4 21.41c.39.39.9.59 1.41.59.51 0 1.02-.2 1.41-.59l7.78-7.78 2.81-2.81c.8-.78.8-2.07 0-2.86zM5.41 20L4 18.59l7.72-7.72 1.47 1.35L5.41 20z\"/>\n",
              "  </svg>\n",
              "      </button>\n",
              "      \n",
              "  <style>\n",
              "    .colab-df-container {\n",
              "      display:flex;\n",
              "      flex-wrap:wrap;\n",
              "      gap: 12px;\n",
              "    }\n",
              "\n",
              "    .colab-df-convert {\n",
              "      background-color: #E8F0FE;\n",
              "      border: none;\n",
              "      border-radius: 50%;\n",
              "      cursor: pointer;\n",
              "      display: none;\n",
              "      fill: #1967D2;\n",
              "      height: 32px;\n",
              "      padding: 0 0 0 0;\n",
              "      width: 32px;\n",
              "    }\n",
              "\n",
              "    .colab-df-convert:hover {\n",
              "      background-color: #E2EBFA;\n",
              "      box-shadow: 0px 1px 2px rgba(60, 64, 67, 0.3), 0px 1px 3px 1px rgba(60, 64, 67, 0.15);\n",
              "      fill: #174EA6;\n",
              "    }\n",
              "\n",
              "    [theme=dark] .colab-df-convert {\n",
              "      background-color: #3B4455;\n",
              "      fill: #D2E3FC;\n",
              "    }\n",
              "\n",
              "    [theme=dark] .colab-df-convert:hover {\n",
              "      background-color: #434B5C;\n",
              "      box-shadow: 0px 1px 3px 1px rgba(0, 0, 0, 0.15);\n",
              "      filter: drop-shadow(0px 1px 2px rgba(0, 0, 0, 0.3));\n",
              "      fill: #FFFFFF;\n",
              "    }\n",
              "  </style>\n",
              "\n",
              "      <script>\n",
              "        const buttonEl =\n",
              "          document.querySelector('#df-698db608-2a4b-4801-b426-53852b82db93 button.colab-df-convert');\n",
              "        buttonEl.style.display =\n",
              "          google.colab.kernel.accessAllowed ? 'block' : 'none';\n",
              "\n",
              "        async function convertToInteractive(key) {\n",
              "          const element = document.querySelector('#df-698db608-2a4b-4801-b426-53852b82db93');\n",
              "          const dataTable =\n",
              "            await google.colab.kernel.invokeFunction('convertToInteractive',\n",
              "                                                     [key], {});\n",
              "          if (!dataTable) return;\n",
              "\n",
              "          const docLinkHtml = 'Like what you see? Visit the ' +\n",
              "            '<a target=\"_blank\" href=https://colab.research.google.com/notebooks/data_table.ipynb>data table notebook</a>'\n",
              "            + ' to learn more about interactive tables.';\n",
              "          element.innerHTML = '';\n",
              "          dataTable['output_type'] = 'display_data';\n",
              "          await google.colab.output.renderOutput(dataTable, element);\n",
              "          const docLink = document.createElement('div');\n",
              "          docLink.innerHTML = docLinkHtml;\n",
              "          element.appendChild(docLink);\n",
              "        }\n",
              "      </script>\n",
              "    </div>\n",
              "  </div>\n",
              "  "
            ]
          },
          "metadata": {},
          "execution_count": 718
        }
      ],
      "source": [
        "df[['label','tnchar']].groupby(['label']).mean()"
      ]
    },
    {
      "cell_type": "code",
      "execution_count": null,
      "metadata": {
        "colab": {
          "base_uri": "https://localhost:8080/",
          "height": 143
        },
        "id": "ZA7-6SJb2Xvs",
        "outputId": "e9fea548-2f2e-4b72-db62-a9d41aab7d26"
      },
      "outputs": [
        {
          "output_type": "execute_result",
          "data": {
            "text/plain": [
              "           timin\n",
              "label           \n",
              "0      10.158877\n",
              "1      10.700000"
            ],
            "text/html": [
              "\n",
              "  <div id=\"df-7e15d110-80a5-4658-aac3-65327b5b01da\">\n",
              "    <div class=\"colab-df-container\">\n",
              "      <div>\n",
              "<style scoped>\n",
              "    .dataframe tbody tr th:only-of-type {\n",
              "        vertical-align: middle;\n",
              "    }\n",
              "\n",
              "    .dataframe tbody tr th {\n",
              "        vertical-align: top;\n",
              "    }\n",
              "\n",
              "    .dataframe thead th {\n",
              "        text-align: right;\n",
              "    }\n",
              "</style>\n",
              "<table border=\"1\" class=\"dataframe\">\n",
              "  <thead>\n",
              "    <tr style=\"text-align: right;\">\n",
              "      <th></th>\n",
              "      <th>timin</th>\n",
              "    </tr>\n",
              "    <tr>\n",
              "      <th>label</th>\n",
              "      <th></th>\n",
              "    </tr>\n",
              "  </thead>\n",
              "  <tbody>\n",
              "    <tr>\n",
              "      <th>0</th>\n",
              "      <td>10.158877</td>\n",
              "    </tr>\n",
              "    <tr>\n",
              "      <th>1</th>\n",
              "      <td>10.700000</td>\n",
              "    </tr>\n",
              "  </tbody>\n",
              "</table>\n",
              "</div>\n",
              "      <button class=\"colab-df-convert\" onclick=\"convertToInteractive('df-7e15d110-80a5-4658-aac3-65327b5b01da')\"\n",
              "              title=\"Convert this dataframe to an interactive table.\"\n",
              "              style=\"display:none;\">\n",
              "        \n",
              "  <svg xmlns=\"http://www.w3.org/2000/svg\" height=\"24px\"viewBox=\"0 0 24 24\"\n",
              "       width=\"24px\">\n",
              "    <path d=\"M0 0h24v24H0V0z\" fill=\"none\"/>\n",
              "    <path d=\"M18.56 5.44l.94 2.06.94-2.06 2.06-.94-2.06-.94-.94-2.06-.94 2.06-2.06.94zm-11 1L8.5 8.5l.94-2.06 2.06-.94-2.06-.94L8.5 2.5l-.94 2.06-2.06.94zm10 10l.94 2.06.94-2.06 2.06-.94-2.06-.94-.94-2.06-.94 2.06-2.06.94z\"/><path d=\"M17.41 7.96l-1.37-1.37c-.4-.4-.92-.59-1.43-.59-.52 0-1.04.2-1.43.59L10.3 9.45l-7.72 7.72c-.78.78-.78 2.05 0 2.83L4 21.41c.39.39.9.59 1.41.59.51 0 1.02-.2 1.41-.59l7.78-7.78 2.81-2.81c.8-.78.8-2.07 0-2.86zM5.41 20L4 18.59l7.72-7.72 1.47 1.35L5.41 20z\"/>\n",
              "  </svg>\n",
              "      </button>\n",
              "      \n",
              "  <style>\n",
              "    .colab-df-container {\n",
              "      display:flex;\n",
              "      flex-wrap:wrap;\n",
              "      gap: 12px;\n",
              "    }\n",
              "\n",
              "    .colab-df-convert {\n",
              "      background-color: #E8F0FE;\n",
              "      border: none;\n",
              "      border-radius: 50%;\n",
              "      cursor: pointer;\n",
              "      display: none;\n",
              "      fill: #1967D2;\n",
              "      height: 32px;\n",
              "      padding: 0 0 0 0;\n",
              "      width: 32px;\n",
              "    }\n",
              "\n",
              "    .colab-df-convert:hover {\n",
              "      background-color: #E2EBFA;\n",
              "      box-shadow: 0px 1px 2px rgba(60, 64, 67, 0.3), 0px 1px 3px 1px rgba(60, 64, 67, 0.15);\n",
              "      fill: #174EA6;\n",
              "    }\n",
              "\n",
              "    [theme=dark] .colab-df-convert {\n",
              "      background-color: #3B4455;\n",
              "      fill: #D2E3FC;\n",
              "    }\n",
              "\n",
              "    [theme=dark] .colab-df-convert:hover {\n",
              "      background-color: #434B5C;\n",
              "      box-shadow: 0px 1px 3px 1px rgba(0, 0, 0, 0.15);\n",
              "      filter: drop-shadow(0px 1px 2px rgba(0, 0, 0, 0.3));\n",
              "      fill: #FFFFFF;\n",
              "    }\n",
              "  </style>\n",
              "\n",
              "      <script>\n",
              "        const buttonEl =\n",
              "          document.querySelector('#df-7e15d110-80a5-4658-aac3-65327b5b01da button.colab-df-convert');\n",
              "        buttonEl.style.display =\n",
              "          google.colab.kernel.accessAllowed ? 'block' : 'none';\n",
              "\n",
              "        async function convertToInteractive(key) {\n",
              "          const element = document.querySelector('#df-7e15d110-80a5-4658-aac3-65327b5b01da');\n",
              "          const dataTable =\n",
              "            await google.colab.kernel.invokeFunction('convertToInteractive',\n",
              "                                                     [key], {});\n",
              "          if (!dataTable) return;\n",
              "\n",
              "          const docLinkHtml = 'Like what you see? Visit the ' +\n",
              "            '<a target=\"_blank\" href=https://colab.research.google.com/notebooks/data_table.ipynb>data table notebook</a>'\n",
              "            + ' to learn more about interactive tables.';\n",
              "          element.innerHTML = '';\n",
              "          dataTable['output_type'] = 'display_data';\n",
              "          await google.colab.output.renderOutput(dataTable, element);\n",
              "          const docLink = document.createElement('div');\n",
              "          docLink.innerHTML = docLinkHtml;\n",
              "          element.appendChild(docLink);\n",
              "        }\n",
              "      </script>\n",
              "    </div>\n",
              "  </div>\n",
              "  "
            ]
          },
          "metadata": {},
          "execution_count": 719
        }
      ],
      "source": [
        "df[['label','timin']].groupby(['label']).mean()"
      ]
    },
    {
      "cell_type": "code",
      "execution_count": null,
      "metadata": {
        "colab": {
          "base_uri": "https://localhost:8080/",
          "height": 143
        },
        "id": "sGpTUhL1Z1EH",
        "outputId": "779e6fd9-91a7-44ad-de9f-4bbbbcc16291"
      },
      "outputs": [
        {
          "output_type": "execute_result",
          "data": {
            "text/plain": [
              "          tical\n",
              "label          \n",
              "0      4.532982\n",
              "1      4.163561"
            ],
            "text/html": [
              "\n",
              "  <div id=\"df-d7190373-bfab-46b0-a314-e37ef814294a\">\n",
              "    <div class=\"colab-df-container\">\n",
              "      <div>\n",
              "<style scoped>\n",
              "    .dataframe tbody tr th:only-of-type {\n",
              "        vertical-align: middle;\n",
              "    }\n",
              "\n",
              "    .dataframe tbody tr th {\n",
              "        vertical-align: top;\n",
              "    }\n",
              "\n",
              "    .dataframe thead th {\n",
              "        text-align: right;\n",
              "    }\n",
              "</style>\n",
              "<table border=\"1\" class=\"dataframe\">\n",
              "  <thead>\n",
              "    <tr style=\"text-align: right;\">\n",
              "      <th></th>\n",
              "      <th>tical</th>\n",
              "    </tr>\n",
              "    <tr>\n",
              "      <th>label</th>\n",
              "      <th></th>\n",
              "    </tr>\n",
              "  </thead>\n",
              "  <tbody>\n",
              "    <tr>\n",
              "      <th>0</th>\n",
              "      <td>4.532982</td>\n",
              "    </tr>\n",
              "    <tr>\n",
              "      <th>1</th>\n",
              "      <td>4.163561</td>\n",
              "    </tr>\n",
              "  </tbody>\n",
              "</table>\n",
              "</div>\n",
              "      <button class=\"colab-df-convert\" onclick=\"convertToInteractive('df-d7190373-bfab-46b0-a314-e37ef814294a')\"\n",
              "              title=\"Convert this dataframe to an interactive table.\"\n",
              "              style=\"display:none;\">\n",
              "        \n",
              "  <svg xmlns=\"http://www.w3.org/2000/svg\" height=\"24px\"viewBox=\"0 0 24 24\"\n",
              "       width=\"24px\">\n",
              "    <path d=\"M0 0h24v24H0V0z\" fill=\"none\"/>\n",
              "    <path d=\"M18.56 5.44l.94 2.06.94-2.06 2.06-.94-2.06-.94-.94-2.06-.94 2.06-2.06.94zm-11 1L8.5 8.5l.94-2.06 2.06-.94-2.06-.94L8.5 2.5l-.94 2.06-2.06.94zm10 10l.94 2.06.94-2.06 2.06-.94-2.06-.94-.94-2.06-.94 2.06-2.06.94z\"/><path d=\"M17.41 7.96l-1.37-1.37c-.4-.4-.92-.59-1.43-.59-.52 0-1.04.2-1.43.59L10.3 9.45l-7.72 7.72c-.78.78-.78 2.05 0 2.83L4 21.41c.39.39.9.59 1.41.59.51 0 1.02-.2 1.41-.59l7.78-7.78 2.81-2.81c.8-.78.8-2.07 0-2.86zM5.41 20L4 18.59l7.72-7.72 1.47 1.35L5.41 20z\"/>\n",
              "  </svg>\n",
              "      </button>\n",
              "      \n",
              "  <style>\n",
              "    .colab-df-container {\n",
              "      display:flex;\n",
              "      flex-wrap:wrap;\n",
              "      gap: 12px;\n",
              "    }\n",
              "\n",
              "    .colab-df-convert {\n",
              "      background-color: #E8F0FE;\n",
              "      border: none;\n",
              "      border-radius: 50%;\n",
              "      cursor: pointer;\n",
              "      display: none;\n",
              "      fill: #1967D2;\n",
              "      height: 32px;\n",
              "      padding: 0 0 0 0;\n",
              "      width: 32px;\n",
              "    }\n",
              "\n",
              "    .colab-df-convert:hover {\n",
              "      background-color: #E2EBFA;\n",
              "      box-shadow: 0px 1px 2px rgba(60, 64, 67, 0.3), 0px 1px 3px 1px rgba(60, 64, 67, 0.15);\n",
              "      fill: #174EA6;\n",
              "    }\n",
              "\n",
              "    [theme=dark] .colab-df-convert {\n",
              "      background-color: #3B4455;\n",
              "      fill: #D2E3FC;\n",
              "    }\n",
              "\n",
              "    [theme=dark] .colab-df-convert:hover {\n",
              "      background-color: #434B5C;\n",
              "      box-shadow: 0px 1px 3px 1px rgba(0, 0, 0, 0.15);\n",
              "      filter: drop-shadow(0px 1px 2px rgba(0, 0, 0, 0.3));\n",
              "      fill: #FFFFFF;\n",
              "    }\n",
              "  </style>\n",
              "\n",
              "      <script>\n",
              "        const buttonEl =\n",
              "          document.querySelector('#df-d7190373-bfab-46b0-a314-e37ef814294a button.colab-df-convert');\n",
              "        buttonEl.style.display =\n",
              "          google.colab.kernel.accessAllowed ? 'block' : 'none';\n",
              "\n",
              "        async function convertToInteractive(key) {\n",
              "          const element = document.querySelector('#df-d7190373-bfab-46b0-a314-e37ef814294a');\n",
              "          const dataTable =\n",
              "            await google.colab.kernel.invokeFunction('convertToInteractive',\n",
              "                                                     [key], {});\n",
              "          if (!dataTable) return;\n",
              "\n",
              "          const docLinkHtml = 'Like what you see? Visit the ' +\n",
              "            '<a target=\"_blank\" href=https://colab.research.google.com/notebooks/data_table.ipynb>data table notebook</a>'\n",
              "            + ' to learn more about interactive tables.';\n",
              "          element.innerHTML = '';\n",
              "          dataTable['output_type'] = 'display_data';\n",
              "          await google.colab.output.renderOutput(dataTable, element);\n",
              "          const docLink = document.createElement('div');\n",
              "          docLink.innerHTML = docLinkHtml;\n",
              "          element.appendChild(docLink);\n",
              "        }\n",
              "      </script>\n",
              "    </div>\n",
              "  </div>\n",
              "  "
            ]
          },
          "metadata": {},
          "execution_count": 720
        }
      ],
      "source": [
        "df[['label','tical']].groupby(['label']).mean()"
      ]
    },
    {
      "cell_type": "code",
      "execution_count": null,
      "metadata": {
        "colab": {
          "base_uri": "https://localhost:8080/",
          "height": 143
        },
        "id": "7gQy3LFA2cE9",
        "outputId": "f137f582-cc13-49a6-a555-79464846fcb6"
      },
      "outputs": [
        {
          "output_type": "execute_result",
          "data": {
            "text/plain": [
              "         tichar\n",
              "label          \n",
              "0      2.743404\n",
              "1      2.889545"
            ],
            "text/html": [
              "\n",
              "  <div id=\"df-099864a6-91d0-440c-9bcc-4e5dad1005d6\">\n",
              "    <div class=\"colab-df-container\">\n",
              "      <div>\n",
              "<style scoped>\n",
              "    .dataframe tbody tr th:only-of-type {\n",
              "        vertical-align: middle;\n",
              "    }\n",
              "\n",
              "    .dataframe tbody tr th {\n",
              "        vertical-align: top;\n",
              "    }\n",
              "\n",
              "    .dataframe thead th {\n",
              "        text-align: right;\n",
              "    }\n",
              "</style>\n",
              "<table border=\"1\" class=\"dataframe\">\n",
              "  <thead>\n",
              "    <tr style=\"text-align: right;\">\n",
              "      <th></th>\n",
              "      <th>tichar</th>\n",
              "    </tr>\n",
              "    <tr>\n",
              "      <th>label</th>\n",
              "      <th></th>\n",
              "    </tr>\n",
              "  </thead>\n",
              "  <tbody>\n",
              "    <tr>\n",
              "      <th>0</th>\n",
              "      <td>2.743404</td>\n",
              "    </tr>\n",
              "    <tr>\n",
              "      <th>1</th>\n",
              "      <td>2.889545</td>\n",
              "    </tr>\n",
              "  </tbody>\n",
              "</table>\n",
              "</div>\n",
              "      <button class=\"colab-df-convert\" onclick=\"convertToInteractive('df-099864a6-91d0-440c-9bcc-4e5dad1005d6')\"\n",
              "              title=\"Convert this dataframe to an interactive table.\"\n",
              "              style=\"display:none;\">\n",
              "        \n",
              "  <svg xmlns=\"http://www.w3.org/2000/svg\" height=\"24px\"viewBox=\"0 0 24 24\"\n",
              "       width=\"24px\">\n",
              "    <path d=\"M0 0h24v24H0V0z\" fill=\"none\"/>\n",
              "    <path d=\"M18.56 5.44l.94 2.06.94-2.06 2.06-.94-2.06-.94-.94-2.06-.94 2.06-2.06.94zm-11 1L8.5 8.5l.94-2.06 2.06-.94-2.06-.94L8.5 2.5l-.94 2.06-2.06.94zm10 10l.94 2.06.94-2.06 2.06-.94-2.06-.94-.94-2.06-.94 2.06-2.06.94z\"/><path d=\"M17.41 7.96l-1.37-1.37c-.4-.4-.92-.59-1.43-.59-.52 0-1.04.2-1.43.59L10.3 9.45l-7.72 7.72c-.78.78-.78 2.05 0 2.83L4 21.41c.39.39.9.59 1.41.59.51 0 1.02-.2 1.41-.59l7.78-7.78 2.81-2.81c.8-.78.8-2.07 0-2.86zM5.41 20L4 18.59l7.72-7.72 1.47 1.35L5.41 20z\"/>\n",
              "  </svg>\n",
              "      </button>\n",
              "      \n",
              "  <style>\n",
              "    .colab-df-container {\n",
              "      display:flex;\n",
              "      flex-wrap:wrap;\n",
              "      gap: 12px;\n",
              "    }\n",
              "\n",
              "    .colab-df-convert {\n",
              "      background-color: #E8F0FE;\n",
              "      border: none;\n",
              "      border-radius: 50%;\n",
              "      cursor: pointer;\n",
              "      display: none;\n",
              "      fill: #1967D2;\n",
              "      height: 32px;\n",
              "      padding: 0 0 0 0;\n",
              "      width: 32px;\n",
              "    }\n",
              "\n",
              "    .colab-df-convert:hover {\n",
              "      background-color: #E2EBFA;\n",
              "      box-shadow: 0px 1px 2px rgba(60, 64, 67, 0.3), 0px 1px 3px 1px rgba(60, 64, 67, 0.15);\n",
              "      fill: #174EA6;\n",
              "    }\n",
              "\n",
              "    [theme=dark] .colab-df-convert {\n",
              "      background-color: #3B4455;\n",
              "      fill: #D2E3FC;\n",
              "    }\n",
              "\n",
              "    [theme=dark] .colab-df-convert:hover {\n",
              "      background-color: #434B5C;\n",
              "      box-shadow: 0px 1px 3px 1px rgba(0, 0, 0, 0.15);\n",
              "      filter: drop-shadow(0px 1px 2px rgba(0, 0, 0, 0.3));\n",
              "      fill: #FFFFFF;\n",
              "    }\n",
              "  </style>\n",
              "\n",
              "      <script>\n",
              "        const buttonEl =\n",
              "          document.querySelector('#df-099864a6-91d0-440c-9bcc-4e5dad1005d6 button.colab-df-convert');\n",
              "        buttonEl.style.display =\n",
              "          google.colab.kernel.accessAllowed ? 'block' : 'none';\n",
              "\n",
              "        async function convertToInteractive(key) {\n",
              "          const element = document.querySelector('#df-099864a6-91d0-440c-9bcc-4e5dad1005d6');\n",
              "          const dataTable =\n",
              "            await google.colab.kernel.invokeFunction('convertToInteractive',\n",
              "                                                     [key], {});\n",
              "          if (!dataTable) return;\n",
              "\n",
              "          const docLinkHtml = 'Like what you see? Visit the ' +\n",
              "            '<a target=\"_blank\" href=https://colab.research.google.com/notebooks/data_table.ipynb>data table notebook</a>'\n",
              "            + ' to learn more about interactive tables.';\n",
              "          element.innerHTML = '';\n",
              "          dataTable['output_type'] = 'display_data';\n",
              "          await google.colab.output.renderOutput(dataTable, element);\n",
              "          const docLink = document.createElement('div');\n",
              "          docLink.innerHTML = docLinkHtml;\n",
              "          element.appendChild(docLink);\n",
              "        }\n",
              "      </script>\n",
              "    </div>\n",
              "  </div>\n",
              "  "
            ]
          },
          "metadata": {},
          "execution_count": 721
        }
      ],
      "source": [
        "df[['label','tichar']].groupby(['label']).mean()"
      ]
    },
    {
      "cell_type": "code",
      "execution_count": null,
      "metadata": {
        "colab": {
          "base_uri": "https://localhost:8080/",
          "height": 143
        },
        "id": "AE0Z8UVT2fR1",
        "outputId": "bc04858f-0d01-4e2c-d8c6-7c3bfa3cfcdb"
      },
      "outputs": [
        {
          "output_type": "execute_result",
          "data": {
            "text/plain": [
              "           ncsc\n",
              "label          \n",
              "0      1.449825\n",
              "1      2.229814"
            ],
            "text/html": [
              "\n",
              "  <div id=\"df-1984c91c-9e56-4579-a19f-9cbc997839de\">\n",
              "    <div class=\"colab-df-container\">\n",
              "      <div>\n",
              "<style scoped>\n",
              "    .dataframe tbody tr th:only-of-type {\n",
              "        vertical-align: middle;\n",
              "    }\n",
              "\n",
              "    .dataframe tbody tr th {\n",
              "        vertical-align: top;\n",
              "    }\n",
              "\n",
              "    .dataframe thead th {\n",
              "        text-align: right;\n",
              "    }\n",
              "</style>\n",
              "<table border=\"1\" class=\"dataframe\">\n",
              "  <thead>\n",
              "    <tr style=\"text-align: right;\">\n",
              "      <th></th>\n",
              "      <th>ncsc</th>\n",
              "    </tr>\n",
              "    <tr>\n",
              "      <th>label</th>\n",
              "      <th></th>\n",
              "    </tr>\n",
              "  </thead>\n",
              "  <tbody>\n",
              "    <tr>\n",
              "      <th>0</th>\n",
              "      <td>1.449825</td>\n",
              "    </tr>\n",
              "    <tr>\n",
              "      <th>1</th>\n",
              "      <td>2.229814</td>\n",
              "    </tr>\n",
              "  </tbody>\n",
              "</table>\n",
              "</div>\n",
              "      <button class=\"colab-df-convert\" onclick=\"convertToInteractive('df-1984c91c-9e56-4579-a19f-9cbc997839de')\"\n",
              "              title=\"Convert this dataframe to an interactive table.\"\n",
              "              style=\"display:none;\">\n",
              "        \n",
              "  <svg xmlns=\"http://www.w3.org/2000/svg\" height=\"24px\"viewBox=\"0 0 24 24\"\n",
              "       width=\"24px\">\n",
              "    <path d=\"M0 0h24v24H0V0z\" fill=\"none\"/>\n",
              "    <path d=\"M18.56 5.44l.94 2.06.94-2.06 2.06-.94-2.06-.94-.94-2.06-.94 2.06-2.06.94zm-11 1L8.5 8.5l.94-2.06 2.06-.94-2.06-.94L8.5 2.5l-.94 2.06-2.06.94zm10 10l.94 2.06.94-2.06 2.06-.94-2.06-.94-.94-2.06-.94 2.06-2.06.94z\"/><path d=\"M17.41 7.96l-1.37-1.37c-.4-.4-.92-.59-1.43-.59-.52 0-1.04.2-1.43.59L10.3 9.45l-7.72 7.72c-.78.78-.78 2.05 0 2.83L4 21.41c.39.39.9.59 1.41.59.51 0 1.02-.2 1.41-.59l7.78-7.78 2.81-2.81c.8-.78.8-2.07 0-2.86zM5.41 20L4 18.59l7.72-7.72 1.47 1.35L5.41 20z\"/>\n",
              "  </svg>\n",
              "      </button>\n",
              "      \n",
              "  <style>\n",
              "    .colab-df-container {\n",
              "      display:flex;\n",
              "      flex-wrap:wrap;\n",
              "      gap: 12px;\n",
              "    }\n",
              "\n",
              "    .colab-df-convert {\n",
              "      background-color: #E8F0FE;\n",
              "      border: none;\n",
              "      border-radius: 50%;\n",
              "      cursor: pointer;\n",
              "      display: none;\n",
              "      fill: #1967D2;\n",
              "      height: 32px;\n",
              "      padding: 0 0 0 0;\n",
              "      width: 32px;\n",
              "    }\n",
              "\n",
              "    .colab-df-convert:hover {\n",
              "      background-color: #E2EBFA;\n",
              "      box-shadow: 0px 1px 2px rgba(60, 64, 67, 0.3), 0px 1px 3px 1px rgba(60, 64, 67, 0.15);\n",
              "      fill: #174EA6;\n",
              "    }\n",
              "\n",
              "    [theme=dark] .colab-df-convert {\n",
              "      background-color: #3B4455;\n",
              "      fill: #D2E3FC;\n",
              "    }\n",
              "\n",
              "    [theme=dark] .colab-df-convert:hover {\n",
              "      background-color: #434B5C;\n",
              "      box-shadow: 0px 1px 3px 1px rgba(0, 0, 0, 0.15);\n",
              "      filter: drop-shadow(0px 1px 2px rgba(0, 0, 0, 0.3));\n",
              "      fill: #FFFFFF;\n",
              "    }\n",
              "  </style>\n",
              "\n",
              "      <script>\n",
              "        const buttonEl =\n",
              "          document.querySelector('#df-1984c91c-9e56-4579-a19f-9cbc997839de button.colab-df-convert');\n",
              "        buttonEl.style.display =\n",
              "          google.colab.kernel.accessAllowed ? 'block' : 'none';\n",
              "\n",
              "        async function convertToInteractive(key) {\n",
              "          const element = document.querySelector('#df-1984c91c-9e56-4579-a19f-9cbc997839de');\n",
              "          const dataTable =\n",
              "            await google.colab.kernel.invokeFunction('convertToInteractive',\n",
              "                                                     [key], {});\n",
              "          if (!dataTable) return;\n",
              "\n",
              "          const docLinkHtml = 'Like what you see? Visit the ' +\n",
              "            '<a target=\"_blank\" href=https://colab.research.google.com/notebooks/data_table.ipynb>data table notebook</a>'\n",
              "            + ' to learn more about interactive tables.';\n",
              "          element.innerHTML = '';\n",
              "          dataTable['output_type'] = 'display_data';\n",
              "          await google.colab.output.renderOutput(dataTable, element);\n",
              "          const docLink = document.createElement('div');\n",
              "          docLink.innerHTML = docLinkHtml;\n",
              "          element.appendChild(docLink);\n",
              "        }\n",
              "      </script>\n",
              "    </div>\n",
              "  </div>\n",
              "  "
            ]
          },
          "metadata": {},
          "execution_count": 722
        }
      ],
      "source": [
        "df[['label','ncsc']].groupby(['label']).mean()"
      ]
    },
    {
      "cell_type": "code",
      "execution_count": null,
      "metadata": {
        "colab": {
          "base_uri": "https://localhost:8080/",
          "height": 386
        },
        "id": "TE4HFuqsaM2v",
        "outputId": "b70284a0-1459-4722-84ae-8184317179b5"
      },
      "outputs": [
        {
          "output_type": "execute_result",
          "data": {
            "text/plain": [
              "   st  acclen  arcode     phnum  intplan  voice  nummailmes  tdmin  tdcal  \\\n",
              "0  KS     128     415  382-4657        0      1          25  265.1    110   \n",
              "1  OH     107     415  371-7191        0      1          26  161.6    123   \n",
              "2  NJ     137     415  358-1921        0      0           0  243.4    114   \n",
              "3  OH      84     408  375-9999        1      0           0  299.4     71   \n",
              "4  OK      75     415  330-6626        1      0           0  166.7    113   \n",
              "\n",
              "   tdchar  ...  tecal  tecahr  tnmin  tncal  tnchar  timin  tical  tichar  \\\n",
              "0   45.07  ...     99   16.78  244.7     91   11.01   10.0      3    2.70   \n",
              "1   27.47  ...    103   16.62  254.4    103   11.45   13.7      3    3.70   \n",
              "2   41.38  ...    110   10.30  162.6    104    7.32   12.2      5    3.29   \n",
              "3   50.90  ...     88    5.26  196.9     89    8.86    6.6      7    1.78   \n",
              "4   28.34  ...    122   12.61  186.9    121    8.41   10.1      3    2.73   \n",
              "\n",
              "   ncsc  label  \n",
              "0     1      0  \n",
              "1     1      0  \n",
              "2     0      0  \n",
              "3     2      0  \n",
              "4     3      0  \n",
              "\n",
              "[5 rows x 21 columns]"
            ],
            "text/html": [
              "\n",
              "  <div id=\"df-9db01015-7232-4663-b5b1-40f64d869a32\">\n",
              "    <div class=\"colab-df-container\">\n",
              "      <div>\n",
              "<style scoped>\n",
              "    .dataframe tbody tr th:only-of-type {\n",
              "        vertical-align: middle;\n",
              "    }\n",
              "\n",
              "    .dataframe tbody tr th {\n",
              "        vertical-align: top;\n",
              "    }\n",
              "\n",
              "    .dataframe thead th {\n",
              "        text-align: right;\n",
              "    }\n",
              "</style>\n",
              "<table border=\"1\" class=\"dataframe\">\n",
              "  <thead>\n",
              "    <tr style=\"text-align: right;\">\n",
              "      <th></th>\n",
              "      <th>st</th>\n",
              "      <th>acclen</th>\n",
              "      <th>arcode</th>\n",
              "      <th>phnum</th>\n",
              "      <th>intplan</th>\n",
              "      <th>voice</th>\n",
              "      <th>nummailmes</th>\n",
              "      <th>tdmin</th>\n",
              "      <th>tdcal</th>\n",
              "      <th>tdchar</th>\n",
              "      <th>...</th>\n",
              "      <th>tecal</th>\n",
              "      <th>tecahr</th>\n",
              "      <th>tnmin</th>\n",
              "      <th>tncal</th>\n",
              "      <th>tnchar</th>\n",
              "      <th>timin</th>\n",
              "      <th>tical</th>\n",
              "      <th>tichar</th>\n",
              "      <th>ncsc</th>\n",
              "      <th>label</th>\n",
              "    </tr>\n",
              "  </thead>\n",
              "  <tbody>\n",
              "    <tr>\n",
              "      <th>0</th>\n",
              "      <td>KS</td>\n",
              "      <td>128</td>\n",
              "      <td>415</td>\n",
              "      <td>382-4657</td>\n",
              "      <td>0</td>\n",
              "      <td>1</td>\n",
              "      <td>25</td>\n",
              "      <td>265.1</td>\n",
              "      <td>110</td>\n",
              "      <td>45.07</td>\n",
              "      <td>...</td>\n",
              "      <td>99</td>\n",
              "      <td>16.78</td>\n",
              "      <td>244.7</td>\n",
              "      <td>91</td>\n",
              "      <td>11.01</td>\n",
              "      <td>10.0</td>\n",
              "      <td>3</td>\n",
              "      <td>2.70</td>\n",
              "      <td>1</td>\n",
              "      <td>0</td>\n",
              "    </tr>\n",
              "    <tr>\n",
              "      <th>1</th>\n",
              "      <td>OH</td>\n",
              "      <td>107</td>\n",
              "      <td>415</td>\n",
              "      <td>371-7191</td>\n",
              "      <td>0</td>\n",
              "      <td>1</td>\n",
              "      <td>26</td>\n",
              "      <td>161.6</td>\n",
              "      <td>123</td>\n",
              "      <td>27.47</td>\n",
              "      <td>...</td>\n",
              "      <td>103</td>\n",
              "      <td>16.62</td>\n",
              "      <td>254.4</td>\n",
              "      <td>103</td>\n",
              "      <td>11.45</td>\n",
              "      <td>13.7</td>\n",
              "      <td>3</td>\n",
              "      <td>3.70</td>\n",
              "      <td>1</td>\n",
              "      <td>0</td>\n",
              "    </tr>\n",
              "    <tr>\n",
              "      <th>2</th>\n",
              "      <td>NJ</td>\n",
              "      <td>137</td>\n",
              "      <td>415</td>\n",
              "      <td>358-1921</td>\n",
              "      <td>0</td>\n",
              "      <td>0</td>\n",
              "      <td>0</td>\n",
              "      <td>243.4</td>\n",
              "      <td>114</td>\n",
              "      <td>41.38</td>\n",
              "      <td>...</td>\n",
              "      <td>110</td>\n",
              "      <td>10.30</td>\n",
              "      <td>162.6</td>\n",
              "      <td>104</td>\n",
              "      <td>7.32</td>\n",
              "      <td>12.2</td>\n",
              "      <td>5</td>\n",
              "      <td>3.29</td>\n",
              "      <td>0</td>\n",
              "      <td>0</td>\n",
              "    </tr>\n",
              "    <tr>\n",
              "      <th>3</th>\n",
              "      <td>OH</td>\n",
              "      <td>84</td>\n",
              "      <td>408</td>\n",
              "      <td>375-9999</td>\n",
              "      <td>1</td>\n",
              "      <td>0</td>\n",
              "      <td>0</td>\n",
              "      <td>299.4</td>\n",
              "      <td>71</td>\n",
              "      <td>50.90</td>\n",
              "      <td>...</td>\n",
              "      <td>88</td>\n",
              "      <td>5.26</td>\n",
              "      <td>196.9</td>\n",
              "      <td>89</td>\n",
              "      <td>8.86</td>\n",
              "      <td>6.6</td>\n",
              "      <td>7</td>\n",
              "      <td>1.78</td>\n",
              "      <td>2</td>\n",
              "      <td>0</td>\n",
              "    </tr>\n",
              "    <tr>\n",
              "      <th>4</th>\n",
              "      <td>OK</td>\n",
              "      <td>75</td>\n",
              "      <td>415</td>\n",
              "      <td>330-6626</td>\n",
              "      <td>1</td>\n",
              "      <td>0</td>\n",
              "      <td>0</td>\n",
              "      <td>166.7</td>\n",
              "      <td>113</td>\n",
              "      <td>28.34</td>\n",
              "      <td>...</td>\n",
              "      <td>122</td>\n",
              "      <td>12.61</td>\n",
              "      <td>186.9</td>\n",
              "      <td>121</td>\n",
              "      <td>8.41</td>\n",
              "      <td>10.1</td>\n",
              "      <td>3</td>\n",
              "      <td>2.73</td>\n",
              "      <td>3</td>\n",
              "      <td>0</td>\n",
              "    </tr>\n",
              "  </tbody>\n",
              "</table>\n",
              "<p>5 rows × 21 columns</p>\n",
              "</div>\n",
              "      <button class=\"colab-df-convert\" onclick=\"convertToInteractive('df-9db01015-7232-4663-b5b1-40f64d869a32')\"\n",
              "              title=\"Convert this dataframe to an interactive table.\"\n",
              "              style=\"display:none;\">\n",
              "        \n",
              "  <svg xmlns=\"http://www.w3.org/2000/svg\" height=\"24px\"viewBox=\"0 0 24 24\"\n",
              "       width=\"24px\">\n",
              "    <path d=\"M0 0h24v24H0V0z\" fill=\"none\"/>\n",
              "    <path d=\"M18.56 5.44l.94 2.06.94-2.06 2.06-.94-2.06-.94-.94-2.06-.94 2.06-2.06.94zm-11 1L8.5 8.5l.94-2.06 2.06-.94-2.06-.94L8.5 2.5l-.94 2.06-2.06.94zm10 10l.94 2.06.94-2.06 2.06-.94-2.06-.94-.94-2.06-.94 2.06-2.06.94z\"/><path d=\"M17.41 7.96l-1.37-1.37c-.4-.4-.92-.59-1.43-.59-.52 0-1.04.2-1.43.59L10.3 9.45l-7.72 7.72c-.78.78-.78 2.05 0 2.83L4 21.41c.39.39.9.59 1.41.59.51 0 1.02-.2 1.41-.59l7.78-7.78 2.81-2.81c.8-.78.8-2.07 0-2.86zM5.41 20L4 18.59l7.72-7.72 1.47 1.35L5.41 20z\"/>\n",
              "  </svg>\n",
              "      </button>\n",
              "      \n",
              "  <style>\n",
              "    .colab-df-container {\n",
              "      display:flex;\n",
              "      flex-wrap:wrap;\n",
              "      gap: 12px;\n",
              "    }\n",
              "\n",
              "    .colab-df-convert {\n",
              "      background-color: #E8F0FE;\n",
              "      border: none;\n",
              "      border-radius: 50%;\n",
              "      cursor: pointer;\n",
              "      display: none;\n",
              "      fill: #1967D2;\n",
              "      height: 32px;\n",
              "      padding: 0 0 0 0;\n",
              "      width: 32px;\n",
              "    }\n",
              "\n",
              "    .colab-df-convert:hover {\n",
              "      background-color: #E2EBFA;\n",
              "      box-shadow: 0px 1px 2px rgba(60, 64, 67, 0.3), 0px 1px 3px 1px rgba(60, 64, 67, 0.15);\n",
              "      fill: #174EA6;\n",
              "    }\n",
              "\n",
              "    [theme=dark] .colab-df-convert {\n",
              "      background-color: #3B4455;\n",
              "      fill: #D2E3FC;\n",
              "    }\n",
              "\n",
              "    [theme=dark] .colab-df-convert:hover {\n",
              "      background-color: #434B5C;\n",
              "      box-shadow: 0px 1px 3px 1px rgba(0, 0, 0, 0.15);\n",
              "      filter: drop-shadow(0px 1px 2px rgba(0, 0, 0, 0.3));\n",
              "      fill: #FFFFFF;\n",
              "    }\n",
              "  </style>\n",
              "\n",
              "      <script>\n",
              "        const buttonEl =\n",
              "          document.querySelector('#df-9db01015-7232-4663-b5b1-40f64d869a32 button.colab-df-convert');\n",
              "        buttonEl.style.display =\n",
              "          google.colab.kernel.accessAllowed ? 'block' : 'none';\n",
              "\n",
              "        async function convertToInteractive(key) {\n",
              "          const element = document.querySelector('#df-9db01015-7232-4663-b5b1-40f64d869a32');\n",
              "          const dataTable =\n",
              "            await google.colab.kernel.invokeFunction('convertToInteractive',\n",
              "                                                     [key], {});\n",
              "          if (!dataTable) return;\n",
              "\n",
              "          const docLinkHtml = 'Like what you see? Visit the ' +\n",
              "            '<a target=\"_blank\" href=https://colab.research.google.com/notebooks/data_table.ipynb>data table notebook</a>'\n",
              "            + ' to learn more about interactive tables.';\n",
              "          element.innerHTML = '';\n",
              "          dataTable['output_type'] = 'display_data';\n",
              "          await google.colab.output.renderOutput(dataTable, element);\n",
              "          const docLink = document.createElement('div');\n",
              "          docLink.innerHTML = docLinkHtml;\n",
              "          element.appendChild(docLink);\n",
              "        }\n",
              "      </script>\n",
              "    </div>\n",
              "  </div>\n",
              "  "
            ]
          },
          "metadata": {},
          "execution_count": 723
        }
      ],
      "source": [
        "df.head()"
      ]
    },
    {
      "cell_type": "code",
      "execution_count": null,
      "metadata": {
        "colab": {
          "base_uri": "https://localhost:8080/",
          "height": 709
        },
        "id": "QLIOJUPJaYbB",
        "outputId": "31d48c54-1582-4fca-d3e9-1682ca457393"
      },
      "outputs": [
        {
          "output_type": "execute_result",
          "data": {
            "text/plain": [
              "              acclen    arcode   intplan     voice  nummailmes     tdmin  \\\n",
              "acclen      1.000000 -0.012463  0.024735  0.002918   -0.004628  0.006216   \n",
              "arcode     -0.012463  1.000000  0.048551 -0.000747   -0.001994 -0.008264   \n",
              "intplan     0.024735  0.048551  1.000000  0.006006    0.008745  0.049396   \n",
              "voice       0.002918 -0.000747  0.006006  1.000000    0.956927 -0.001684   \n",
              "nummailmes -0.004628 -0.001994  0.008745  0.956927    1.000000  0.000778   \n",
              "tdmin       0.006216 -0.008264  0.049396 -0.001684    0.000778  1.000000   \n",
              "tdcal       0.038470 -0.009646  0.003755 -0.011086   -0.009548  0.006750   \n",
              "tdchar      0.006214 -0.008264  0.049398 -0.001686    0.000776  1.000000   \n",
              "temin      -0.006757  0.003580  0.019100  0.021545    0.017562  0.007043   \n",
              "tecal       0.019260 -0.011886  0.006114 -0.006444   -0.005864  0.015769   \n",
              "tecahr     -0.006745  0.003607  0.019106  0.021559    0.017578  0.007029   \n",
              "tnmin      -0.008955 -0.005825 -0.028905  0.006079    0.007681  0.004323   \n",
              "tncal      -0.013176  0.016522  0.012451  0.015553    0.007123  0.022972   \n",
              "tnchar     -0.008960 -0.005845 -0.028913  0.006064    0.007663  0.004300   \n",
              "timin       0.009514 -0.018288  0.045871 -0.001318    0.002856 -0.010155   \n",
              "tical       0.020661 -0.024179  0.017366  0.007618    0.013957  0.008033   \n",
              "tichar      0.009546 -0.018395  0.045780 -0.001276    0.002884 -0.010092   \n",
              "ncsc       -0.003796  0.027572 -0.024522 -0.017824   -0.013263 -0.013423   \n",
              "label       0.016541  0.006174  0.259852 -0.102148   -0.089728  0.205151   \n",
              "\n",
              "               tdcal    tdchar     temin     tecal    tecahr     tnmin  \\\n",
              "acclen      0.038470  0.006214 -0.006757  0.019260 -0.006745 -0.008955   \n",
              "arcode     -0.009646 -0.008264  0.003580 -0.011886  0.003607 -0.005825   \n",
              "intplan     0.003755  0.049398  0.019100  0.006114  0.019106 -0.028905   \n",
              "voice      -0.011086 -0.001686  0.021545 -0.006444  0.021559  0.006079   \n",
              "nummailmes -0.009548  0.000776  0.017562 -0.005864  0.017578  0.007681   \n",
              "tdmin       0.006750  1.000000  0.007043  0.015769  0.007029  0.004323   \n",
              "tdcal       1.000000  0.006753 -0.021451  0.006462 -0.021449  0.022938   \n",
              "tdchar      0.006753  1.000000  0.007050  0.015769  0.007036  0.004324   \n",
              "temin      -0.021451  0.007050  1.000000 -0.011430  1.000000 -0.012584   \n",
              "tecal       0.006462  0.015769 -0.011430  1.000000 -0.011423 -0.002093   \n",
              "tecahr     -0.021449  0.007036  1.000000 -0.011423  1.000000 -0.012592   \n",
              "tnmin       0.022938  0.004324 -0.012584 -0.002093 -0.012592  1.000000   \n",
              "tncal      -0.019557  0.022972  0.007586  0.007710  0.007596  0.011204   \n",
              "tnchar      0.022927  0.004301 -0.012593 -0.002056 -0.012601  0.999999   \n",
              "timin       0.021565 -0.010157 -0.011035  0.008703 -0.011043 -0.015207   \n",
              "tical       0.004574  0.008032  0.002541  0.017434  0.002541 -0.012353   \n",
              "tichar      0.021666 -0.010094 -0.011067  0.008674 -0.011074 -0.015180   \n",
              "ncsc       -0.018942 -0.013427 -0.012985  0.002423 -0.012987 -0.009288   \n",
              "label       0.018459  0.205151  0.092796  0.009233  0.092786  0.035493   \n",
              "\n",
              "               tncal    tnchar     timin     tical    tichar      ncsc  \\\n",
              "acclen     -0.013176 -0.008960  0.009514  0.020661  0.009546 -0.003796   \n",
              "arcode      0.016522 -0.005845 -0.018288 -0.024179 -0.018395  0.027572   \n",
              "intplan     0.012451 -0.028913  0.045871  0.017366  0.045780 -0.024522   \n",
              "voice       0.015553  0.006064 -0.001318  0.007618 -0.001276 -0.017824   \n",
              "nummailmes  0.007123  0.007663  0.002856  0.013957  0.002884 -0.013263   \n",
              "tdmin       0.022972  0.004300 -0.010155  0.008033 -0.010092 -0.013423   \n",
              "tdcal      -0.019557  0.022927  0.021565  0.004574  0.021666 -0.018942   \n",
              "tdchar      0.022972  0.004301 -0.010157  0.008032 -0.010094 -0.013427   \n",
              "temin       0.007586 -0.012593 -0.011035  0.002541 -0.011067 -0.012985   \n",
              "tecal       0.007710 -0.002056  0.008703  0.017434  0.008674  0.002423   \n",
              "tecahr      0.007596 -0.012601 -0.011043  0.002541 -0.011074 -0.012987   \n",
              "tnmin       0.011204  0.999999 -0.015207 -0.012353 -0.015180 -0.009288   \n",
              "tncal       1.000000  0.011188 -0.013605  0.000305 -0.013630 -0.012802   \n",
              "tnchar      0.011188  1.000000 -0.015214 -0.012329 -0.015186 -0.009277   \n",
              "timin      -0.013605 -0.015214  1.000000  0.032304  0.999993 -0.009640   \n",
              "tical       0.000305 -0.012329  0.032304  1.000000  0.032372 -0.017561   \n",
              "tichar     -0.013630 -0.015186  0.999993  0.032372  1.000000 -0.009675   \n",
              "ncsc       -0.012802 -0.009277 -0.009640 -0.017561 -0.009675  1.000000   \n",
              "label       0.006141  0.035496  0.068239 -0.052844  0.068259  0.208750   \n",
              "\n",
              "               label  \n",
              "acclen      0.016541  \n",
              "arcode      0.006174  \n",
              "intplan     0.259852  \n",
              "voice      -0.102148  \n",
              "nummailmes -0.089728  \n",
              "tdmin       0.205151  \n",
              "tdcal       0.018459  \n",
              "tdchar      0.205151  \n",
              "temin       0.092796  \n",
              "tecal       0.009233  \n",
              "tecahr      0.092786  \n",
              "tnmin       0.035493  \n",
              "tncal       0.006141  \n",
              "tnchar      0.035496  \n",
              "timin       0.068239  \n",
              "tical      -0.052844  \n",
              "tichar      0.068259  \n",
              "ncsc        0.208750  \n",
              "label       1.000000  "
            ],
            "text/html": [
              "\n",
              "  <div id=\"df-249dc118-1157-4ab1-ae4f-3bb322205ec1\">\n",
              "    <div class=\"colab-df-container\">\n",
              "      <div>\n",
              "<style scoped>\n",
              "    .dataframe tbody tr th:only-of-type {\n",
              "        vertical-align: middle;\n",
              "    }\n",
              "\n",
              "    .dataframe tbody tr th {\n",
              "        vertical-align: top;\n",
              "    }\n",
              "\n",
              "    .dataframe thead th {\n",
              "        text-align: right;\n",
              "    }\n",
              "</style>\n",
              "<table border=\"1\" class=\"dataframe\">\n",
              "  <thead>\n",
              "    <tr style=\"text-align: right;\">\n",
              "      <th></th>\n",
              "      <th>acclen</th>\n",
              "      <th>arcode</th>\n",
              "      <th>intplan</th>\n",
              "      <th>voice</th>\n",
              "      <th>nummailmes</th>\n",
              "      <th>tdmin</th>\n",
              "      <th>tdcal</th>\n",
              "      <th>tdchar</th>\n",
              "      <th>temin</th>\n",
              "      <th>tecal</th>\n",
              "      <th>tecahr</th>\n",
              "      <th>tnmin</th>\n",
              "      <th>tncal</th>\n",
              "      <th>tnchar</th>\n",
              "      <th>timin</th>\n",
              "      <th>tical</th>\n",
              "      <th>tichar</th>\n",
              "      <th>ncsc</th>\n",
              "      <th>label</th>\n",
              "    </tr>\n",
              "  </thead>\n",
              "  <tbody>\n",
              "    <tr>\n",
              "      <th>acclen</th>\n",
              "      <td>1.000000</td>\n",
              "      <td>-0.012463</td>\n",
              "      <td>0.024735</td>\n",
              "      <td>0.002918</td>\n",
              "      <td>-0.004628</td>\n",
              "      <td>0.006216</td>\n",
              "      <td>0.038470</td>\n",
              "      <td>0.006214</td>\n",
              "      <td>-0.006757</td>\n",
              "      <td>0.019260</td>\n",
              "      <td>-0.006745</td>\n",
              "      <td>-0.008955</td>\n",
              "      <td>-0.013176</td>\n",
              "      <td>-0.008960</td>\n",
              "      <td>0.009514</td>\n",
              "      <td>0.020661</td>\n",
              "      <td>0.009546</td>\n",
              "      <td>-0.003796</td>\n",
              "      <td>0.016541</td>\n",
              "    </tr>\n",
              "    <tr>\n",
              "      <th>arcode</th>\n",
              "      <td>-0.012463</td>\n",
              "      <td>1.000000</td>\n",
              "      <td>0.048551</td>\n",
              "      <td>-0.000747</td>\n",
              "      <td>-0.001994</td>\n",
              "      <td>-0.008264</td>\n",
              "      <td>-0.009646</td>\n",
              "      <td>-0.008264</td>\n",
              "      <td>0.003580</td>\n",
              "      <td>-0.011886</td>\n",
              "      <td>0.003607</td>\n",
              "      <td>-0.005825</td>\n",
              "      <td>0.016522</td>\n",
              "      <td>-0.005845</td>\n",
              "      <td>-0.018288</td>\n",
              "      <td>-0.024179</td>\n",
              "      <td>-0.018395</td>\n",
              "      <td>0.027572</td>\n",
              "      <td>0.006174</td>\n",
              "    </tr>\n",
              "    <tr>\n",
              "      <th>intplan</th>\n",
              "      <td>0.024735</td>\n",
              "      <td>0.048551</td>\n",
              "      <td>1.000000</td>\n",
              "      <td>0.006006</td>\n",
              "      <td>0.008745</td>\n",
              "      <td>0.049396</td>\n",
              "      <td>0.003755</td>\n",
              "      <td>0.049398</td>\n",
              "      <td>0.019100</td>\n",
              "      <td>0.006114</td>\n",
              "      <td>0.019106</td>\n",
              "      <td>-0.028905</td>\n",
              "      <td>0.012451</td>\n",
              "      <td>-0.028913</td>\n",
              "      <td>0.045871</td>\n",
              "      <td>0.017366</td>\n",
              "      <td>0.045780</td>\n",
              "      <td>-0.024522</td>\n",
              "      <td>0.259852</td>\n",
              "    </tr>\n",
              "    <tr>\n",
              "      <th>voice</th>\n",
              "      <td>0.002918</td>\n",
              "      <td>-0.000747</td>\n",
              "      <td>0.006006</td>\n",
              "      <td>1.000000</td>\n",
              "      <td>0.956927</td>\n",
              "      <td>-0.001684</td>\n",
              "      <td>-0.011086</td>\n",
              "      <td>-0.001686</td>\n",
              "      <td>0.021545</td>\n",
              "      <td>-0.006444</td>\n",
              "      <td>0.021559</td>\n",
              "      <td>0.006079</td>\n",
              "      <td>0.015553</td>\n",
              "      <td>0.006064</td>\n",
              "      <td>-0.001318</td>\n",
              "      <td>0.007618</td>\n",
              "      <td>-0.001276</td>\n",
              "      <td>-0.017824</td>\n",
              "      <td>-0.102148</td>\n",
              "    </tr>\n",
              "    <tr>\n",
              "      <th>nummailmes</th>\n",
              "      <td>-0.004628</td>\n",
              "      <td>-0.001994</td>\n",
              "      <td>0.008745</td>\n",
              "      <td>0.956927</td>\n",
              "      <td>1.000000</td>\n",
              "      <td>0.000778</td>\n",
              "      <td>-0.009548</td>\n",
              "      <td>0.000776</td>\n",
              "      <td>0.017562</td>\n",
              "      <td>-0.005864</td>\n",
              "      <td>0.017578</td>\n",
              "      <td>0.007681</td>\n",
              "      <td>0.007123</td>\n",
              "      <td>0.007663</td>\n",
              "      <td>0.002856</td>\n",
              "      <td>0.013957</td>\n",
              "      <td>0.002884</td>\n",
              "      <td>-0.013263</td>\n",
              "      <td>-0.089728</td>\n",
              "    </tr>\n",
              "    <tr>\n",
              "      <th>tdmin</th>\n",
              "      <td>0.006216</td>\n",
              "      <td>-0.008264</td>\n",
              "      <td>0.049396</td>\n",
              "      <td>-0.001684</td>\n",
              "      <td>0.000778</td>\n",
              "      <td>1.000000</td>\n",
              "      <td>0.006750</td>\n",
              "      <td>1.000000</td>\n",
              "      <td>0.007043</td>\n",
              "      <td>0.015769</td>\n",
              "      <td>0.007029</td>\n",
              "      <td>0.004323</td>\n",
              "      <td>0.022972</td>\n",
              "      <td>0.004300</td>\n",
              "      <td>-0.010155</td>\n",
              "      <td>0.008033</td>\n",
              "      <td>-0.010092</td>\n",
              "      <td>-0.013423</td>\n",
              "      <td>0.205151</td>\n",
              "    </tr>\n",
              "    <tr>\n",
              "      <th>tdcal</th>\n",
              "      <td>0.038470</td>\n",
              "      <td>-0.009646</td>\n",
              "      <td>0.003755</td>\n",
              "      <td>-0.011086</td>\n",
              "      <td>-0.009548</td>\n",
              "      <td>0.006750</td>\n",
              "      <td>1.000000</td>\n",
              "      <td>0.006753</td>\n",
              "      <td>-0.021451</td>\n",
              "      <td>0.006462</td>\n",
              "      <td>-0.021449</td>\n",
              "      <td>0.022938</td>\n",
              "      <td>-0.019557</td>\n",
              "      <td>0.022927</td>\n",
              "      <td>0.021565</td>\n",
              "      <td>0.004574</td>\n",
              "      <td>0.021666</td>\n",
              "      <td>-0.018942</td>\n",
              "      <td>0.018459</td>\n",
              "    </tr>\n",
              "    <tr>\n",
              "      <th>tdchar</th>\n",
              "      <td>0.006214</td>\n",
              "      <td>-0.008264</td>\n",
              "      <td>0.049398</td>\n",
              "      <td>-0.001686</td>\n",
              "      <td>0.000776</td>\n",
              "      <td>1.000000</td>\n",
              "      <td>0.006753</td>\n",
              "      <td>1.000000</td>\n",
              "      <td>0.007050</td>\n",
              "      <td>0.015769</td>\n",
              "      <td>0.007036</td>\n",
              "      <td>0.004324</td>\n",
              "      <td>0.022972</td>\n",
              "      <td>0.004301</td>\n",
              "      <td>-0.010157</td>\n",
              "      <td>0.008032</td>\n",
              "      <td>-0.010094</td>\n",
              "      <td>-0.013427</td>\n",
              "      <td>0.205151</td>\n",
              "    </tr>\n",
              "    <tr>\n",
              "      <th>temin</th>\n",
              "      <td>-0.006757</td>\n",
              "      <td>0.003580</td>\n",
              "      <td>0.019100</td>\n",
              "      <td>0.021545</td>\n",
              "      <td>0.017562</td>\n",
              "      <td>0.007043</td>\n",
              "      <td>-0.021451</td>\n",
              "      <td>0.007050</td>\n",
              "      <td>1.000000</td>\n",
              "      <td>-0.011430</td>\n",
              "      <td>1.000000</td>\n",
              "      <td>-0.012584</td>\n",
              "      <td>0.007586</td>\n",
              "      <td>-0.012593</td>\n",
              "      <td>-0.011035</td>\n",
              "      <td>0.002541</td>\n",
              "      <td>-0.011067</td>\n",
              "      <td>-0.012985</td>\n",
              "      <td>0.092796</td>\n",
              "    </tr>\n",
              "    <tr>\n",
              "      <th>tecal</th>\n",
              "      <td>0.019260</td>\n",
              "      <td>-0.011886</td>\n",
              "      <td>0.006114</td>\n",
              "      <td>-0.006444</td>\n",
              "      <td>-0.005864</td>\n",
              "      <td>0.015769</td>\n",
              "      <td>0.006462</td>\n",
              "      <td>0.015769</td>\n",
              "      <td>-0.011430</td>\n",
              "      <td>1.000000</td>\n",
              "      <td>-0.011423</td>\n",
              "      <td>-0.002093</td>\n",
              "      <td>0.007710</td>\n",
              "      <td>-0.002056</td>\n",
              "      <td>0.008703</td>\n",
              "      <td>0.017434</td>\n",
              "      <td>0.008674</td>\n",
              "      <td>0.002423</td>\n",
              "      <td>0.009233</td>\n",
              "    </tr>\n",
              "    <tr>\n",
              "      <th>tecahr</th>\n",
              "      <td>-0.006745</td>\n",
              "      <td>0.003607</td>\n",
              "      <td>0.019106</td>\n",
              "      <td>0.021559</td>\n",
              "      <td>0.017578</td>\n",
              "      <td>0.007029</td>\n",
              "      <td>-0.021449</td>\n",
              "      <td>0.007036</td>\n",
              "      <td>1.000000</td>\n",
              "      <td>-0.011423</td>\n",
              "      <td>1.000000</td>\n",
              "      <td>-0.012592</td>\n",
              "      <td>0.007596</td>\n",
              "      <td>-0.012601</td>\n",
              "      <td>-0.011043</td>\n",
              "      <td>0.002541</td>\n",
              "      <td>-0.011074</td>\n",
              "      <td>-0.012987</td>\n",
              "      <td>0.092786</td>\n",
              "    </tr>\n",
              "    <tr>\n",
              "      <th>tnmin</th>\n",
              "      <td>-0.008955</td>\n",
              "      <td>-0.005825</td>\n",
              "      <td>-0.028905</td>\n",
              "      <td>0.006079</td>\n",
              "      <td>0.007681</td>\n",
              "      <td>0.004323</td>\n",
              "      <td>0.022938</td>\n",
              "      <td>0.004324</td>\n",
              "      <td>-0.012584</td>\n",
              "      <td>-0.002093</td>\n",
              "      <td>-0.012592</td>\n",
              "      <td>1.000000</td>\n",
              "      <td>0.011204</td>\n",
              "      <td>0.999999</td>\n",
              "      <td>-0.015207</td>\n",
              "      <td>-0.012353</td>\n",
              "      <td>-0.015180</td>\n",
              "      <td>-0.009288</td>\n",
              "      <td>0.035493</td>\n",
              "    </tr>\n",
              "    <tr>\n",
              "      <th>tncal</th>\n",
              "      <td>-0.013176</td>\n",
              "      <td>0.016522</td>\n",
              "      <td>0.012451</td>\n",
              "      <td>0.015553</td>\n",
              "      <td>0.007123</td>\n",
              "      <td>0.022972</td>\n",
              "      <td>-0.019557</td>\n",
              "      <td>0.022972</td>\n",
              "      <td>0.007586</td>\n",
              "      <td>0.007710</td>\n",
              "      <td>0.007596</td>\n",
              "      <td>0.011204</td>\n",
              "      <td>1.000000</td>\n",
              "      <td>0.011188</td>\n",
              "      <td>-0.013605</td>\n",
              "      <td>0.000305</td>\n",
              "      <td>-0.013630</td>\n",
              "      <td>-0.012802</td>\n",
              "      <td>0.006141</td>\n",
              "    </tr>\n",
              "    <tr>\n",
              "      <th>tnchar</th>\n",
              "      <td>-0.008960</td>\n",
              "      <td>-0.005845</td>\n",
              "      <td>-0.028913</td>\n",
              "      <td>0.006064</td>\n",
              "      <td>0.007663</td>\n",
              "      <td>0.004300</td>\n",
              "      <td>0.022927</td>\n",
              "      <td>0.004301</td>\n",
              "      <td>-0.012593</td>\n",
              "      <td>-0.002056</td>\n",
              "      <td>-0.012601</td>\n",
              "      <td>0.999999</td>\n",
              "      <td>0.011188</td>\n",
              "      <td>1.000000</td>\n",
              "      <td>-0.015214</td>\n",
              "      <td>-0.012329</td>\n",
              "      <td>-0.015186</td>\n",
              "      <td>-0.009277</td>\n",
              "      <td>0.035496</td>\n",
              "    </tr>\n",
              "    <tr>\n",
              "      <th>timin</th>\n",
              "      <td>0.009514</td>\n",
              "      <td>-0.018288</td>\n",
              "      <td>0.045871</td>\n",
              "      <td>-0.001318</td>\n",
              "      <td>0.002856</td>\n",
              "      <td>-0.010155</td>\n",
              "      <td>0.021565</td>\n",
              "      <td>-0.010157</td>\n",
              "      <td>-0.011035</td>\n",
              "      <td>0.008703</td>\n",
              "      <td>-0.011043</td>\n",
              "      <td>-0.015207</td>\n",
              "      <td>-0.013605</td>\n",
              "      <td>-0.015214</td>\n",
              "      <td>1.000000</td>\n",
              "      <td>0.032304</td>\n",
              "      <td>0.999993</td>\n",
              "      <td>-0.009640</td>\n",
              "      <td>0.068239</td>\n",
              "    </tr>\n",
              "    <tr>\n",
              "      <th>tical</th>\n",
              "      <td>0.020661</td>\n",
              "      <td>-0.024179</td>\n",
              "      <td>0.017366</td>\n",
              "      <td>0.007618</td>\n",
              "      <td>0.013957</td>\n",
              "      <td>0.008033</td>\n",
              "      <td>0.004574</td>\n",
              "      <td>0.008032</td>\n",
              "      <td>0.002541</td>\n",
              "      <td>0.017434</td>\n",
              "      <td>0.002541</td>\n",
              "      <td>-0.012353</td>\n",
              "      <td>0.000305</td>\n",
              "      <td>-0.012329</td>\n",
              "      <td>0.032304</td>\n",
              "      <td>1.000000</td>\n",
              "      <td>0.032372</td>\n",
              "      <td>-0.017561</td>\n",
              "      <td>-0.052844</td>\n",
              "    </tr>\n",
              "    <tr>\n",
              "      <th>tichar</th>\n",
              "      <td>0.009546</td>\n",
              "      <td>-0.018395</td>\n",
              "      <td>0.045780</td>\n",
              "      <td>-0.001276</td>\n",
              "      <td>0.002884</td>\n",
              "      <td>-0.010092</td>\n",
              "      <td>0.021666</td>\n",
              "      <td>-0.010094</td>\n",
              "      <td>-0.011067</td>\n",
              "      <td>0.008674</td>\n",
              "      <td>-0.011074</td>\n",
              "      <td>-0.015180</td>\n",
              "      <td>-0.013630</td>\n",
              "      <td>-0.015186</td>\n",
              "      <td>0.999993</td>\n",
              "      <td>0.032372</td>\n",
              "      <td>1.000000</td>\n",
              "      <td>-0.009675</td>\n",
              "      <td>0.068259</td>\n",
              "    </tr>\n",
              "    <tr>\n",
              "      <th>ncsc</th>\n",
              "      <td>-0.003796</td>\n",
              "      <td>0.027572</td>\n",
              "      <td>-0.024522</td>\n",
              "      <td>-0.017824</td>\n",
              "      <td>-0.013263</td>\n",
              "      <td>-0.013423</td>\n",
              "      <td>-0.018942</td>\n",
              "      <td>-0.013427</td>\n",
              "      <td>-0.012985</td>\n",
              "      <td>0.002423</td>\n",
              "      <td>-0.012987</td>\n",
              "      <td>-0.009288</td>\n",
              "      <td>-0.012802</td>\n",
              "      <td>-0.009277</td>\n",
              "      <td>-0.009640</td>\n",
              "      <td>-0.017561</td>\n",
              "      <td>-0.009675</td>\n",
              "      <td>1.000000</td>\n",
              "      <td>0.208750</td>\n",
              "    </tr>\n",
              "    <tr>\n",
              "      <th>label</th>\n",
              "      <td>0.016541</td>\n",
              "      <td>0.006174</td>\n",
              "      <td>0.259852</td>\n",
              "      <td>-0.102148</td>\n",
              "      <td>-0.089728</td>\n",
              "      <td>0.205151</td>\n",
              "      <td>0.018459</td>\n",
              "      <td>0.205151</td>\n",
              "      <td>0.092796</td>\n",
              "      <td>0.009233</td>\n",
              "      <td>0.092786</td>\n",
              "      <td>0.035493</td>\n",
              "      <td>0.006141</td>\n",
              "      <td>0.035496</td>\n",
              "      <td>0.068239</td>\n",
              "      <td>-0.052844</td>\n",
              "      <td>0.068259</td>\n",
              "      <td>0.208750</td>\n",
              "      <td>1.000000</td>\n",
              "    </tr>\n",
              "  </tbody>\n",
              "</table>\n",
              "</div>\n",
              "      <button class=\"colab-df-convert\" onclick=\"convertToInteractive('df-249dc118-1157-4ab1-ae4f-3bb322205ec1')\"\n",
              "              title=\"Convert this dataframe to an interactive table.\"\n",
              "              style=\"display:none;\">\n",
              "        \n",
              "  <svg xmlns=\"http://www.w3.org/2000/svg\" height=\"24px\"viewBox=\"0 0 24 24\"\n",
              "       width=\"24px\">\n",
              "    <path d=\"M0 0h24v24H0V0z\" fill=\"none\"/>\n",
              "    <path d=\"M18.56 5.44l.94 2.06.94-2.06 2.06-.94-2.06-.94-.94-2.06-.94 2.06-2.06.94zm-11 1L8.5 8.5l.94-2.06 2.06-.94-2.06-.94L8.5 2.5l-.94 2.06-2.06.94zm10 10l.94 2.06.94-2.06 2.06-.94-2.06-.94-.94-2.06-.94 2.06-2.06.94z\"/><path d=\"M17.41 7.96l-1.37-1.37c-.4-.4-.92-.59-1.43-.59-.52 0-1.04.2-1.43.59L10.3 9.45l-7.72 7.72c-.78.78-.78 2.05 0 2.83L4 21.41c.39.39.9.59 1.41.59.51 0 1.02-.2 1.41-.59l7.78-7.78 2.81-2.81c.8-.78.8-2.07 0-2.86zM5.41 20L4 18.59l7.72-7.72 1.47 1.35L5.41 20z\"/>\n",
              "  </svg>\n",
              "      </button>\n",
              "      \n",
              "  <style>\n",
              "    .colab-df-container {\n",
              "      display:flex;\n",
              "      flex-wrap:wrap;\n",
              "      gap: 12px;\n",
              "    }\n",
              "\n",
              "    .colab-df-convert {\n",
              "      background-color: #E8F0FE;\n",
              "      border: none;\n",
              "      border-radius: 50%;\n",
              "      cursor: pointer;\n",
              "      display: none;\n",
              "      fill: #1967D2;\n",
              "      height: 32px;\n",
              "      padding: 0 0 0 0;\n",
              "      width: 32px;\n",
              "    }\n",
              "\n",
              "    .colab-df-convert:hover {\n",
              "      background-color: #E2EBFA;\n",
              "      box-shadow: 0px 1px 2px rgba(60, 64, 67, 0.3), 0px 1px 3px 1px rgba(60, 64, 67, 0.15);\n",
              "      fill: #174EA6;\n",
              "    }\n",
              "\n",
              "    [theme=dark] .colab-df-convert {\n",
              "      background-color: #3B4455;\n",
              "      fill: #D2E3FC;\n",
              "    }\n",
              "\n",
              "    [theme=dark] .colab-df-convert:hover {\n",
              "      background-color: #434B5C;\n",
              "      box-shadow: 0px 1px 3px 1px rgba(0, 0, 0, 0.15);\n",
              "      filter: drop-shadow(0px 1px 2px rgba(0, 0, 0, 0.3));\n",
              "      fill: #FFFFFF;\n",
              "    }\n",
              "  </style>\n",
              "\n",
              "      <script>\n",
              "        const buttonEl =\n",
              "          document.querySelector('#df-249dc118-1157-4ab1-ae4f-3bb322205ec1 button.colab-df-convert');\n",
              "        buttonEl.style.display =\n",
              "          google.colab.kernel.accessAllowed ? 'block' : 'none';\n",
              "\n",
              "        async function convertToInteractive(key) {\n",
              "          const element = document.querySelector('#df-249dc118-1157-4ab1-ae4f-3bb322205ec1');\n",
              "          const dataTable =\n",
              "            await google.colab.kernel.invokeFunction('convertToInteractive',\n",
              "                                                     [key], {});\n",
              "          if (!dataTable) return;\n",
              "\n",
              "          const docLinkHtml = 'Like what you see? Visit the ' +\n",
              "            '<a target=\"_blank\" href=https://colab.research.google.com/notebooks/data_table.ipynb>data table notebook</a>'\n",
              "            + ' to learn more about interactive tables.';\n",
              "          element.innerHTML = '';\n",
              "          dataTable['output_type'] = 'display_data';\n",
              "          await google.colab.output.renderOutput(dataTable, element);\n",
              "          const docLink = document.createElement('div');\n",
              "          docLink.innerHTML = docLinkHtml;\n",
              "          element.appendChild(docLink);\n",
              "        }\n",
              "      </script>\n",
              "    </div>\n",
              "  </div>\n",
              "  "
            ]
          },
          "metadata": {},
          "execution_count": 724
        }
      ],
      "source": [
        "df.corr() #correlation"
      ]
    },
    {
      "cell_type": "code",
      "execution_count": null,
      "metadata": {
        "colab": {
          "base_uri": "https://localhost:8080/",
          "height": 650
        },
        "id": "a4qq2GOCagfR",
        "outputId": "99dd4e89-c258-4697-a2ec-e96587496c01"
      },
      "outputs": [
        {
          "output_type": "display_data",
          "data": {
            "text/plain": [
              "<Figure size 864x720 with 2 Axes>"
            ],
            "image/png": "[encoded data removed]"
          },
          "metadata": {
            "needs_background": "light"
          }
        }
      ],
      "source": [
        "#plotting correlation\n",
        "plt.figure(figsize=(12,10))\n",
        "cor=df.corr()\n",
        "sns.heatmap(cor, annot=True, cmap=plt.cm.CMRmap_r)\n",
        "plt.show()"
      ]
    },
    {
      "cell_type": "code",
      "execution_count": null,
      "metadata": {
        "id": "kgYfWEVniNiG"
      },
      "outputs": [],
      "source": [
        "## we can discard one column from two columns with high correlation among themselves "
      ]
    },
    {
      "cell_type": "code",
      "execution_count": null,
      "metadata": {
        "colab": {
          "base_uri": "https://localhost:8080/",
          "height": 386
        },
        "id": "FzogFmFfa3Pu",
        "outputId": "f9e5696c-3745-44c1-f4b6-b275f294d834"
      },
      "outputs": [
        {
          "output_type": "execute_result",
          "data": {
            "text/plain": [
              "   st  acclen  arcode     phnum  intplan  voice  nummailmes  tdmin  tdcal  \\\n",
              "0  KS     128     415  382-4657        0      1          25  265.1    110   \n",
              "1  OH     107     415  371-7191        0      1          26  161.6    123   \n",
              "2  NJ     137     415  358-1921        0      0           0  243.4    114   \n",
              "3  OH      84     408  375-9999        1      0           0  299.4     71   \n",
              "4  OK      75     415  330-6626        1      0           0  166.7    113   \n",
              "\n",
              "   tdchar  ...  tecal  tecahr  tnmin  tncal  tnchar  timin  tical  tichar  \\\n",
              "0   45.07  ...     99   16.78  244.7     91   11.01   10.0      3    2.70   \n",
              "1   27.47  ...    103   16.62  254.4    103   11.45   13.7      3    3.70   \n",
              "2   41.38  ...    110   10.30  162.6    104    7.32   12.2      5    3.29   \n",
              "3   50.90  ...     88    5.26  196.9     89    8.86    6.6      7    1.78   \n",
              "4   28.34  ...    122   12.61  186.9    121    8.41   10.1      3    2.73   \n",
              "\n",
              "   ncsc  label  \n",
              "0     1      0  \n",
              "1     1      0  \n",
              "2     0      0  \n",
              "3     2      0  \n",
              "4     3      0  \n",
              "\n",
              "[5 rows x 21 columns]"
            ],
            "text/html": [
              "\n",
              "  <div id=\"df-e84f2d5d-ce12-46b5-9454-438e28685dee\">\n",
              "    <div class=\"colab-df-container\">\n",
              "      <div>\n",
              "<style scoped>\n",
              "    .dataframe tbody tr th:only-of-type {\n",
              "        vertical-align: middle;\n",
              "    }\n",
              "\n",
              "    .dataframe tbody tr th {\n",
              "        vertical-align: top;\n",
              "    }\n",
              "\n",
              "    .dataframe thead th {\n",
              "        text-align: right;\n",
              "    }\n",
              "</style>\n",
              "<table border=\"1\" class=\"dataframe\">\n",
              "  <thead>\n",
              "    <tr style=\"text-align: right;\">\n",
              "      <th></th>\n",
              "      <th>st</th>\n",
              "      <th>acclen</th>\n",
              "      <th>arcode</th>\n",
              "      <th>phnum</th>\n",
              "      <th>intplan</th>\n",
              "      <th>voice</th>\n",
              "      <th>nummailmes</th>\n",
              "      <th>tdmin</th>\n",
              "      <th>tdcal</th>\n",
              "      <th>tdchar</th>\n",
              "      <th>...</th>\n",
              "      <th>tecal</th>\n",
              "      <th>tecahr</th>\n",
              "      <th>tnmin</th>\n",
              "      <th>tncal</th>\n",
              "      <th>tnchar</th>\n",
              "      <th>timin</th>\n",
              "      <th>tical</th>\n",
              "      <th>tichar</th>\n",
              "      <th>ncsc</th>\n",
              "      <th>label</th>\n",
              "    </tr>\n",
              "  </thead>\n",
              "  <tbody>\n",
              "    <tr>\n",
              "      <th>0</th>\n",
              "      <td>KS</td>\n",
              "      <td>128</td>\n",
              "      <td>415</td>\n",
              "      <td>382-4657</td>\n",
              "      <td>0</td>\n",
              "      <td>1</td>\n",
              "      <td>25</td>\n",
              "      <td>265.1</td>\n",
              "      <td>110</td>\n",
              "      <td>45.07</td>\n",
              "      <td>...</td>\n",
              "      <td>99</td>\n",
              "      <td>16.78</td>\n",
              "      <td>244.7</td>\n",
              "      <td>91</td>\n",
              "      <td>11.01</td>\n",
              "      <td>10.0</td>\n",
              "      <td>3</td>\n",
              "      <td>2.70</td>\n",
              "      <td>1</td>\n",
              "      <td>0</td>\n",
              "    </tr>\n",
              "    <tr>\n",
              "      <th>1</th>\n",
              "      <td>OH</td>\n",
              "      <td>107</td>\n",
              "      <td>415</td>\n",
              "      <td>371-7191</td>\n",
              "      <td>0</td>\n",
              "      <td>1</td>\n",
              "      <td>26</td>\n",
              "      <td>161.6</td>\n",
              "      <td>123</td>\n",
              "      <td>27.47</td>\n",
              "      <td>...</td>\n",
              "      <td>103</td>\n",
              "      <td>16.62</td>\n",
              "      <td>254.4</td>\n",
              "      <td>103</td>\n",
              "      <td>11.45</td>\n",
              "      <td>13.7</td>\n",
              "      <td>3</td>\n",
              "      <td>3.70</td>\n",
              "      <td>1</td>\n",
              "      <td>0</td>\n",
              "    </tr>\n",
              "    <tr>\n",
              "      <th>2</th>\n",
              "      <td>NJ</td>\n",
              "      <td>137</td>\n",
              "      <td>415</td>\n",
              "      <td>358-1921</td>\n",
              "      <td>0</td>\n",
              "      <td>0</td>\n",
              "      <td>0</td>\n",
              "      <td>243.4</td>\n",
              "      <td>114</td>\n",
              "      <td>41.38</td>\n",
              "      <td>...</td>\n",
              "      <td>110</td>\n",
              "      <td>10.30</td>\n",
              "      <td>162.6</td>\n",
              "      <td>104</td>\n",
              "      <td>7.32</td>\n",
              "      <td>12.2</td>\n",
              "      <td>5</td>\n",
              "      <td>3.29</td>\n",
              "      <td>0</td>\n",
              "      <td>0</td>\n",
              "    </tr>\n",
              "    <tr>\n",
              "      <th>3</th>\n",
              "      <td>OH</td>\n",
              "      <td>84</td>\n",
              "      <td>408</td>\n",
              "      <td>375-9999</td>\n",
              "      <td>1</td>\n",
              "      <td>0</td>\n",
              "      <td>0</td>\n",
              "      <td>299.4</td>\n",
              "      <td>71</td>\n",
              "      <td>50.90</td>\n",
              "      <td>...</td>\n",
              "      <td>88</td>\n",
              "      <td>5.26</td>\n",
              "      <td>196.9</td>\n",
              "      <td>89</td>\n",
              "      <td>8.86</td>\n",
              "      <td>6.6</td>\n",
              "      <td>7</td>\n",
              "      <td>1.78</td>\n",
              "      <td>2</td>\n",
              "      <td>0</td>\n",
              "    </tr>\n",
              "    <tr>\n",
              "      <th>4</th>\n",
              "      <td>OK</td>\n",
              "      <td>75</td>\n",
              "      <td>415</td>\n",
              "      <td>330-6626</td>\n",
              "      <td>1</td>\n",
              "      <td>0</td>\n",
              "      <td>0</td>\n",
              "      <td>166.7</td>\n",
              "      <td>113</td>\n",
              "      <td>28.34</td>\n",
              "      <td>...</td>\n",
              "      <td>122</td>\n",
              "      <td>12.61</td>\n",
              "      <td>186.9</td>\n",
              "      <td>121</td>\n",
              "      <td>8.41</td>\n",
              "      <td>10.1</td>\n",
              "      <td>3</td>\n",
              "      <td>2.73</td>\n",
              "      <td>3</td>\n",
              "      <td>0</td>\n",
              "    </tr>\n",
              "  </tbody>\n",
              "</table>\n",
              "<p>5 rows × 21 columns</p>\n",
              "</div>\n",
              "      <button class=\"colab-df-convert\" onclick=\"convertToInteractive('df-e84f2d5d-ce12-46b5-9454-438e28685dee')\"\n",
              "              title=\"Convert this dataframe to an interactive table.\"\n",
              "              style=\"display:none;\">\n",
              "        \n",
              "  <svg xmlns=\"http://www.w3.org/2000/svg\" height=\"24px\"viewBox=\"0 0 24 24\"\n",
              "       width=\"24px\">\n",
              "    <path d=\"M0 0h24v24H0V0z\" fill=\"none\"/>\n",
              "    <path d=\"M18.56 5.44l.94 2.06.94-2.06 2.06-.94-2.06-.94-.94-2.06-.94 2.06-2.06.94zm-11 1L8.5 8.5l.94-2.06 2.06-.94-2.06-.94L8.5 2.5l-.94 2.06-2.06.94zm10 10l.94 2.06.94-2.06 2.06-.94-2.06-.94-.94-2.06-.94 2.06-2.06.94z\"/><path d=\"M17.41 7.96l-1.37-1.37c-.4-.4-.92-.59-1.43-.59-.52 0-1.04.2-1.43.59L10.3 9.45l-7.72 7.72c-.78.78-.78 2.05 0 2.83L4 21.41c.39.39.9.59 1.41.59.51 0 1.02-.2 1.41-.59l7.78-7.78 2.81-2.81c.8-.78.8-2.07 0-2.86zM5.41 20L4 18.59l7.72-7.72 1.47 1.35L5.41 20z\"/>\n",
              "  </svg>\n",
              "      </button>\n",
              "      \n",
              "  <style>\n",
              "    .colab-df-container {\n",
              "      display:flex;\n",
              "      flex-wrap:wrap;\n",
              "      gap: 12px;\n",
              "    }\n",
              "\n",
              "    .colab-df-convert {\n",
              "      background-color: #E8F0FE;\n",
              "      border: none;\n",
              "      border-radius: 50%;\n",
              "      cursor: pointer;\n",
              "      display: none;\n",
              "      fill: #1967D2;\n",
              "      height: 32px;\n",
              "      padding: 0 0 0 0;\n",
              "      width: 32px;\n",
              "    }\n",
              "\n",
              "    .colab-df-convert:hover {\n",
              "      background-color: #E2EBFA;\n",
              "      box-shadow: 0px 1px 2px rgba(60, 64, 67, 0.3), 0px 1px 3px 1px rgba(60, 64, 67, 0.15);\n",
              "      fill: #174EA6;\n",
              "    }\n",
              "\n",
              "    [theme=dark] .colab-df-convert {\n",
              "      background-color: #3B4455;\n",
              "      fill: #D2E3FC;\n",
              "    }\n",
              "\n",
              "    [theme=dark] .colab-df-convert:hover {\n",
              "      background-color: #434B5C;\n",
              "      box-shadow: 0px 1px 3px 1px rgba(0, 0, 0, 0.15);\n",
              "      filter: drop-shadow(0px 1px 2px rgba(0, 0, 0, 0.3));\n",
              "      fill: #FFFFFF;\n",
              "    }\n",
              "  </style>\n",
              "\n",
              "      <script>\n",
              "        const buttonEl =\n",
              "          document.querySelector('#df-e84f2d5d-ce12-46b5-9454-438e28685dee button.colab-df-convert');\n",
              "        buttonEl.style.display =\n",
              "          google.colab.kernel.accessAllowed ? 'block' : 'none';\n",
              "\n",
              "        async function convertToInteractive(key) {\n",
              "          const element = document.querySelector('#df-e84f2d5d-ce12-46b5-9454-438e28685dee');\n",
              "          const dataTable =\n",
              "            await google.colab.kernel.invokeFunction('convertToInteractive',\n",
              "                                                     [key], {});\n",
              "          if (!dataTable) return;\n",
              "\n",
              "          const docLinkHtml = 'Like what you see? Visit the ' +\n",
              "            '<a target=\"_blank\" href=https://colab.research.google.com/notebooks/data_table.ipynb>data table notebook</a>'\n",
              "            + ' to learn more about interactive tables.';\n",
              "          element.innerHTML = '';\n",
              "          dataTable['output_type'] = 'display_data';\n",
              "          await google.colab.output.renderOutput(dataTable, element);\n",
              "          const docLink = document.createElement('div');\n",
              "          docLink.innerHTML = docLinkHtml;\n",
              "          element.appendChild(docLink);\n",
              "        }\n",
              "      </script>\n",
              "    </div>\n",
              "  </div>\n",
              "  "
            ]
          },
          "metadata": {},
          "execution_count": 727
        }
      ],
      "source": [
        "df.head()"
      ]
    },
    {
      "cell_type": "markdown",
      "metadata": {
        "id": "Qj_JTY4ii43M"
      },
      "source": [
        "# Splitting train and test data"
      ]
    },
    {
      "cell_type": "code",
      "execution_count": null,
      "metadata": {
        "id": "wtQICDCOooF3"
      },
      "outputs": [],
      "source": [
        "from sklearn.model_selection import train_test_split"
      ]
    },
    {
      "cell_type": "code",
      "execution_count": null,
      "metadata": {
        "id": "EctOAzSQa6TY"
      },
      "outputs": [],
      "source": [
        "X=df.drop(\"label\",axis=1)   #separating X and y  \n",
        "y=df[\"label\"]               #storing target variable 'label' in y"
      ]
    },
    {
      "cell_type": "code",
      "execution_count": null,
      "metadata": {
        "id": "Av6WfLbta_8T"
      },
      "outputs": [],
      "source": [
        "X.drop([\"st\",\"arcode\",\"acclen\",\"phnum\"],axis=1,inplace=True) #dropping the first four columns"
      ]
    },
    {
      "cell_type": "code",
      "execution_count": null,
      "metadata": {
        "id": "ihLW13IxbGk-"
      },
      "outputs": [],
      "source": [
        "Xtrain, Xtest, ytrain, ytest = train_test_split(X,y,test_size=0.2,random_state=42) #splitting train and test data"
      ]
    },
    {
      "cell_type": "code",
      "execution_count": null,
      "metadata": {
        "id": "VCLYt3DIjKGV"
      },
      "outputs": [],
      "source": [
        "#in our case we have to decrease the false negative cases"
      ]
    },
    {
      "cell_type": "markdown",
      "metadata": {
        "id": "AqB4K0WQCRiS"
      },
      "source": [
        "# Logistic Regression()"
      ]
    },
    {
      "cell_type": "code",
      "execution_count": null,
      "metadata": {
        "id": "4hP8NTn27rch",
        "colab": {
          "base_uri": "https://localhost:8080/",
          "height": 206
        },
        "outputId": "627f478c-b54c-41e2-f95a-abdf69ab036d"
      },
      "outputs": [
        {
          "output_type": "execute_result",
          "data": {
            "text/plain": [
              "   intplan  voice  nummailmes  tdmin  tdcal  tdchar  temin  tecal  tecahr  \\\n",
              "0        0      1          25  265.1    110   45.07  197.4     99   16.78   \n",
              "1        0      1          26  161.6    123   27.47  195.5    103   16.62   \n",
              "2        0      0           0  243.4    114   41.38  121.2    110   10.30   \n",
              "3        1      0           0  299.4     71   50.90   61.9     88    5.26   \n",
              "4        1      0           0  166.7    113   28.34  148.3    122   12.61   \n",
              "\n",
              "   tnmin  tncal  tnchar  timin  tical  tichar  ncsc  \n",
              "0  244.7     91   11.01   10.0      3    2.70     1  \n",
              "1  254.4    103   11.45   13.7      3    3.70     1  \n",
              "2  162.6    104    7.32   12.2      5    3.29     0  \n",
              "3  196.9     89    8.86    6.6      7    1.78     2  \n",
              "4  186.9    121    8.41   10.1      3    2.73     3  "
            ],
            "text/html": [
              "\n",
              "  <div id=\"df-4e873ac7-7100-449f-9952-88ea6a0149c0\">\n",
              "    <div class=\"colab-df-container\">\n",
              "      <div>\n",
              "<style scoped>\n",
              "    .dataframe tbody tr th:only-of-type {\n",
              "        vertical-align: middle;\n",
              "    }\n",
              "\n",
              "    .dataframe tbody tr th {\n",
              "        vertical-align: top;\n",
              "    }\n",
              "\n",
              "    .dataframe thead th {\n",
              "        text-align: right;\n",
              "    }\n",
              "</style>\n",
              "<table border=\"1\" class=\"dataframe\">\n",
              "  <thead>\n",
              "    <tr style=\"text-align: right;\">\n",
              "      <th></th>\n",
              "      <th>intplan</th>\n",
              "      <th>voice</th>\n",
              "      <th>nummailmes</th>\n",
              "      <th>tdmin</th>\n",
              "      <th>tdcal</th>\n",
              "      <th>tdchar</th>\n",
              "      <th>temin</th>\n",
              "      <th>tecal</th>\n",
              "      <th>tecahr</th>\n",
              "      <th>tnmin</th>\n",
              "      <th>tncal</th>\n",
              "      <th>tnchar</th>\n",
              "      <th>timin</th>\n",
              "      <th>tical</th>\n",
              "      <th>tichar</th>\n",
              "      <th>ncsc</th>\n",
              "    </tr>\n",
              "  </thead>\n",
              "  <tbody>\n",
              "    <tr>\n",
              "      <th>0</th>\n",
              "      <td>0</td>\n",
              "      <td>1</td>\n",
              "      <td>25</td>\n",
              "      <td>265.1</td>\n",
              "      <td>110</td>\n",
              "      <td>45.07</td>\n",
              "      <td>197.4</td>\n",
              "      <td>99</td>\n",
              "      <td>16.78</td>\n",
              "      <td>244.7</td>\n",
              "      <td>91</td>\n",
              "      <td>11.01</td>\n",
              "      <td>10.0</td>\n",
              "      <td>3</td>\n",
              "      <td>2.70</td>\n",
              "      <td>1</td>\n",
              "    </tr>\n",
              "    <tr>\n",
              "      <th>1</th>\n",
              "      <td>0</td>\n",
              "      <td>1</td>\n",
              "      <td>26</td>\n",
              "      <td>161.6</td>\n",
              "      <td>123</td>\n",
              "      <td>27.47</td>\n",
              "      <td>195.5</td>\n",
              "      <td>103</td>\n",
              "      <td>16.62</td>\n",
              "      <td>254.4</td>\n",
              "      <td>103</td>\n",
              "      <td>11.45</td>\n",
              "      <td>13.7</td>\n",
              "      <td>3</td>\n",
              "      <td>3.70</td>\n",
              "      <td>1</td>\n",
              "    </tr>\n",
              "    <tr>\n",
              "      <th>2</th>\n",
              "      <td>0</td>\n",
              "      <td>0</td>\n",
              "      <td>0</td>\n",
              "      <td>243.4</td>\n",
              "      <td>114</td>\n",
              "      <td>41.38</td>\n",
              "      <td>121.2</td>\n",
              "      <td>110</td>\n",
              "      <td>10.30</td>\n",
              "      <td>162.6</td>\n",
              "      <td>104</td>\n",
              "      <td>7.32</td>\n",
              "      <td>12.2</td>\n",
              "      <td>5</td>\n",
              "      <td>3.29</td>\n",
              "      <td>0</td>\n",
              "    </tr>\n",
              "    <tr>\n",
              "      <th>3</th>\n",
              "      <td>1</td>\n",
              "      <td>0</td>\n",
              "      <td>0</td>\n",
              "      <td>299.4</td>\n",
              "      <td>71</td>\n",
              "      <td>50.90</td>\n",
              "      <td>61.9</td>\n",
              "      <td>88</td>\n",
              "      <td>5.26</td>\n",
              "      <td>196.9</td>\n",
              "      <td>89</td>\n",
              "      <td>8.86</td>\n",
              "      <td>6.6</td>\n",
              "      <td>7</td>\n",
              "      <td>1.78</td>\n",
              "      <td>2</td>\n",
              "    </tr>\n",
              "    <tr>\n",
              "      <th>4</th>\n",
              "      <td>1</td>\n",
              "      <td>0</td>\n",
              "      <td>0</td>\n",
              "      <td>166.7</td>\n",
              "      <td>113</td>\n",
              "      <td>28.34</td>\n",
              "      <td>148.3</td>\n",
              "      <td>122</td>\n",
              "      <td>12.61</td>\n",
              "      <td>186.9</td>\n",
              "      <td>121</td>\n",
              "      <td>8.41</td>\n",
              "      <td>10.1</td>\n",
              "      <td>3</td>\n",
              "      <td>2.73</td>\n",
              "      <td>3</td>\n",
              "    </tr>\n",
              "  </tbody>\n",
              "</table>\n",
              "</div>\n",
              "      <button class=\"colab-df-convert\" onclick=\"convertToInteractive('df-4e873ac7-7100-449f-9952-88ea6a0149c0')\"\n",
              "              title=\"Convert this dataframe to an interactive table.\"\n",
              "              style=\"display:none;\">\n",
              "        \n",
              "  <svg xmlns=\"http://www.w3.org/2000/svg\" height=\"24px\"viewBox=\"0 0 24 24\"\n",
              "       width=\"24px\">\n",
              "    <path d=\"M0 0h24v24H0V0z\" fill=\"none\"/>\n",
              "    <path d=\"M18.56 5.44l.94 2.06.94-2.06 2.06-.94-2.06-.94-.94-2.06-.94 2.06-2.06.94zm-11 1L8.5 8.5l.94-2.06 2.06-.94-2.06-.94L8.5 2.5l-.94 2.06-2.06.94zm10 10l.94 2.06.94-2.06 2.06-.94-2.06-.94-.94-2.06-.94 2.06-2.06.94z\"/><path d=\"M17.41 7.96l-1.37-1.37c-.4-.4-.92-.59-1.43-.59-.52 0-1.04.2-1.43.59L10.3 9.45l-7.72 7.72c-.78.78-.78 2.05 0 2.83L4 21.41c.39.39.9.59 1.41.59.51 0 1.02-.2 1.41-.59l7.78-7.78 2.81-2.81c.8-.78.8-2.07 0-2.86zM5.41 20L4 18.59l7.72-7.72 1.47 1.35L5.41 20z\"/>\n",
              "  </svg>\n",
              "      </button>\n",
              "      \n",
              "  <style>\n",
              "    .colab-df-container {\n",
              "      display:flex;\n",
              "      flex-wrap:wrap;\n",
              "      gap: 12px;\n",
              "    }\n",
              "\n",
              "    .colab-df-convert {\n",
              "      background-color: #E8F0FE;\n",
              "      border: none;\n",
              "      border-radius: 50%;\n",
              "      cursor: pointer;\n",
              "      display: none;\n",
              "      fill: #1967D2;\n",
              "      height: 32px;\n",
              "      padding: 0 0 0 0;\n",
              "      width: 32px;\n",
              "    }\n",
              "\n",
              "    .colab-df-convert:hover {\n",
              "      background-color: #E2EBFA;\n",
              "      box-shadow: 0px 1px 2px rgba(60, 64, 67, 0.3), 0px 1px 3px 1px rgba(60, 64, 67, 0.15);\n",
              "      fill: #174EA6;\n",
              "    }\n",
              "\n",
              "    [theme=dark] .colab-df-convert {\n",
              "      background-color: #3B4455;\n",
              "      fill: #D2E3FC;\n",
              "    }\n",
              "\n",
              "    [theme=dark] .colab-df-convert:hover {\n",
              "      background-color: #434B5C;\n",
              "      box-shadow: 0px 1px 3px 1px rgba(0, 0, 0, 0.15);\n",
              "      filter: drop-shadow(0px 1px 2px rgba(0, 0, 0, 0.3));\n",
              "      fill: #FFFFFF;\n",
              "    }\n",
              "  </style>\n",
              "\n",
              "      <script>\n",
              "        const buttonEl =\n",
              "          document.querySelector('#df-4e873ac7-7100-449f-9952-88ea6a0149c0 button.colab-df-convert');\n",
              "        buttonEl.style.display =\n",
              "          google.colab.kernel.accessAllowed ? 'block' : 'none';\n",
              "\n",
              "        async function convertToInteractive(key) {\n",
              "          const element = document.querySelector('#df-4e873ac7-7100-449f-9952-88ea6a0149c0');\n",
              "          const dataTable =\n",
              "            await google.colab.kernel.invokeFunction('convertToInteractive',\n",
              "                                                     [key], {});\n",
              "          if (!dataTable) return;\n",
              "\n",
              "          const docLinkHtml = 'Like what you see? Visit the ' +\n",
              "            '<a target=\"_blank\" href=https://colab.research.google.com/notebooks/data_table.ipynb>data table notebook</a>'\n",
              "            + ' to learn more about interactive tables.';\n",
              "          element.innerHTML = '';\n",
              "          dataTable['output_type'] = 'display_data';\n",
              "          await google.colab.output.renderOutput(dataTable, element);\n",
              "          const docLink = document.createElement('div');\n",
              "          docLink.innerHTML = docLinkHtml;\n",
              "          element.appendChild(docLink);\n",
              "        }\n",
              "      </script>\n",
              "    </div>\n",
              "  </div>\n",
              "  "
            ]
          },
          "metadata": {},
          "execution_count": 733
        }
      ],
      "source": [
        "X.head()"
      ]
    },
    {
      "cell_type": "code",
      "execution_count": null,
      "metadata": {
        "id": "OiUfd1m48R_i"
      },
      "outputs": [],
      "source": [
        "Xm=(X-X.mean())/X.std()"
      ]
    },
    {
      "cell_type": "code",
      "execution_count": null,
      "metadata": {
        "id": "DFt84ybh8R0W",
        "colab": {
          "base_uri": "https://localhost:8080/",
          "height": 270
        },
        "outputId": "2d2c80e4-8c5d-412c-89ca-7cd12a3ff195"
      },
      "outputs": [
        {
          "output_type": "execute_result",
          "data": {
            "text/plain": [
              "    intplan     voice  nummailmes     tdmin     tdcal    tdchar     temin  \\\n",
              "0 -0.327531  1.616843    1.234697  1.566532  0.476572  1.566801 -0.070599   \n",
              "1 -0.327531  1.616843    1.307752 -0.333688  1.124334 -0.333963 -0.108064   \n",
              "2 -0.327531 -0.618303   -0.591671  1.168128  0.675883  1.168289 -1.573147   \n",
              "3  3.052227 -0.618303   -0.591671  2.196267 -1.466716  2.196429 -2.742453   \n",
              "4  3.052227 -0.618303   -0.591671 -0.240054  0.626055 -0.240005 -1.038776   \n",
              "\n",
              "      tecal    tecahr     tnmin     tncal    tnchar     timin     tical  \\\n",
              "0 -0.055932 -0.070416  0.866613 -0.465425  0.865899 -0.084995 -0.601105   \n",
              "1  0.144845 -0.107533  1.058412  0.147802  1.059231  1.240296 -0.601105   \n",
              "2  0.496204 -1.573664 -0.756756  0.198905 -0.755457  0.703015  0.211502   \n",
              "3 -0.608068 -2.742856 -0.078539 -0.567629 -0.078794 -1.302831  1.024109   \n",
              "4  1.098534 -1.037784 -0.276270  1.067643 -0.276520 -0.049177 -0.601105   \n",
              "\n",
              "     tichar      ncsc  \n",
              "0 -0.085678 -0.427868  \n",
              "1  1.240982 -0.427868  \n",
              "2  0.697052 -1.188040  \n",
              "3 -1.306205  0.332305  \n",
              "4 -0.045878  1.092477  "
            ],
            "text/html": [
              "\n",
              "  <div id=\"df-8d6118eb-914e-4e9a-8d60-24dd3cd18c90\">\n",
              "    <div class=\"colab-df-container\">\n",
              "      <div>\n",
              "<style scoped>\n",
              "    .dataframe tbody tr th:only-of-type {\n",
              "        vertical-align: middle;\n",
              "    }\n",
              "\n",
              "    .dataframe tbody tr th {\n",
              "        vertical-align: top;\n",
              "    }\n",
              "\n",
              "    .dataframe thead th {\n",
              "        text-align: right;\n",
              "    }\n",
              "</style>\n",
              "<table border=\"1\" class=\"dataframe\">\n",
              "  <thead>\n",
              "    <tr style=\"text-align: right;\">\n",
              "      <th></th>\n",
              "      <th>intplan</th>\n",
              "      <th>voice</th>\n",
              "      <th>nummailmes</th>\n",
              "      <th>tdmin</th>\n",
              "      <th>tdcal</th>\n",
              "      <th>tdchar</th>\n",
              "      <th>temin</th>\n",
              "      <th>tecal</th>\n",
              "      <th>tecahr</th>\n",
              "      <th>tnmin</th>\n",
              "      <th>tncal</th>\n",
              "      <th>tnchar</th>\n",
              "      <th>timin</th>\n",
              "      <th>tical</th>\n",
              "      <th>tichar</th>\n",
              "      <th>ncsc</th>\n",
              "    </tr>\n",
              "  </thead>\n",
              "  <tbody>\n",
              "    <tr>\n",
              "      <th>0</th>\n",
              "      <td>-0.327531</td>\n",
              "      <td>1.616843</td>\n",
              "      <td>1.234697</td>\n",
              "      <td>1.566532</td>\n",
              "      <td>0.476572</td>\n",
              "      <td>1.566801</td>\n",
              "      <td>-0.070599</td>\n",
              "      <td>-0.055932</td>\n",
              "      <td>-0.070416</td>\n",
              "      <td>0.866613</td>\n",
              "      <td>-0.465425</td>\n",
              "      <td>0.865899</td>\n",
              "      <td>-0.084995</td>\n",
              "      <td>-0.601105</td>\n",
              "      <td>-0.085678</td>\n",
              "      <td>-0.427868</td>\n",
              "    </tr>\n",
              "    <tr>\n",
              "      <th>1</th>\n",
              "      <td>-0.327531</td>\n",
              "      <td>1.616843</td>\n",
              "      <td>1.307752</td>\n",
              "      <td>-0.333688</td>\n",
              "      <td>1.124334</td>\n",
              "      <td>-0.333963</td>\n",
              "      <td>-0.108064</td>\n",
              "      <td>0.144845</td>\n",
              "      <td>-0.107533</td>\n",
              "      <td>1.058412</td>\n",
              "      <td>0.147802</td>\n",
              "      <td>1.059231</td>\n",
              "      <td>1.240296</td>\n",
              "      <td>-0.601105</td>\n",
              "      <td>1.240982</td>\n",
              "      <td>-0.427868</td>\n",
              "    </tr>\n",
              "    <tr>\n",
              "      <th>2</th>\n",
              "      <td>-0.327531</td>\n",
              "      <td>-0.618303</td>\n",
              "      <td>-0.591671</td>\n",
              "      <td>1.168128</td>\n",
              "      <td>0.675883</td>\n",
              "      <td>1.168289</td>\n",
              "      <td>-1.573147</td>\n",
              "      <td>0.496204</td>\n",
              "      <td>-1.573664</td>\n",
              "      <td>-0.756756</td>\n",
              "      <td>0.198905</td>\n",
              "      <td>-0.755457</td>\n",
              "      <td>0.703015</td>\n",
              "      <td>0.211502</td>\n",
              "      <td>0.697052</td>\n",
              "      <td>-1.188040</td>\n",
              "    </tr>\n",
              "    <tr>\n",
              "      <th>3</th>\n",
              "      <td>3.052227</td>\n",
              "      <td>-0.618303</td>\n",
              "      <td>-0.591671</td>\n",
              "      <td>2.196267</td>\n",
              "      <td>-1.466716</td>\n",
              "      <td>2.196429</td>\n",
              "      <td>-2.742453</td>\n",
              "      <td>-0.608068</td>\n",
              "      <td>-2.742856</td>\n",
              "      <td>-0.078539</td>\n",
              "      <td>-0.567629</td>\n",
              "      <td>-0.078794</td>\n",
              "      <td>-1.302831</td>\n",
              "      <td>1.024109</td>\n",
              "      <td>-1.306205</td>\n",
              "      <td>0.332305</td>\n",
              "    </tr>\n",
              "    <tr>\n",
              "      <th>4</th>\n",
              "      <td>3.052227</td>\n",
              "      <td>-0.618303</td>\n",
              "      <td>-0.591671</td>\n",
              "      <td>-0.240054</td>\n",
              "      <td>0.626055</td>\n",
              "      <td>-0.240005</td>\n",
              "      <td>-1.038776</td>\n",
              "      <td>1.098534</td>\n",
              "      <td>-1.037784</td>\n",
              "      <td>-0.276270</td>\n",
              "      <td>1.067643</td>\n",
              "      <td>-0.276520</td>\n",
              "      <td>-0.049177</td>\n",
              "      <td>-0.601105</td>\n",
              "      <td>-0.045878</td>\n",
              "      <td>1.092477</td>\n",
              "    </tr>\n",
              "  </tbody>\n",
              "</table>\n",
              "</div>\n",
              "      <button class=\"colab-df-convert\" onclick=\"convertToInteractive('df-8d6118eb-914e-4e9a-8d60-24dd3cd18c90')\"\n",
              "              title=\"Convert this dataframe to an interactive table.\"\n",
              "              style=\"display:none;\">\n",
              "        \n",
              "  <svg xmlns=\"http://www.w3.org/2000/svg\" height=\"24px\"viewBox=\"0 0 24 24\"\n",
              "       width=\"24px\">\n",
              "    <path d=\"M0 0h24v24H0V0z\" fill=\"none\"/>\n",
              "    <path d=\"M18.56 5.44l.94 2.06.94-2.06 2.06-.94-2.06-.94-.94-2.06-.94 2.06-2.06.94zm-11 1L8.5 8.5l.94-2.06 2.06-.94-2.06-.94L8.5 2.5l-.94 2.06-2.06.94zm10 10l.94 2.06.94-2.06 2.06-.94-2.06-.94-.94-2.06-.94 2.06-2.06.94z\"/><path d=\"M17.41 7.96l-1.37-1.37c-.4-.4-.92-.59-1.43-.59-.52 0-1.04.2-1.43.59L10.3 9.45l-7.72 7.72c-.78.78-.78 2.05 0 2.83L4 21.41c.39.39.9.59 1.41.59.51 0 1.02-.2 1.41-.59l7.78-7.78 2.81-2.81c.8-.78.8-2.07 0-2.86zM5.41 20L4 18.59l7.72-7.72 1.47 1.35L5.41 20z\"/>\n",
              "  </svg>\n",
              "      </button>\n",
              "      \n",
              "  <style>\n",
              "    .colab-df-container {\n",
              "      display:flex;\n",
              "      flex-wrap:wrap;\n",
              "      gap: 12px;\n",
              "    }\n",
              "\n",
              "    .colab-df-convert {\n",
              "      background-color: #E8F0FE;\n",
              "      border: none;\n",
              "      border-radius: 50%;\n",
              "      cursor: pointer;\n",
              "      display: none;\n",
              "      fill: #1967D2;\n",
              "      height: 32px;\n",
              "      padding: 0 0 0 0;\n",
              "      width: 32px;\n",
              "    }\n",
              "\n",
              "    .colab-df-convert:hover {\n",
              "      background-color: #E2EBFA;\n",
              "      box-shadow: 0px 1px 2px rgba(60, 64, 67, 0.3), 0px 1px 3px 1px rgba(60, 64, 67, 0.15);\n",
              "      fill: #174EA6;\n",
              "    }\n",
              "\n",
              "    [theme=dark] .colab-df-convert {\n",
              "      background-color: #3B4455;\n",
              "      fill: #D2E3FC;\n",
              "    }\n",
              "\n",
              "    [theme=dark] .colab-df-convert:hover {\n",
              "      background-color: #434B5C;\n",
              "      box-shadow: 0px 1px 3px 1px rgba(0, 0, 0, 0.15);\n",
              "      filter: drop-shadow(0px 1px 2px rgba(0, 0, 0, 0.3));\n",
              "      fill: #FFFFFF;\n",
              "    }\n",
              "  </style>\n",
              "\n",
              "      <script>\n",
              "        const buttonEl =\n",
              "          document.querySelector('#df-8d6118eb-914e-4e9a-8d60-24dd3cd18c90 button.colab-df-convert');\n",
              "        buttonEl.style.display =\n",
              "          google.colab.kernel.accessAllowed ? 'block' : 'none';\n",
              "\n",
              "        async function convertToInteractive(key) {\n",
              "          const element = document.querySelector('#df-8d6118eb-914e-4e9a-8d60-24dd3cd18c90');\n",
              "          const dataTable =\n",
              "            await google.colab.kernel.invokeFunction('convertToInteractive',\n",
              "                                                     [key], {});\n",
              "          if (!dataTable) return;\n",
              "\n",
              "          const docLinkHtml = 'Like what you see? Visit the ' +\n",
              "            '<a target=\"_blank\" href=https://colab.research.google.com/notebooks/data_table.ipynb>data table notebook</a>'\n",
              "            + ' to learn more about interactive tables.';\n",
              "          element.innerHTML = '';\n",
              "          dataTable['output_type'] = 'display_data';\n",
              "          await google.colab.output.renderOutput(dataTable, element);\n",
              "          const docLink = document.createElement('div');\n",
              "          docLink.innerHTML = docLinkHtml;\n",
              "          element.appendChild(docLink);\n",
              "        }\n",
              "      </script>\n",
              "    </div>\n",
              "  </div>\n",
              "  "
            ]
          },
          "metadata": {},
          "execution_count": 735
        }
      ],
      "source": [
        "Xm.head()"
      ]
    },
    {
      "cell_type": "code",
      "execution_count": null,
      "metadata": {
        "id": "IDTjwItU8Rnp"
      },
      "outputs": [],
      "source": [
        "from sklearn import linear_model"
      ]
    },
    {
      "cell_type": "code",
      "execution_count": null,
      "metadata": {
        "id": "TDvG3wkm8Rad"
      },
      "outputs": [],
      "source": [
        "model=linear_model.LogisticRegression()"
      ]
    },
    {
      "cell_type": "code",
      "execution_count": null,
      "metadata": {
        "id": "4nFTwQOD8RN7",
        "colab": {
          "base_uri": "https://localhost:8080/"
        },
        "outputId": "f45807ec-9a7b-4ef7-9674-95852f395f8e"
      },
      "outputs": [
        {
          "output_type": "execute_result",
          "data": {
            "text/plain": [
              "LogisticRegression()"
            ]
          },
          "metadata": {},
          "execution_count": 738
        }
      ],
      "source": [
        "model.fit(Xm,y)"
      ]
    },
    {
      "cell_type": "code",
      "execution_count": null,
      "metadata": {
        "id": "2BjWHfLX9KLr",
        "colab": {
          "base_uri": "https://localhost:8080/"
        },
        "outputId": "5d3fe74a-21fe-487a-bb59-6d8183353f6b"
      },
      "outputs": [
        {
          "output_type": "execute_result",
          "data": {
            "text/plain": [
              "array([[ 0.60176395, -0.8195183 ,  0.41008308,  0.35240809,  0.06496269,\n",
              "         0.35279998,  0.18544049,  0.02187079,  0.17976784,  0.09094346,\n",
              "         0.01210777,  0.09438096,  0.09409175, -0.22440038,  0.14978686,\n",
              "         0.67346267]])"
            ]
          },
          "metadata": {},
          "execution_count": 739
        }
      ],
      "source": [
        "model.coef_"
      ]
    },
    {
      "cell_type": "code",
      "execution_count": null,
      "metadata": {
        "id": "pA2DwtCX9J_a",
        "colab": {
          "base_uri": "https://localhost:8080/"
        },
        "outputId": "d6d51046-6b99-475c-df6d-8e0dcaf70312"
      },
      "outputs": [
        {
          "output_type": "execute_result",
          "data": {
            "text/plain": [
              "array([-2.31408879])"
            ]
          },
          "metadata": {},
          "execution_count": 740
        }
      ],
      "source": [
        "model.intercept_"
      ]
    },
    {
      "cell_type": "code",
      "execution_count": null,
      "metadata": {
        "id": "19LBEY659JzQ"
      },
      "outputs": [],
      "source": [
        "allprediction=model.predict(Xm)"
      ]
    },
    {
      "cell_type": "code",
      "execution_count": null,
      "metadata": {
        "id": "nt1fX99Z9JnX",
        "colab": {
          "base_uri": "https://localhost:8080/"
        },
        "outputId": "e11b93ef-5680-476c-fd49-51a3b0417cda"
      },
      "outputs": [
        {
          "output_type": "execute_result",
          "data": {
            "text/plain": [
              "(3333, 16)"
            ]
          },
          "metadata": {},
          "execution_count": 742
        }
      ],
      "source": [
        "Xm.shape\n"
      ]
    },
    {
      "cell_type": "code",
      "execution_count": null,
      "metadata": {
        "id": "ZPqORlf29Jah",
        "colab": {
          "base_uri": "https://localhost:8080/"
        },
        "outputId": "887df7c2-7b0a-4803-d166-9d76650e6978"
      },
      "outputs": [
        {
          "output_type": "execute_result",
          "data": {
            "text/plain": [
              "(3333,)"
            ]
          },
          "metadata": {},
          "execution_count": 743
        }
      ],
      "source": [
        "allprediction.shape"
      ]
    },
    {
      "cell_type": "code",
      "execution_count": null,
      "metadata": {
        "id": "VJkACud0-A55"
      },
      "outputs": [],
      "source": [
        "Xmtrain, Xmtest, ymtrain, ymtest = train_test_split(Xm,y,test_size=0.2,random_state=42)"
      ]
    },
    {
      "cell_type": "code",
      "execution_count": null,
      "metadata": {
        "id": "av72p-Yc-AsF",
        "colab": {
          "base_uri": "https://localhost:8080/",
          "height": 270
        },
        "outputId": "5f397f98-2940-43eb-cbc2-f93b0404ea8a"
      },
      "outputs": [
        {
          "output_type": "execute_result",
          "data": {
            "text/plain": [
              "       intplan     voice  nummailmes     tdmin     tdcal    tdchar     temin  \\\n",
              "817  -0.327531 -0.618303   -0.591671 -1.547258 -0.420330 -1.546780 -0.735112   \n",
              "1373 -0.327531 -0.618303   -0.591671 -1.244324  0.227432 -1.244386 -0.143557   \n",
              "679   3.052227 -0.618303   -0.591671  0.782577 -1.117921  0.782736  2.484916   \n",
              "56   -0.327531 -0.618303   -0.591671 -0.970766 -0.121363 -0.971151 -0.413701   \n",
              "1993 -0.327531 -0.618303   -0.591671  0.670583 -0.221019  0.670418  1.288004   \n",
              "\n",
              "         tecal    tecahr     tnmin     tncal    tnchar     timin     tical  \\\n",
              "817  -1.862923 -0.736206  1.252188  0.914336  1.252563 -1.302831  0.617806   \n",
              "1373  0.496204 -0.144651  0.158737 -0.363220  0.158478 -2.198297 -0.194801   \n",
              "679   0.546398  2.486032  0.140942  0.198905  0.140902 -0.550638  1.836716   \n",
              "56   -1.913117 -0.413750 -1.187808  1.425359 -1.186061 -0.801369 -1.007408   \n",
              "1993 -1.160204  1.289002  0.259580  0.505518  0.259538 -2.055023 -0.601105   \n",
              "\n",
              "        tichar      ncsc  \n",
              "817  -1.306205  0.332305  \n",
              "1373 -2.195067  1.852649  \n",
              "679  -0.550009 -0.427868  \n",
              "56   -0.802074 -0.427868  \n",
              "1993 -2.049134 -1.188040  "
            ],
            "text/html": [
              "\n",
              "  <div id=\"df-465f2c77-df75-405c-97cd-668ca319b3aa\">\n",
              "    <div class=\"colab-df-container\">\n",
              "      <div>\n",
              "<style scoped>\n",
              "    .dataframe tbody tr th:only-of-type {\n",
              "        vertical-align: middle;\n",
              "    }\n",
              "\n",
              "    .dataframe tbody tr th {\n",
              "        vertical-align: top;\n",
              "    }\n",
              "\n",
              "    .dataframe thead th {\n",
              "        text-align: right;\n",
              "    }\n",
              "</style>\n",
              "<table border=\"1\" class=\"dataframe\">\n",
              "  <thead>\n",
              "    <tr style=\"text-align: right;\">\n",
              "      <th></th>\n",
              "      <th>intplan</th>\n",
              "      <th>voice</th>\n",
              "      <th>nummailmes</th>\n",
              "      <th>tdmin</th>\n",
              "      <th>tdcal</th>\n",
              "      <th>tdchar</th>\n",
              "      <th>temin</th>\n",
              "      <th>tecal</th>\n",
              "      <th>tecahr</th>\n",
              "      <th>tnmin</th>\n",
              "      <th>tncal</th>\n",
              "      <th>tnchar</th>\n",
              "      <th>timin</th>\n",
              "      <th>tical</th>\n",
              "      <th>tichar</th>\n",
              "      <th>ncsc</th>\n",
              "    </tr>\n",
              "  </thead>\n",
              "  <tbody>\n",
              "    <tr>\n",
              "      <th>817</th>\n",
              "      <td>-0.327531</td>\n",
              "      <td>-0.618303</td>\n",
              "      <td>-0.591671</td>\n",
              "      <td>-1.547258</td>\n",
              "      <td>-0.420330</td>\n",
              "      <td>-1.546780</td>\n",
              "      <td>-0.735112</td>\n",
              "      <td>-1.862923</td>\n",
              "      <td>-0.736206</td>\n",
              "      <td>1.252188</td>\n",
              "      <td>0.914336</td>\n",
              "      <td>1.252563</td>\n",
              "      <td>-1.302831</td>\n",
              "      <td>0.617806</td>\n",
              "      <td>-1.306205</td>\n",
              "      <td>0.332305</td>\n",
              "    </tr>\n",
              "    <tr>\n",
              "      <th>1373</th>\n",
              "      <td>-0.327531</td>\n",
              "      <td>-0.618303</td>\n",
              "      <td>-0.591671</td>\n",
              "      <td>-1.244324</td>\n",
              "      <td>0.227432</td>\n",
              "      <td>-1.244386</td>\n",
              "      <td>-0.143557</td>\n",
              "      <td>0.496204</td>\n",
              "      <td>-0.144651</td>\n",
              "      <td>0.158737</td>\n",
              "      <td>-0.363220</td>\n",
              "      <td>0.158478</td>\n",
              "      <td>-2.198297</td>\n",
              "      <td>-0.194801</td>\n",
              "      <td>-2.195067</td>\n",
              "      <td>1.852649</td>\n",
              "    </tr>\n",
              "    <tr>\n",
              "      <th>679</th>\n",
              "      <td>3.052227</td>\n",
              "      <td>-0.618303</td>\n",
              "      <td>-0.591671</td>\n",
              "      <td>0.782577</td>\n",
              "      <td>-1.117921</td>\n",
              "      <td>0.782736</td>\n",
              "      <td>2.484916</td>\n",
              "      <td>0.546398</td>\n",
              "      <td>2.486032</td>\n",
              "      <td>0.140942</td>\n",
              "      <td>0.198905</td>\n",
              "      <td>0.140902</td>\n",
              "      <td>-0.550638</td>\n",
              "      <td>1.836716</td>\n",
              "      <td>-0.550009</td>\n",
              "      <td>-0.427868</td>\n",
              "    </tr>\n",
              "    <tr>\n",
              "      <th>56</th>\n",
              "      <td>-0.327531</td>\n",
              "      <td>-0.618303</td>\n",
              "      <td>-0.591671</td>\n",
              "      <td>-0.970766</td>\n",
              "      <td>-0.121363</td>\n",
              "      <td>-0.971151</td>\n",
              "      <td>-0.413701</td>\n",
              "      <td>-1.913117</td>\n",
              "      <td>-0.413750</td>\n",
              "      <td>-1.187808</td>\n",
              "      <td>1.425359</td>\n",
              "      <td>-1.186061</td>\n",
              "      <td>-0.801369</td>\n",
              "      <td>-1.007408</td>\n",
              "      <td>-0.802074</td>\n",
              "      <td>-0.427868</td>\n",
              "    </tr>\n",
              "    <tr>\n",
              "      <th>1993</th>\n",
              "      <td>-0.327531</td>\n",
              "      <td>-0.618303</td>\n",
              "      <td>-0.591671</td>\n",
              "      <td>0.670583</td>\n",
              "      <td>-0.221019</td>\n",
              "      <td>0.670418</td>\n",
              "      <td>1.288004</td>\n",
              "      <td>-1.160204</td>\n",
              "      <td>1.289002</td>\n",
              "      <td>0.259580</td>\n",
              "      <td>0.505518</td>\n",
              "      <td>0.259538</td>\n",
              "      <td>-2.055023</td>\n",
              "      <td>-0.601105</td>\n",
              "      <td>-2.049134</td>\n",
              "      <td>-1.188040</td>\n",
              "    </tr>\n",
              "  </tbody>\n",
              "</table>\n",
              "</div>\n",
              "      <button class=\"colab-df-convert\" onclick=\"convertToInteractive('df-465f2c77-df75-405c-97cd-668ca319b3aa')\"\n",
              "              title=\"Convert this dataframe to an interactive table.\"\n",
              "              style=\"display:none;\">\n",
              "        \n",
              "  <svg xmlns=\"http://www.w3.org/2000/svg\" height=\"24px\"viewBox=\"0 0 24 24\"\n",
              "       width=\"24px\">\n",
              "    <path d=\"M0 0h24v24H0V0z\" fill=\"none\"/>\n",
              "    <path d=\"M18.56 5.44l.94 2.06.94-2.06 2.06-.94-2.06-.94-.94-2.06-.94 2.06-2.06.94zm-11 1L8.5 8.5l.94-2.06 2.06-.94-2.06-.94L8.5 2.5l-.94 2.06-2.06.94zm10 10l.94 2.06.94-2.06 2.06-.94-2.06-.94-.94-2.06-.94 2.06-2.06.94z\"/><path d=\"M17.41 7.96l-1.37-1.37c-.4-.4-.92-.59-1.43-.59-.52 0-1.04.2-1.43.59L10.3 9.45l-7.72 7.72c-.78.78-.78 2.05 0 2.83L4 21.41c.39.39.9.59 1.41.59.51 0 1.02-.2 1.41-.59l7.78-7.78 2.81-2.81c.8-.78.8-2.07 0-2.86zM5.41 20L4 18.59l7.72-7.72 1.47 1.35L5.41 20z\"/>\n",
              "  </svg>\n",
              "      </button>\n",
              "      \n",
              "  <style>\n",
              "    .colab-df-container {\n",
              "      display:flex;\n",
              "      flex-wrap:wrap;\n",
              "      gap: 12px;\n",
              "    }\n",
              "\n",
              "    .colab-df-convert {\n",
              "      background-color: #E8F0FE;\n",
              "      border: none;\n",
              "      border-radius: 50%;\n",
              "      cursor: pointer;\n",
              "      display: none;\n",
              "      fill: #1967D2;\n",
              "      height: 32px;\n",
              "      padding: 0 0 0 0;\n",
              "      width: 32px;\n",
              "    }\n",
              "\n",
              "    .colab-df-convert:hover {\n",
              "      background-color: #E2EBFA;\n",
              "      box-shadow: 0px 1px 2px rgba(60, 64, 67, 0.3), 0px 1px 3px 1px rgba(60, 64, 67, 0.15);\n",
              "      fill: #174EA6;\n",
              "    }\n",
              "\n",
              "    [theme=dark] .colab-df-convert {\n",
              "      background-color: #3B4455;\n",
              "      fill: #D2E3FC;\n",
              "    }\n",
              "\n",
              "    [theme=dark] .colab-df-convert:hover {\n",
              "      background-color: #434B5C;\n",
              "      box-shadow: 0px 1px 3px 1px rgba(0, 0, 0, 0.15);\n",
              "      filter: drop-shadow(0px 1px 2px rgba(0, 0, 0, 0.3));\n",
              "      fill: #FFFFFF;\n",
              "    }\n",
              "  </style>\n",
              "\n",
              "      <script>\n",
              "        const buttonEl =\n",
              "          document.querySelector('#df-465f2c77-df75-405c-97cd-668ca319b3aa button.colab-df-convert');\n",
              "        buttonEl.style.display =\n",
              "          google.colab.kernel.accessAllowed ? 'block' : 'none';\n",
              "\n",
              "        async function convertToInteractive(key) {\n",
              "          const element = document.querySelector('#df-465f2c77-df75-405c-97cd-668ca319b3aa');\n",
              "          const dataTable =\n",
              "            await google.colab.kernel.invokeFunction('convertToInteractive',\n",
              "                                                     [key], {});\n",
              "          if (!dataTable) return;\n",
              "\n",
              "          const docLinkHtml = 'Like what you see? Visit the ' +\n",
              "            '<a target=\"_blank\" href=https://colab.research.google.com/notebooks/data_table.ipynb>data table notebook</a>'\n",
              "            + ' to learn more about interactive tables.';\n",
              "          element.innerHTML = '';\n",
              "          dataTable['output_type'] = 'display_data';\n",
              "          await google.colab.output.renderOutput(dataTable, element);\n",
              "          const docLink = document.createElement('div');\n",
              "          docLink.innerHTML = docLinkHtml;\n",
              "          element.appendChild(docLink);\n",
              "        }\n",
              "      </script>\n",
              "    </div>\n",
              "  </div>\n",
              "  "
            ]
          },
          "metadata": {},
          "execution_count": 745
        }
      ],
      "source": [
        "Xmtrain.head()"
      ]
    },
    {
      "cell_type": "code",
      "execution_count": null,
      "metadata": {
        "id": "O-YNkpsR-Aez",
        "colab": {
          "base_uri": "https://localhost:8080/"
        },
        "outputId": "a3c76360-65e1-4c72-b0ed-ce515979ddef"
      },
      "outputs": [
        {
          "output_type": "execute_result",
          "data": {
            "text/plain": [
              "817     0\n",
              "1373    1\n",
              "679     1\n",
              "56      0\n",
              "1993    0\n",
              "Name: label, dtype: int64"
            ]
          },
          "metadata": {},
          "execution_count": 746
        }
      ],
      "source": [
        "ymtrain.head()"
      ]
    },
    {
      "cell_type": "code",
      "execution_count": null,
      "metadata": {
        "id": "hcBOCsGw-ASW"
      },
      "outputs": [],
      "source": [
        "model=linear_model.LogisticRegression()"
      ]
    },
    {
      "cell_type": "code",
      "execution_count": null,
      "metadata": {
        "id": "QevV_8WK-AE5",
        "colab": {
          "base_uri": "https://localhost:8080/"
        },
        "outputId": "9db90f0f-e893-44f9-965e-3124cd23f1b4"
      },
      "outputs": [
        {
          "output_type": "execute_result",
          "data": {
            "text/plain": [
              "LogisticRegression()"
            ]
          },
          "metadata": {},
          "execution_count": 748
        }
      ],
      "source": [
        "model.fit(Xmtrain,ymtrain)"
      ]
    },
    {
      "cell_type": "code",
      "execution_count": null,
      "metadata": {
        "id": "rNfRP0JU9_47"
      },
      "outputs": [],
      "source": [
        "predtest=model.predict(Xmtest)"
      ]
    },
    {
      "cell_type": "code",
      "execution_count": null,
      "metadata": {
        "id": "uMXwclLP9_sx",
        "colab": {
          "base_uri": "https://localhost:8080/"
        },
        "outputId": "224c68b7-543d-4ef1-f95f-eb33b4c51c31"
      },
      "outputs": [
        {
          "output_type": "execute_result",
          "data": {
            "text/plain": [
              "array([[ 0.61759989, -0.63213226,  0.22617969,  0.32588684, -0.0018803 ,\n",
              "         0.32841841,  0.15749122,  0.03049448,  0.14952249,  0.07433245,\n",
              "        -0.02261789,  0.06591234,  0.1073299 , -0.26653061,  0.15104158,\n",
              "         0.66597344]])"
            ]
          },
          "metadata": {},
          "execution_count": 750
        }
      ],
      "source": [
        "model.coef_"
      ]
    },
    {
      "cell_type": "code",
      "execution_count": null,
      "metadata": {
        "id": "gw5BcPZ89_gu",
        "colab": {
          "base_uri": "https://localhost:8080/"
        },
        "outputId": "c53d84d6-170b-4cdd-e0be-324bff7780d5"
      },
      "outputs": [
        {
          "output_type": "execute_result",
          "data": {
            "text/plain": [
              "array([-2.31169704])"
            ]
          },
          "metadata": {},
          "execution_count": 751
        }
      ],
      "source": [
        "model.intercept_"
      ]
    },
    {
      "cell_type": "code",
      "execution_count": null,
      "metadata": {
        "id": "MenHK7iE_Jyl"
      },
      "outputs": [],
      "source": [
        "errors=ymtest-predtest"
      ]
    },
    {
      "cell_type": "code",
      "execution_count": null,
      "metadata": {
        "id": "bmmh3yrM_JlZ"
      },
      "outputs": [],
      "source": [
        "\n",
        "sq_errors=(ymtest-predtest)**2"
      ]
    },
    {
      "cell_type": "code",
      "execution_count": null,
      "metadata": {
        "id": "4a_tdjDB_JXV"
      },
      "outputs": [],
      "source": [
        "mse=np.mean(sq_errors)"
      ]
    },
    {
      "cell_type": "code",
      "execution_count": null,
      "metadata": {
        "id": "AzbiNNQ3_JJK",
        "colab": {
          "base_uri": "https://localhost:8080/"
        },
        "outputId": "cca95ad1-33ac-4b7c-9566-2146f6e831de"
      },
      "outputs": [
        {
          "output_type": "execute_result",
          "data": {
            "text/plain": [
              "0.1469265367316342"
            ]
          },
          "metadata": {},
          "execution_count": 755
        }
      ],
      "source": [
        "mse"
      ]
    },
    {
      "cell_type": "code",
      "execution_count": null,
      "metadata": {
        "id": "76yHrwRi9_UE"
      },
      "outputs": [],
      "source": [
        "rmse=np.sqrt(mse)"
      ]
    },
    {
      "cell_type": "code",
      "execution_count": null,
      "metadata": {
        "id": "o6UViWBB9_Fz",
        "colab": {
          "base_uri": "https://localhost:8080/"
        },
        "outputId": "aa00c102-6e98-42fe-c0ce-69057744439e"
      },
      "outputs": [
        {
          "output_type": "execute_result",
          "data": {
            "text/plain": [
              "0.3833099747353755"
            ]
          },
          "metadata": {},
          "execution_count": 757
        }
      ],
      "source": [
        "rmse"
      ]
    },
    {
      "cell_type": "code",
      "execution_count": null,
      "metadata": {
        "id": "daNZsdXq8MjC"
      },
      "outputs": [],
      "source": [
        "rmsetest=np.sqrt(np.mean( (ymtest-predtest)**2))"
      ]
    },
    {
      "cell_type": "code",
      "execution_count": null,
      "metadata": {
        "id": "YZUJJOJL_pRY"
      },
      "outputs": [],
      "source": [
        "predtrain=model.predict(Xmtrain)"
      ]
    },
    {
      "cell_type": "code",
      "execution_count": null,
      "metadata": {
        "id": "6fIUmp-X_pAu"
      },
      "outputs": [],
      "source": [
        "rmsetrain=np.sqrt(np.mean( (ymtrain-predtrain)**2))"
      ]
    },
    {
      "cell_type": "code",
      "execution_count": null,
      "metadata": {
        "id": "hWZW9B7a_o13",
        "colab": {
          "base_uri": "https://localhost:8080/"
        },
        "outputId": "2b6a2480-8852-4a7e-a244-e10fb5e67598"
      },
      "outputs": [
        {
          "output_type": "execute_result",
          "data": {
            "text/plain": [
              "0.3689973438385973"
            ]
          },
          "metadata": {},
          "execution_count": 761
        }
      ],
      "source": [
        "rmsetrain   #rmse value on train data\n"
      ]
    },
    {
      "cell_type": "code",
      "execution_count": null,
      "metadata": {
        "id": "ZHMKsEga_oqf",
        "colab": {
          "base_uri": "https://localhost:8080/"
        },
        "outputId": "146fff3e-c0ec-4238-9271-5c0b8b95d957"
      },
      "outputs": [
        {
          "output_type": "execute_result",
          "data": {
            "text/plain": [
              "0.3833099747353755"
            ]
          },
          "metadata": {},
          "execution_count": 762
        }
      ],
      "source": [
        "rmsetest    #rmse value on test data\n"
      ]
    },
    {
      "cell_type": "code",
      "execution_count": null,
      "metadata": {
        "id": "8zpzpiD4_ogQ",
        "colab": {
          "base_uri": "https://localhost:8080/"
        },
        "outputId": "b4812805-3187-420b-e116-251f5173e37f"
      },
      "outputs": [
        {
          "output_type": "execute_result",
          "data": {
            "text/plain": [
              "0.8530734632683659"
            ]
          },
          "metadata": {},
          "execution_count": 763
        }
      ],
      "source": [
        "model.score(Xmtest,ymtest) # adjusted r square : 85.03% (for test data)"
      ]
    },
    {
      "cell_type": "code",
      "execution_count": null,
      "metadata": {
        "id": "HiJAJeUL_oUm",
        "colab": {
          "base_uri": "https://localhost:8080/"
        },
        "outputId": "1e86d63d-1d89-4805-e509-18e0d9d6a896"
      },
      "outputs": [
        {
          "output_type": "execute_result",
          "data": {
            "text/plain": [
              "0.86384096024006"
            ]
          },
          "metadata": {},
          "execution_count": 764
        }
      ],
      "source": [
        "model.score(Xmtrain,ymtrain) # adjusted r square : 86.38 %(for training data)"
      ]
    },
    {
      "cell_type": "code",
      "execution_count": null,
      "metadata": {
        "id": "sKPNmgaG_oKG"
      },
      "outputs": [],
      "source": [
        "from sklearn import metrics"
      ]
    },
    {
      "cell_type": "code",
      "execution_count": null,
      "metadata": {
        "id": "3knQRcYfBsnm"
      },
      "outputs": [],
      "source": [
        "testpm=model.predict(Xmtest)\n",
        "trainpm=model.predict(Xmtrain)\n"
      ]
    },
    {
      "cell_type": "code",
      "execution_count": null,
      "metadata": {
        "id": "YlJBAQYHKyIm",
        "colab": {
          "base_uri": "https://localhost:8080/"
        },
        "outputId": "9ffb84b9-4317-4df3-f843-553fdaa0acae"
      },
      "outputs": [
        {
          "output_type": "execute_result",
          "data": {
            "text/plain": [
              "0.86384096024006"
            ]
          },
          "metadata": {},
          "execution_count": 767
        }
      ],
      "source": [
        "metrics.accuracy_score(ymtrain,trainpm) #accuracy on train data"
      ]
    },
    {
      "cell_type": "code",
      "execution_count": null,
      "metadata": {
        "id": "HDc0D4oEKADC",
        "colab": {
          "base_uri": "https://localhost:8080/"
        },
        "outputId": "c9845f28-cf2e-4664-87e1-1c247a97e0af"
      },
      "outputs": [
        {
          "output_type": "execute_result",
          "data": {
            "text/plain": [
              "0.8530734632683659"
            ]
          },
          "metadata": {},
          "execution_count": 768
        }
      ],
      "source": [
        "metrics.accuracy_score(ymtest,testpm)   #accuracy on test data"
      ]
    },
    {
      "cell_type": "code",
      "execution_count": null,
      "metadata": {
        "id": "jiW_b-GTK4SS",
        "colab": {
          "base_uri": "https://localhost:8080/"
        },
        "outputId": "38a94d1c-5795-471a-cf95-60026a81da96"
      },
      "outputs": [
        {
          "output_type": "execute_result",
          "data": {
            "text/plain": [
              "0.5683453237410072"
            ]
          },
          "metadata": {},
          "execution_count": 769
        }
      ],
      "source": [
        "metrics.precision_score(ymtrain,trainpm)  #precision on train data"
      ]
    },
    {
      "cell_type": "code",
      "execution_count": null,
      "metadata": {
        "id": "ek6AnJnrKnrl",
        "colab": {
          "base_uri": "https://localhost:8080/"
        },
        "outputId": "606306b2-8293-4789-a028-5ef1d948e8be"
      },
      "outputs": [
        {
          "output_type": "execute_result",
          "data": {
            "text/plain": [
              "0.5517241379310345"
            ]
          },
          "metadata": {},
          "execution_count": 770
        }
      ],
      "source": [
        "metrics.precision_score(ymtest,testpm)    #precision on test data"
      ]
    },
    {
      "cell_type": "code",
      "execution_count": null,
      "metadata": {
        "id": "_iKGB6GrLBDD",
        "colab": {
          "base_uri": "https://localhost:8080/"
        },
        "outputId": "03539525-e51c-4869-ca34-db76c7110d30"
      },
      "outputs": [
        {
          "output_type": "execute_result",
          "data": {
            "text/plain": [
              "0.20680628272251309"
            ]
          },
          "metadata": {},
          "execution_count": 771
        }
      ],
      "source": [
        "metrics.recall_score(ymtrain,trainpm)     #recall on train data"
      ]
    },
    {
      "cell_type": "code",
      "execution_count": null,
      "metadata": {
        "id": "IGjfhpwzBmmJ",
        "colab": {
          "base_uri": "https://localhost:8080/"
        },
        "outputId": "478518ed-8742-41ff-d89a-a7d09b12b298"
      },
      "outputs": [
        {
          "output_type": "execute_result",
          "data": {
            "text/plain": [
              "0.15841584158415842"
            ]
          },
          "metadata": {},
          "execution_count": 772
        }
      ],
      "source": [
        "metrics.recall_score(ymtest,testpm)       #recall on test data"
      ]
    },
    {
      "cell_type": "code",
      "execution_count": null,
      "metadata": {
        "id": "gDIfhme6LE3z",
        "colab": {
          "base_uri": "https://localhost:8080/"
        },
        "outputId": "2df9b728-88de-448e-f275-39f7e9960251"
      },
      "outputs": [
        {
          "output_type": "execute_result",
          "data": {
            "text/plain": [
              "0.5902682902229027"
            ]
          },
          "metadata": {},
          "execution_count": 773
        }
      ],
      "source": [
        "metrics.roc_auc_score(ymtrain,trainpm)    #auc on train data"
      ]
    },
    {
      "cell_type": "code",
      "execution_count": null,
      "metadata": {
        "id": "7fsYj9MGCEcL",
        "colab": {
          "base_uri": "https://localhost:8080/"
        },
        "outputId": "5e3bfc55-8b36-47b5-d8e2-d466d491198d"
      },
      "outputs": [
        {
          "output_type": "execute_result",
          "data": {
            "text/plain": [
              "0.5677238218521498"
            ]
          },
          "metadata": {},
          "execution_count": 774
        }
      ],
      "source": [
        "metrics.roc_auc_score(ymtest,testpm)      #auc on test data\n"
      ]
    },
    {
      "cell_type": "code",
      "execution_count": null,
      "metadata": {
        "id": "1plyM0m5DrXG"
      },
      "outputs": [],
      "source": [
        ""
      ]
    },
    {
      "cell_type": "code",
      "execution_count": null,
      "metadata": {
        "id": "x5SGTE60_oGd"
      },
      "outputs": [],
      "source": [
        "#reducing columns"
      ]
    },
    {
      "cell_type": "code",
      "execution_count": null,
      "metadata": {
        "id": "QWXIMgOODQKJ"
      },
      "outputs": [],
      "source": [
        "Xd=X.drop(['nummailmes','tdmin','temin','tnmin','timin'],axis=1)"
      ]
    },
    {
      "cell_type": "code",
      "execution_count": null,
      "metadata": {
        "id": "pXX1H09wDP-K",
        "colab": {
          "base_uri": "https://localhost:8080/",
          "height": 206
        },
        "outputId": "2b7d97fe-b08f-464b-9bee-a3bc49d479c3"
      },
      "outputs": [
        {
          "output_type": "execute_result",
          "data": {
            "text/plain": [
              "   intplan  voice  tdcal  tdchar  tecal  tecahr  tncal  tnchar  tical  tichar  \\\n",
              "0        0      1    110   45.07     99   16.78     91   11.01      3    2.70   \n",
              "1        0      1    123   27.47    103   16.62    103   11.45      3    3.70   \n",
              "2        0      0    114   41.38    110   10.30    104    7.32      5    3.29   \n",
              "3        1      0     71   50.90     88    5.26     89    8.86      7    1.78   \n",
              "4        1      0    113   28.34    122   12.61    121    8.41      3    2.73   \n",
              "\n",
              "   ncsc  \n",
              "0     1  \n",
              "1     1  \n",
              "2     0  \n",
              "3     2  \n",
              "4     3  "
            ],
            "text/html": [
              "\n",
              "  <div id=\"df-bb1f368f-5f3e-414d-bec3-9737f0567030\">\n",
              "    <div class=\"colab-df-container\">\n",
              "      <div>\n",
              "<style scoped>\n",
              "    .dataframe tbody tr th:only-of-type {\n",
              "        vertical-align: middle;\n",
              "    }\n",
              "\n",
              "    .dataframe tbody tr th {\n",
              "        vertical-align: top;\n",
              "    }\n",
              "\n",
              "    .dataframe thead th {\n",
              "        text-align: right;\n",
              "    }\n",
              "</style>\n",
              "<table border=\"1\" class=\"dataframe\">\n",
              "  <thead>\n",
              "    <tr style=\"text-align: right;\">\n",
              "      <th></th>\n",
              "      <th>intplan</th>\n",
              "      <th>voice</th>\n",
              "      <th>tdcal</th>\n",
              "      <th>tdchar</th>\n",
              "      <th>tecal</th>\n",
              "      <th>tecahr</th>\n",
              "      <th>tncal</th>\n",
              "      <th>tnchar</th>\n",
              "      <th>tical</th>\n",
              "      <th>tichar</th>\n",
              "      <th>ncsc</th>\n",
              "    </tr>\n",
              "  </thead>\n",
              "  <tbody>\n",
              "    <tr>\n",
              "      <th>0</th>\n",
              "      <td>0</td>\n",
              "      <td>1</td>\n",
              "      <td>110</td>\n",
              "      <td>45.07</td>\n",
              "      <td>99</td>\n",
              "      <td>16.78</td>\n",
              "      <td>91</td>\n",
              "      <td>11.01</td>\n",
              "      <td>3</td>\n",
              "      <td>2.70</td>\n",
              "      <td>1</td>\n",
              "    </tr>\n",
              "    <tr>\n",
              "      <th>1</th>\n",
              "      <td>0</td>\n",
              "      <td>1</td>\n",
              "      <td>123</td>\n",
              "      <td>27.47</td>\n",
              "      <td>103</td>\n",
              "      <td>16.62</td>\n",
              "      <td>103</td>\n",
              "      <td>11.45</td>\n",
              "      <td>3</td>\n",
              "      <td>3.70</td>\n",
              "      <td>1</td>\n",
              "    </tr>\n",
              "    <tr>\n",
              "      <th>2</th>\n",
              "      <td>0</td>\n",
              "      <td>0</td>\n",
              "      <td>114</td>\n",
              "      <td>41.38</td>\n",
              "      <td>110</td>\n",
              "      <td>10.30</td>\n",
              "      <td>104</td>\n",
              "      <td>7.32</td>\n",
              "      <td>5</td>\n",
              "      <td>3.29</td>\n",
              "      <td>0</td>\n",
              "    </tr>\n",
              "    <tr>\n",
              "      <th>3</th>\n",
              "      <td>1</td>\n",
              "      <td>0</td>\n",
              "      <td>71</td>\n",
              "      <td>50.90</td>\n",
              "      <td>88</td>\n",
              "      <td>5.26</td>\n",
              "      <td>89</td>\n",
              "      <td>8.86</td>\n",
              "      <td>7</td>\n",
              "      <td>1.78</td>\n",
              "      <td>2</td>\n",
              "    </tr>\n",
              "    <tr>\n",
              "      <th>4</th>\n",
              "      <td>1</td>\n",
              "      <td>0</td>\n",
              "      <td>113</td>\n",
              "      <td>28.34</td>\n",
              "      <td>122</td>\n",
              "      <td>12.61</td>\n",
              "      <td>121</td>\n",
              "      <td>8.41</td>\n",
              "      <td>3</td>\n",
              "      <td>2.73</td>\n",
              "      <td>3</td>\n",
              "    </tr>\n",
              "  </tbody>\n",
              "</table>\n",
              "</div>\n",
              "      <button class=\"colab-df-convert\" onclick=\"convertToInteractive('df-bb1f368f-5f3e-414d-bec3-9737f0567030')\"\n",
              "              title=\"Convert this dataframe to an interactive table.\"\n",
              "              style=\"display:none;\">\n",
              "        \n",
              "  <svg xmlns=\"http://www.w3.org/2000/svg\" height=\"24px\"viewBox=\"0 0 24 24\"\n",
              "       width=\"24px\">\n",
              "    <path d=\"M0 0h24v24H0V0z\" fill=\"none\"/>\n",
              "    <path d=\"M18.56 5.44l.94 2.06.94-2.06 2.06-.94-2.06-.94-.94-2.06-.94 2.06-2.06.94zm-11 1L8.5 8.5l.94-2.06 2.06-.94-2.06-.94L8.5 2.5l-.94 2.06-2.06.94zm10 10l.94 2.06.94-2.06 2.06-.94-2.06-.94-.94-2.06-.94 2.06-2.06.94z\"/><path d=\"M17.41 7.96l-1.37-1.37c-.4-.4-.92-.59-1.43-.59-.52 0-1.04.2-1.43.59L10.3 9.45l-7.72 7.72c-.78.78-.78 2.05 0 2.83L4 21.41c.39.39.9.59 1.41.59.51 0 1.02-.2 1.41-.59l7.78-7.78 2.81-2.81c.8-.78.8-2.07 0-2.86zM5.41 20L4 18.59l7.72-7.72 1.47 1.35L5.41 20z\"/>\n",
              "  </svg>\n",
              "      </button>\n",
              "      \n",
              "  <style>\n",
              "    .colab-df-container {\n",
              "      display:flex;\n",
              "      flex-wrap:wrap;\n",
              "      gap: 12px;\n",
              "    }\n",
              "\n",
              "    .colab-df-convert {\n",
              "      background-color: #E8F0FE;\n",
              "      border: none;\n",
              "      border-radius: 50%;\n",
              "      cursor: pointer;\n",
              "      display: none;\n",
              "      fill: #1967D2;\n",
              "      height: 32px;\n",
              "      padding: 0 0 0 0;\n",
              "      width: 32px;\n",
              "    }\n",
              "\n",
              "    .colab-df-convert:hover {\n",
              "      background-color: #E2EBFA;\n",
              "      box-shadow: 0px 1px 2px rgba(60, 64, 67, 0.3), 0px 1px 3px 1px rgba(60, 64, 67, 0.15);\n",
              "      fill: #174EA6;\n",
              "    }\n",
              "\n",
              "    [theme=dark] .colab-df-convert {\n",
              "      background-color: #3B4455;\n",
              "      fill: #D2E3FC;\n",
              "    }\n",
              "\n",
              "    [theme=dark] .colab-df-convert:hover {\n",
              "      background-color: #434B5C;\n",
              "      box-shadow: 0px 1px 3px 1px rgba(0, 0, 0, 0.15);\n",
              "      filter: drop-shadow(0px 1px 2px rgba(0, 0, 0, 0.3));\n",
              "      fill: #FFFFFF;\n",
              "    }\n",
              "  </style>\n",
              "\n",
              "      <script>\n",
              "        const buttonEl =\n",
              "          document.querySelector('#df-bb1f368f-5f3e-414d-bec3-9737f0567030 button.colab-df-convert');\n",
              "        buttonEl.style.display =\n",
              "          google.colab.kernel.accessAllowed ? 'block' : 'none';\n",
              "\n",
              "        async function convertToInteractive(key) {\n",
              "          const element = document.querySelector('#df-bb1f368f-5f3e-414d-bec3-9737f0567030');\n",
              "          const dataTable =\n",
              "            await google.colab.kernel.invokeFunction('convertToInteractive',\n",
              "                                                     [key], {});\n",
              "          if (!dataTable) return;\n",
              "\n",
              "          const docLinkHtml = 'Like what you see? Visit the ' +\n",
              "            '<a target=\"_blank\" href=https://colab.research.google.com/notebooks/data_table.ipynb>data table notebook</a>'\n",
              "            + ' to learn more about interactive tables.';\n",
              "          element.innerHTML = '';\n",
              "          dataTable['output_type'] = 'display_data';\n",
              "          await google.colab.output.renderOutput(dataTable, element);\n",
              "          const docLink = document.createElement('div');\n",
              "          docLink.innerHTML = docLinkHtml;\n",
              "          element.appendChild(docLink);\n",
              "        }\n",
              "      </script>\n",
              "    </div>\n",
              "  </div>\n",
              "  "
            ]
          },
          "metadata": {},
          "execution_count": 777
        }
      ],
      "source": [
        "Xd.head()"
      ]
    },
    {
      "cell_type": "code",
      "execution_count": null,
      "metadata": {
        "id": "jXvgzGk4DPxp"
      },
      "outputs": [],
      "source": [
        "Xm=(Xd-Xd.mean())/Xd.std()"
      ]
    },
    {
      "cell_type": "code",
      "execution_count": null,
      "metadata": {
        "id": "CYQ69RcgDPkb",
        "colab": {
          "base_uri": "https://localhost:8080/",
          "height": 206
        },
        "outputId": "4c2e389d-662f-4dd4-921d-ceff04b790fe"
      },
      "outputs": [
        {
          "output_type": "execute_result",
          "data": {
            "text/plain": [
              "    intplan     voice     tdcal    tdchar     tecal    tecahr     tncal  \\\n",
              "0 -0.327531  1.616843  0.476572  1.566801 -0.055932 -0.070416 -0.465425   \n",
              "1 -0.327531  1.616843  1.124334 -0.333963  0.144845 -0.107533  0.147802   \n",
              "2 -0.327531 -0.618303  0.675883  1.168289  0.496204 -1.573664  0.198905   \n",
              "3  3.052227 -0.618303 -1.466716  2.196429 -0.608068 -2.742856 -0.567629   \n",
              "4  3.052227 -0.618303  0.626055 -0.240005  1.098534 -1.037784  1.067643   \n",
              "\n",
              "     tnchar     tical    tichar      ncsc  \n",
              "0  0.865899 -0.601105 -0.085678 -0.427868  \n",
              "1  1.059231 -0.601105  1.240982 -0.427868  \n",
              "2 -0.755457  0.211502  0.697052 -1.188040  \n",
              "3 -0.078794  1.024109 -1.306205  0.332305  \n",
              "4 -0.276520 -0.601105 -0.045878  1.092477  "
            ],
            "text/html": [
              "\n",
              "  <div id=\"df-d9aa9cb8-6f6f-40c2-b744-faf7668b7f18\">\n",
              "    <div class=\"colab-df-container\">\n",
              "      <div>\n",
              "<style scoped>\n",
              "    .dataframe tbody tr th:only-of-type {\n",
              "        vertical-align: middle;\n",
              "    }\n",
              "\n",
              "    .dataframe tbody tr th {\n",
              "        vertical-align: top;\n",
              "    }\n",
              "\n",
              "    .dataframe thead th {\n",
              "        text-align: right;\n",
              "    }\n",
              "</style>\n",
              "<table border=\"1\" class=\"dataframe\">\n",
              "  <thead>\n",
              "    <tr style=\"text-align: right;\">\n",
              "      <th></th>\n",
              "      <th>intplan</th>\n",
              "      <th>voice</th>\n",
              "      <th>tdcal</th>\n",
              "      <th>tdchar</th>\n",
              "      <th>tecal</th>\n",
              "      <th>tecahr</th>\n",
              "      <th>tncal</th>\n",
              "      <th>tnchar</th>\n",
              "      <th>tical</th>\n",
              "      <th>tichar</th>\n",
              "      <th>ncsc</th>\n",
              "    </tr>\n",
              "  </thead>\n",
              "  <tbody>\n",
              "    <tr>\n",
              "      <th>0</th>\n",
              "      <td>-0.327531</td>\n",
              "      <td>1.616843</td>\n",
              "      <td>0.476572</td>\n",
              "      <td>1.566801</td>\n",
              "      <td>-0.055932</td>\n",
              "      <td>-0.070416</td>\n",
              "      <td>-0.465425</td>\n",
              "      <td>0.865899</td>\n",
              "      <td>-0.601105</td>\n",
              "      <td>-0.085678</td>\n",
              "      <td>-0.427868</td>\n",
              "    </tr>\n",
              "    <tr>\n",
              "      <th>1</th>\n",
              "      <td>-0.327531</td>\n",
              "      <td>1.616843</td>\n",
              "      <td>1.124334</td>\n",
              "      <td>-0.333963</td>\n",
              "      <td>0.144845</td>\n",
              "      <td>-0.107533</td>\n",
              "      <td>0.147802</td>\n",
              "      <td>1.059231</td>\n",
              "      <td>-0.601105</td>\n",
              "      <td>1.240982</td>\n",
              "      <td>-0.427868</td>\n",
              "    </tr>\n",
              "    <tr>\n",
              "      <th>2</th>\n",
              "      <td>-0.327531</td>\n",
              "      <td>-0.618303</td>\n",
              "      <td>0.675883</td>\n",
              "      <td>1.168289</td>\n",
              "      <td>0.496204</td>\n",
              "      <td>-1.573664</td>\n",
              "      <td>0.198905</td>\n",
              "      <td>-0.755457</td>\n",
              "      <td>0.211502</td>\n",
              "      <td>0.697052</td>\n",
              "      <td>-1.188040</td>\n",
              "    </tr>\n",
              "    <tr>\n",
              "      <th>3</th>\n",
              "      <td>3.052227</td>\n",
              "      <td>-0.618303</td>\n",
              "      <td>-1.466716</td>\n",
              "      <td>2.196429</td>\n",
              "      <td>-0.608068</td>\n",
              "      <td>-2.742856</td>\n",
              "      <td>-0.567629</td>\n",
              "      <td>-0.078794</td>\n",
              "      <td>1.024109</td>\n",
              "      <td>-1.306205</td>\n",
              "      <td>0.332305</td>\n",
              "    </tr>\n",
              "    <tr>\n",
              "      <th>4</th>\n",
              "      <td>3.052227</td>\n",
              "      <td>-0.618303</td>\n",
              "      <td>0.626055</td>\n",
              "      <td>-0.240005</td>\n",
              "      <td>1.098534</td>\n",
              "      <td>-1.037784</td>\n",
              "      <td>1.067643</td>\n",
              "      <td>-0.276520</td>\n",
              "      <td>-0.601105</td>\n",
              "      <td>-0.045878</td>\n",
              "      <td>1.092477</td>\n",
              "    </tr>\n",
              "  </tbody>\n",
              "</table>\n",
              "</div>\n",
              "      <button class=\"colab-df-convert\" onclick=\"convertToInteractive('df-d9aa9cb8-6f6f-40c2-b744-faf7668b7f18')\"\n",
              "              title=\"Convert this dataframe to an interactive table.\"\n",
              "              style=\"display:none;\">\n",
              "        \n",
              "  <svg xmlns=\"http://www.w3.org/2000/svg\" height=\"24px\"viewBox=\"0 0 24 24\"\n",
              "       width=\"24px\">\n",
              "    <path d=\"M0 0h24v24H0V0z\" fill=\"none\"/>\n",
              "    <path d=\"M18.56 5.44l.94 2.06.94-2.06 2.06-.94-2.06-.94-.94-2.06-.94 2.06-2.06.94zm-11 1L8.5 8.5l.94-2.06 2.06-.94-2.06-.94L8.5 2.5l-.94 2.06-2.06.94zm10 10l.94 2.06.94-2.06 2.06-.94-2.06-.94-.94-2.06-.94 2.06-2.06.94z\"/><path d=\"M17.41 7.96l-1.37-1.37c-.4-.4-.92-.59-1.43-.59-.52 0-1.04.2-1.43.59L10.3 9.45l-7.72 7.72c-.78.78-.78 2.05 0 2.83L4 21.41c.39.39.9.59 1.41.59.51 0 1.02-.2 1.41-.59l7.78-7.78 2.81-2.81c.8-.78.8-2.07 0-2.86zM5.41 20L4 18.59l7.72-7.72 1.47 1.35L5.41 20z\"/>\n",
              "  </svg>\n",
              "      </button>\n",
              "      \n",
              "  <style>\n",
              "    .colab-df-container {\n",
              "      display:flex;\n",
              "      flex-wrap:wrap;\n",
              "      gap: 12px;\n",
              "    }\n",
              "\n",
              "    .colab-df-convert {\n",
              "      background-color: #E8F0FE;\n",
              "      border: none;\n",
              "      border-radius: 50%;\n",
              "      cursor: pointer;\n",
              "      display: none;\n",
              "      fill: #1967D2;\n",
              "      height: 32px;\n",
              "      padding: 0 0 0 0;\n",
              "      width: 32px;\n",
              "    }\n",
              "\n",
              "    .colab-df-convert:hover {\n",
              "      background-color: #E2EBFA;\n",
              "      box-shadow: 0px 1px 2px rgba(60, 64, 67, 0.3), 0px 1px 3px 1px rgba(60, 64, 67, 0.15);\n",
              "      fill: #174EA6;\n",
              "    }\n",
              "\n",
              "    [theme=dark] .colab-df-convert {\n",
              "      background-color: #3B4455;\n",
              "      fill: #D2E3FC;\n",
              "    }\n",
              "\n",
              "    [theme=dark] .colab-df-convert:hover {\n",
              "      background-color: #434B5C;\n",
              "      box-shadow: 0px 1px 3px 1px rgba(0, 0, 0, 0.15);\n",
              "      filter: drop-shadow(0px 1px 2px rgba(0, 0, 0, 0.3));\n",
              "      fill: #FFFFFF;\n",
              "    }\n",
              "  </style>\n",
              "\n",
              "      <script>\n",
              "        const buttonEl =\n",
              "          document.querySelector('#df-d9aa9cb8-6f6f-40c2-b744-faf7668b7f18 button.colab-df-convert');\n",
              "        buttonEl.style.display =\n",
              "          google.colab.kernel.accessAllowed ? 'block' : 'none';\n",
              "\n",
              "        async function convertToInteractive(key) {\n",
              "          const element = document.querySelector('#df-d9aa9cb8-6f6f-40c2-b744-faf7668b7f18');\n",
              "          const dataTable =\n",
              "            await google.colab.kernel.invokeFunction('convertToInteractive',\n",
              "                                                     [key], {});\n",
              "          if (!dataTable) return;\n",
              "\n",
              "          const docLinkHtml = 'Like what you see? Visit the ' +\n",
              "            '<a target=\"_blank\" href=https://colab.research.google.com/notebooks/data_table.ipynb>data table notebook</a>'\n",
              "            + ' to learn more about interactive tables.';\n",
              "          element.innerHTML = '';\n",
              "          dataTable['output_type'] = 'display_data';\n",
              "          await google.colab.output.renderOutput(dataTable, element);\n",
              "          const docLink = document.createElement('div');\n",
              "          docLink.innerHTML = docLinkHtml;\n",
              "          element.appendChild(docLink);\n",
              "        }\n",
              "      </script>\n",
              "    </div>\n",
              "  </div>\n",
              "  "
            ]
          },
          "metadata": {},
          "execution_count": 779
        }
      ],
      "source": [
        "Xm.head()"
      ]
    },
    {
      "cell_type": "code",
      "execution_count": null,
      "metadata": {
        "id": "mPgYOiU4DPYl"
      },
      "outputs": [],
      "source": [
        "model=linear_model.LogisticRegression()\n"
      ]
    },
    {
      "cell_type": "code",
      "execution_count": null,
      "metadata": {
        "id": "oyxhryh6DPMT",
        "colab": {
          "base_uri": "https://localhost:8080/"
        },
        "outputId": "9fa52cb8-23a5-45ad-ce1f-160db670df87"
      },
      "outputs": [
        {
          "output_type": "stream",
          "name": "stderr",
          "text": [
            "/usr/local/lib/python3.7/dist-packages/sklearn/linear_model/_logistic.py:818: ConvergenceWarning: lbfgs failed to converge (status=1):\n",
            "STOP: TOTAL NO. of ITERATIONS REACHED LIMIT.\n",
            "\n",
            "Increase the number of iterations (max_iter) or scale the data as shown in:\n",
            "    https://scikit-learn.org/stable/modules/preprocessing.html\n",
            "Please also refer to the documentation for alternative solver options:\n",
            "    https://scikit-learn.org/stable/modules/linear_model.html#logistic-regression\n",
            "  extra_warning_msg=_LOGISTIC_SOLVER_CONVERGENCE_MSG,\n"
          ]
        },
        {
          "output_type": "execute_result",
          "data": {
            "text/plain": [
              "LogisticRegression()"
            ]
          },
          "metadata": {},
          "execution_count": 781
        }
      ],
      "source": [
        "model.fit(Xd,y)"
      ]
    },
    {
      "cell_type": "code",
      "execution_count": null,
      "metadata": {
        "id": "R4F4PTrqDO_M",
        "colab": {
          "base_uri": "https://localhost:8080/"
        },
        "outputId": "1d3af14e-9e00-4fc0-89c6-6c5356220cba"
      },
      "outputs": [
        {
          "output_type": "execute_result",
          "data": {
            "text/plain": [
              "array([[ 1.23822736, -0.74498179, -0.00802704,  0.0653208 , -0.01192146,\n",
              "         0.03050743, -0.01128621, -0.13809029, -0.15124475,  0.0743908 ,\n",
              "         0.3746252 ]])"
            ]
          },
          "metadata": {},
          "execution_count": 782
        }
      ],
      "source": [
        "model.coef_\n"
      ]
    },
    {
      "cell_type": "code",
      "execution_count": null,
      "metadata": {
        "id": "0lJX1KoWDOyL",
        "colab": {
          "base_uri": "https://localhost:8080/"
        },
        "outputId": "b816061c-e95c-46c7-cab2-bd64c5c72484"
      },
      "outputs": [
        {
          "output_type": "execute_result",
          "data": {
            "text/plain": [
              "array([-0.31202967])"
            ]
          },
          "metadata": {},
          "execution_count": 783
        }
      ],
      "source": [
        "model.intercept_"
      ]
    },
    {
      "cell_type": "code",
      "execution_count": null,
      "metadata": {
        "id": "1tMBQHtBDOku"
      },
      "outputs": [],
      "source": [
        "allprediction=model.predict(Xm)"
      ]
    },
    {
      "cell_type": "code",
      "execution_count": null,
      "metadata": {
        "id": "paAJxEA3Ejyr",
        "colab": {
          "base_uri": "https://localhost:8080/"
        },
        "outputId": "2807eb14-4b4f-4718-c919-6e73d175f903"
      },
      "outputs": [
        {
          "output_type": "execute_result",
          "data": {
            "text/plain": [
              "(3333, 11)"
            ]
          },
          "metadata": {},
          "execution_count": 785
        }
      ],
      "source": [
        "Xm.shape\n"
      ]
    },
    {
      "cell_type": "code",
      "execution_count": null,
      "metadata": {
        "id": "4hf_TbO1DOWa",
        "colab": {
          "base_uri": "https://localhost:8080/"
        },
        "outputId": "b9b5cf09-76b7-4a7b-9cd8-7208c3024d58"
      },
      "outputs": [
        {
          "output_type": "execute_result",
          "data": {
            "text/plain": [
              "(3333,)"
            ]
          },
          "metadata": {},
          "execution_count": 786
        }
      ],
      "source": [
        "allprediction.shape"
      ]
    },
    {
      "cell_type": "code",
      "execution_count": null,
      "metadata": {
        "id": "2k7rgtDcDOIc"
      },
      "outputs": [],
      "source": [
        "Xmtrain, Xmtest, ymtrain, ymtest = train_test_split(Xm,y,test_size=0.2,random_state=42)"
      ]
    },
    {
      "cell_type": "code",
      "execution_count": null,
      "metadata": {
        "id": "CSNi63vfE1MQ",
        "colab": {
          "base_uri": "https://localhost:8080/"
        },
        "outputId": "5fadbefb-023b-4130-cc38-3a9f17a3947e"
      },
      "outputs": [
        {
          "output_type": "execute_result",
          "data": {
            "text/plain": [
              "LogisticRegression()"
            ]
          },
          "metadata": {},
          "execution_count": 788
        }
      ],
      "source": [
        "model.fit(Xmtrain,ymtrain)"
      ]
    },
    {
      "cell_type": "code",
      "execution_count": null,
      "metadata": {
        "id": "eRPKqMZqE1AZ"
      },
      "outputs": [],
      "source": [
        "predtest=model.predict(Xmtest)"
      ]
    },
    {
      "cell_type": "code",
      "execution_count": null,
      "metadata": {
        "id": "n-99vcCJE9tu",
        "colab": {
          "base_uri": "https://localhost:8080/"
        },
        "outputId": "f2a2b494-72af-4e23-c041-401241e6a640"
      },
      "outputs": [
        {
          "output_type": "execute_result",
          "data": {
            "text/plain": [
              "array([[ 0.61746216, -0.41141644, -0.0010956 ,  0.65340141,  0.0306653 ,\n",
              "         0.30704418, -0.02437403,  0.13903063, -0.2656153 ,  0.25738614,\n",
              "         0.66683887]])"
            ]
          },
          "metadata": {},
          "execution_count": 790
        }
      ],
      "source": [
        "model.coef_"
      ]
    },
    {
      "cell_type": "code",
      "execution_count": null,
      "metadata": {
        "id": "lrB8u8bmE02M",
        "colab": {
          "base_uri": "https://localhost:8080/"
        },
        "outputId": "415fc826-0dd4-4b1c-d5d5-ad9818d99cea"
      },
      "outputs": [
        {
          "output_type": "execute_result",
          "data": {
            "text/plain": [
              "array([-2.30832051])"
            ]
          },
          "metadata": {},
          "execution_count": 791
        }
      ],
      "source": [
        "model.intercept_"
      ]
    },
    {
      "cell_type": "code",
      "execution_count": null,
      "metadata": {
        "id": "GB5bKJ_VE0tG"
      },
      "outputs": [],
      "source": [
        "errors=ymtest-predtest\n",
        "sq_errors=(ymtest-predtest)**2"
      ]
    },
    {
      "cell_type": "code",
      "execution_count": null,
      "metadata": {
        "id": "ouTUOp4gE0hP"
      },
      "outputs": [],
      "source": [
        "mse=np.mean(sq_errors)"
      ]
    },
    {
      "cell_type": "code",
      "execution_count": null,
      "metadata": {
        "id": "8ZLS-26IE0VA",
        "colab": {
          "base_uri": "https://localhost:8080/"
        },
        "outputId": "5d41a328-20cc-4ec6-86c5-da5a97a25607"
      },
      "outputs": [
        {
          "output_type": "execute_result",
          "data": {
            "text/plain": [
              "0.1454272863568216"
            ]
          },
          "metadata": {},
          "execution_count": 794
        }
      ],
      "source": [
        "mse"
      ]
    },
    {
      "cell_type": "code",
      "execution_count": null,
      "metadata": {
        "id": "YCEcC8w2E0Jc"
      },
      "outputs": [],
      "source": [
        "rmse=np.sqrt(mse)"
      ]
    },
    {
      "cell_type": "code",
      "execution_count": null,
      "metadata": {
        "id": "1R1JCpZnEz8F",
        "colab": {
          "base_uri": "https://localhost:8080/"
        },
        "outputId": "16ccf388-c26b-42c1-d5c6-01e7c4df3476"
      },
      "outputs": [
        {
          "output_type": "execute_result",
          "data": {
            "text/plain": [
              "0.3813492970451389"
            ]
          },
          "metadata": {},
          "execution_count": 796
        }
      ],
      "source": [
        "rmse"
      ]
    },
    {
      "cell_type": "code",
      "execution_count": null,
      "metadata": {
        "id": "3jECIGQKFp2y"
      },
      "outputs": [],
      "source": [
        "rmsetest=np.sqrt(np.mean( (ymtest-predtest)**2))"
      ]
    },
    {
      "cell_type": "code",
      "execution_count": null,
      "metadata": {
        "id": "jUAECGpOFppE"
      },
      "outputs": [],
      "source": [
        "predtrain=model.predict(Xmtrain)"
      ]
    },
    {
      "cell_type": "code",
      "execution_count": null,
      "metadata": {
        "id": "yh9BWJNrF4Fy"
      },
      "outputs": [],
      "source": [
        "rmsetrain=np.sqrt(np.mean( (ymtrain-predtrain)**2))"
      ]
    },
    {
      "cell_type": "code",
      "execution_count": null,
      "metadata": {
        "id": "zQzUE_zGFpcH",
        "colab": {
          "base_uri": "https://localhost:8080/"
        },
        "outputId": "be22bc15-582e-4e33-edfe-46352d5654d0"
      },
      "outputs": [
        {
          "output_type": "execute_result",
          "data": {
            "text/plain": [
              "0.3689973438385973"
            ]
          },
          "metadata": {},
          "execution_count": 800
        }
      ],
      "source": [
        "rmsetrain   #rmse for train data"
      ]
    },
    {
      "cell_type": "code",
      "execution_count": null,
      "metadata": {
        "id": "VvGrlzXmFpMC",
        "colab": {
          "base_uri": "https://localhost:8080/"
        },
        "outputId": "eba0d94a-c458-42e6-8d67-093a131697c0"
      },
      "outputs": [
        {
          "output_type": "execute_result",
          "data": {
            "text/plain": [
              "0.3813492970451389"
            ]
          },
          "metadata": {},
          "execution_count": 801
        }
      ],
      "source": [
        "rmsetest    #rmse for test data"
      ]
    },
    {
      "cell_type": "code",
      "execution_count": null,
      "metadata": {
        "id": "9Uqg3O49GFUW",
        "colab": {
          "base_uri": "https://localhost:8080/"
        },
        "outputId": "aadd0627-bd41-4df2-bd66-0b9159392236"
      },
      "outputs": [
        {
          "output_type": "execute_result",
          "data": {
            "text/plain": [
              "0.8545727136431784"
            ]
          },
          "metadata": {},
          "execution_count": 802
        }
      ],
      "source": [
        "model.score(Xmtest,ymtest) # adjusted r square : 85.45% (for test data)"
      ]
    },
    {
      "cell_type": "code",
      "execution_count": null,
      "metadata": {
        "id": "YN_HfBiSDN7M",
        "colab": {
          "base_uri": "https://localhost:8080/"
        },
        "outputId": "bbc571e4-9ee4-45fe-85da-46aae7d5138b"
      },
      "outputs": [
        {
          "output_type": "execute_result",
          "data": {
            "text/plain": [
              "0.86384096024006"
            ]
          },
          "metadata": {},
          "execution_count": 803
        }
      ],
      "source": [
        "model.score(Xmtrain,ymtrain) # adjusted r square : 86.38 %(for training data)"
      ]
    },
    {
      "cell_type": "code",
      "execution_count": null,
      "metadata": {
        "id": "tC6PIRBjGTTp",
        "colab": {
          "base_uri": "https://localhost:8080/",
          "height": 206
        },
        "outputId": "35053de9-6a6c-4aac-885e-9148e718f437"
      },
      "outputs": [
        {
          "output_type": "execute_result",
          "data": {
            "text/plain": [
              "       intplan     voice     tdcal    tdchar     tecal    tecahr     tncal  \\\n",
              "438  -0.327531 -0.618303 -0.370502 -0.454921  0.295427  2.555627  1.169848   \n",
              "2674 -0.327531 -0.618303  0.825367 -1.297305  1.198923  0.323954  2.089688   \n",
              "1345 -0.327531 -0.618303 -5.004496 -3.300667  1.500088 -0.815080 -0.618731   \n",
              "1957 -0.327531 -0.618303 -1.068093  0.606699 -0.457485  0.061814  0.658825   \n",
              "2148 -0.327531 -0.618303  0.077949 -0.656877 -1.360981  0.467784 -0.465425   \n",
              "\n",
              "        tnchar     tical    tichar      ncsc  \n",
              "438  -0.228187 -0.601105  1.174649 -0.427868  \n",
              "2674 -0.245763  0.617806  0.922584 -1.188040  \n",
              "1345 -0.667579 -1.413712 -1.226605  1.852649  \n",
              "1957 -0.882881 -1.007408 -0.019345 -0.427868  \n",
              "2148  0.531961  1.024109 -0.085678 -0.427868  "
            ],
            "text/html": [
              "\n",
              "  <div id=\"df-e2bef2de-aa99-46af-a3f2-6ad02f3ada39\">\n",
              "    <div class=\"colab-df-container\">\n",
              "      <div>\n",
              "<style scoped>\n",
              "    .dataframe tbody tr th:only-of-type {\n",
              "        vertical-align: middle;\n",
              "    }\n",
              "\n",
              "    .dataframe tbody tr th {\n",
              "        vertical-align: top;\n",
              "    }\n",
              "\n",
              "    .dataframe thead th {\n",
              "        text-align: right;\n",
              "    }\n",
              "</style>\n",
              "<table border=\"1\" class=\"dataframe\">\n",
              "  <thead>\n",
              "    <tr style=\"text-align: right;\">\n",
              "      <th></th>\n",
              "      <th>intplan</th>\n",
              "      <th>voice</th>\n",
              "      <th>tdcal</th>\n",
              "      <th>tdchar</th>\n",
              "      <th>tecal</th>\n",
              "      <th>tecahr</th>\n",
              "      <th>tncal</th>\n",
              "      <th>tnchar</th>\n",
              "      <th>tical</th>\n",
              "      <th>tichar</th>\n",
              "      <th>ncsc</th>\n",
              "    </tr>\n",
              "  </thead>\n",
              "  <tbody>\n",
              "    <tr>\n",
              "      <th>438</th>\n",
              "      <td>-0.327531</td>\n",
              "      <td>-0.618303</td>\n",
              "      <td>-0.370502</td>\n",
              "      <td>-0.454921</td>\n",
              "      <td>0.295427</td>\n",
              "      <td>2.555627</td>\n",
              "      <td>1.169848</td>\n",
              "      <td>-0.228187</td>\n",
              "      <td>-0.601105</td>\n",
              "      <td>1.174649</td>\n",
              "      <td>-0.427868</td>\n",
              "    </tr>\n",
              "    <tr>\n",
              "      <th>2674</th>\n",
              "      <td>-0.327531</td>\n",
              "      <td>-0.618303</td>\n",
              "      <td>0.825367</td>\n",
              "      <td>-1.297305</td>\n",
              "      <td>1.198923</td>\n",
              "      <td>0.323954</td>\n",
              "      <td>2.089688</td>\n",
              "      <td>-0.245763</td>\n",
              "      <td>0.617806</td>\n",
              "      <td>0.922584</td>\n",
              "      <td>-1.188040</td>\n",
              "    </tr>\n",
              "    <tr>\n",
              "      <th>1345</th>\n",
              "      <td>-0.327531</td>\n",
              "      <td>-0.618303</td>\n",
              "      <td>-5.004496</td>\n",
              "      <td>-3.300667</td>\n",
              "      <td>1.500088</td>\n",
              "      <td>-0.815080</td>\n",
              "      <td>-0.618731</td>\n",
              "      <td>-0.667579</td>\n",
              "      <td>-1.413712</td>\n",
              "      <td>-1.226605</td>\n",
              "      <td>1.852649</td>\n",
              "    </tr>\n",
              "    <tr>\n",
              "      <th>1957</th>\n",
              "      <td>-0.327531</td>\n",
              "      <td>-0.618303</td>\n",
              "      <td>-1.068093</td>\n",
              "      <td>0.606699</td>\n",
              "      <td>-0.457485</td>\n",
              "      <td>0.061814</td>\n",
              "      <td>0.658825</td>\n",
              "      <td>-0.882881</td>\n",
              "      <td>-1.007408</td>\n",
              "      <td>-0.019345</td>\n",
              "      <td>-0.427868</td>\n",
              "    </tr>\n",
              "    <tr>\n",
              "      <th>2148</th>\n",
              "      <td>-0.327531</td>\n",
              "      <td>-0.618303</td>\n",
              "      <td>0.077949</td>\n",
              "      <td>-0.656877</td>\n",
              "      <td>-1.360981</td>\n",
              "      <td>0.467784</td>\n",
              "      <td>-0.465425</td>\n",
              "      <td>0.531961</td>\n",
              "      <td>1.024109</td>\n",
              "      <td>-0.085678</td>\n",
              "      <td>-0.427868</td>\n",
              "    </tr>\n",
              "  </tbody>\n",
              "</table>\n",
              "</div>\n",
              "      <button class=\"colab-df-convert\" onclick=\"convertToInteractive('df-e2bef2de-aa99-46af-a3f2-6ad02f3ada39')\"\n",
              "              title=\"Convert this dataframe to an interactive table.\"\n",
              "              style=\"display:none;\">\n",
              "        \n",
              "  <svg xmlns=\"http://www.w3.org/2000/svg\" height=\"24px\"viewBox=\"0 0 24 24\"\n",
              "       width=\"24px\">\n",
              "    <path d=\"M0 0h24v24H0V0z\" fill=\"none\"/>\n",
              "    <path d=\"M18.56 5.44l.94 2.06.94-2.06 2.06-.94-2.06-.94-.94-2.06-.94 2.06-2.06.94zm-11 1L8.5 8.5l.94-2.06 2.06-.94-2.06-.94L8.5 2.5l-.94 2.06-2.06.94zm10 10l.94 2.06.94-2.06 2.06-.94-2.06-.94-.94-2.06-.94 2.06-2.06.94z\"/><path d=\"M17.41 7.96l-1.37-1.37c-.4-.4-.92-.59-1.43-.59-.52 0-1.04.2-1.43.59L10.3 9.45l-7.72 7.72c-.78.78-.78 2.05 0 2.83L4 21.41c.39.39.9.59 1.41.59.51 0 1.02-.2 1.41-.59l7.78-7.78 2.81-2.81c.8-.78.8-2.07 0-2.86zM5.41 20L4 18.59l7.72-7.72 1.47 1.35L5.41 20z\"/>\n",
              "  </svg>\n",
              "      </button>\n",
              "      \n",
              "  <style>\n",
              "    .colab-df-container {\n",
              "      display:flex;\n",
              "      flex-wrap:wrap;\n",
              "      gap: 12px;\n",
              "    }\n",
              "\n",
              "    .colab-df-convert {\n",
              "      background-color: #E8F0FE;\n",
              "      border: none;\n",
              "      border-radius: 50%;\n",
              "      cursor: pointer;\n",
              "      display: none;\n",
              "      fill: #1967D2;\n",
              "      height: 32px;\n",
              "      padding: 0 0 0 0;\n",
              "      width: 32px;\n",
              "    }\n",
              "\n",
              "    .colab-df-convert:hover {\n",
              "      background-color: #E2EBFA;\n",
              "      box-shadow: 0px 1px 2px rgba(60, 64, 67, 0.3), 0px 1px 3px 1px rgba(60, 64, 67, 0.15);\n",
              "      fill: #174EA6;\n",
              "    }\n",
              "\n",
              "    [theme=dark] .colab-df-convert {\n",
              "      background-color: #3B4455;\n",
              "      fill: #D2E3FC;\n",
              "    }\n",
              "\n",
              "    [theme=dark] .colab-df-convert:hover {\n",
              "      background-color: #434B5C;\n",
              "      box-shadow: 0px 1px 3px 1px rgba(0, 0, 0, 0.15);\n",
              "      filter: drop-shadow(0px 1px 2px rgba(0, 0, 0, 0.3));\n",
              "      fill: #FFFFFF;\n",
              "    }\n",
              "  </style>\n",
              "\n",
              "      <script>\n",
              "        const buttonEl =\n",
              "          document.querySelector('#df-e2bef2de-aa99-46af-a3f2-6ad02f3ada39 button.colab-df-convert');\n",
              "        buttonEl.style.display =\n",
              "          google.colab.kernel.accessAllowed ? 'block' : 'none';\n",
              "\n",
              "        async function convertToInteractive(key) {\n",
              "          const element = document.querySelector('#df-e2bef2de-aa99-46af-a3f2-6ad02f3ada39');\n",
              "          const dataTable =\n",
              "            await google.colab.kernel.invokeFunction('convertToInteractive',\n",
              "                                                     [key], {});\n",
              "          if (!dataTable) return;\n",
              "\n",
              "          const docLinkHtml = 'Like what you see? Visit the ' +\n",
              "            '<a target=\"_blank\" href=https://colab.research.google.com/notebooks/data_table.ipynb>data table notebook</a>'\n",
              "            + ' to learn more about interactive tables.';\n",
              "          element.innerHTML = '';\n",
              "          dataTable['output_type'] = 'display_data';\n",
              "          await google.colab.output.renderOutput(dataTable, element);\n",
              "          const docLink = document.createElement('div');\n",
              "          docLink.innerHTML = docLinkHtml;\n",
              "          element.appendChild(docLink);\n",
              "        }\n",
              "      </script>\n",
              "    </div>\n",
              "  </div>\n",
              "  "
            ]
          },
          "metadata": {},
          "execution_count": 804
        }
      ],
      "source": [
        "Xmtest.head()"
      ]
    },
    {
      "cell_type": "code",
      "execution_count": null,
      "metadata": {
        "id": "izw1rDG3Gdwp"
      },
      "outputs": [],
      "source": [
        "testpm=model.predict(Xmtest)\n",
        "trainpm=model.predict(Xmtrain)\n"
      ]
    },
    {
      "cell_type": "code",
      "execution_count": null,
      "metadata": {
        "id": "hFOpXk3KQ5ni",
        "colab": {
          "base_uri": "https://localhost:8080/"
        },
        "outputId": "23d44238-98b1-43b1-ae07-0993212c3a53"
      },
      "outputs": [
        {
          "output_type": "execute_result",
          "data": {
            "text/plain": [
              "0.86384096024006"
            ]
          },
          "metadata": {},
          "execution_count": 806
        }
      ],
      "source": [
        "metrics.accuracy_score(ymtrain,trainpm)"
      ]
    },
    {
      "cell_type": "code",
      "execution_count": null,
      "metadata": {
        "id": "58U1bxqLP5DI",
        "colab": {
          "base_uri": "https://localhost:8080/"
        },
        "outputId": "a8db540d-2dc1-4552-e36d-58afc3896e2f"
      },
      "outputs": [
        {
          "output_type": "execute_result",
          "data": {
            "text/plain": [
              "0.8545727136431784"
            ]
          },
          "metadata": {},
          "execution_count": 807
        }
      ],
      "source": [
        "metrics.accuracy_score(ymtest,testpm)"
      ]
    },
    {
      "cell_type": "code",
      "execution_count": null,
      "metadata": {
        "id": "qBBj9SC_Q_fL",
        "colab": {
          "base_uri": "https://localhost:8080/"
        },
        "outputId": "f9e8e965-6f8a-4d48-a5d1-716ff5845d09"
      },
      "outputs": [
        {
          "output_type": "execute_result",
          "data": {
            "text/plain": [
              "0.5683453237410072"
            ]
          },
          "metadata": {},
          "execution_count": 808
        }
      ],
      "source": [
        "metrics.precision_score(ymtrain,trainpm)"
      ]
    },
    {
      "cell_type": "code",
      "execution_count": null,
      "metadata": {
        "id": "HFhxiePYP75F",
        "colab": {
          "base_uri": "https://localhost:8080/"
        },
        "outputId": "535e400a-fc2e-429c-b1b4-7b8743d74529"
      },
      "outputs": [
        {
          "output_type": "execute_result",
          "data": {
            "text/plain": [
              "0.5666666666666667"
            ]
          },
          "metadata": {},
          "execution_count": 809
        }
      ],
      "source": [
        "metrics.precision_score(ymtest,testpm)"
      ]
    },
    {
      "cell_type": "code",
      "execution_count": null,
      "metadata": {
        "id": "FcmkPHB8QrWp",
        "colab": {
          "base_uri": "https://localhost:8080/"
        },
        "outputId": "9aaa2154-a88d-48c1-e983-acb5f94550cc"
      },
      "outputs": [
        {
          "output_type": "execute_result",
          "data": {
            "text/plain": [
              "0.20680628272251309"
            ]
          },
          "metadata": {},
          "execution_count": 810
        }
      ],
      "source": [
        "metrics.recall_score(ymtrain,trainpm)"
      ]
    },
    {
      "cell_type": "code",
      "execution_count": null,
      "metadata": {
        "id": "HiY3R_OfGdLQ",
        "colab": {
          "base_uri": "https://localhost:8080/"
        },
        "outputId": "0e4d528c-221a-4351-98b5-01c7da51deca"
      },
      "outputs": [
        {
          "output_type": "execute_result",
          "data": {
            "text/plain": [
              "0.16831683168316833"
            ]
          },
          "metadata": {},
          "execution_count": 811
        }
      ],
      "source": [
        "metrics.recall_score(ymtest,testpm)"
      ]
    },
    {
      "cell_type": "code",
      "execution_count": null,
      "metadata": {
        "id": "TVPIC_RaRGo_",
        "colab": {
          "base_uri": "https://localhost:8080/"
        },
        "outputId": "7f5e58a0-c79a-4b3f-ce1f-ac425df6dd56"
      },
      "outputs": [
        {
          "output_type": "execute_result",
          "data": {
            "text/plain": [
              "0.5902682902229027"
            ]
          },
          "metadata": {},
          "execution_count": 812
        }
      ],
      "source": [
        "metrics.roc_auc_score(ymtrain,trainpm)"
      ]
    },
    {
      "cell_type": "code",
      "execution_count": null,
      "metadata": {
        "id": "b1XjRKj8Gk2S",
        "colab": {
          "base_uri": "https://localhost:8080/"
        },
        "outputId": "c237363e-f477-40d1-9e4c-34e835fd6dd0"
      },
      "outputs": [
        {
          "output_type": "execute_result",
          "data": {
            "text/plain": [
              "0.5726743169016547"
            ]
          },
          "metadata": {},
          "execution_count": 813
        }
      ],
      "source": [
        "metrics.roc_auc_score(ymtest,testpm)"
      ]
    },
    {
      "cell_type": "code",
      "execution_count": null,
      "metadata": {
        "id": "SC-CShHvDNsk"
      },
      "outputs": [],
      "source": [
        ""
      ]
    },
    {
      "cell_type": "markdown",
      "metadata": {
        "id": "qAj6cH3UjZhQ"
      },
      "source": [
        "# Decision Tree Classifier"
      ]
    },
    {
      "cell_type": "code",
      "execution_count": null,
      "metadata": {
        "id": "zQfq8NvWbOeV"
      },
      "outputs": [],
      "source": [
        "from sklearn import linear_model \n",
        "from sklearn import model_selection \n",
        "from sklearn import tree\n",
        "\n",
        "from sklearn import metrics"
      ]
    },
    {
      "cell_type": "code",
      "execution_count": null,
      "metadata": {
        "id": "HOCSZ9jfbWV7"
      },
      "outputs": [],
      "source": [
        "from sklearn.tree import DecisionTreeClassifier"
      ]
    },
    {
      "cell_type": "code",
      "execution_count": null,
      "metadata": {
        "id": "lhX2HAjYba1J"
      },
      "outputs": [],
      "source": [
        "model=tree.DecisionTreeClassifier(random_state=42)"
      ]
    },
    {
      "cell_type": "code",
      "execution_count": null,
      "metadata": {
        "id": "U9EBViJ8bfI1",
        "colab": {
          "base_uri": "https://localhost:8080/"
        },
        "outputId": "0a631ee1-79c8-457e-ca1c-addcdd142b93"
      },
      "outputs": [
        {
          "output_type": "execute_result",
          "data": {
            "text/plain": [
              "DecisionTreeClassifier(random_state=42)"
            ]
          },
          "metadata": {},
          "execution_count": 817
        }
      ],
      "source": [
        "model.fit(Xtrain,ytrain)"
      ]
    },
    {
      "cell_type": "code",
      "execution_count": null,
      "metadata": {
        "id": "fg4r7tUobh1o"
      },
      "outputs": [],
      "source": [
        "testp=model.predict(Xtest)\n",
        "trainp=model.predict(Xtrain)\n"
      ]
    },
    {
      "cell_type": "code",
      "execution_count": null,
      "metadata": {
        "id": "rkwUc9dDbna2",
        "colab": {
          "base_uri": "https://localhost:8080/"
        },
        "outputId": "2977cd82-90aa-4ee6-ec22-dfe369cebe75"
      },
      "outputs": [
        {
          "output_type": "execute_result",
          "data": {
            "text/plain": [
              "array([[2284,    0],\n",
              "       [   0,  382]])"
            ]
          },
          "metadata": {},
          "execution_count": 819
        }
      ],
      "source": [
        "metrics.confusion_matrix(ytrain,trainp)"
      ]
    },
    {
      "cell_type": "code",
      "execution_count": null,
      "metadata": {
        "id": "wan4g0tkbp6v",
        "colab": {
          "base_uri": "https://localhost:8080/"
        },
        "outputId": "2e785cdc-507f-436c-d7f0-b1adbacda606"
      },
      "outputs": [
        {
          "output_type": "execute_result",
          "data": {
            "text/plain": [
              "array([[543,  23],\n",
              "       [ 27,  74]])"
            ]
          },
          "metadata": {},
          "execution_count": 820
        }
      ],
      "source": [
        "metrics.confusion_matrix(ytest,testp)"
      ]
    },
    {
      "cell_type": "code",
      "execution_count": null,
      "metadata": {
        "id": "QUAWUgEVbtZ3",
        "colab": {
          "base_uri": "https://localhost:8080/"
        },
        "outputId": "ef45f87f-4b07-42ef-ce95-7dbea8f61a31"
      },
      "outputs": [
        {
          "output_type": "execute_result",
          "data": {
            "text/plain": [
              "0.7326732673267327"
            ]
          },
          "metadata": {},
          "execution_count": 821
        }
      ],
      "source": [
        "metrics.recall_score(ytest,testp) #recall score taking all the columns"
      ]
    },
    {
      "cell_type": "markdown",
      "metadata": {
        "id": "-U83uELejjwz"
      },
      "source": [
        "# Using Recursive feature Elimination(RFE) for feature selection (for Decision Tree Clasifier)"
      ]
    },
    {
      "cell_type": "code",
      "execution_count": null,
      "metadata": {
        "id": "3WHoxu34b4qf"
      },
      "outputs": [],
      "source": [
        "from sklearn import feature_selection\n",
        "from sklearn.model_selection import train_test_split\n",
        "from sklearn.feature_selection import RFE"
      ]
    },
    {
      "cell_type": "code",
      "execution_count": null,
      "metadata": {
        "id": "w8gpopuJUs45"
      },
      "outputs": [],
      "source": [
        "rfeobj=RFE(estimator=DecisionTreeClassifier(), n_features_to_select=6)"
      ]
    },
    {
      "cell_type": "code",
      "execution_count": null,
      "metadata": {
        "id": "87nbOhRsUyXY",
        "colab": {
          "base_uri": "https://localhost:8080/"
        },
        "outputId": "40a5310c-2d03-4009-a8a7-c15d1c442ca7"
      },
      "outputs": [
        {
          "output_type": "execute_result",
          "data": {
            "text/plain": [
              "RFE(estimator=DecisionTreeClassifier(), n_features_to_select=6)"
            ]
          },
          "metadata": {},
          "execution_count": 824
        }
      ],
      "source": [
        "rfeobj.fit(Xtrain,ytrain)"
      ]
    },
    {
      "cell_type": "code",
      "execution_count": null,
      "metadata": {
        "id": "o6GvFS5SU3eJ",
        "colab": {
          "base_uri": "https://localhost:8080/"
        },
        "outputId": "24e4f016-2e73-4504-f4e5-90285f3482db"
      },
      "outputs": [
        {
          "output_type": "execute_result",
          "data": {
            "text/plain": [
              "array([False, False, False,  True, False,  True, False, False,  True,\n",
              "        True, False, False, False, False,  True,  True])"
            ]
          },
          "metadata": {},
          "execution_count": 825
        }
      ],
      "source": [
        "rfeobj.support_"
      ]
    },
    {
      "cell_type": "code",
      "execution_count": null,
      "metadata": {
        "id": "mCEQzxlhU5SO"
      },
      "outputs": [],
      "source": [
        "cols=Xtrain.columns[rfeobj.support_]"
      ]
    },
    {
      "cell_type": "code",
      "execution_count": null,
      "metadata": {
        "colab": {
          "base_uri": "https://localhost:8080/"
        },
        "id": "uMNPAdQDU9R-",
        "outputId": "c7d918ab-7ec9-48a0-fa10-52f4a77c10fa"
      },
      "outputs": [
        {
          "output_type": "execute_result",
          "data": {
            "text/plain": [
              "Index(['tdmin', 'tdchar', 'tecahr', 'tnmin', 'tichar', 'ncsc'], dtype='object')"
            ]
          },
          "metadata": {},
          "execution_count": 827
        }
      ],
      "source": [
        "cols"
      ]
    },
    {
      "cell_type": "code",
      "execution_count": null,
      "metadata": {
        "id": "tiFkxHviVG8Y"
      },
      "outputs": [],
      "source": [
        "X_train=Xtrain[cols]"
      ]
    },
    {
      "cell_type": "code",
      "execution_count": null,
      "metadata": {
        "id": "5Y8Nfo_JVqlz"
      },
      "outputs": [],
      "source": [
        "X_test=Xtest[cols]"
      ]
    },
    {
      "cell_type": "code",
      "execution_count": null,
      "metadata": {
        "colab": {
          "base_uri": "https://localhost:8080/",
          "height": 206
        },
        "id": "FhEQYeu35uPa",
        "outputId": "60da5c9f-fe45-4753-ac0a-7ffd2856c256"
      },
      "outputs": [
        {
          "output_type": "execute_result",
          "data": {
            "text/plain": [
              "      tdmin  tdchar  tecahr  tnmin  tichar  ncsc\n",
              "817    95.5   16.24   13.91  264.2    1.78     2\n",
              "1373  112.0   19.04   16.46  208.9    1.11     4\n",
              "679   222.4   37.81   27.80  208.0    2.35     1\n",
              "56    126.9   21.57   15.30  140.8    2.16     1\n",
              "1993  216.3   36.77   22.64  214.0    1.22     0"
            ],
            "text/html": [
              "\n",
              "  <div id=\"df-c8e70136-8e6a-4012-b51c-e965def45e58\">\n",
              "    <div class=\"colab-df-container\">\n",
              "      <div>\n",
              "<style scoped>\n",
              "    .dataframe tbody tr th:only-of-type {\n",
              "        vertical-align: middle;\n",
              "    }\n",
              "\n",
              "    .dataframe tbody tr th {\n",
              "        vertical-align: top;\n",
              "    }\n",
              "\n",
              "    .dataframe thead th {\n",
              "        text-align: right;\n",
              "    }\n",
              "</style>\n",
              "<table border=\"1\" class=\"dataframe\">\n",
              "  <thead>\n",
              "    <tr style=\"text-align: right;\">\n",
              "      <th></th>\n",
              "      <th>tdmin</th>\n",
              "      <th>tdchar</th>\n",
              "      <th>tecahr</th>\n",
              "      <th>tnmin</th>\n",
              "      <th>tichar</th>\n",
              "      <th>ncsc</th>\n",
              "    </tr>\n",
              "  </thead>\n",
              "  <tbody>\n",
              "    <tr>\n",
              "      <th>817</th>\n",
              "      <td>95.5</td>\n",
              "      <td>16.24</td>\n",
              "      <td>13.91</td>\n",
              "      <td>264.2</td>\n",
              "      <td>1.78</td>\n",
              "      <td>2</td>\n",
              "    </tr>\n",
              "    <tr>\n",
              "      <th>1373</th>\n",
              "      <td>112.0</td>\n",
              "      <td>19.04</td>\n",
              "      <td>16.46</td>\n",
              "      <td>208.9</td>\n",
              "      <td>1.11</td>\n",
              "      <td>4</td>\n",
              "    </tr>\n",
              "    <tr>\n",
              "      <th>679</th>\n",
              "      <td>222.4</td>\n",
              "      <td>37.81</td>\n",
              "      <td>27.80</td>\n",
              "      <td>208.0</td>\n",
              "      <td>2.35</td>\n",
              "      <td>1</td>\n",
              "    </tr>\n",
              "    <tr>\n",
              "      <th>56</th>\n",
              "      <td>126.9</td>\n",
              "      <td>21.57</td>\n",
              "      <td>15.30</td>\n",
              "      <td>140.8</td>\n",
              "      <td>2.16</td>\n",
              "      <td>1</td>\n",
              "    </tr>\n",
              "    <tr>\n",
              "      <th>1993</th>\n",
              "      <td>216.3</td>\n",
              "      <td>36.77</td>\n",
              "      <td>22.64</td>\n",
              "      <td>214.0</td>\n",
              "      <td>1.22</td>\n",
              "      <td>0</td>\n",
              "    </tr>\n",
              "  </tbody>\n",
              "</table>\n",
              "</div>\n",
              "      <button class=\"colab-df-convert\" onclick=\"convertToInteractive('df-c8e70136-8e6a-4012-b51c-e965def45e58')\"\n",
              "              title=\"Convert this dataframe to an interactive table.\"\n",
              "              style=\"display:none;\">\n",
              "        \n",
              "  <svg xmlns=\"http://www.w3.org/2000/svg\" height=\"24px\"viewBox=\"0 0 24 24\"\n",
              "       width=\"24px\">\n",
              "    <path d=\"M0 0h24v24H0V0z\" fill=\"none\"/>\n",
              "    <path d=\"M18.56 5.44l.94 2.06.94-2.06 2.06-.94-2.06-.94-.94-2.06-.94 2.06-2.06.94zm-11 1L8.5 8.5l.94-2.06 2.06-.94-2.06-.94L8.5 2.5l-.94 2.06-2.06.94zm10 10l.94 2.06.94-2.06 2.06-.94-2.06-.94-.94-2.06-.94 2.06-2.06.94z\"/><path d=\"M17.41 7.96l-1.37-1.37c-.4-.4-.92-.59-1.43-.59-.52 0-1.04.2-1.43.59L10.3 9.45l-7.72 7.72c-.78.78-.78 2.05 0 2.83L4 21.41c.39.39.9.59 1.41.59.51 0 1.02-.2 1.41-.59l7.78-7.78 2.81-2.81c.8-.78.8-2.07 0-2.86zM5.41 20L4 18.59l7.72-7.72 1.47 1.35L5.41 20z\"/>\n",
              "  </svg>\n",
              "      </button>\n",
              "      \n",
              "  <style>\n",
              "    .colab-df-container {\n",
              "      display:flex;\n",
              "      flex-wrap:wrap;\n",
              "      gap: 12px;\n",
              "    }\n",
              "\n",
              "    .colab-df-convert {\n",
              "      background-color: #E8F0FE;\n",
              "      border: none;\n",
              "      border-radius: 50%;\n",
              "      cursor: pointer;\n",
              "      display: none;\n",
              "      fill: #1967D2;\n",
              "      height: 32px;\n",
              "      padding: 0 0 0 0;\n",
              "      width: 32px;\n",
              "    }\n",
              "\n",
              "    .colab-df-convert:hover {\n",
              "      background-color: #E2EBFA;\n",
              "      box-shadow: 0px 1px 2px rgba(60, 64, 67, 0.3), 0px 1px 3px 1px rgba(60, 64, 67, 0.15);\n",
              "      fill: #174EA6;\n",
              "    }\n",
              "\n",
              "    [theme=dark] .colab-df-convert {\n",
              "      background-color: #3B4455;\n",
              "      fill: #D2E3FC;\n",
              "    }\n",
              "\n",
              "    [theme=dark] .colab-df-convert:hover {\n",
              "      background-color: #434B5C;\n",
              "      box-shadow: 0px 1px 3px 1px rgba(0, 0, 0, 0.15);\n",
              "      filter: drop-shadow(0px 1px 2px rgba(0, 0, 0, 0.3));\n",
              "      fill: #FFFFFF;\n",
              "    }\n",
              "  </style>\n",
              "\n",
              "      <script>\n",
              "        const buttonEl =\n",
              "          document.querySelector('#df-c8e70136-8e6a-4012-b51c-e965def45e58 button.colab-df-convert');\n",
              "        buttonEl.style.display =\n",
              "          google.colab.kernel.accessAllowed ? 'block' : 'none';\n",
              "\n",
              "        async function convertToInteractive(key) {\n",
              "          const element = document.querySelector('#df-c8e70136-8e6a-4012-b51c-e965def45e58');\n",
              "          const dataTable =\n",
              "            await google.colab.kernel.invokeFunction('convertToInteractive',\n",
              "                                                     [key], {});\n",
              "          if (!dataTable) return;\n",
              "\n",
              "          const docLinkHtml = 'Like what you see? Visit the ' +\n",
              "            '<a target=\"_blank\" href=https://colab.research.google.com/notebooks/data_table.ipynb>data table notebook</a>'\n",
              "            + ' to learn more about interactive tables.';\n",
              "          element.innerHTML = '';\n",
              "          dataTable['output_type'] = 'display_data';\n",
              "          await google.colab.output.renderOutput(dataTable, element);\n",
              "          const docLink = document.createElement('div');\n",
              "          docLink.innerHTML = docLinkHtml;\n",
              "          element.appendChild(docLink);\n",
              "        }\n",
              "      </script>\n",
              "    </div>\n",
              "  </div>\n",
              "  "
            ]
          },
          "metadata": {},
          "execution_count": 830
        }
      ],
      "source": [
        "X_train.head()"
      ]
    },
    {
      "cell_type": "code",
      "execution_count": null,
      "metadata": {
        "colab": {
          "base_uri": "https://localhost:8080/",
          "height": 206
        },
        "id": "7d_0353q5zIW",
        "outputId": "9309b83e-da3a-40ce-985c-02d9d05b4872"
      },
      "outputs": [
        {
          "output_type": "execute_result",
          "data": {
            "text/plain": [
              "      tdmin  tdchar  tecahr  tnmin  tichar  ncsc\n",
              "438   155.0   26.35   28.10  189.4    3.65     1\n",
              "2674  109.1   18.55   18.48  188.4    3.46     0\n",
              "1345    0.0    0.00   13.57  167.1    1.84     4\n",
              "1957  212.8   36.18   17.35  156.2    2.75     1\n",
              "2148  144.0   24.48   19.10  227.7    2.70     1"
            ],
            "text/html": [
              "\n",
              "  <div id=\"df-a5e87e46-90e4-4cda-90a4-80c11849086a\">\n",
              "    <div class=\"colab-df-container\">\n",
              "      <div>\n",
              "<style scoped>\n",
              "    .dataframe tbody tr th:only-of-type {\n",
              "        vertical-align: middle;\n",
              "    }\n",
              "\n",
              "    .dataframe tbody tr th {\n",
              "        vertical-align: top;\n",
              "    }\n",
              "\n",
              "    .dataframe thead th {\n",
              "        text-align: right;\n",
              "    }\n",
              "</style>\n",
              "<table border=\"1\" class=\"dataframe\">\n",
              "  <thead>\n",
              "    <tr style=\"text-align: right;\">\n",
              "      <th></th>\n",
              "      <th>tdmin</th>\n",
              "      <th>tdchar</th>\n",
              "      <th>tecahr</th>\n",
              "      <th>tnmin</th>\n",
              "      <th>tichar</th>\n",
              "      <th>ncsc</th>\n",
              "    </tr>\n",
              "  </thead>\n",
              "  <tbody>\n",
              "    <tr>\n",
              "      <th>438</th>\n",
              "      <td>155.0</td>\n",
              "      <td>26.35</td>\n",
              "      <td>28.10</td>\n",
              "      <td>189.4</td>\n",
              "      <td>3.65</td>\n",
              "      <td>1</td>\n",
              "    </tr>\n",
              "    <tr>\n",
              "      <th>2674</th>\n",
              "      <td>109.1</td>\n",
              "      <td>18.55</td>\n",
              "      <td>18.48</td>\n",
              "      <td>188.4</td>\n",
              "      <td>3.46</td>\n",
              "      <td>0</td>\n",
              "    </tr>\n",
              "    <tr>\n",
              "      <th>1345</th>\n",
              "      <td>0.0</td>\n",
              "      <td>0.00</td>\n",
              "      <td>13.57</td>\n",
              "      <td>167.1</td>\n",
              "      <td>1.84</td>\n",
              "      <td>4</td>\n",
              "    </tr>\n",
              "    <tr>\n",
              "      <th>1957</th>\n",
              "      <td>212.8</td>\n",
              "      <td>36.18</td>\n",
              "      <td>17.35</td>\n",
              "      <td>156.2</td>\n",
              "      <td>2.75</td>\n",
              "      <td>1</td>\n",
              "    </tr>\n",
              "    <tr>\n",
              "      <th>2148</th>\n",
              "      <td>144.0</td>\n",
              "      <td>24.48</td>\n",
              "      <td>19.10</td>\n",
              "      <td>227.7</td>\n",
              "      <td>2.70</td>\n",
              "      <td>1</td>\n",
              "    </tr>\n",
              "  </tbody>\n",
              "</table>\n",
              "</div>\n",
              "      <button class=\"colab-df-convert\" onclick=\"convertToInteractive('df-a5e87e46-90e4-4cda-90a4-80c11849086a')\"\n",
              "              title=\"Convert this dataframe to an interactive table.\"\n",
              "              style=\"display:none;\">\n",
              "        \n",
              "  <svg xmlns=\"http://www.w3.org/2000/svg\" height=\"24px\"viewBox=\"0 0 24 24\"\n",
              "       width=\"24px\">\n",
              "    <path d=\"M0 0h24v24H0V0z\" fill=\"none\"/>\n",
              "    <path d=\"M18.56 5.44l.94 2.06.94-2.06 2.06-.94-2.06-.94-.94-2.06-.94 2.06-2.06.94zm-11 1L8.5 8.5l.94-2.06 2.06-.94-2.06-.94L8.5 2.5l-.94 2.06-2.06.94zm10 10l.94 2.06.94-2.06 2.06-.94-2.06-.94-.94-2.06-.94 2.06-2.06.94z\"/><path d=\"M17.41 7.96l-1.37-1.37c-.4-.4-.92-.59-1.43-.59-.52 0-1.04.2-1.43.59L10.3 9.45l-7.72 7.72c-.78.78-.78 2.05 0 2.83L4 21.41c.39.39.9.59 1.41.59.51 0 1.02-.2 1.41-.59l7.78-7.78 2.81-2.81c.8-.78.8-2.07 0-2.86zM5.41 20L4 18.59l7.72-7.72 1.47 1.35L5.41 20z\"/>\n",
              "  </svg>\n",
              "      </button>\n",
              "      \n",
              "  <style>\n",
              "    .colab-df-container {\n",
              "      display:flex;\n",
              "      flex-wrap:wrap;\n",
              "      gap: 12px;\n",
              "    }\n",
              "\n",
              "    .colab-df-convert {\n",
              "      background-color: #E8F0FE;\n",
              "      border: none;\n",
              "      border-radius: 50%;\n",
              "      cursor: pointer;\n",
              "      display: none;\n",
              "      fill: #1967D2;\n",
              "      height: 32px;\n",
              "      padding: 0 0 0 0;\n",
              "      width: 32px;\n",
              "    }\n",
              "\n",
              "    .colab-df-convert:hover {\n",
              "      background-color: #E2EBFA;\n",
              "      box-shadow: 0px 1px 2px rgba(60, 64, 67, 0.3), 0px 1px 3px 1px rgba(60, 64, 67, 0.15);\n",
              "      fill: #174EA6;\n",
              "    }\n",
              "\n",
              "    [theme=dark] .colab-df-convert {\n",
              "      background-color: #3B4455;\n",
              "      fill: #D2E3FC;\n",
              "    }\n",
              "\n",
              "    [theme=dark] .colab-df-convert:hover {\n",
              "      background-color: #434B5C;\n",
              "      box-shadow: 0px 1px 3px 1px rgba(0, 0, 0, 0.15);\n",
              "      filter: drop-shadow(0px 1px 2px rgba(0, 0, 0, 0.3));\n",
              "      fill: #FFFFFF;\n",
              "    }\n",
              "  </style>\n",
              "\n",
              "      <script>\n",
              "        const buttonEl =\n",
              "          document.querySelector('#df-a5e87e46-90e4-4cda-90a4-80c11849086a button.colab-df-convert');\n",
              "        buttonEl.style.display =\n",
              "          google.colab.kernel.accessAllowed ? 'block' : 'none';\n",
              "\n",
              "        async function convertToInteractive(key) {\n",
              "          const element = document.querySelector('#df-a5e87e46-90e4-4cda-90a4-80c11849086a');\n",
              "          const dataTable =\n",
              "            await google.colab.kernel.invokeFunction('convertToInteractive',\n",
              "                                                     [key], {});\n",
              "          if (!dataTable) return;\n",
              "\n",
              "          const docLinkHtml = 'Like what you see? Visit the ' +\n",
              "            '<a target=\"_blank\" href=https://colab.research.google.com/notebooks/data_table.ipynb>data table notebook</a>'\n",
              "            + ' to learn more about interactive tables.';\n",
              "          element.innerHTML = '';\n",
              "          dataTable['output_type'] = 'display_data';\n",
              "          await google.colab.output.renderOutput(dataTable, element);\n",
              "          const docLink = document.createElement('div');\n",
              "          docLink.innerHTML = docLinkHtml;\n",
              "          element.appendChild(docLink);\n",
              "        }\n",
              "      </script>\n",
              "    </div>\n",
              "  </div>\n",
              "  "
            ]
          },
          "metadata": {},
          "execution_count": 831
        }
      ],
      "source": [
        "X_test.head()"
      ]
    },
    {
      "cell_type": "code",
      "execution_count": null,
      "metadata": {
        "colab": {
          "base_uri": "https://localhost:8080/"
        },
        "id": "dWySMy-UV2PK",
        "outputId": "d053fa85-d4fc-46e9-975f-3303d186fc71"
      },
      "outputs": [
        {
          "output_type": "stream",
          "name": "stdout",
          "text": [
            "acc train 1.0\n",
            "acc test 0.841079460269865\n",
            "pres train 1.0\n",
            "pres test 0.47572815533980584\n",
            "recall train 1.0\n",
            "recall test 0.48514851485148514\n",
            "conf train [[512  54]\n",
            " [ 52  49]]\n",
            "conf test [[2284    0]\n",
            " [   0  382]]\n",
            "auc train 1.0\n",
            "auc test 0.6948710772137284\n"
          ]
        }
      ],
      "source": [
        "model=tree.DecisionTreeClassifier()\n",
        "\n",
        "model.fit(X_train, ytrain)\n",
        "\n",
        "trainp=model.predict(X_train)\n",
        "testp=model.predict(X_test)\n",
        "\n",
        "print(\"acc train\",metrics.accuracy_score(ytrain,trainp))\n",
        "\n",
        "print(\"acc test\",metrics.accuracy_score(ytest,testp))\n",
        "\n",
        "print(\"pres train\",metrics.precision_score(ytrain,trainp))\n",
        "\n",
        "print(\"pres test\",metrics.precision_score(ytest,testp))\n",
        "print(\"recall train\",metrics.recall_score(ytrain,trainp))\n",
        "\n",
        "print(\"recall test\",metrics.recall_score(ytest,testp))\n",
        "\n",
        "print(\"conf train\",metrics.confusion_matrix(ytest,testp))\n",
        "\n",
        "print(\"conf test\",metrics.confusion_matrix(ytrain,trainp))\n",
        "\n",
        "print(\"auc train\",metrics.roc_auc_score(ytrain,trainp))\n",
        "print(\"auc test\",metrics.roc_auc_score(ytest,testp))\n"
      ]
    },
    {
      "cell_type": "code",
      "execution_count": null,
      "metadata": {
        "id": "u3rOYqBkXGJP"
      },
      "outputs": [],
      "source": [
        "rfeobj=RFE(estimator=DecisionTreeClassifier(), n_features_to_select=7)"
      ]
    },
    {
      "cell_type": "code",
      "execution_count": null,
      "metadata": {
        "colab": {
          "base_uri": "https://localhost:8080/"
        },
        "id": "37pHidR2XIY-",
        "outputId": "78cf703e-94f2-4e8b-c074-849f7dcfaa8e"
      },
      "outputs": [
        {
          "output_type": "execute_result",
          "data": {
            "text/plain": [
              "RFE(estimator=DecisionTreeClassifier(), n_features_to_select=7)"
            ]
          },
          "metadata": {},
          "execution_count": 834
        }
      ],
      "source": [
        "rfeobj.fit(Xtrain,ytrain)"
      ]
    },
    {
      "cell_type": "code",
      "execution_count": null,
      "metadata": {
        "colab": {
          "base_uri": "https://localhost:8080/"
        },
        "id": "X6M54s0BXLJg",
        "outputId": "53d8a1fd-f438-4574-ddcb-7d85d8592fe1"
      },
      "outputs": [
        {
          "output_type": "execute_result",
          "data": {
            "text/plain": [
              "array([False, False, False,  True, False,  True,  True, False,  True,\n",
              "       False, False,  True,  True, False, False,  True])"
            ]
          },
          "metadata": {},
          "execution_count": 835
        }
      ],
      "source": [
        "rfeobj.support_"
      ]
    },
    {
      "cell_type": "code",
      "execution_count": null,
      "metadata": {
        "id": "RL7MOiMRXOyg"
      },
      "outputs": [],
      "source": [
        "cols=Xtrain.columns[rfeobj.support_]\n"
      ]
    },
    {
      "cell_type": "code",
      "execution_count": null,
      "metadata": {
        "colab": {
          "base_uri": "https://localhost:8080/"
        },
        "id": "GXjz5AC4XSLF",
        "outputId": "e19b8cca-87a8-467b-c37a-899b59d30f7e"
      },
      "outputs": [
        {
          "output_type": "execute_result",
          "data": {
            "text/plain": [
              "Index(['tdmin', 'tdchar', 'temin', 'tecahr', 'tnchar', 'timin', 'ncsc'], dtype='object')"
            ]
          },
          "metadata": {},
          "execution_count": 837
        }
      ],
      "source": [
        "cols"
      ]
    },
    {
      "cell_type": "code",
      "execution_count": null,
      "metadata": {
        "id": "5zDh88RnXWA9"
      },
      "outputs": [],
      "source": [
        "X_train=Xtrain[cols]"
      ]
    },
    {
      "cell_type": "code",
      "execution_count": null,
      "metadata": {
        "id": "KI9lhPW4Xr21"
      },
      "outputs": [],
      "source": [
        "X_test=Xtest[cols]"
      ]
    },
    {
      "cell_type": "code",
      "execution_count": null,
      "metadata": {
        "colab": {
          "base_uri": "https://localhost:8080/"
        },
        "id": "BZe-oWLjXx1i",
        "outputId": "28bb8c1f-78f6-4309-84f7-39758187325f"
      },
      "outputs": [
        {
          "output_type": "stream",
          "name": "stdout",
          "text": [
            "acc train 1.0\n",
            "acc test 0.8380809595202399\n",
            "pres train 1.0\n",
            "pres test 0.46788990825688076\n",
            "recall train 1.0\n",
            "recall test 0.504950495049505\n",
            "conf train [[508  58]\n",
            " [ 50  51]]\n",
            "conf test [[2284    0]\n",
            " [   0  382]]\n",
            "auc train 1.0\n",
            "auc test 0.7012384984081446\n"
          ]
        }
      ],
      "source": [
        "model=tree.DecisionTreeClassifier()\n",
        "\n",
        "model.fit(X_train, ytrain)\n",
        "\n",
        "trainp=model.predict(X_train)\n",
        "testp=model.predict(X_test)\n",
        "\n",
        "print(\"acc train\",metrics.accuracy_score(ytrain,trainp))\n",
        "\n",
        "print(\"acc test\",metrics.accuracy_score(ytest,testp))\n",
        "\n",
        "print(\"pres train\",metrics.precision_score(ytrain,trainp))\n",
        "\n",
        "print(\"pres test\",metrics.precision_score(ytest,testp))\n",
        "print(\"recall train\",metrics.recall_score(ytrain,trainp))\n",
        "\n",
        "print(\"recall test\",metrics.recall_score(ytest,testp))\n",
        "\n",
        "print(\"conf train\",metrics.confusion_matrix(ytest,testp))\n",
        "\n",
        "print(\"conf test\",metrics.confusion_matrix(ytrain,trainp))\n",
        "\n",
        "print(\"auc train\",metrics.roc_auc_score(ytrain,trainp))\n",
        "print(\"auc test\",metrics.roc_auc_score(ytest,testp))\n"
      ]
    },
    {
      "cell_type": "code",
      "execution_count": null,
      "metadata": {
        "id": "UGxYx0yFYyDx"
      },
      "outputs": [],
      "source": [
        "rfeobj=RFE(estimator=DecisionTreeClassifier(), n_features_to_select=8)"
      ]
    },
    {
      "cell_type": "code",
      "execution_count": null,
      "metadata": {
        "colab": {
          "base_uri": "https://localhost:8080/"
        },
        "id": "lb7pE1Y6Y1Fm",
        "outputId": "4c2fb052-a05b-4fb9-e2b3-390e8b365592"
      },
      "outputs": [
        {
          "output_type": "execute_result",
          "data": {
            "text/plain": [
              "RFE(estimator=DecisionTreeClassifier(), n_features_to_select=8)"
            ]
          },
          "metadata": {},
          "execution_count": 842
        }
      ],
      "source": [
        "rfeobj.fit(Xtrain,ytrain)"
      ]
    },
    {
      "cell_type": "code",
      "execution_count": null,
      "metadata": {
        "colab": {
          "base_uri": "https://localhost:8080/"
        },
        "id": "68qxdBU8Y4Rb",
        "outputId": "5122be30-f949-46cf-8856-2647d81c6da2"
      },
      "outputs": [
        {
          "output_type": "execute_result",
          "data": {
            "text/plain": [
              "array([False, False, False,  True, False,  True,  True, False,  True,\n",
              "       False, False,  True,  True,  True, False,  True])"
            ]
          },
          "metadata": {},
          "execution_count": 843
        }
      ],
      "source": [
        "rfeobj.support_"
      ]
    },
    {
      "cell_type": "code",
      "execution_count": null,
      "metadata": {
        "id": "hQJI7OSqY7wH"
      },
      "outputs": [],
      "source": [
        "cols=Xtrain.columns[rfeobj.support_]"
      ]
    },
    {
      "cell_type": "code",
      "execution_count": null,
      "metadata": {
        "colab": {
          "base_uri": "https://localhost:8080/"
        },
        "id": "hB7_lKjoY_ky",
        "outputId": "da5122dd-198f-4255-dab4-38e76baf7398"
      },
      "outputs": [
        {
          "output_type": "execute_result",
          "data": {
            "text/plain": [
              "Index(['tdmin', 'tdchar', 'temin', 'tecahr', 'tnchar', 'timin', 'tical',\n",
              "       'ncsc'],\n",
              "      dtype='object')"
            ]
          },
          "metadata": {},
          "execution_count": 845
        }
      ],
      "source": [
        "cols"
      ]
    },
    {
      "cell_type": "code",
      "execution_count": null,
      "metadata": {
        "id": "DzbsRY-OZBlA"
      },
      "outputs": [],
      "source": [
        "X_train=Xtrain[cols]"
      ]
    },
    {
      "cell_type": "code",
      "execution_count": null,
      "metadata": {
        "id": "xAiIAy-DZVj0"
      },
      "outputs": [],
      "source": [
        "X_test=Xtest[cols]"
      ]
    },
    {
      "cell_type": "code",
      "execution_count": null,
      "metadata": {
        "colab": {
          "base_uri": "https://localhost:8080/"
        },
        "id": "C8n0wOa6ZfCX",
        "outputId": "0c642bae-09f8-46d8-b622-427879907b18"
      },
      "outputs": [
        {
          "output_type": "stream",
          "name": "stdout",
          "text": [
            "acc train 1.0\n",
            "acc test 0.8380809595202399\n",
            "pres train 1.0\n",
            "pres test 0.46788990825688076\n",
            "recall train 1.0\n",
            "recall test 0.504950495049505\n",
            "conf train [[508  58]\n",
            " [ 50  51]]\n",
            "conf test [[2284    0]\n",
            " [   0  382]]\n",
            "auc train 1.0\n",
            "auc test 0.7012384984081446\n"
          ]
        }
      ],
      "source": [
        "model=tree.DecisionTreeClassifier()\n",
        "\n",
        "model.fit(X_train, ytrain)\n",
        "\n",
        "trainp=model.predict(X_train)\n",
        "testp=model.predict(X_test)\n",
        "\n",
        "print(\"acc train\",metrics.accuracy_score(ytrain,trainp))\n",
        "\n",
        "print(\"acc test\",metrics.accuracy_score(ytest,testp))\n",
        "\n",
        "print(\"pres train\",metrics.precision_score(ytrain,trainp))\n",
        "\n",
        "print(\"pres test\",metrics.precision_score(ytest,testp))\n",
        "print(\"recall train\",metrics.recall_score(ytrain,trainp))\n",
        "\n",
        "print(\"recall test\",metrics.recall_score(ytest,testp))\n",
        "\n",
        "print(\"conf train\",metrics.confusion_matrix(ytest,testp))\n",
        "\n",
        "print(\"conf test\",metrics.confusion_matrix(ytrain,trainp))\n",
        "\n",
        "print(\"auc train\",metrics.roc_auc_score(ytrain,trainp))\n",
        "print(\"auc test\",metrics.roc_auc_score(ytest,testp))\n"
      ]
    },
    {
      "cell_type": "code",
      "execution_count": null,
      "metadata": {
        "id": "20dWheexb8Q7"
      },
      "outputs": [],
      "source": [
        "rfeobj=RFE(estimator=DecisionTreeClassifier(), n_features_to_select=9)"
      ]
    },
    {
      "cell_type": "code",
      "execution_count": null,
      "metadata": {
        "colab": {
          "base_uri": "https://localhost:8080/"
        },
        "id": "RrhMnttab-_Q",
        "outputId": "01078471-9462-4a86-dceb-24cbd359335d"
      },
      "outputs": [
        {
          "output_type": "execute_result",
          "data": {
            "text/plain": [
              "RFE(estimator=DecisionTreeClassifier(), n_features_to_select=9)"
            ]
          },
          "metadata": {},
          "execution_count": 850
        }
      ],
      "source": [
        "rfeobj.fit(Xtrain,ytrain)"
      ]
    },
    {
      "cell_type": "code",
      "execution_count": null,
      "metadata": {
        "colab": {
          "base_uri": "https://localhost:8080/"
        },
        "id": "wIClz-MicB3V",
        "outputId": "07dfefd6-8864-449b-b07d-2299a890c37d"
      },
      "outputs": [
        {
          "output_type": "execute_result",
          "data": {
            "text/plain": [
              "array([ True, False,  True,  True, False,  True, False, False,  True,\n",
              "        True, False, False, False,  True,  True,  True])"
            ]
          },
          "metadata": {},
          "execution_count": 851
        }
      ],
      "source": [
        "rfeobj.support_"
      ]
    },
    {
      "cell_type": "code",
      "execution_count": null,
      "metadata": {
        "id": "Lm166BppcGHl"
      },
      "outputs": [],
      "source": [
        "cols=Xtrain.columns[rfeobj.support_]"
      ]
    },
    {
      "cell_type": "code",
      "execution_count": null,
      "metadata": {
        "colab": {
          "base_uri": "https://localhost:8080/"
        },
        "id": "G4cNcQK3cJmi",
        "outputId": "ce8b3b17-2244-4655-8125-c2a75ec27e37"
      },
      "outputs": [
        {
          "output_type": "execute_result",
          "data": {
            "text/plain": [
              "Index(['intplan', 'nummailmes', 'tdmin', 'tdchar', 'tecahr', 'tnmin', 'tical',\n",
              "       'tichar', 'ncsc'],\n",
              "      dtype='object')"
            ]
          },
          "metadata": {},
          "execution_count": 853
        }
      ],
      "source": [
        "cols"
      ]
    },
    {
      "cell_type": "code",
      "execution_count": null,
      "metadata": {
        "colab": {
          "base_uri": "https://localhost:8080/",
          "height": 206
        },
        "id": "x9JCbk9TcNFu",
        "outputId": "5b65d446-8c40-456c-d092-859f1ac1f965"
      },
      "outputs": [
        {
          "output_type": "execute_result",
          "data": {
            "text/plain": [
              "      intplan  voice  nummailmes  tdmin  tdcal  tdchar  temin  tecal  tecahr  \\\n",
              "817         0      0           0   95.5     92   16.24  163.7     63   13.91   \n",
              "1373        0      0           0  112.0    105   19.04  193.7    110   16.46   \n",
              "679         1      0           0  222.4     78   37.81  327.0    111   27.80   \n",
              "56          0      0           0  126.9     98   21.57  180.0     62   15.30   \n",
              "1993        0      0           0  216.3     96   36.77  266.3     77   22.64   \n",
              "\n",
              "      tnmin  tncal  tnchar  timin  tical  tichar  ncsc  \n",
              "817   264.2    118   11.89    6.6      6    1.78     2  \n",
              "1373  208.9     93    9.40    4.1      4    1.11     4  \n",
              "679   208.0    104    9.36    8.7      9    2.35     1  \n",
              "56    140.8    128    6.34    8.0      2    2.16     1  \n",
              "1993  214.0    110    9.63    4.5      3    1.22     0  "
            ],
            "text/html": [
              "\n",
              "  <div id=\"df-69efd92a-e9df-4d79-958a-48efa1bdbc61\">\n",
              "    <div class=\"colab-df-container\">\n",
              "      <div>\n",
              "<style scoped>\n",
              "    .dataframe tbody tr th:only-of-type {\n",
              "        vertical-align: middle;\n",
              "    }\n",
              "\n",
              "    .dataframe tbody tr th {\n",
              "        vertical-align: top;\n",
              "    }\n",
              "\n",
              "    .dataframe thead th {\n",
              "        text-align: right;\n",
              "    }\n",
              "</style>\n",
              "<table border=\"1\" class=\"dataframe\">\n",
              "  <thead>\n",
              "    <tr style=\"text-align: right;\">\n",
              "      <th></th>\n",
              "      <th>intplan</th>\n",
              "      <th>voice</th>\n",
              "      <th>nummailmes</th>\n",
              "      <th>tdmin</th>\n",
              "      <th>tdcal</th>\n",
              "      <th>tdchar</th>\n",
              "      <th>temin</th>\n",
              "      <th>tecal</th>\n",
              "      <th>tecahr</th>\n",
              "      <th>tnmin</th>\n",
              "      <th>tncal</th>\n",
              "      <th>tnchar</th>\n",
              "      <th>timin</th>\n",
              "      <th>tical</th>\n",
              "      <th>tichar</th>\n",
              "      <th>ncsc</th>\n",
              "    </tr>\n",
              "  </thead>\n",
              "  <tbody>\n",
              "    <tr>\n",
              "      <th>817</th>\n",
              "      <td>0</td>\n",
              "      <td>0</td>\n",
              "      <td>0</td>\n",
              "      <td>95.5</td>\n",
              "      <td>92</td>\n",
              "      <td>16.24</td>\n",
              "      <td>163.7</td>\n",
              "      <td>63</td>\n",
              "      <td>13.91</td>\n",
              "      <td>264.2</td>\n",
              "      <td>118</td>\n",
              "      <td>11.89</td>\n",
              "      <td>6.6</td>\n",
              "      <td>6</td>\n",
              "      <td>1.78</td>\n",
              "      <td>2</td>\n",
              "    </tr>\n",
              "    <tr>\n",
              "      <th>1373</th>\n",
              "      <td>0</td>\n",
              "      <td>0</td>\n",
              "      <td>0</td>\n",
              "      <td>112.0</td>\n",
              "      <td>105</td>\n",
              "      <td>19.04</td>\n",
              "      <td>193.7</td>\n",
              "      <td>110</td>\n",
              "      <td>16.46</td>\n",
              "      <td>208.9</td>\n",
              "      <td>93</td>\n",
              "      <td>9.40</td>\n",
              "      <td>4.1</td>\n",
              "      <td>4</td>\n",
              "      <td>1.11</td>\n",
              "      <td>4</td>\n",
              "    </tr>\n",
              "    <tr>\n",
              "      <th>679</th>\n",
              "      <td>1</td>\n",
              "      <td>0</td>\n",
              "      <td>0</td>\n",
              "      <td>222.4</td>\n",
              "      <td>78</td>\n",
              "      <td>37.81</td>\n",
              "      <td>327.0</td>\n",
              "      <td>111</td>\n",
              "      <td>27.80</td>\n",
              "      <td>208.0</td>\n",
              "      <td>104</td>\n",
              "      <td>9.36</td>\n",
              "      <td>8.7</td>\n",
              "      <td>9</td>\n",
              "      <td>2.35</td>\n",
              "      <td>1</td>\n",
              "    </tr>\n",
              "    <tr>\n",
              "      <th>56</th>\n",
              "      <td>0</td>\n",
              "      <td>0</td>\n",
              "      <td>0</td>\n",
              "      <td>126.9</td>\n",
              "      <td>98</td>\n",
              "      <td>21.57</td>\n",
              "      <td>180.0</td>\n",
              "      <td>62</td>\n",
              "      <td>15.30</td>\n",
              "      <td>140.8</td>\n",
              "      <td>128</td>\n",
              "      <td>6.34</td>\n",
              "      <td>8.0</td>\n",
              "      <td>2</td>\n",
              "      <td>2.16</td>\n",
              "      <td>1</td>\n",
              "    </tr>\n",
              "    <tr>\n",
              "      <th>1993</th>\n",
              "      <td>0</td>\n",
              "      <td>0</td>\n",
              "      <td>0</td>\n",
              "      <td>216.3</td>\n",
              "      <td>96</td>\n",
              "      <td>36.77</td>\n",
              "      <td>266.3</td>\n",
              "      <td>77</td>\n",
              "      <td>22.64</td>\n",
              "      <td>214.0</td>\n",
              "      <td>110</td>\n",
              "      <td>9.63</td>\n",
              "      <td>4.5</td>\n",
              "      <td>3</td>\n",
              "      <td>1.22</td>\n",
              "      <td>0</td>\n",
              "    </tr>\n",
              "  </tbody>\n",
              "</table>\n",
              "</div>\n",
              "      <button class=\"colab-df-convert\" onclick=\"convertToInteractive('df-69efd92a-e9df-4d79-958a-48efa1bdbc61')\"\n",
              "              title=\"Convert this dataframe to an interactive table.\"\n",
              "              style=\"display:none;\">\n",
              "        \n",
              "  <svg xmlns=\"http://www.w3.org/2000/svg\" height=\"24px\"viewBox=\"0 0 24 24\"\n",
              "       width=\"24px\">\n",
              "    <path d=\"M0 0h24v24H0V0z\" fill=\"none\"/>\n",
              "    <path d=\"M18.56 5.44l.94 2.06.94-2.06 2.06-.94-2.06-.94-.94-2.06-.94 2.06-2.06.94zm-11 1L8.5 8.5l.94-2.06 2.06-.94-2.06-.94L8.5 2.5l-.94 2.06-2.06.94zm10 10l.94 2.06.94-2.06 2.06-.94-2.06-.94-.94-2.06-.94 2.06-2.06.94z\"/><path d=\"M17.41 7.96l-1.37-1.37c-.4-.4-.92-.59-1.43-.59-.52 0-1.04.2-1.43.59L10.3 9.45l-7.72 7.72c-.78.78-.78 2.05 0 2.83L4 21.41c.39.39.9.59 1.41.59.51 0 1.02-.2 1.41-.59l7.78-7.78 2.81-2.81c.8-.78.8-2.07 0-2.86zM5.41 20L4 18.59l7.72-7.72 1.47 1.35L5.41 20z\"/>\n",
              "  </svg>\n",
              "      </button>\n",
              "      \n",
              "  <style>\n",
              "    .colab-df-container {\n",
              "      display:flex;\n",
              "      flex-wrap:wrap;\n",
              "      gap: 12px;\n",
              "    }\n",
              "\n",
              "    .colab-df-convert {\n",
              "      background-color: #E8F0FE;\n",
              "      border: none;\n",
              "      border-radius: 50%;\n",
              "      cursor: pointer;\n",
              "      display: none;\n",
              "      fill: #1967D2;\n",
              "      height: 32px;\n",
              "      padding: 0 0 0 0;\n",
              "      width: 32px;\n",
              "    }\n",
              "\n",
              "    .colab-df-convert:hover {\n",
              "      background-color: #E2EBFA;\n",
              "      box-shadow: 0px 1px 2px rgba(60, 64, 67, 0.3), 0px 1px 3px 1px rgba(60, 64, 67, 0.15);\n",
              "      fill: #174EA6;\n",
              "    }\n",
              "\n",
              "    [theme=dark] .colab-df-convert {\n",
              "      background-color: #3B4455;\n",
              "      fill: #D2E3FC;\n",
              "    }\n",
              "\n",
              "    [theme=dark] .colab-df-convert:hover {\n",
              "      background-color: #434B5C;\n",
              "      box-shadow: 0px 1px 3px 1px rgba(0, 0, 0, 0.15);\n",
              "      filter: drop-shadow(0px 1px 2px rgba(0, 0, 0, 0.3));\n",
              "      fill: #FFFFFF;\n",
              "    }\n",
              "  </style>\n",
              "\n",
              "      <script>\n",
              "        const buttonEl =\n",
              "          document.querySelector('#df-69efd92a-e9df-4d79-958a-48efa1bdbc61 button.colab-df-convert');\n",
              "        buttonEl.style.display =\n",
              "          google.colab.kernel.accessAllowed ? 'block' : 'none';\n",
              "\n",
              "        async function convertToInteractive(key) {\n",
              "          const element = document.querySelector('#df-69efd92a-e9df-4d79-958a-48efa1bdbc61');\n",
              "          const dataTable =\n",
              "            await google.colab.kernel.invokeFunction('convertToInteractive',\n",
              "                                                     [key], {});\n",
              "          if (!dataTable) return;\n",
              "\n",
              "          const docLinkHtml = 'Like what you see? Visit the ' +\n",
              "            '<a target=\"_blank\" href=https://colab.research.google.com/notebooks/data_table.ipynb>data table notebook</a>'\n",
              "            + ' to learn more about interactive tables.';\n",
              "          element.innerHTML = '';\n",
              "          dataTable['output_type'] = 'display_data';\n",
              "          await google.colab.output.renderOutput(dataTable, element);\n",
              "          const docLink = document.createElement('div');\n",
              "          docLink.innerHTML = docLinkHtml;\n",
              "          element.appendChild(docLink);\n",
              "        }\n",
              "      </script>\n",
              "    </div>\n",
              "  </div>\n",
              "  "
            ]
          },
          "metadata": {},
          "execution_count": 854
        }
      ],
      "source": [
        "Xtrain.head()"
      ]
    },
    {
      "cell_type": "code",
      "execution_count": null,
      "metadata": {
        "id": "SqAzvTcucQ-Y"
      },
      "outputs": [],
      "source": [
        "X_train=Xtrain[cols]"
      ]
    },
    {
      "cell_type": "code",
      "execution_count": null,
      "metadata": {
        "id": "TC4pDUu9cVGC"
      },
      "outputs": [],
      "source": [
        "X_test=Xtest[cols]"
      ]
    },
    {
      "cell_type": "code",
      "execution_count": null,
      "metadata": {
        "colab": {
          "base_uri": "https://localhost:8080/",
          "height": 424
        },
        "id": "8PIZp_-icrlF",
        "outputId": "7c950aec-977d-41d4-90de-4685fa699e33"
      },
      "outputs": [
        {
          "output_type": "execute_result",
          "data": {
            "text/plain": [
              "      intplan  nummailmes  tdmin  tdchar  tecahr  tnmin  tical  tichar  ncsc\n",
              "817         0           0   95.5   16.24   13.91  264.2      6    1.78     2\n",
              "1373        0           0  112.0   19.04   16.46  208.9      4    1.11     4\n",
              "679         1           0  222.4   37.81   27.80  208.0      9    2.35     1\n",
              "56          0           0  126.9   21.57   15.30  140.8      2    2.16     1\n",
              "1993        0           0  216.3   36.77   22.64  214.0      3    1.22     0\n",
              "...       ...         ...    ...     ...     ...    ...    ...     ...   ...\n",
              "1095        0           0  274.4   46.65   16.88  160.8      3    1.62     1\n",
              "1130        0           0   35.1    5.97   15.37  251.6      2    3.43     1\n",
              "1294        0           0   87.6   14.89   22.27  184.6      5    2.48     1\n",
              "860         0           0  179.2   30.46   14.89  228.6      6    2.67     2\n",
              "3174        0          43   29.9    5.08   10.97  325.9      6    2.32     2\n",
              "\n",
              "[2666 rows x 9 columns]"
            ],
            "text/html": [
              "\n",
              "  <div id=\"df-2acc4716-d7c0-4a36-9577-69bb42a5d285\">\n",
              "    <div class=\"colab-df-container\">\n",
              "      <div>\n",
              "<style scoped>\n",
              "    .dataframe tbody tr th:only-of-type {\n",
              "        vertical-align: middle;\n",
              "    }\n",
              "\n",
              "    .dataframe tbody tr th {\n",
              "        vertical-align: top;\n",
              "    }\n",
              "\n",
              "    .dataframe thead th {\n",
              "        text-align: right;\n",
              "    }\n",
              "</style>\n",
              "<table border=\"1\" class=\"dataframe\">\n",
              "  <thead>\n",
              "    <tr style=\"text-align: right;\">\n",
              "      <th></th>\n",
              "      <th>intplan</th>\n",
              "      <th>nummailmes</th>\n",
              "      <th>tdmin</th>\n",
              "      <th>tdchar</th>\n",
              "      <th>tecahr</th>\n",
              "      <th>tnmin</th>\n",
              "      <th>tical</th>\n",
              "      <th>tichar</th>\n",
              "      <th>ncsc</th>\n",
              "    </tr>\n",
              "  </thead>\n",
              "  <tbody>\n",
              "    <tr>\n",
              "      <th>817</th>\n",
              "      <td>0</td>\n",
              "      <td>0</td>\n",
              "      <td>95.5</td>\n",
              "      <td>16.24</td>\n",
              "      <td>13.91</td>\n",
              "      <td>264.2</td>\n",
              "      <td>6</td>\n",
              "      <td>1.78</td>\n",
              "      <td>2</td>\n",
              "    </tr>\n",
              "    <tr>\n",
              "      <th>1373</th>\n",
              "      <td>0</td>\n",
              "      <td>0</td>\n",
              "      <td>112.0</td>\n",
              "      <td>19.04</td>\n",
              "      <td>16.46</td>\n",
              "      <td>208.9</td>\n",
              "      <td>4</td>\n",
              "      <td>1.11</td>\n",
              "      <td>4</td>\n",
              "    </tr>\n",
              "    <tr>\n",
              "      <th>679</th>\n",
              "      <td>1</td>\n",
              "      <td>0</td>\n",
              "      <td>222.4</td>\n",
              "      <td>37.81</td>\n",
              "      <td>27.80</td>\n",
              "      <td>208.0</td>\n",
              "      <td>9</td>\n",
              "      <td>2.35</td>\n",
              "      <td>1</td>\n",
              "    </tr>\n",
              "    <tr>\n",
              "      <th>56</th>\n",
              "      <td>0</td>\n",
              "      <td>0</td>\n",
              "      <td>126.9</td>\n",
              "      <td>21.57</td>\n",
              "      <td>15.30</td>\n",
              "      <td>140.8</td>\n",
              "      <td>2</td>\n",
              "      <td>2.16</td>\n",
              "      <td>1</td>\n",
              "    </tr>\n",
              "    <tr>\n",
              "      <th>1993</th>\n",
              "      <td>0</td>\n",
              "      <td>0</td>\n",
              "      <td>216.3</td>\n",
              "      <td>36.77</td>\n",
              "      <td>22.64</td>\n",
              "      <td>214.0</td>\n",
              "      <td>3</td>\n",
              "      <td>1.22</td>\n",
              "      <td>0</td>\n",
              "    </tr>\n",
              "    <tr>\n",
              "      <th>...</th>\n",
              "      <td>...</td>\n",
              "      <td>...</td>\n",
              "      <td>...</td>\n",
              "      <td>...</td>\n",
              "      <td>...</td>\n",
              "      <td>...</td>\n",
              "      <td>...</td>\n",
              "      <td>...</td>\n",
              "      <td>...</td>\n",
              "    </tr>\n",
              "    <tr>\n",
              "      <th>1095</th>\n",
              "      <td>0</td>\n",
              "      <td>0</td>\n",
              "      <td>274.4</td>\n",
              "      <td>46.65</td>\n",
              "      <td>16.88</td>\n",
              "      <td>160.8</td>\n",
              "      <td>3</td>\n",
              "      <td>1.62</td>\n",
              "      <td>1</td>\n",
              "    </tr>\n",
              "    <tr>\n",
              "      <th>1130</th>\n",
              "      <td>0</td>\n",
              "      <td>0</td>\n",
              "      <td>35.1</td>\n",
              "      <td>5.97</td>\n",
              "      <td>15.37</td>\n",
              "      <td>251.6</td>\n",
              "      <td>2</td>\n",
              "      <td>3.43</td>\n",
              "      <td>1</td>\n",
              "    </tr>\n",
              "    <tr>\n",
              "      <th>1294</th>\n",
              "      <td>0</td>\n",
              "      <td>0</td>\n",
              "      <td>87.6</td>\n",
              "      <td>14.89</td>\n",
              "      <td>22.27</td>\n",
              "      <td>184.6</td>\n",
              "      <td>5</td>\n",
              "      <td>2.48</td>\n",
              "      <td>1</td>\n",
              "    </tr>\n",
              "    <tr>\n",
              "      <th>860</th>\n",
              "      <td>0</td>\n",
              "      <td>0</td>\n",
              "      <td>179.2</td>\n",
              "      <td>30.46</td>\n",
              "      <td>14.89</td>\n",
              "      <td>228.6</td>\n",
              "      <td>6</td>\n",
              "      <td>2.67</td>\n",
              "      <td>2</td>\n",
              "    </tr>\n",
              "    <tr>\n",
              "      <th>3174</th>\n",
              "      <td>0</td>\n",
              "      <td>43</td>\n",
              "      <td>29.9</td>\n",
              "      <td>5.08</td>\n",
              "      <td>10.97</td>\n",
              "      <td>325.9</td>\n",
              "      <td>6</td>\n",
              "      <td>2.32</td>\n",
              "      <td>2</td>\n",
              "    </tr>\n",
              "  </tbody>\n",
              "</table>\n",
              "<p>2666 rows × 9 columns</p>\n",
              "</div>\n",
              "      <button class=\"colab-df-convert\" onclick=\"convertToInteractive('df-2acc4716-d7c0-4a36-9577-69bb42a5d285')\"\n",
              "              title=\"Convert this dataframe to an interactive table.\"\n",
              "              style=\"display:none;\">\n",
              "        \n",
              "  <svg xmlns=\"http://www.w3.org/2000/svg\" height=\"24px\"viewBox=\"0 0 24 24\"\n",
              "       width=\"24px\">\n",
              "    <path d=\"M0 0h24v24H0V0z\" fill=\"none\"/>\n",
              "    <path d=\"M18.56 5.44l.94 2.06.94-2.06 2.06-.94-2.06-.94-.94-2.06-.94 2.06-2.06.94zm-11 1L8.5 8.5l.94-2.06 2.06-.94-2.06-.94L8.5 2.5l-.94 2.06-2.06.94zm10 10l.94 2.06.94-2.06 2.06-.94-2.06-.94-.94-2.06-.94 2.06-2.06.94z\"/><path d=\"M17.41 7.96l-1.37-1.37c-.4-.4-.92-.59-1.43-.59-.52 0-1.04.2-1.43.59L10.3 9.45l-7.72 7.72c-.78.78-.78 2.05 0 2.83L4 21.41c.39.39.9.59 1.41.59.51 0 1.02-.2 1.41-.59l7.78-7.78 2.81-2.81c.8-.78.8-2.07 0-2.86zM5.41 20L4 18.59l7.72-7.72 1.47 1.35L5.41 20z\"/>\n",
              "  </svg>\n",
              "      </button>\n",
              "      \n",
              "  <style>\n",
              "    .colab-df-container {\n",
              "      display:flex;\n",
              "      flex-wrap:wrap;\n",
              "      gap: 12px;\n",
              "    }\n",
              "\n",
              "    .colab-df-convert {\n",
              "      background-color: #E8F0FE;\n",
              "      border: none;\n",
              "      border-radius: 50%;\n",
              "      cursor: pointer;\n",
              "      display: none;\n",
              "      fill: #1967D2;\n",
              "      height: 32px;\n",
              "      padding: 0 0 0 0;\n",
              "      width: 32px;\n",
              "    }\n",
              "\n",
              "    .colab-df-convert:hover {\n",
              "      background-color: #E2EBFA;\n",
              "      box-shadow: 0px 1px 2px rgba(60, 64, 67, 0.3), 0px 1px 3px 1px rgba(60, 64, 67, 0.15);\n",
              "      fill: #174EA6;\n",
              "    }\n",
              "\n",
              "    [theme=dark] .colab-df-convert {\n",
              "      background-color: #3B4455;\n",
              "      fill: #D2E3FC;\n",
              "    }\n",
              "\n",
              "    [theme=dark] .colab-df-convert:hover {\n",
              "      background-color: #434B5C;\n",
              "      box-shadow: 0px 1px 3px 1px rgba(0, 0, 0, 0.15);\n",
              "      filter: drop-shadow(0px 1px 2px rgba(0, 0, 0, 0.3));\n",
              "      fill: #FFFFFF;\n",
              "    }\n",
              "  </style>\n",
              "\n",
              "      <script>\n",
              "        const buttonEl =\n",
              "          document.querySelector('#df-2acc4716-d7c0-4a36-9577-69bb42a5d285 button.colab-df-convert');\n",
              "        buttonEl.style.display =\n",
              "          google.colab.kernel.accessAllowed ? 'block' : 'none';\n",
              "\n",
              "        async function convertToInteractive(key) {\n",
              "          const element = document.querySelector('#df-2acc4716-d7c0-4a36-9577-69bb42a5d285');\n",
              "          const dataTable =\n",
              "            await google.colab.kernel.invokeFunction('convertToInteractive',\n",
              "                                                     [key], {});\n",
              "          if (!dataTable) return;\n",
              "\n",
              "          const docLinkHtml = 'Like what you see? Visit the ' +\n",
              "            '<a target=\"_blank\" href=https://colab.research.google.com/notebooks/data_table.ipynb>data table notebook</a>'\n",
              "            + ' to learn more about interactive tables.';\n",
              "          element.innerHTML = '';\n",
              "          dataTable['output_type'] = 'display_data';\n",
              "          await google.colab.output.renderOutput(dataTable, element);\n",
              "          const docLink = document.createElement('div');\n",
              "          docLink.innerHTML = docLinkHtml;\n",
              "          element.appendChild(docLink);\n",
              "        }\n",
              "      </script>\n",
              "    </div>\n",
              "  </div>\n",
              "  "
            ]
          },
          "metadata": {},
          "execution_count": 857
        }
      ],
      "source": [
        "X_train"
      ]
    },
    {
      "cell_type": "code",
      "execution_count": null,
      "metadata": {
        "colab": {
          "base_uri": "https://localhost:8080/",
          "height": 424
        },
        "id": "6zDWOYkBcvFs",
        "outputId": "2f8ba53c-f959-439e-9b70-e88ab067fb56"
      },
      "outputs": [
        {
          "output_type": "execute_result",
          "data": {
            "text/plain": [
              "      intplan  nummailmes  tdmin  tdchar  tecahr  tnmin  tical  tichar  ncsc\n",
              "438         0           0  155.0   26.35   28.10  189.4      3    3.65     1\n",
              "2674        0           0  109.1   18.55   18.48  188.4      6    3.46     0\n",
              "1345        0           0    0.0    0.00   13.57  167.1      1    1.84     4\n",
              "1957        0           0  212.8   36.18   17.35  156.2      2    2.75     1\n",
              "2148        0           0  144.0   24.48   19.10  227.7      7    2.70     1\n",
              "...       ...         ...    ...     ...     ...    ...    ...     ...   ...\n",
              "2577        0           0  185.1   31.47   18.11  196.1      5    2.30     2\n",
              "2763        0          19  155.7   26.47   15.76  192.7      2    2.21     3\n",
              "3069        0          26  158.7   26.98   13.64  218.3      3    2.67     1\n",
              "1468        0          27  117.5   19.98   17.58  194.4      7    1.13     3\n",
              "582         0           0  164.2   27.91   13.21  168.9      8    2.89     1\n",
              "\n",
              "[667 rows x 9 columns]"
            ],
            "text/html": [
              "\n",
              "  <div id=\"df-cff97fb5-7ac4-4b33-be9c-ac79452d5077\">\n",
              "    <div class=\"colab-df-container\">\n",
              "      <div>\n",
              "<style scoped>\n",
              "    .dataframe tbody tr th:only-of-type {\n",
              "        vertical-align: middle;\n",
              "    }\n",
              "\n",
              "    .dataframe tbody tr th {\n",
              "        vertical-align: top;\n",
              "    }\n",
              "\n",
              "    .dataframe thead th {\n",
              "        text-align: right;\n",
              "    }\n",
              "</style>\n",
              "<table border=\"1\" class=\"dataframe\">\n",
              "  <thead>\n",
              "    <tr style=\"text-align: right;\">\n",
              "      <th></th>\n",
              "      <th>intplan</th>\n",
              "      <th>nummailmes</th>\n",
              "      <th>tdmin</th>\n",
              "      <th>tdchar</th>\n",
              "      <th>tecahr</th>\n",
              "      <th>tnmin</th>\n",
              "      <th>tical</th>\n",
              "      <th>tichar</th>\n",
              "      <th>ncsc</th>\n",
              "    </tr>\n",
              "  </thead>\n",
              "  <tbody>\n",
              "    <tr>\n",
              "      <th>438</th>\n",
              "      <td>0</td>\n",
              "      <td>0</td>\n",
              "      <td>155.0</td>\n",
              "      <td>26.35</td>\n",
              "      <td>28.10</td>\n",
              "      <td>189.4</td>\n",
              "      <td>3</td>\n",
              "      <td>3.65</td>\n",
              "      <td>1</td>\n",
              "    </tr>\n",
              "    <tr>\n",
              "      <th>2674</th>\n",
              "      <td>0</td>\n",
              "      <td>0</td>\n",
              "      <td>109.1</td>\n",
              "      <td>18.55</td>\n",
              "      <td>18.48</td>\n",
              "      <td>188.4</td>\n",
              "      <td>6</td>\n",
              "      <td>3.46</td>\n",
              "      <td>0</td>\n",
              "    </tr>\n",
              "    <tr>\n",
              "      <th>1345</th>\n",
              "      <td>0</td>\n",
              "      <td>0</td>\n",
              "      <td>0.0</td>\n",
              "      <td>0.00</td>\n",
              "      <td>13.57</td>\n",
              "      <td>167.1</td>\n",
              "      <td>1</td>\n",
              "      <td>1.84</td>\n",
              "      <td>4</td>\n",
              "    </tr>\n",
              "    <tr>\n",
              "      <th>1957</th>\n",
              "      <td>0</td>\n",
              "      <td>0</td>\n",
              "      <td>212.8</td>\n",
              "      <td>36.18</td>\n",
              "      <td>17.35</td>\n",
              "      <td>156.2</td>\n",
              "      <td>2</td>\n",
              "      <td>2.75</td>\n",
              "      <td>1</td>\n",
              "    </tr>\n",
              "    <tr>\n",
              "      <th>2148</th>\n",
              "      <td>0</td>\n",
              "      <td>0</td>\n",
              "      <td>144.0</td>\n",
              "      <td>24.48</td>\n",
              "      <td>19.10</td>\n",
              "      <td>227.7</td>\n",
              "      <td>7</td>\n",
              "      <td>2.70</td>\n",
              "      <td>1</td>\n",
              "    </tr>\n",
              "    <tr>\n",
              "      <th>...</th>\n",
              "      <td>...</td>\n",
              "      <td>...</td>\n",
              "      <td>...</td>\n",
              "      <td>...</td>\n",
              "      <td>...</td>\n",
              "      <td>...</td>\n",
              "      <td>...</td>\n",
              "      <td>...</td>\n",
              "      <td>...</td>\n",
              "    </tr>\n",
              "    <tr>\n",
              "      <th>2577</th>\n",
              "      <td>0</td>\n",
              "      <td>0</td>\n",
              "      <td>185.1</td>\n",
              "      <td>31.47</td>\n",
              "      <td>18.11</td>\n",
              "      <td>196.1</td>\n",
              "      <td>5</td>\n",
              "      <td>2.30</td>\n",
              "      <td>2</td>\n",
              "    </tr>\n",
              "    <tr>\n",
              "      <th>2763</th>\n",
              "      <td>0</td>\n",
              "      <td>19</td>\n",
              "      <td>155.7</td>\n",
              "      <td>26.47</td>\n",
              "      <td>15.76</td>\n",
              "      <td>192.7</td>\n",
              "      <td>2</td>\n",
              "      <td>2.21</td>\n",
              "      <td>3</td>\n",
              "    </tr>\n",
              "    <tr>\n",
              "      <th>3069</th>\n",
              "      <td>0</td>\n",
              "      <td>26</td>\n",
              "      <td>158.7</td>\n",
              "      <td>26.98</td>\n",
              "      <td>13.64</td>\n",
              "      <td>218.3</td>\n",
              "      <td>3</td>\n",
              "      <td>2.67</td>\n",
              "      <td>1</td>\n",
              "    </tr>\n",
              "    <tr>\n",
              "      <th>1468</th>\n",
              "      <td>0</td>\n",
              "      <td>27</td>\n",
              "      <td>117.5</td>\n",
              "      <td>19.98</td>\n",
              "      <td>17.58</td>\n",
              "      <td>194.4</td>\n",
              "      <td>7</td>\n",
              "      <td>1.13</td>\n",
              "      <td>3</td>\n",
              "    </tr>\n",
              "    <tr>\n",
              "      <th>582</th>\n",
              "      <td>0</td>\n",
              "      <td>0</td>\n",
              "      <td>164.2</td>\n",
              "      <td>27.91</td>\n",
              "      <td>13.21</td>\n",
              "      <td>168.9</td>\n",
              "      <td>8</td>\n",
              "      <td>2.89</td>\n",
              "      <td>1</td>\n",
              "    </tr>\n",
              "  </tbody>\n",
              "</table>\n",
              "<p>667 rows × 9 columns</p>\n",
              "</div>\n",
              "      <button class=\"colab-df-convert\" onclick=\"convertToInteractive('df-cff97fb5-7ac4-4b33-be9c-ac79452d5077')\"\n",
              "              title=\"Convert this dataframe to an interactive table.\"\n",
              "              style=\"display:none;\">\n",
              "        \n",
              "  <svg xmlns=\"http://www.w3.org/2000/svg\" height=\"24px\"viewBox=\"0 0 24 24\"\n",
              "       width=\"24px\">\n",
              "    <path d=\"M0 0h24v24H0V0z\" fill=\"none\"/>\n",
              "    <path d=\"M18.56 5.44l.94 2.06.94-2.06 2.06-.94-2.06-.94-.94-2.06-.94 2.06-2.06.94zm-11 1L8.5 8.5l.94-2.06 2.06-.94-2.06-.94L8.5 2.5l-.94 2.06-2.06.94zm10 10l.94 2.06.94-2.06 2.06-.94-2.06-.94-.94-2.06-.94 2.06-2.06.94z\"/><path d=\"M17.41 7.96l-1.37-1.37c-.4-.4-.92-.59-1.43-.59-.52 0-1.04.2-1.43.59L10.3 9.45l-7.72 7.72c-.78.78-.78 2.05 0 2.83L4 21.41c.39.39.9.59 1.41.59.51 0 1.02-.2 1.41-.59l7.78-7.78 2.81-2.81c.8-.78.8-2.07 0-2.86zM5.41 20L4 18.59l7.72-7.72 1.47 1.35L5.41 20z\"/>\n",
              "  </svg>\n",
              "      </button>\n",
              "      \n",
              "  <style>\n",
              "    .colab-df-container {\n",
              "      display:flex;\n",
              "      flex-wrap:wrap;\n",
              "      gap: 12px;\n",
              "    }\n",
              "\n",
              "    .colab-df-convert {\n",
              "      background-color: #E8F0FE;\n",
              "      border: none;\n",
              "      border-radius: 50%;\n",
              "      cursor: pointer;\n",
              "      display: none;\n",
              "      fill: #1967D2;\n",
              "      height: 32px;\n",
              "      padding: 0 0 0 0;\n",
              "      width: 32px;\n",
              "    }\n",
              "\n",
              "    .colab-df-convert:hover {\n",
              "      background-color: #E2EBFA;\n",
              "      box-shadow: 0px 1px 2px rgba(60, 64, 67, 0.3), 0px 1px 3px 1px rgba(60, 64, 67, 0.15);\n",
              "      fill: #174EA6;\n",
              "    }\n",
              "\n",
              "    [theme=dark] .colab-df-convert {\n",
              "      background-color: #3B4455;\n",
              "      fill: #D2E3FC;\n",
              "    }\n",
              "\n",
              "    [theme=dark] .colab-df-convert:hover {\n",
              "      background-color: #434B5C;\n",
              "      box-shadow: 0px 1px 3px 1px rgba(0, 0, 0, 0.15);\n",
              "      filter: drop-shadow(0px 1px 2px rgba(0, 0, 0, 0.3));\n",
              "      fill: #FFFFFF;\n",
              "    }\n",
              "  </style>\n",
              "\n",
              "      <script>\n",
              "        const buttonEl =\n",
              "          document.querySelector('#df-cff97fb5-7ac4-4b33-be9c-ac79452d5077 button.colab-df-convert');\n",
              "        buttonEl.style.display =\n",
              "          google.colab.kernel.accessAllowed ? 'block' : 'none';\n",
              "\n",
              "        async function convertToInteractive(key) {\n",
              "          const element = document.querySelector('#df-cff97fb5-7ac4-4b33-be9c-ac79452d5077');\n",
              "          const dataTable =\n",
              "            await google.colab.kernel.invokeFunction('convertToInteractive',\n",
              "                                                     [key], {});\n",
              "          if (!dataTable) return;\n",
              "\n",
              "          const docLinkHtml = 'Like what you see? Visit the ' +\n",
              "            '<a target=\"_blank\" href=https://colab.research.google.com/notebooks/data_table.ipynb>data table notebook</a>'\n",
              "            + ' to learn more about interactive tables.';\n",
              "          element.innerHTML = '';\n",
              "          dataTable['output_type'] = 'display_data';\n",
              "          await google.colab.output.renderOutput(dataTable, element);\n",
              "          const docLink = document.createElement('div');\n",
              "          docLink.innerHTML = docLinkHtml;\n",
              "          element.appendChild(docLink);\n",
              "        }\n",
              "      </script>\n",
              "    </div>\n",
              "  </div>\n",
              "  "
            ]
          },
          "metadata": {},
          "execution_count": 858
        }
      ],
      "source": [
        "X_test"
      ]
    },
    {
      "cell_type": "code",
      "execution_count": null,
      "metadata": {
        "colab": {
          "base_uri": "https://localhost:8080/"
        },
        "id": "M-zvwy7xczEK",
        "outputId": "2330fbfb-055a-45ec-a8b4-b72b3f10b8ef"
      },
      "outputs": [
        {
          "output_type": "execute_result",
          "data": {
            "text/plain": [
              "817     0\n",
              "1373    1\n",
              "679     1\n",
              "56      0\n",
              "1993    0\n",
              "       ..\n",
              "1095    0\n",
              "1130    0\n",
              "1294    0\n",
              "860     0\n",
              "3174    0\n",
              "Name: label, Length: 2666, dtype: int64"
            ]
          },
          "metadata": {},
          "execution_count": 859
        }
      ],
      "source": [
        "ytrain"
      ]
    },
    {
      "cell_type": "code",
      "execution_count": null,
      "metadata": {
        "colab": {
          "base_uri": "https://localhost:8080/"
        },
        "id": "SQEU5Wk7c3Ij",
        "outputId": "2c40dd46-8864-49d6-8a83-8f3fe79759b6"
      },
      "outputs": [
        {
          "output_type": "stream",
          "name": "stdout",
          "text": [
            "acc train 1.0\n",
            "acc test 0.9385307346326837\n",
            "pres train 1.0\n",
            "pres test 0.8125\n",
            "recall train 1.0\n",
            "recall test 0.7722772277227723\n",
            "conf train [[548  18]\n",
            " [ 23  78]]\n",
            "conf test [[2284    0]\n",
            " [   0  382]]\n",
            "auc train 1.0\n",
            "auc test 0.8702375537907148\n"
          ]
        }
      ],
      "source": [
        "model=tree.DecisionTreeClassifier()\n",
        "\n",
        "model.fit(X_train, ytrain)\n",
        "\n",
        "trainp=model.predict(X_train)\n",
        "testp=model.predict(X_test)\n",
        "\n",
        "print(\"acc train\",metrics.accuracy_score(ytrain,trainp))\n",
        "\n",
        "print(\"acc test\",metrics.accuracy_score(ytest,testp))\n",
        "\n",
        "print(\"pres train\",metrics.precision_score(ytrain,trainp))\n",
        "\n",
        "print(\"pres test\",metrics.precision_score(ytest,testp))\n",
        "print(\"recall train\",metrics.recall_score(ytrain,trainp))\n",
        "\n",
        "print(\"recall test\",metrics.recall_score(ytest,testp))\n",
        "\n",
        "print(\"conf train\",metrics.confusion_matrix(ytest,testp))\n",
        "\n",
        "print(\"conf test\",metrics.confusion_matrix(ytrain,trainp))\n",
        "\n",
        "print(\"auc train\",metrics.roc_auc_score(ytrain,trainp))\n",
        "print(\"auc test\",metrics.roc_auc_score(ytest,testp))\n"
      ]
    },
    {
      "cell_type": "code",
      "execution_count": null,
      "metadata": {
        "id": "Oe-dvPWjdBbq"
      },
      "outputs": [],
      "source": [
        "# recall value is 0.74 approx and auc is 0.85 approx"
      ]
    },
    {
      "cell_type": "code",
      "execution_count": null,
      "metadata": {
        "colab": {
          "base_uri": "https://localhost:8080/",
          "height": 295
        },
        "id": "C6wDGgjFwXjW",
        "outputId": "1e4206b4-84b8-4965-f8b0-c237baf5ca40"
      },
      "outputs": [
        {
          "output_type": "display_data",
          "data": {
            "text/plain": [
              "<Figure size 432x288 with 1 Axes>"
            ],
            "image/png": "[encoded data removed]"
          },
          "metadata": {
            "needs_background": "light"
          }
        }
      ],
      "source": [
        "#roc curve\n",
        "from sklearn.tree import DecisionTreeClassifier\n",
        "from sklearn.metrics import roc_curve, roc_auc_score\n",
        "\n",
        "from matplotlib import pyplot as plt\n",
        "\n",
        "model = DecisionTreeClassifier()\n",
        "model.fit(X_train, ytrain)\n",
        "predictions = model.predict_proba(X_test)\n",
        "\n",
        "\n",
        "\n",
        "fpr, tpr, _ = roc_curve(ytest, predictions[:,1])\n",
        "\n",
        "plt.clf()\n",
        "plt.plot(fpr, tpr)\n",
        "plt.xlabel('FPR')\n",
        "plt.ylabel('TPR')\n",
        "plt.title('ROC curve')\n",
        "plt.show()\n"
      ]
    },
    {
      "cell_type": "code",
      "execution_count": null,
      "metadata": {
        "id": "KcRtiMjwXCbn"
      },
      "outputs": [],
      "source": [
        ""
      ]
    },
    {
      "cell_type": "code",
      "execution_count": null,
      "metadata": {
        "id": "389nB7l2XDDb"
      },
      "outputs": [],
      "source": [
        ""
      ]
    },
    {
      "cell_type": "markdown",
      "metadata": {
        "id": "z1p4OHnFXFaV"
      },
      "source": [
        "# Random Forest Classifier\n",
        "\n"
      ]
    },
    {
      "cell_type": "code",
      "execution_count": null,
      "metadata": {
        "id": "f_b472LgXJeM"
      },
      "outputs": [],
      "source": [
        "from sklearn import ensemble"
      ]
    },
    {
      "cell_type": "code",
      "execution_count": null,
      "metadata": {
        "id": "r38JYhnbXcE6"
      },
      "outputs": [],
      "source": [
        "model=ensemble.RandomForestClassifier(n_estimators=2000,random_state=100)"
      ]
    },
    {
      "cell_type": "code",
      "execution_count": null,
      "metadata": {
        "colab": {
          "base_uri": "https://localhost:8080/"
        },
        "id": "wTuHrrbOYCwL",
        "outputId": "bc3626cf-a327-4c06-b233-e1f79636eb58"
      },
      "outputs": [
        {
          "output_type": "execute_result",
          "data": {
            "text/plain": [
              "RandomForestClassifier(n_estimators=2000, random_state=100)"
            ]
          },
          "metadata": {},
          "execution_count": 865
        }
      ],
      "source": [
        "model.fit(Xtrain,ytrain)"
      ]
    },
    {
      "cell_type": "code",
      "execution_count": null,
      "metadata": {
        "colab": {
          "base_uri": "https://localhost:8080/"
        },
        "id": "7iihOkYRYJ1J",
        "outputId": "b8d170d3-314f-4253-a9d9-1f81599f8412"
      },
      "outputs": [
        {
          "output_type": "stream",
          "name": "stdout",
          "text": [
            "acc train 1.0\n",
            "acc test 0.9460269865067467\n",
            "pres train 1.0\n",
            "pres test 0.9333333333333333\n",
            "recall train 1.0\n",
            "recall test 0.693069306930693\n",
            "conf train [[561   5]\n",
            " [ 31  70]]\n",
            "conf test [[2284    0]\n",
            " [   0  382]]\n",
            "auc train 1.0\n",
            "auc train 0.8421176923346044\n"
          ]
        }
      ],
      "source": [
        "model=ensemble.RandomForestClassifier()\n",
        "\n",
        "model.fit(Xtrain, ytrain)\n",
        "\n",
        "trainp=model.predict(Xtrain)\n",
        "testp=model.predict(Xtest)\n",
        "\n",
        "print(\"acc train\",metrics.accuracy_score(ytrain,trainp))\n",
        "\n",
        "print(\"acc test\",metrics.accuracy_score(ytest,testp))\n",
        "\n",
        "print(\"pres train\",metrics.precision_score(ytrain,trainp))\n",
        "\n",
        "print(\"pres test\",metrics.precision_score(ytest,testp))\n",
        "print(\"recall train\",metrics.recall_score(ytrain,trainp))\n",
        "\n",
        "print(\"recall test\",metrics.recall_score(ytest,testp))\n",
        "\n",
        "print(\"conf train\",metrics.confusion_matrix(ytest,testp))\n",
        "\n",
        "print(\"conf test\",metrics.confusion_matrix(ytrain,trainp))\n",
        "\n",
        "print(\"auc train\",metrics.roc_auc_score(ytrain,trainp))\n",
        "print(\"auc train\",metrics.roc_auc_score(ytest,testp))"
      ]
    },
    {
      "cell_type": "code",
      "execution_count": null,
      "metadata": {
        "id": "9vEPUuGPYh33"
      },
      "outputs": [],
      "source": [
        ""
      ]
    },
    {
      "cell_type": "markdown",
      "metadata": {
        "id": "J9npaGscYoM-"
      },
      "source": [
        "# Recursive Feature Elimination (for Random Forest Classifier)"
      ]
    },
    {
      "cell_type": "code",
      "execution_count": null,
      "metadata": {
        "id": "EZzP77JEYr5p"
      },
      "outputs": [],
      "source": [
        "from sklearn import feature_selection\n",
        "from sklearn.model_selection import train_test_split\n",
        "from sklearn.feature_selection import RFE"
      ]
    },
    {
      "cell_type": "code",
      "execution_count": null,
      "metadata": {
        "id": "12tJxDqKZa9U"
      },
      "outputs": [],
      "source": [
        "from sklearn.ensemble import RandomForestClassifier"
      ]
    },
    {
      "cell_type": "code",
      "execution_count": null,
      "metadata": {
        "id": "UPeyAVxuZFCa"
      },
      "outputs": [],
      "source": [
        "rfeobj=RFE(estimator=RandomForestClassifier(), n_features_to_select=6)"
      ]
    },
    {
      "cell_type": "code",
      "execution_count": null,
      "metadata": {
        "colab": {
          "base_uri": "https://localhost:8080/"
        },
        "id": "njADpGvGZO8e",
        "outputId": "e8c6459d-07a9-4326-aaa2-9ccd9bac2eb0"
      },
      "outputs": [
        {
          "output_type": "execute_result",
          "data": {
            "text/plain": [
              "RFE(estimator=RandomForestClassifier(), n_features_to_select=6)"
            ]
          },
          "metadata": {},
          "execution_count": 870
        }
      ],
      "source": [
        "rfeobj.fit(Xtrain,ytrain)"
      ]
    },
    {
      "cell_type": "code",
      "execution_count": null,
      "metadata": {
        "colab": {
          "base_uri": "https://localhost:8080/"
        },
        "id": "NTas9aaCZpAy",
        "outputId": "a572892e-3966-4993-9e12-ab27b98d54b5"
      },
      "outputs": [
        {
          "output_type": "execute_result",
          "data": {
            "text/plain": [
              "array([False, False, False,  True, False,  True,  True, False,  True,\n",
              "       False, False, False, False, False,  True,  True])"
            ]
          },
          "metadata": {},
          "execution_count": 871
        }
      ],
      "source": [
        "rfeobj.support_"
      ]
    },
    {
      "cell_type": "code",
      "execution_count": null,
      "metadata": {
        "id": "UDC1AiktZrd2"
      },
      "outputs": [],
      "source": [
        "cols=Xtrain.columns[rfeobj.support_]"
      ]
    },
    {
      "cell_type": "code",
      "execution_count": null,
      "metadata": {
        "colab": {
          "base_uri": "https://localhost:8080/"
        },
        "id": "PPbaZW2dZxe3",
        "outputId": "f84b3462-9d09-4786-d7cd-16723bd2ae4b"
      },
      "outputs": [
        {
          "output_type": "execute_result",
          "data": {
            "text/plain": [
              "Index(['tdmin', 'tdchar', 'temin', 'tecahr', 'tichar', 'ncsc'], dtype='object')"
            ]
          },
          "metadata": {},
          "execution_count": 873
        }
      ],
      "source": [
        "cols"
      ]
    },
    {
      "cell_type": "code",
      "execution_count": null,
      "metadata": {
        "id": "DR11RO29ZylX"
      },
      "outputs": [],
      "source": [
        "X_train=Xtrain[cols]"
      ]
    },
    {
      "cell_type": "code",
      "execution_count": null,
      "metadata": {
        "id": "H2DkOScBaQkx"
      },
      "outputs": [],
      "source": [
        "X_test=Xtest[cols]"
      ]
    },
    {
      "cell_type": "code",
      "execution_count": null,
      "metadata": {
        "colab": {
          "base_uri": "https://localhost:8080/"
        },
        "id": "AZA0EISMaxmV",
        "outputId": "3e293c4f-5a78-4856-ed2c-01277345a7a0"
      },
      "outputs": [
        {
          "output_type": "stream",
          "name": "stdout",
          "text": [
            "acc train 1.0\n",
            "acc test 0.8980509745127436\n",
            "pres train 1.0\n",
            "pres test 0.7619047619047619\n",
            "recall train 1.0\n",
            "recall test 0.4752475247524752\n",
            "conf train [[551  15]\n",
            " [ 53  48]]\n",
            "conf test [[2284    0]\n",
            " [   0  382]]\n",
            "auc train 1.0\n",
            "auc train 0.7243728789840115\n"
          ]
        }
      ],
      "source": [
        "model=ensemble.RandomForestClassifier()\n",
        "\n",
        "model.fit(X_train, ytrain)\n",
        "\n",
        "trainp=model.predict(X_train)\n",
        "testp=model.predict(X_test)\n",
        "\n",
        "print(\"acc train\",metrics.accuracy_score(ytrain,trainp))\n",
        "\n",
        "print(\"acc test\",metrics.accuracy_score(ytest,testp))\n",
        "\n",
        "print(\"pres train\",metrics.precision_score(ytrain,trainp))\n",
        "\n",
        "print(\"pres test\",metrics.precision_score(ytest,testp))\n",
        "print(\"recall train\",metrics.recall_score(ytrain,trainp))\n",
        "\n",
        "print(\"recall test\",metrics.recall_score(ytest,testp))\n",
        "\n",
        "print(\"conf train\",metrics.confusion_matrix(ytest,testp))\n",
        "\n",
        "print(\"conf test\",metrics.confusion_matrix(ytrain,trainp))\n",
        "\n",
        "print(\"auc train\",metrics.roc_auc_score(ytrain,trainp))\n",
        "print(\"auc train\",metrics.roc_auc_score(ytest,testp))"
      ]
    },
    {
      "cell_type": "code",
      "execution_count": null,
      "metadata": {
        "id": "qJ3gvvWBbDBi"
      },
      "outputs": [],
      "source": [
        ""
      ]
    },
    {
      "cell_type": "code",
      "execution_count": null,
      "metadata": {
        "id": "L_pwkxIDa3HR"
      },
      "outputs": [],
      "source": [
        "rfeobj=RFE(estimator=RandomForestClassifier(), n_features_to_select=7)"
      ]
    },
    {
      "cell_type": "code",
      "execution_count": null,
      "metadata": {
        "colab": {
          "base_uri": "https://localhost:8080/"
        },
        "id": "9iH1G5eJa6fW",
        "outputId": "a1114010-183d-4a42-acb5-ad9965873fdc"
      },
      "outputs": [
        {
          "output_type": "execute_result",
          "data": {
            "text/plain": [
              "RFE(estimator=RandomForestClassifier(), n_features_to_select=7)"
            ]
          },
          "metadata": {},
          "execution_count": 878
        }
      ],
      "source": [
        "rfeobj.fit(Xtrain,ytrain)"
      ]
    },
    {
      "cell_type": "code",
      "execution_count": null,
      "metadata": {
        "colab": {
          "base_uri": "https://localhost:8080/"
        },
        "id": "QhwdbAMIbHra",
        "outputId": "52a4f365-721f-4858-faa7-ef675dd3b472"
      },
      "outputs": [
        {
          "output_type": "execute_result",
          "data": {
            "text/plain": [
              "array([False, False, False,  True, False,  True,  True, False,  True,\n",
              "       False, False,  True,  True, False, False,  True])"
            ]
          },
          "metadata": {},
          "execution_count": 879
        }
      ],
      "source": [
        "rfeobj.support_\n"
      ]
    },
    {
      "cell_type": "code",
      "execution_count": null,
      "metadata": {
        "id": "RD17GZrobNgq"
      },
      "outputs": [],
      "source": [
        "cols=Xtrain.columns[rfeobj.support_]"
      ]
    },
    {
      "cell_type": "code",
      "execution_count": null,
      "metadata": {
        "colab": {
          "base_uri": "https://localhost:8080/"
        },
        "id": "Wrpmqa0SbSwj",
        "outputId": "ef7598dd-3103-47c5-84d4-df86eaa9205d"
      },
      "outputs": [
        {
          "output_type": "execute_result",
          "data": {
            "text/plain": [
              "Index(['tdmin', 'tdchar', 'temin', 'tecahr', 'tnchar', 'timin', 'ncsc'], dtype='object')"
            ]
          },
          "metadata": {},
          "execution_count": 881
        }
      ],
      "source": [
        "cols"
      ]
    },
    {
      "cell_type": "code",
      "execution_count": null,
      "metadata": {
        "id": "BE5htPeLbTnw"
      },
      "outputs": [],
      "source": [
        "X_train=Xtrain[cols]"
      ]
    },
    {
      "cell_type": "code",
      "execution_count": null,
      "metadata": {
        "id": "3xO12LtHbmTl"
      },
      "outputs": [],
      "source": [
        "X_test=Xtest[cols]"
      ]
    },
    {
      "cell_type": "code",
      "execution_count": null,
      "metadata": {
        "colab": {
          "base_uri": "https://localhost:8080/"
        },
        "id": "RcUqLCMkbrMP",
        "outputId": "96c8eec1-be7a-4ae1-8c72-eb8b9db159ce"
      },
      "outputs": [
        {
          "output_type": "stream",
          "name": "stdout",
          "text": [
            "acc train 1.0\n",
            "acc test 0.9100449775112444\n",
            "pres train 1.0\n",
            "pres test 0.8059701492537313\n",
            "recall train 1.0\n",
            "recall test 0.5346534653465347\n",
            "conf train [[553  13]\n",
            " [ 47  54]]\n",
            "conf test [[2284    0]\n",
            " [   0  382]]\n",
            "auc train 1.0\n",
            "auc train 0.7558426337333379\n"
          ]
        }
      ],
      "source": [
        "model=ensemble.RandomForestClassifier()\n",
        "\n",
        "model.fit(X_train, ytrain)\n",
        "\n",
        "trainp=model.predict(X_train)\n",
        "testp=model.predict(X_test)\n",
        "\n",
        "print(\"acc train\",metrics.accuracy_score(ytrain,trainp))\n",
        "\n",
        "print(\"acc test\",metrics.accuracy_score(ytest,testp))\n",
        "\n",
        "print(\"pres train\",metrics.precision_score(ytrain,trainp))\n",
        "\n",
        "print(\"pres test\",metrics.precision_score(ytest,testp))\n",
        "print(\"recall train\",metrics.recall_score(ytrain,trainp))\n",
        "\n",
        "print(\"recall test\",metrics.recall_score(ytest,testp))\n",
        "\n",
        "print(\"conf train\",metrics.confusion_matrix(ytest,testp))\n",
        "\n",
        "print(\"conf test\",metrics.confusion_matrix(ytrain,trainp))\n",
        "\n",
        "print(\"auc train\",metrics.roc_auc_score(ytrain,trainp))\n",
        "print(\"auc train\",metrics.roc_auc_score(ytest,testp))"
      ]
    },
    {
      "cell_type": "code",
      "execution_count": null,
      "metadata": {
        "id": "w0HT3iuHbvxz"
      },
      "outputs": [],
      "source": [
        ""
      ]
    },
    {
      "cell_type": "code",
      "execution_count": null,
      "metadata": {
        "id": "d9_aSBayb2iH"
      },
      "outputs": [],
      "source": [
        "rfeobj=RFE(estimator=RandomForestClassifier(), n_features_to_select=8)"
      ]
    },
    {
      "cell_type": "code",
      "execution_count": null,
      "metadata": {
        "colab": {
          "base_uri": "https://localhost:8080/"
        },
        "id": "K7KrJB2Ab3vX",
        "outputId": "6952d8ab-bea2-45f2-f2dc-0c5561357e91"
      },
      "outputs": [
        {
          "output_type": "execute_result",
          "data": {
            "text/plain": [
              "RFE(estimator=RandomForestClassifier(), n_features_to_select=8)"
            ]
          },
          "metadata": {},
          "execution_count": 886
        }
      ],
      "source": [
        "rfeobj.fit(Xtrain,ytrain)"
      ]
    },
    {
      "cell_type": "code",
      "execution_count": null,
      "metadata": {
        "colab": {
          "base_uri": "https://localhost:8080/"
        },
        "id": "uU2EOSg-cKDi",
        "outputId": "b0cc64da-dc0e-4d98-846b-c602c2cace36"
      },
      "outputs": [
        {
          "output_type": "execute_result",
          "data": {
            "text/plain": [
              "array([ True, False, False,  True, False,  True,  True, False,  True,\n",
              "        True, False, False, False, False,  True,  True])"
            ]
          },
          "metadata": {},
          "execution_count": 887
        }
      ],
      "source": [
        "rfeobj.support_\n"
      ]
    },
    {
      "cell_type": "code",
      "execution_count": null,
      "metadata": {
        "id": "Ew3547b2emBi"
      },
      "outputs": [],
      "source": [
        "cols=Xtrain.columns[rfeobj.support_]"
      ]
    },
    {
      "cell_type": "code",
      "execution_count": null,
      "metadata": {
        "colab": {
          "base_uri": "https://localhost:8080/"
        },
        "id": "YG8Yd5-Ee1KH",
        "outputId": "91fd9bd2-a90b-435c-cc69-8d5c2da839b9"
      },
      "outputs": [
        {
          "output_type": "execute_result",
          "data": {
            "text/plain": [
              "Index(['intplan', 'tdmin', 'tdchar', 'temin', 'tecahr', 'tnmin', 'tichar',\n",
              "       'ncsc'],\n",
              "      dtype='object')"
            ]
          },
          "metadata": {},
          "execution_count": 889
        }
      ],
      "source": [
        "cols"
      ]
    },
    {
      "cell_type": "code",
      "execution_count": null,
      "metadata": {
        "id": "OK5hp-Aze345"
      },
      "outputs": [],
      "source": [
        "X_train=Xtrain[cols]"
      ]
    },
    {
      "cell_type": "code",
      "execution_count": null,
      "metadata": {
        "id": "v9jATs0CfKd4"
      },
      "outputs": [],
      "source": [
        "X_test=Xtest[cols]"
      ]
    },
    {
      "cell_type": "code",
      "execution_count": null,
      "metadata": {
        "colab": {
          "base_uri": "https://localhost:8080/"
        },
        "id": "52i0oF7UfOUd",
        "outputId": "caf75f76-efc2-472d-ff27-2a023b10b8dc"
      },
      "outputs": [
        {
          "output_type": "stream",
          "name": "stdout",
          "text": [
            "acc train 1.0\n",
            "acc test 0.9085457271364318\n",
            "pres train 1.0\n",
            "pres test 0.7631578947368421\n",
            "recall train 1.0\n",
            "recall test 0.5742574257425742\n",
            "conf train [[548  18]\n",
            " [ 43  58]]\n",
            "conf test [[2284    0]\n",
            " [   0  382]]\n",
            "auc train 1.0\n",
            "auc train 0.7712276528006158\n"
          ]
        }
      ],
      "source": [
        "model=ensemble.RandomForestClassifier()\n",
        "\n",
        "model.fit(X_train, ytrain)\n",
        "\n",
        "trainp=model.predict(X_train)\n",
        "testp=model.predict(X_test)\n",
        "\n",
        "print(\"acc train\",metrics.accuracy_score(ytrain,trainp))\n",
        "\n",
        "print(\"acc test\",metrics.accuracy_score(ytest,testp))\n",
        "\n",
        "print(\"pres train\",metrics.precision_score(ytrain,trainp))\n",
        "\n",
        "print(\"pres test\",metrics.precision_score(ytest,testp))\n",
        "print(\"recall train\",metrics.recall_score(ytrain,trainp))\n",
        "\n",
        "print(\"recall test\",metrics.recall_score(ytest,testp))\n",
        "\n",
        "print(\"conf train\",metrics.confusion_matrix(ytest,testp))\n",
        "\n",
        "print(\"conf test\",metrics.confusion_matrix(ytrain,trainp))\n",
        "\n",
        "print(\"auc train\",metrics.roc_auc_score(ytrain,trainp))\n",
        "print(\"auc train\",metrics.roc_auc_score(ytest,testp))"
      ]
    },
    {
      "cell_type": "code",
      "execution_count": null,
      "metadata": {
        "id": "bR901Ai8fUxm"
      },
      "outputs": [],
      "source": [
        ""
      ]
    },
    {
      "cell_type": "code",
      "execution_count": null,
      "metadata": {
        "id": "BWaEb9LgfXss"
      },
      "outputs": [],
      "source": [
        "rfeobj=RFE(estimator=RandomForestClassifier(), n_features_to_select=9)"
      ]
    },
    {
      "cell_type": "code",
      "execution_count": null,
      "metadata": {
        "colab": {
          "base_uri": "https://localhost:8080/"
        },
        "id": "4A8d_kbRfcb2",
        "outputId": "7634f8af-fae6-4b26-8016-f010f6fd19e4"
      },
      "outputs": [
        {
          "output_type": "execute_result",
          "data": {
            "text/plain": [
              "RFE(estimator=RandomForestClassifier(), n_features_to_select=9)"
            ]
          },
          "metadata": {},
          "execution_count": 894
        }
      ],
      "source": [
        "rfeobj.fit(Xtrain,ytrain)"
      ]
    },
    {
      "cell_type": "code",
      "execution_count": null,
      "metadata": {
        "colab": {
          "base_uri": "https://localhost:8080/"
        },
        "id": "gD6SzN_nff3J",
        "outputId": "79a713dd-c2d0-4b50-a75b-312ca675e69f"
      },
      "outputs": [
        {
          "output_type": "execute_result",
          "data": {
            "text/plain": [
              "array([ True, False, False,  True, False,  True,  True, False,  True,\n",
              "        True, False, False, False,  True,  True,  True])"
            ]
          },
          "metadata": {},
          "execution_count": 895
        }
      ],
      "source": [
        "rfeobj.support_"
      ]
    },
    {
      "cell_type": "code",
      "execution_count": null,
      "metadata": {
        "id": "lJmpcSc5fqqP"
      },
      "outputs": [],
      "source": [
        "cols=Xtrain.columns[rfeobj.support_]"
      ]
    },
    {
      "cell_type": "code",
      "execution_count": null,
      "metadata": {
        "colab": {
          "base_uri": "https://localhost:8080/"
        },
        "id": "_mujU3sjfvfd",
        "outputId": "a01a2995-7efb-44d7-c555-b9936162a2ba"
      },
      "outputs": [
        {
          "output_type": "execute_result",
          "data": {
            "text/plain": [
              "Index(['intplan', 'tdmin', 'tdchar', 'temin', 'tecahr', 'tnmin', 'tical',\n",
              "       'tichar', 'ncsc'],\n",
              "      dtype='object')"
            ]
          },
          "metadata": {},
          "execution_count": 897
        }
      ],
      "source": [
        "cols"
      ]
    },
    {
      "cell_type": "code",
      "execution_count": null,
      "metadata": {
        "id": "AEzXeXzsfwZ5"
      },
      "outputs": [],
      "source": [
        "X_train=Xtrain[cols]"
      ]
    },
    {
      "cell_type": "code",
      "execution_count": null,
      "metadata": {
        "id": "5HSWVwWCf_tI"
      },
      "outputs": [],
      "source": [
        "X_test=Xtest[cols]"
      ]
    },
    {
      "cell_type": "code",
      "execution_count": null,
      "metadata": {
        "colab": {
          "base_uri": "https://localhost:8080/"
        },
        "id": "NrVr1coWgGcF",
        "outputId": "1ce43a3e-94d3-43be-fece-a16ad02ec615"
      },
      "outputs": [
        {
          "output_type": "stream",
          "name": "stdout",
          "text": [
            "acc train 1.0\n",
            "acc test 0.9340329835082459\n",
            "pres train 1.0\n",
            "pres test 0.8518518518518519\n",
            "recall train 1.0\n",
            "recall test 0.6831683168316832\n",
            "conf train [[554  12]\n",
            " [ 32  69]]\n",
            "conf test [[2284    0]\n",
            " [   0  382]]\n",
            "auc train 1.0\n",
            "auc train 0.8309834517020607\n"
          ]
        }
      ],
      "source": [
        "model=ensemble.RandomForestClassifier()\n",
        "\n",
        "model.fit(X_train, ytrain)\n",
        "\n",
        "trainp=model.predict(X_train)\n",
        "testp=model.predict(X_test)\n",
        "\n",
        "print(\"acc train\",metrics.accuracy_score(ytrain,trainp))\n",
        "\n",
        "print(\"acc test\",metrics.accuracy_score(ytest,testp))\n",
        "\n",
        "print(\"pres train\",metrics.precision_score(ytrain,trainp))\n",
        "\n",
        "print(\"pres test\",metrics.precision_score(ytest,testp))\n",
        "print(\"recall train\",metrics.recall_score(ytrain,trainp))\n",
        "\n",
        "print(\"recall test\",metrics.recall_score(ytest,testp))\n",
        "\n",
        "print(\"conf train\",metrics.confusion_matrix(ytest,testp))\n",
        "\n",
        "print(\"conf test\",metrics.confusion_matrix(ytrain,trainp))\n",
        "\n",
        "print(\"auc train\",metrics.roc_auc_score(ytrain,trainp))\n",
        "print(\"auc train\",metrics.roc_auc_score(ytest,testp))"
      ]
    },
    {
      "cell_type": "code",
      "execution_count": null,
      "metadata": {
        "colab": {
          "base_uri": "https://localhost:8080/",
          "height": 295
        },
        "id": "gwGN5v85vVuV",
        "outputId": "03903402-d8f8-4ae2-9bc9-ea1cc068406a"
      },
      "outputs": [
        {
          "output_type": "display_data",
          "data": {
            "text/plain": [
              "<Figure size 432x288 with 1 Axes>"
            ],
            "image/png": "[encoded data removed]"
          },
          "metadata": {
            "needs_background": "light"
          }
        }
      ],
      "source": [
        "from sklearn.ensemble import RandomForestClassifier\n",
        "from sklearn.metrics import roc_curve, roc_auc_score\n",
        "\n",
        "from matplotlib import pyplot as plt\n",
        "\n",
        "model = RandomForestClassifier()\n",
        "model.fit(X_train, ytrain)\n",
        "predictions = model.predict_proba(X_test)\n",
        "\n",
        "\n",
        "\n",
        "fpr, tpr, _ = roc_curve(ytest, predictions[:,1])\n",
        "\n",
        "plt.clf()\n",
        "plt.plot(fpr, tpr)\n",
        "plt.xlabel('FPR')\n",
        "plt.ylabel('TPR')\n",
        "plt.title('ROC curve')\n",
        "plt.show()\n"
      ]
    },
    {
      "cell_type": "code",
      "execution_count": null,
      "metadata": {
        "id": "KJyi8aMbgMTR"
      },
      "outputs": [],
      "source": [
        ""
      ]
    }
  ],
  "metadata": {
    "colab": {
      "collapsed_sections": [],
      "name": "Customer Churn Prediction1.ipynb",
      "provenance": [],
      "include_colab_link": true
    },
    "kernelspec": {
      "display_name": "Python 3",
      "name": "python3"
    },
    "language_info": {
      "name": "python"
    }
  },
  "nbformat": 4,
  "nbformat_minor": 0
}